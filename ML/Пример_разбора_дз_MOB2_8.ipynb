{
  "cells": [
    {
      "cell_type": "markdown",
      "metadata": {
        "id": "viMIsUg6HDMe"
      },
      "source": [
        "# Решающие деревья. Домашнее задание"
      ]
    },
    {
      "cell_type": "markdown",
      "metadata": {
        "id": "0-tRk6fdxmB-"
      },
      "source": [
        "## Что нужно сделать\n",
        "Решите задачу классификации оттоковых клиентов телекома: для каждого клиента необходимо определить, перестанет он пользоваться услугами оператора в ближайшее время или нет."
      ]
    },
    {
      "cell_type": "code",
      "execution_count": 1,
      "metadata": {
        "colab": {
          "base_uri": "https://localhost:8080/",
          "height": 261
        },
        "id": "DIjF1xlpwOMd",
        "outputId": "a12d2245-d21f-4b5a-e1d4-4ff91979a1cb"
      },
      "outputs": [
        {
          "data": {
            "text/html": [
              "<div>\n",
              "<style scoped>\n",
              "    .dataframe tbody tr th:only-of-type {\n",
              "        vertical-align: middle;\n",
              "    }\n",
              "\n",
              "    .dataframe tbody tr th {\n",
              "        vertical-align: top;\n",
              "    }\n",
              "\n",
              "    .dataframe thead th {\n",
              "        text-align: right;\n",
              "    }\n",
              "</style>\n",
              "<table border=\"1\" class=\"dataframe\">\n",
              "  <thead>\n",
              "    <tr style=\"text-align: right;\">\n",
              "      <th></th>\n",
              "      <th>State</th>\n",
              "      <th>Account length</th>\n",
              "      <th>Area code</th>\n",
              "      <th>International plan</th>\n",
              "      <th>Voice mail plan</th>\n",
              "      <th>Number vmail messages</th>\n",
              "      <th>Total day minutes</th>\n",
              "      <th>Total day calls</th>\n",
              "      <th>Total day charge</th>\n",
              "      <th>Total eve minutes</th>\n",
              "      <th>Total eve calls</th>\n",
              "      <th>Total eve charge</th>\n",
              "      <th>Total night minutes</th>\n",
              "      <th>Total night calls</th>\n",
              "      <th>Total night charge</th>\n",
              "      <th>Total intl minutes</th>\n",
              "      <th>Total intl calls</th>\n",
              "      <th>Total intl charge</th>\n",
              "      <th>Customer service calls</th>\n",
              "      <th>Churn</th>\n",
              "    </tr>\n",
              "  </thead>\n",
              "  <tbody>\n",
              "    <tr>\n",
              "      <th>0</th>\n",
              "      <td>KS</td>\n",
              "      <td>128</td>\n",
              "      <td>415</td>\n",
              "      <td>No</td>\n",
              "      <td>Yes</td>\n",
              "      <td>25</td>\n",
              "      <td>265.1</td>\n",
              "      <td>110</td>\n",
              "      <td>45.07</td>\n",
              "      <td>197.4</td>\n",
              "      <td>99</td>\n",
              "      <td>16.78</td>\n",
              "      <td>244.7</td>\n",
              "      <td>91</td>\n",
              "      <td>11.01</td>\n",
              "      <td>10.0</td>\n",
              "      <td>3</td>\n",
              "      <td>2.70</td>\n",
              "      <td>1</td>\n",
              "      <td>False</td>\n",
              "    </tr>\n",
              "    <tr>\n",
              "      <th>1</th>\n",
              "      <td>OH</td>\n",
              "      <td>107</td>\n",
              "      <td>415</td>\n",
              "      <td>No</td>\n",
              "      <td>Yes</td>\n",
              "      <td>26</td>\n",
              "      <td>161.6</td>\n",
              "      <td>123</td>\n",
              "      <td>27.47</td>\n",
              "      <td>195.5</td>\n",
              "      <td>103</td>\n",
              "      <td>16.62</td>\n",
              "      <td>254.4</td>\n",
              "      <td>103</td>\n",
              "      <td>11.45</td>\n",
              "      <td>13.7</td>\n",
              "      <td>3</td>\n",
              "      <td>3.70</td>\n",
              "      <td>1</td>\n",
              "      <td>False</td>\n",
              "    </tr>\n",
              "    <tr>\n",
              "      <th>2</th>\n",
              "      <td>NJ</td>\n",
              "      <td>137</td>\n",
              "      <td>415</td>\n",
              "      <td>No</td>\n",
              "      <td>No</td>\n",
              "      <td>0</td>\n",
              "      <td>243.4</td>\n",
              "      <td>114</td>\n",
              "      <td>41.38</td>\n",
              "      <td>121.2</td>\n",
              "      <td>110</td>\n",
              "      <td>10.30</td>\n",
              "      <td>162.6</td>\n",
              "      <td>104</td>\n",
              "      <td>7.32</td>\n",
              "      <td>12.2</td>\n",
              "      <td>5</td>\n",
              "      <td>3.29</td>\n",
              "      <td>0</td>\n",
              "      <td>False</td>\n",
              "    </tr>\n",
              "    <tr>\n",
              "      <th>3</th>\n",
              "      <td>OH</td>\n",
              "      <td>84</td>\n",
              "      <td>408</td>\n",
              "      <td>Yes</td>\n",
              "      <td>No</td>\n",
              "      <td>0</td>\n",
              "      <td>299.4</td>\n",
              "      <td>71</td>\n",
              "      <td>50.90</td>\n",
              "      <td>61.9</td>\n",
              "      <td>88</td>\n",
              "      <td>5.26</td>\n",
              "      <td>196.9</td>\n",
              "      <td>89</td>\n",
              "      <td>8.86</td>\n",
              "      <td>6.6</td>\n",
              "      <td>7</td>\n",
              "      <td>1.78</td>\n",
              "      <td>2</td>\n",
              "      <td>False</td>\n",
              "    </tr>\n",
              "    <tr>\n",
              "      <th>4</th>\n",
              "      <td>OK</td>\n",
              "      <td>75</td>\n",
              "      <td>415</td>\n",
              "      <td>Yes</td>\n",
              "      <td>No</td>\n",
              "      <td>0</td>\n",
              "      <td>166.7</td>\n",
              "      <td>113</td>\n",
              "      <td>28.34</td>\n",
              "      <td>148.3</td>\n",
              "      <td>122</td>\n",
              "      <td>12.61</td>\n",
              "      <td>186.9</td>\n",
              "      <td>121</td>\n",
              "      <td>8.41</td>\n",
              "      <td>10.1</td>\n",
              "      <td>3</td>\n",
              "      <td>2.73</td>\n",
              "      <td>3</td>\n",
              "      <td>False</td>\n",
              "    </tr>\n",
              "  </tbody>\n",
              "</table>\n",
              "</div>"
            ],
            "text/plain": [
              "  State  Account length  Area code International plan Voice mail plan  \\\n",
              "0    KS             128        415                 No             Yes   \n",
              "1    OH             107        415                 No             Yes   \n",
              "2    NJ             137        415                 No              No   \n",
              "3    OH              84        408                Yes              No   \n",
              "4    OK              75        415                Yes              No   \n",
              "\n",
              "   Number vmail messages  Total day minutes  Total day calls  \\\n",
              "0                     25              265.1              110   \n",
              "1                     26              161.6              123   \n",
              "2                      0              243.4              114   \n",
              "3                      0              299.4               71   \n",
              "4                      0              166.7              113   \n",
              "\n",
              "   Total day charge  Total eve minutes  Total eve calls  Total eve charge  \\\n",
              "0             45.07              197.4               99             16.78   \n",
              "1             27.47              195.5              103             16.62   \n",
              "2             41.38              121.2              110             10.30   \n",
              "3             50.90               61.9               88              5.26   \n",
              "4             28.34              148.3              122             12.61   \n",
              "\n",
              "   Total night minutes  Total night calls  Total night charge  \\\n",
              "0                244.7                 91               11.01   \n",
              "1                254.4                103               11.45   \n",
              "2                162.6                104                7.32   \n",
              "3                196.9                 89                8.86   \n",
              "4                186.9                121                8.41   \n",
              "\n",
              "   Total intl minutes  Total intl calls  Total intl charge  \\\n",
              "0                10.0                 3               2.70   \n",
              "1                13.7                 3               3.70   \n",
              "2                12.2                 5               3.29   \n",
              "3                 6.6                 7               1.78   \n",
              "4                10.1                 3               2.73   \n",
              "\n",
              "   Customer service calls  Churn  \n",
              "0                       1  False  \n",
              "1                       1  False  \n",
              "2                       0  False  \n",
              "3                       2  False  \n",
              "4                       3  False  "
            ]
          },
          "execution_count": 1,
          "metadata": {},
          "output_type": "execute_result"
        }
      ],
      "source": [
        "import pandas as pd\n",
        "import numpy as np\n",
        "import matplotlib.pyplot as plt\n",
        "\n",
        "pd.options.mode.copy_on_write = True\n",
        "\n",
        "df = pd.read_csv(\"telecom_churn.csv\")\n",
        "df.head()"
      ]
    },
    {
      "cell_type": "markdown",
      "metadata": {
        "id": "MT5L6lWZyDkE"
      },
      "source": [
        "Сделайте первичную обработку данных:\n",
        "\n",
        "1. Выбросите колонку State.\n",
        "\n",
        "2. Колонки International plan и Voice mail plan закодируйте следующим образом: Yes замените на 1, а No на 0.\n",
        "\n",
        "3. Переведите целевую переменную (Churn) в числа: True в 1, а False в 0."
      ]
    },
    {
      "cell_type": "code",
      "execution_count": 2,
      "metadata": {
        "id": "ERiXOQSWVmM_"
      },
      "outputs": [],
      "source": [
        "df = df.drop('State', axis=1)"
      ]
    },
    {
      "cell_type": "code",
      "execution_count": 3,
      "metadata": {
        "id": "APVE8lRyVNhJ"
      },
      "outputs": [],
      "source": [
        "from sklearn.preprocessing import LabelEncoder"
      ]
    },
    {
      "cell_type": "code",
      "execution_count": 4,
      "metadata": {
        "id": "7U6J16EVx0iy"
      },
      "outputs": [],
      "source": [
        "l = LabelEncoder()\n",
        "df['International plan'] = l.fit_transform(df['International plan'])\n",
        "df['Voice mail plan'] = l.fit_transform(df['Voice mail plan'])\n",
        "df['Churn'] = l.fit_transform(df['Churn'])"
      ]
    },
    {
      "cell_type": "markdown",
      "metadata": {
        "id": "N2hAu7tmy0Ps"
      },
      "source": [
        "Выведите на экран первые строки изменённой таблицы, чтобы проверить, что все преобразования сработали."
      ]
    },
    {
      "cell_type": "code",
      "execution_count": 5,
      "metadata": {
        "colab": {
          "base_uri": "https://localhost:8080/",
          "height": 261
        },
        "id": "lG9oOv0uydW8",
        "outputId": "fbef4855-9fb6-4a8b-f288-ae2af6d1b3d2"
      },
      "outputs": [
        {
          "data": {
            "text/html": [
              "<div>\n",
              "<style scoped>\n",
              "    .dataframe tbody tr th:only-of-type {\n",
              "        vertical-align: middle;\n",
              "    }\n",
              "\n",
              "    .dataframe tbody tr th {\n",
              "        vertical-align: top;\n",
              "    }\n",
              "\n",
              "    .dataframe thead th {\n",
              "        text-align: right;\n",
              "    }\n",
              "</style>\n",
              "<table border=\"1\" class=\"dataframe\">\n",
              "  <thead>\n",
              "    <tr style=\"text-align: right;\">\n",
              "      <th></th>\n",
              "      <th>Account length</th>\n",
              "      <th>Area code</th>\n",
              "      <th>International plan</th>\n",
              "      <th>Voice mail plan</th>\n",
              "      <th>Number vmail messages</th>\n",
              "      <th>Total day minutes</th>\n",
              "      <th>Total day calls</th>\n",
              "      <th>Total day charge</th>\n",
              "      <th>Total eve minutes</th>\n",
              "      <th>Total eve calls</th>\n",
              "      <th>Total eve charge</th>\n",
              "      <th>Total night minutes</th>\n",
              "      <th>Total night calls</th>\n",
              "      <th>Total night charge</th>\n",
              "      <th>Total intl minutes</th>\n",
              "      <th>Total intl calls</th>\n",
              "      <th>Total intl charge</th>\n",
              "      <th>Customer service calls</th>\n",
              "      <th>Churn</th>\n",
              "    </tr>\n",
              "  </thead>\n",
              "  <tbody>\n",
              "    <tr>\n",
              "      <th>0</th>\n",
              "      <td>128</td>\n",
              "      <td>415</td>\n",
              "      <td>0</td>\n",
              "      <td>1</td>\n",
              "      <td>25</td>\n",
              "      <td>265.1</td>\n",
              "      <td>110</td>\n",
              "      <td>45.07</td>\n",
              "      <td>197.4</td>\n",
              "      <td>99</td>\n",
              "      <td>16.78</td>\n",
              "      <td>244.7</td>\n",
              "      <td>91</td>\n",
              "      <td>11.01</td>\n",
              "      <td>10.0</td>\n",
              "      <td>3</td>\n",
              "      <td>2.70</td>\n",
              "      <td>1</td>\n",
              "      <td>0</td>\n",
              "    </tr>\n",
              "    <tr>\n",
              "      <th>1</th>\n",
              "      <td>107</td>\n",
              "      <td>415</td>\n",
              "      <td>0</td>\n",
              "      <td>1</td>\n",
              "      <td>26</td>\n",
              "      <td>161.6</td>\n",
              "      <td>123</td>\n",
              "      <td>27.47</td>\n",
              "      <td>195.5</td>\n",
              "      <td>103</td>\n",
              "      <td>16.62</td>\n",
              "      <td>254.4</td>\n",
              "      <td>103</td>\n",
              "      <td>11.45</td>\n",
              "      <td>13.7</td>\n",
              "      <td>3</td>\n",
              "      <td>3.70</td>\n",
              "      <td>1</td>\n",
              "      <td>0</td>\n",
              "    </tr>\n",
              "    <tr>\n",
              "      <th>2</th>\n",
              "      <td>137</td>\n",
              "      <td>415</td>\n",
              "      <td>0</td>\n",
              "      <td>0</td>\n",
              "      <td>0</td>\n",
              "      <td>243.4</td>\n",
              "      <td>114</td>\n",
              "      <td>41.38</td>\n",
              "      <td>121.2</td>\n",
              "      <td>110</td>\n",
              "      <td>10.30</td>\n",
              "      <td>162.6</td>\n",
              "      <td>104</td>\n",
              "      <td>7.32</td>\n",
              "      <td>12.2</td>\n",
              "      <td>5</td>\n",
              "      <td>3.29</td>\n",
              "      <td>0</td>\n",
              "      <td>0</td>\n",
              "    </tr>\n",
              "    <tr>\n",
              "      <th>3</th>\n",
              "      <td>84</td>\n",
              "      <td>408</td>\n",
              "      <td>1</td>\n",
              "      <td>0</td>\n",
              "      <td>0</td>\n",
              "      <td>299.4</td>\n",
              "      <td>71</td>\n",
              "      <td>50.90</td>\n",
              "      <td>61.9</td>\n",
              "      <td>88</td>\n",
              "      <td>5.26</td>\n",
              "      <td>196.9</td>\n",
              "      <td>89</td>\n",
              "      <td>8.86</td>\n",
              "      <td>6.6</td>\n",
              "      <td>7</td>\n",
              "      <td>1.78</td>\n",
              "      <td>2</td>\n",
              "      <td>0</td>\n",
              "    </tr>\n",
              "    <tr>\n",
              "      <th>4</th>\n",
              "      <td>75</td>\n",
              "      <td>415</td>\n",
              "      <td>1</td>\n",
              "      <td>0</td>\n",
              "      <td>0</td>\n",
              "      <td>166.7</td>\n",
              "      <td>113</td>\n",
              "      <td>28.34</td>\n",
              "      <td>148.3</td>\n",
              "      <td>122</td>\n",
              "      <td>12.61</td>\n",
              "      <td>186.9</td>\n",
              "      <td>121</td>\n",
              "      <td>8.41</td>\n",
              "      <td>10.1</td>\n",
              "      <td>3</td>\n",
              "      <td>2.73</td>\n",
              "      <td>3</td>\n",
              "      <td>0</td>\n",
              "    </tr>\n",
              "  </tbody>\n",
              "</table>\n",
              "</div>"
            ],
            "text/plain": [
              "   Account length  Area code  International plan  Voice mail plan  \\\n",
              "0             128        415                   0                1   \n",
              "1             107        415                   0                1   \n",
              "2             137        415                   0                0   \n",
              "3              84        408                   1                0   \n",
              "4              75        415                   1                0   \n",
              "\n",
              "   Number vmail messages  Total day minutes  Total day calls  \\\n",
              "0                     25              265.1              110   \n",
              "1                     26              161.6              123   \n",
              "2                      0              243.4              114   \n",
              "3                      0              299.4               71   \n",
              "4                      0              166.7              113   \n",
              "\n",
              "   Total day charge  Total eve minutes  Total eve calls  Total eve charge  \\\n",
              "0             45.07              197.4               99             16.78   \n",
              "1             27.47              195.5              103             16.62   \n",
              "2             41.38              121.2              110             10.30   \n",
              "3             50.90               61.9               88              5.26   \n",
              "4             28.34              148.3              122             12.61   \n",
              "\n",
              "   Total night minutes  Total night calls  Total night charge  \\\n",
              "0                244.7                 91               11.01   \n",
              "1                254.4                103               11.45   \n",
              "2                162.6                104                7.32   \n",
              "3                196.9                 89                8.86   \n",
              "4                186.9                121                8.41   \n",
              "\n",
              "   Total intl minutes  Total intl calls  Total intl charge  \\\n",
              "0                10.0                 3               2.70   \n",
              "1                13.7                 3               3.70   \n",
              "2                12.2                 5               3.29   \n",
              "3                 6.6                 7               1.78   \n",
              "4                10.1                 3               2.73   \n",
              "\n",
              "   Customer service calls  Churn  \n",
              "0                       1      0  \n",
              "1                       1      0  \n",
              "2                       0      0  \n",
              "3                       2      0  \n",
              "4                       3      0  "
            ]
          },
          "execution_count": 5,
          "metadata": {},
          "output_type": "execute_result"
        }
      ],
      "source": [
        "df.head()"
      ]
    },
    {
      "cell_type": "code",
      "execution_count": 6,
      "metadata": {
        "colab": {
          "base_uri": "https://localhost:8080/"
        },
        "id": "ODTvDZ1GX1rY",
        "outputId": "9b1ee664-9ead-4e60-9cf0-e37baa0dfdfd"
      },
      "outputs": [
        {
          "name": "stdout",
          "output_type": "stream",
          "text": [
            "<class 'pandas.core.frame.DataFrame'>\n",
            "RangeIndex: 3333 entries, 0 to 3332\n",
            "Data columns (total 19 columns):\n",
            " #   Column                  Non-Null Count  Dtype  \n",
            "---  ------                  --------------  -----  \n",
            " 0   Account length          3333 non-null   int64  \n",
            " 1   Area code               3333 non-null   int64  \n",
            " 2   International plan      3333 non-null   int64  \n",
            " 3   Voice mail plan         3333 non-null   int64  \n",
            " 4   Number vmail messages   3333 non-null   int64  \n",
            " 5   Total day minutes       3333 non-null   float64\n",
            " 6   Total day calls         3333 non-null   int64  \n",
            " 7   Total day charge        3333 non-null   float64\n",
            " 8   Total eve minutes       3333 non-null   float64\n",
            " 9   Total eve calls         3333 non-null   int64  \n",
            " 10  Total eve charge        3333 non-null   float64\n",
            " 11  Total night minutes     3333 non-null   float64\n",
            " 12  Total night calls       3333 non-null   int64  \n",
            " 13  Total night charge      3333 non-null   float64\n",
            " 14  Total intl minutes      3333 non-null   float64\n",
            " 15  Total intl calls        3333 non-null   int64  \n",
            " 16  Total intl charge       3333 non-null   float64\n",
            " 17  Customer service calls  3333 non-null   int64  \n",
            " 18  Churn                   3333 non-null   int64  \n",
            "dtypes: float64(8), int64(11)\n",
            "memory usage: 494.9 KB\n"
          ]
        }
      ],
      "source": [
        "df.info()"
      ]
    },
    {
      "cell_type": "markdown",
      "metadata": {
        "id": "3p31_m75YHGn"
      },
      "source": [
        "*В датасете остались только числовые значения*"
      ]
    },
    {
      "cell_type": "code",
      "execution_count": 7,
      "metadata": {
        "colab": {
          "base_uri": "https://localhost:8080/",
          "height": 645
        },
        "id": "iJo68CKscHm8",
        "outputId": "d84eac98-4a57-4481-96c1-b547e73302f5"
      },
      "outputs": [
        {
          "data": {
            "text/html": [
              "<style type=\"text/css\">\n",
              "#T_8ec83_row0_col0, #T_8ec83_row0_col3, #T_8ec83_row1_col0, #T_8ec83_row2_col0, #T_8ec83_row2_col1, #T_8ec83_row2_col2, #T_8ec83_row2_col3, #T_8ec83_row2_col4, #T_8ec83_row2_col5, #T_8ec83_row2_col6, #T_8ec83_row2_col7, #T_8ec83_row3_col0, #T_8ec83_row3_col1, #T_8ec83_row3_col2, #T_8ec83_row3_col3, #T_8ec83_row3_col4, #T_8ec83_row3_col5, #T_8ec83_row3_col6, #T_8ec83_row3_col7, #T_8ec83_row4_col0, #T_8ec83_row4_col3, #T_8ec83_row4_col4, #T_8ec83_row4_col5, #T_8ec83_row5_col0, #T_8ec83_row5_col3, #T_8ec83_row6_col0, #T_8ec83_row6_col3, #T_8ec83_row7_col0, #T_8ec83_row7_col3, #T_8ec83_row8_col0, #T_8ec83_row8_col3, #T_8ec83_row9_col0, #T_8ec83_row9_col3, #T_8ec83_row10_col0, #T_8ec83_row10_col3, #T_8ec83_row11_col0, #T_8ec83_row12_col0, #T_8ec83_row13_col0, #T_8ec83_row13_col3, #T_8ec83_row14_col0, #T_8ec83_row14_col3, #T_8ec83_row15_col0, #T_8ec83_row15_col3, #T_8ec83_row16_col0, #T_8ec83_row16_col3, #T_8ec83_row17_col0, #T_8ec83_row17_col1, #T_8ec83_row17_col3, #T_8ec83_row17_col4, #T_8ec83_row17_col5, #T_8ec83_row18_col0, #T_8ec83_row18_col1, #T_8ec83_row18_col2, #T_8ec83_row18_col3, #T_8ec83_row18_col4, #T_8ec83_row18_col5, #T_8ec83_row18_col6, #T_8ec83_row18_col7 {\n",
              "  background-color: #ffffcc;\n",
              "  color: #000000;\n",
              "}\n",
              "#T_8ec83_row0_col1 {\n",
              "  background-color: #fedc7c;\n",
              "  color: #000000;\n",
              "}\n",
              "#T_8ec83_row0_col2 {\n",
              "  background-color: #e7231e;\n",
              "  color: #f1f1f1;\n",
              "}\n",
              "#T_8ec83_row0_col4 {\n",
              "  background-color: #ffe48d;\n",
              "  color: #000000;\n",
              "}\n",
              "#T_8ec83_row0_col5, #T_8ec83_row6_col5 {\n",
              "  background-color: #feda78;\n",
              "  color: #000000;\n",
              "}\n",
              "#T_8ec83_row0_col6, #T_8ec83_row4_col2 {\n",
              "  background-color: #fed977;\n",
              "  color: #000000;\n",
              "}\n",
              "#T_8ec83_row0_col7 {\n",
              "  background-color: #fd953f;\n",
              "  color: #000000;\n",
              "}\n",
              "#T_8ec83_row1_col1, #T_8ec83_row1_col3, #T_8ec83_row1_col4, #T_8ec83_row1_col5, #T_8ec83_row1_col6, #T_8ec83_row1_col7, #T_8ec83_row5_col2 {\n",
              "  background-color: #800026;\n",
              "  color: #f1f1f1;\n",
              "}\n",
              "#T_8ec83_row1_col2, #T_8ec83_row11_col7 {\n",
              "  background-color: #db141e;\n",
              "  color: #f1f1f1;\n",
              "}\n",
              "#T_8ec83_row4_col1, #T_8ec83_row13_col4, #T_8ec83_row17_col2, #T_8ec83_row17_col7 {\n",
              "  background-color: #fffdc6;\n",
              "  color: #000000;\n",
              "}\n",
              "#T_8ec83_row4_col6, #T_8ec83_row10_col5, #T_8ec83_row10_col6, #T_8ec83_row15_col2 {\n",
              "  background-color: #fff9be;\n",
              "  color: #000000;\n",
              "}\n",
              "#T_8ec83_row4_col7 {\n",
              "  background-color: #fff1a9;\n",
              "  color: #000000;\n",
              "}\n",
              "#T_8ec83_row5_col1 {\n",
              "  background-color: #fea747;\n",
              "  color: #000000;\n",
              "}\n",
              "#T_8ec83_row5_col4 {\n",
              "  background-color: #feb953;\n",
              "  color: #000000;\n",
              "}\n",
              "#T_8ec83_row5_col5 {\n",
              "  background-color: #fea145;\n",
              "  color: #000000;\n",
              "}\n",
              "#T_8ec83_row5_col6 {\n",
              "  background-color: #fea446;\n",
              "  color: #000000;\n",
              "}\n",
              "#T_8ec83_row5_col7 {\n",
              "  background-color: #f03523;\n",
              "  color: #f1f1f1;\n",
              "}\n",
              "#T_8ec83_row6_col1, #T_8ec83_row9_col1, #T_8ec83_row12_col1 {\n",
              "  background-color: #fedd7e;\n",
              "  color: #000000;\n",
              "}\n",
              "#T_8ec83_row6_col2 {\n",
              "  background-color: #feb54f;\n",
              "  color: #000000;\n",
              "}\n",
              "#T_8ec83_row6_col4, #T_8ec83_row9_col4, #T_8ec83_row12_col4 {\n",
              "  background-color: #fedf83;\n",
              "  color: #000000;\n",
              "}\n",
              "#T_8ec83_row6_col6, #T_8ec83_row9_col6 {\n",
              "  background-color: #fedd7f;\n",
              "  color: #000000;\n",
              "}\n",
              "#T_8ec83_row6_col7 {\n",
              "  background-color: #fec35e;\n",
              "  color: #000000;\n",
              "}\n",
              "#T_8ec83_row7_col1 {\n",
              "  background-color: #fff5b5;\n",
              "  color: #000000;\n",
              "}\n",
              "#T_8ec83_row7_col2 {\n",
              "  background-color: #ffe793;\n",
              "  color: #000000;\n",
              "}\n",
              "#T_8ec83_row7_col4, #T_8ec83_row10_col7 {\n",
              "  background-color: #fff7b7;\n",
              "  color: #000000;\n",
              "}\n",
              "#T_8ec83_row7_col5, #T_8ec83_row7_col6, #T_8ec83_row10_col2 {\n",
              "  background-color: #fff5b3;\n",
              "  color: #000000;\n",
              "}\n",
              "#T_8ec83_row7_col7 {\n",
              "  background-color: #ffefa4;\n",
              "  color: #000000;\n",
              "}\n",
              "#T_8ec83_row8_col1, #T_8ec83_row11_col1 {\n",
              "  background-color: #fd9941;\n",
              "  color: #000000;\n",
              "}\n",
              "#T_8ec83_row8_col2 {\n",
              "  background-color: #a10026;\n",
              "  color: #f1f1f1;\n",
              "}\n",
              "#T_8ec83_row8_col4, #T_8ec83_row11_col4 {\n",
              "  background-color: #fea848;\n",
              "  color: #000000;\n",
              "}\n",
              "#T_8ec83_row8_col5, #T_8ec83_row11_col5 {\n",
              "  background-color: #fd913e;\n",
              "  color: #000000;\n",
              "}\n",
              "#T_8ec83_row8_col6, #T_8ec83_row11_col6 {\n",
              "  background-color: #fd9841;\n",
              "  color: #000000;\n",
              "}\n",
              "#T_8ec83_row8_col7 {\n",
              "  background-color: #ea2920;\n",
              "  color: #f1f1f1;\n",
              "}\n",
              "#T_8ec83_row9_col2 {\n",
              "  background-color: #feb651;\n",
              "  color: #000000;\n",
              "}\n",
              "#T_8ec83_row9_col5, #T_8ec83_row12_col5 {\n",
              "  background-color: #fedb7a;\n",
              "  color: #000000;\n",
              "}\n",
              "#T_8ec83_row9_col7 {\n",
              "  background-color: #fec05b;\n",
              "  color: #000000;\n",
              "}\n",
              "#T_8ec83_row10_col1, #T_8ec83_row13_col2, #T_8ec83_row14_col7, #T_8ec83_row15_col7 {\n",
              "  background-color: #fffac0;\n",
              "  color: #000000;\n",
              "}\n",
              "#T_8ec83_row10_col4, #T_8ec83_row13_col7 {\n",
              "  background-color: #fffac1;\n",
              "  color: #000000;\n",
              "}\n",
              "#T_8ec83_row11_col2 {\n",
              "  background-color: #a20026;\n",
              "  color: #f1f1f1;\n",
              "}\n",
              "#T_8ec83_row11_col3 {\n",
              "  background-color: #fff7b9;\n",
              "  color: #000000;\n",
              "}\n",
              "#T_8ec83_row12_col2 {\n",
              "  background-color: #feb852;\n",
              "  color: #000000;\n",
              "}\n",
              "#T_8ec83_row12_col3 {\n",
              "  background-color: #fff4b0;\n",
              "  color: #000000;\n",
              "}\n",
              "#T_8ec83_row12_col6 {\n",
              "  background-color: #fede80;\n",
              "  color: #000000;\n",
              "}\n",
              "#T_8ec83_row12_col7 {\n",
              "  background-color: #febd57;\n",
              "  color: #000000;\n",
              "}\n",
              "#T_8ec83_row13_col1, #T_8ec83_row13_col5, #T_8ec83_row13_col6, #T_8ec83_row14_col1, #T_8ec83_row14_col4 {\n",
              "  background-color: #fffcc5;\n",
              "  color: #000000;\n",
              "}\n",
              "#T_8ec83_row14_col2 {\n",
              "  background-color: #fff9bd;\n",
              "  color: #000000;\n",
              "}\n",
              "#T_8ec83_row14_col5, #T_8ec83_row14_col6 {\n",
              "  background-color: #fffcc4;\n",
              "  color: #000000;\n",
              "}\n",
              "#T_8ec83_row15_col1, #T_8ec83_row15_col5, #T_8ec83_row16_col2, #T_8ec83_row16_col7 {\n",
              "  background-color: #fffec9;\n",
              "  color: #000000;\n",
              "}\n",
              "#T_8ec83_row15_col4, #T_8ec83_row16_col1, #T_8ec83_row16_col4, #T_8ec83_row16_col5, #T_8ec83_row16_col6, #T_8ec83_row17_col6 {\n",
              "  background-color: #fffecb;\n",
              "  color: #000000;\n",
              "}\n",
              "#T_8ec83_row15_col6 {\n",
              "  background-color: #fffdc8;\n",
              "  color: #000000;\n",
              "}\n",
              "</style>\n",
              "<table id=\"T_8ec83\">\n",
              "  <thead>\n",
              "    <tr>\n",
              "      <th class=\"blank level0\" >&nbsp;</th>\n",
              "      <th id=\"T_8ec83_level0_col0\" class=\"col_heading level0 col0\" >count</th>\n",
              "      <th id=\"T_8ec83_level0_col1\" class=\"col_heading level0 col1\" >mean</th>\n",
              "      <th id=\"T_8ec83_level0_col2\" class=\"col_heading level0 col2\" >std</th>\n",
              "      <th id=\"T_8ec83_level0_col3\" class=\"col_heading level0 col3\" >min</th>\n",
              "      <th id=\"T_8ec83_level0_col4\" class=\"col_heading level0 col4\" >25%</th>\n",
              "      <th id=\"T_8ec83_level0_col5\" class=\"col_heading level0 col5\" >50%</th>\n",
              "      <th id=\"T_8ec83_level0_col6\" class=\"col_heading level0 col6\" >75%</th>\n",
              "      <th id=\"T_8ec83_level0_col7\" class=\"col_heading level0 col7\" >max</th>\n",
              "    </tr>\n",
              "  </thead>\n",
              "  <tbody>\n",
              "    <tr>\n",
              "      <th id=\"T_8ec83_level0_row0\" class=\"row_heading level0 row0\" >Account length</th>\n",
              "      <td id=\"T_8ec83_row0_col0\" class=\"data row0 col0\" >3333.000000</td>\n",
              "      <td id=\"T_8ec83_row0_col1\" class=\"data row0 col1\" >101.064806</td>\n",
              "      <td id=\"T_8ec83_row0_col2\" class=\"data row0 col2\" >39.822106</td>\n",
              "      <td id=\"T_8ec83_row0_col3\" class=\"data row0 col3\" >1.000000</td>\n",
              "      <td id=\"T_8ec83_row0_col4\" class=\"data row0 col4\" >74.000000</td>\n",
              "      <td id=\"T_8ec83_row0_col5\" class=\"data row0 col5\" >101.000000</td>\n",
              "      <td id=\"T_8ec83_row0_col6\" class=\"data row0 col6\" >127.000000</td>\n",
              "      <td id=\"T_8ec83_row0_col7\" class=\"data row0 col7\" >243.000000</td>\n",
              "    </tr>\n",
              "    <tr>\n",
              "      <th id=\"T_8ec83_level0_row1\" class=\"row_heading level0 row1\" >Area code</th>\n",
              "      <td id=\"T_8ec83_row1_col0\" class=\"data row1 col0\" >3333.000000</td>\n",
              "      <td id=\"T_8ec83_row1_col1\" class=\"data row1 col1\" >437.182418</td>\n",
              "      <td id=\"T_8ec83_row1_col2\" class=\"data row1 col2\" >42.371290</td>\n",
              "      <td id=\"T_8ec83_row1_col3\" class=\"data row1 col3\" >408.000000</td>\n",
              "      <td id=\"T_8ec83_row1_col4\" class=\"data row1 col4\" >408.000000</td>\n",
              "      <td id=\"T_8ec83_row1_col5\" class=\"data row1 col5\" >415.000000</td>\n",
              "      <td id=\"T_8ec83_row1_col6\" class=\"data row1 col6\" >510.000000</td>\n",
              "      <td id=\"T_8ec83_row1_col7\" class=\"data row1 col7\" >510.000000</td>\n",
              "    </tr>\n",
              "    <tr>\n",
              "      <th id=\"T_8ec83_level0_row2\" class=\"row_heading level0 row2\" >International plan</th>\n",
              "      <td id=\"T_8ec83_row2_col0\" class=\"data row2 col0\" >3333.000000</td>\n",
              "      <td id=\"T_8ec83_row2_col1\" class=\"data row2 col1\" >0.096910</td>\n",
              "      <td id=\"T_8ec83_row2_col2\" class=\"data row2 col2\" >0.295879</td>\n",
              "      <td id=\"T_8ec83_row2_col3\" class=\"data row2 col3\" >0.000000</td>\n",
              "      <td id=\"T_8ec83_row2_col4\" class=\"data row2 col4\" >0.000000</td>\n",
              "      <td id=\"T_8ec83_row2_col5\" class=\"data row2 col5\" >0.000000</td>\n",
              "      <td id=\"T_8ec83_row2_col6\" class=\"data row2 col6\" >0.000000</td>\n",
              "      <td id=\"T_8ec83_row2_col7\" class=\"data row2 col7\" >1.000000</td>\n",
              "    </tr>\n",
              "    <tr>\n",
              "      <th id=\"T_8ec83_level0_row3\" class=\"row_heading level0 row3\" >Voice mail plan</th>\n",
              "      <td id=\"T_8ec83_row3_col0\" class=\"data row3 col0\" >3333.000000</td>\n",
              "      <td id=\"T_8ec83_row3_col1\" class=\"data row3 col1\" >0.276628</td>\n",
              "      <td id=\"T_8ec83_row3_col2\" class=\"data row3 col2\" >0.447398</td>\n",
              "      <td id=\"T_8ec83_row3_col3\" class=\"data row3 col3\" >0.000000</td>\n",
              "      <td id=\"T_8ec83_row3_col4\" class=\"data row3 col4\" >0.000000</td>\n",
              "      <td id=\"T_8ec83_row3_col5\" class=\"data row3 col5\" >0.000000</td>\n",
              "      <td id=\"T_8ec83_row3_col6\" class=\"data row3 col6\" >1.000000</td>\n",
              "      <td id=\"T_8ec83_row3_col7\" class=\"data row3 col7\" >1.000000</td>\n",
              "    </tr>\n",
              "    <tr>\n",
              "      <th id=\"T_8ec83_level0_row4\" class=\"row_heading level0 row4\" >Number vmail messages</th>\n",
              "      <td id=\"T_8ec83_row4_col0\" class=\"data row4 col0\" >3333.000000</td>\n",
              "      <td id=\"T_8ec83_row4_col1\" class=\"data row4 col1\" >8.099010</td>\n",
              "      <td id=\"T_8ec83_row4_col2\" class=\"data row4 col2\" >13.688365</td>\n",
              "      <td id=\"T_8ec83_row4_col3\" class=\"data row4 col3\" >0.000000</td>\n",
              "      <td id=\"T_8ec83_row4_col4\" class=\"data row4 col4\" >0.000000</td>\n",
              "      <td id=\"T_8ec83_row4_col5\" class=\"data row4 col5\" >0.000000</td>\n",
              "      <td id=\"T_8ec83_row4_col6\" class=\"data row4 col6\" >20.000000</td>\n",
              "      <td id=\"T_8ec83_row4_col7\" class=\"data row4 col7\" >51.000000</td>\n",
              "    </tr>\n",
              "    <tr>\n",
              "      <th id=\"T_8ec83_level0_row5\" class=\"row_heading level0 row5\" >Total day minutes</th>\n",
              "      <td id=\"T_8ec83_row5_col0\" class=\"data row5 col0\" >3333.000000</td>\n",
              "      <td id=\"T_8ec83_row5_col1\" class=\"data row5 col1\" >179.775098</td>\n",
              "      <td id=\"T_8ec83_row5_col2\" class=\"data row5 col2\" >54.467389</td>\n",
              "      <td id=\"T_8ec83_row5_col3\" class=\"data row5 col3\" >0.000000</td>\n",
              "      <td id=\"T_8ec83_row5_col4\" class=\"data row5 col4\" >143.700000</td>\n",
              "      <td id=\"T_8ec83_row5_col5\" class=\"data row5 col5\" >179.400000</td>\n",
              "      <td id=\"T_8ec83_row5_col6\" class=\"data row5 col6\" >216.400000</td>\n",
              "      <td id=\"T_8ec83_row5_col7\" class=\"data row5 col7\" >350.800000</td>\n",
              "    </tr>\n",
              "    <tr>\n",
              "      <th id=\"T_8ec83_level0_row6\" class=\"row_heading level0 row6\" >Total day calls</th>\n",
              "      <td id=\"T_8ec83_row6_col0\" class=\"data row6 col0\" >3333.000000</td>\n",
              "      <td id=\"T_8ec83_row6_col1\" class=\"data row6 col1\" >100.435644</td>\n",
              "      <td id=\"T_8ec83_row6_col2\" class=\"data row6 col2\" >20.069084</td>\n",
              "      <td id=\"T_8ec83_row6_col3\" class=\"data row6 col3\" >0.000000</td>\n",
              "      <td id=\"T_8ec83_row6_col4\" class=\"data row6 col4\" >87.000000</td>\n",
              "      <td id=\"T_8ec83_row6_col5\" class=\"data row6 col5\" >101.000000</td>\n",
              "      <td id=\"T_8ec83_row6_col6\" class=\"data row6 col6\" >114.000000</td>\n",
              "      <td id=\"T_8ec83_row6_col7\" class=\"data row6 col7\" >165.000000</td>\n",
              "    </tr>\n",
              "    <tr>\n",
              "      <th id=\"T_8ec83_level0_row7\" class=\"row_heading level0 row7\" >Total day charge</th>\n",
              "      <td id=\"T_8ec83_row7_col0\" class=\"data row7 col0\" >3333.000000</td>\n",
              "      <td id=\"T_8ec83_row7_col1\" class=\"data row7 col1\" >30.562307</td>\n",
              "      <td id=\"T_8ec83_row7_col2\" class=\"data row7 col2\" >9.259435</td>\n",
              "      <td id=\"T_8ec83_row7_col3\" class=\"data row7 col3\" >0.000000</td>\n",
              "      <td id=\"T_8ec83_row7_col4\" class=\"data row7 col4\" >24.430000</td>\n",
              "      <td id=\"T_8ec83_row7_col5\" class=\"data row7 col5\" >30.500000</td>\n",
              "      <td id=\"T_8ec83_row7_col6\" class=\"data row7 col6\" >36.790000</td>\n",
              "      <td id=\"T_8ec83_row7_col7\" class=\"data row7 col7\" >59.640000</td>\n",
              "    </tr>\n",
              "    <tr>\n",
              "      <th id=\"T_8ec83_level0_row8\" class=\"row_heading level0 row8\" >Total eve minutes</th>\n",
              "      <td id=\"T_8ec83_row8_col0\" class=\"data row8 col0\" >3333.000000</td>\n",
              "      <td id=\"T_8ec83_row8_col1\" class=\"data row8 col1\" >200.980348</td>\n",
              "      <td id=\"T_8ec83_row8_col2\" class=\"data row8 col2\" >50.713844</td>\n",
              "      <td id=\"T_8ec83_row8_col3\" class=\"data row8 col3\" >0.000000</td>\n",
              "      <td id=\"T_8ec83_row8_col4\" class=\"data row8 col4\" >166.600000</td>\n",
              "      <td id=\"T_8ec83_row8_col5\" class=\"data row8 col5\" >201.400000</td>\n",
              "      <td id=\"T_8ec83_row8_col6\" class=\"data row8 col6\" >235.300000</td>\n",
              "      <td id=\"T_8ec83_row8_col7\" class=\"data row8 col7\" >363.700000</td>\n",
              "    </tr>\n",
              "    <tr>\n",
              "      <th id=\"T_8ec83_level0_row9\" class=\"row_heading level0 row9\" >Total eve calls</th>\n",
              "      <td id=\"T_8ec83_row9_col0\" class=\"data row9 col0\" >3333.000000</td>\n",
              "      <td id=\"T_8ec83_row9_col1\" class=\"data row9 col1\" >100.114311</td>\n",
              "      <td id=\"T_8ec83_row9_col2\" class=\"data row9 col2\" >19.922625</td>\n",
              "      <td id=\"T_8ec83_row9_col3\" class=\"data row9 col3\" >0.000000</td>\n",
              "      <td id=\"T_8ec83_row9_col4\" class=\"data row9 col4\" >87.000000</td>\n",
              "      <td id=\"T_8ec83_row9_col5\" class=\"data row9 col5\" >100.000000</td>\n",
              "      <td id=\"T_8ec83_row9_col6\" class=\"data row9 col6\" >114.000000</td>\n",
              "      <td id=\"T_8ec83_row9_col7\" class=\"data row9 col7\" >170.000000</td>\n",
              "    </tr>\n",
              "    <tr>\n",
              "      <th id=\"T_8ec83_level0_row10\" class=\"row_heading level0 row10\" >Total eve charge</th>\n",
              "      <td id=\"T_8ec83_row10_col0\" class=\"data row10 col0\" >3333.000000</td>\n",
              "      <td id=\"T_8ec83_row10_col1\" class=\"data row10 col1\" >17.083540</td>\n",
              "      <td id=\"T_8ec83_row10_col2\" class=\"data row10 col2\" >4.310668</td>\n",
              "      <td id=\"T_8ec83_row10_col3\" class=\"data row10 col3\" >0.000000</td>\n",
              "      <td id=\"T_8ec83_row10_col4\" class=\"data row10 col4\" >14.160000</td>\n",
              "      <td id=\"T_8ec83_row10_col5\" class=\"data row10 col5\" >17.120000</td>\n",
              "      <td id=\"T_8ec83_row10_col6\" class=\"data row10 col6\" >20.000000</td>\n",
              "      <td id=\"T_8ec83_row10_col7\" class=\"data row10 col7\" >30.910000</td>\n",
              "    </tr>\n",
              "    <tr>\n",
              "      <th id=\"T_8ec83_level0_row11\" class=\"row_heading level0 row11\" >Total night minutes</th>\n",
              "      <td id=\"T_8ec83_row11_col0\" class=\"data row11 col0\" >3333.000000</td>\n",
              "      <td id=\"T_8ec83_row11_col1\" class=\"data row11 col1\" >200.872037</td>\n",
              "      <td id=\"T_8ec83_row11_col2\" class=\"data row11 col2\" >50.573847</td>\n",
              "      <td id=\"T_8ec83_row11_col3\" class=\"data row11 col3\" >23.200000</td>\n",
              "      <td id=\"T_8ec83_row11_col4\" class=\"data row11 col4\" >167.000000</td>\n",
              "      <td id=\"T_8ec83_row11_col5\" class=\"data row11 col5\" >201.200000</td>\n",
              "      <td id=\"T_8ec83_row11_col6\" class=\"data row11 col6\" >235.300000</td>\n",
              "      <td id=\"T_8ec83_row11_col7\" class=\"data row11 col7\" >395.000000</td>\n",
              "    </tr>\n",
              "    <tr>\n",
              "      <th id=\"T_8ec83_level0_row12\" class=\"row_heading level0 row12\" >Total night calls</th>\n",
              "      <td id=\"T_8ec83_row12_col0\" class=\"data row12 col0\" >3333.000000</td>\n",
              "      <td id=\"T_8ec83_row12_col1\" class=\"data row12 col1\" >100.107711</td>\n",
              "      <td id=\"T_8ec83_row12_col2\" class=\"data row12 col2\" >19.568609</td>\n",
              "      <td id=\"T_8ec83_row12_col3\" class=\"data row12 col3\" >33.000000</td>\n",
              "      <td id=\"T_8ec83_row12_col4\" class=\"data row12 col4\" >87.000000</td>\n",
              "      <td id=\"T_8ec83_row12_col5\" class=\"data row12 col5\" >100.000000</td>\n",
              "      <td id=\"T_8ec83_row12_col6\" class=\"data row12 col6\" >113.000000</td>\n",
              "      <td id=\"T_8ec83_row12_col7\" class=\"data row12 col7\" >175.000000</td>\n",
              "    </tr>\n",
              "    <tr>\n",
              "      <th id=\"T_8ec83_level0_row13\" class=\"row_heading level0 row13\" >Total night charge</th>\n",
              "      <td id=\"T_8ec83_row13_col0\" class=\"data row13 col0\" >3333.000000</td>\n",
              "      <td id=\"T_8ec83_row13_col1\" class=\"data row13 col1\" >9.039325</td>\n",
              "      <td id=\"T_8ec83_row13_col2\" class=\"data row13 col2\" >2.275873</td>\n",
              "      <td id=\"T_8ec83_row13_col3\" class=\"data row13 col3\" >1.040000</td>\n",
              "      <td id=\"T_8ec83_row13_col4\" class=\"data row13 col4\" >7.520000</td>\n",
              "      <td id=\"T_8ec83_row13_col5\" class=\"data row13 col5\" >9.050000</td>\n",
              "      <td id=\"T_8ec83_row13_col6\" class=\"data row13 col6\" >10.590000</td>\n",
              "      <td id=\"T_8ec83_row13_col7\" class=\"data row13 col7\" >17.770000</td>\n",
              "    </tr>\n",
              "    <tr>\n",
              "      <th id=\"T_8ec83_level0_row14\" class=\"row_heading level0 row14\" >Total intl minutes</th>\n",
              "      <td id=\"T_8ec83_row14_col0\" class=\"data row14 col0\" >3333.000000</td>\n",
              "      <td id=\"T_8ec83_row14_col1\" class=\"data row14 col1\" >10.237294</td>\n",
              "      <td id=\"T_8ec83_row14_col2\" class=\"data row14 col2\" >2.791840</td>\n",
              "      <td id=\"T_8ec83_row14_col3\" class=\"data row14 col3\" >0.000000</td>\n",
              "      <td id=\"T_8ec83_row14_col4\" class=\"data row14 col4\" >8.500000</td>\n",
              "      <td id=\"T_8ec83_row14_col5\" class=\"data row14 col5\" >10.300000</td>\n",
              "      <td id=\"T_8ec83_row14_col6\" class=\"data row14 col6\" >12.100000</td>\n",
              "      <td id=\"T_8ec83_row14_col7\" class=\"data row14 col7\" >20.000000</td>\n",
              "    </tr>\n",
              "    <tr>\n",
              "      <th id=\"T_8ec83_level0_row15\" class=\"row_heading level0 row15\" >Total intl calls</th>\n",
              "      <td id=\"T_8ec83_row15_col0\" class=\"data row15 col0\" >3333.000000</td>\n",
              "      <td id=\"T_8ec83_row15_col1\" class=\"data row15 col1\" >4.479448</td>\n",
              "      <td id=\"T_8ec83_row15_col2\" class=\"data row15 col2\" >2.461214</td>\n",
              "      <td id=\"T_8ec83_row15_col3\" class=\"data row15 col3\" >0.000000</td>\n",
              "      <td id=\"T_8ec83_row15_col4\" class=\"data row15 col4\" >3.000000</td>\n",
              "      <td id=\"T_8ec83_row15_col5\" class=\"data row15 col5\" >4.000000</td>\n",
              "      <td id=\"T_8ec83_row15_col6\" class=\"data row15 col6\" >6.000000</td>\n",
              "      <td id=\"T_8ec83_row15_col7\" class=\"data row15 col7\" >20.000000</td>\n",
              "    </tr>\n",
              "    <tr>\n",
              "      <th id=\"T_8ec83_level0_row16\" class=\"row_heading level0 row16\" >Total intl charge</th>\n",
              "      <td id=\"T_8ec83_row16_col0\" class=\"data row16 col0\" >3333.000000</td>\n",
              "      <td id=\"T_8ec83_row16_col1\" class=\"data row16 col1\" >2.764581</td>\n",
              "      <td id=\"T_8ec83_row16_col2\" class=\"data row16 col2\" >0.753773</td>\n",
              "      <td id=\"T_8ec83_row16_col3\" class=\"data row16 col3\" >0.000000</td>\n",
              "      <td id=\"T_8ec83_row16_col4\" class=\"data row16 col4\" >2.300000</td>\n",
              "      <td id=\"T_8ec83_row16_col5\" class=\"data row16 col5\" >2.780000</td>\n",
              "      <td id=\"T_8ec83_row16_col6\" class=\"data row16 col6\" >3.270000</td>\n",
              "      <td id=\"T_8ec83_row16_col7\" class=\"data row16 col7\" >5.400000</td>\n",
              "    </tr>\n",
              "    <tr>\n",
              "      <th id=\"T_8ec83_level0_row17\" class=\"row_heading level0 row17\" >Customer service calls</th>\n",
              "      <td id=\"T_8ec83_row17_col0\" class=\"data row17 col0\" >3333.000000</td>\n",
              "      <td id=\"T_8ec83_row17_col1\" class=\"data row17 col1\" >1.562856</td>\n",
              "      <td id=\"T_8ec83_row17_col2\" class=\"data row17 col2\" >1.315491</td>\n",
              "      <td id=\"T_8ec83_row17_col3\" class=\"data row17 col3\" >0.000000</td>\n",
              "      <td id=\"T_8ec83_row17_col4\" class=\"data row17 col4\" >1.000000</td>\n",
              "      <td id=\"T_8ec83_row17_col5\" class=\"data row17 col5\" >1.000000</td>\n",
              "      <td id=\"T_8ec83_row17_col6\" class=\"data row17 col6\" >2.000000</td>\n",
              "      <td id=\"T_8ec83_row17_col7\" class=\"data row17 col7\" >9.000000</td>\n",
              "    </tr>\n",
              "    <tr>\n",
              "      <th id=\"T_8ec83_level0_row18\" class=\"row_heading level0 row18\" >Churn</th>\n",
              "      <td id=\"T_8ec83_row18_col0\" class=\"data row18 col0\" >3333.000000</td>\n",
              "      <td id=\"T_8ec83_row18_col1\" class=\"data row18 col1\" >0.144914</td>\n",
              "      <td id=\"T_8ec83_row18_col2\" class=\"data row18 col2\" >0.352067</td>\n",
              "      <td id=\"T_8ec83_row18_col3\" class=\"data row18 col3\" >0.000000</td>\n",
              "      <td id=\"T_8ec83_row18_col4\" class=\"data row18 col4\" >0.000000</td>\n",
              "      <td id=\"T_8ec83_row18_col5\" class=\"data row18 col5\" >0.000000</td>\n",
              "      <td id=\"T_8ec83_row18_col6\" class=\"data row18 col6\" >0.000000</td>\n",
              "      <td id=\"T_8ec83_row18_col7\" class=\"data row18 col7\" >1.000000</td>\n",
              "    </tr>\n",
              "  </tbody>\n",
              "</table>\n"
            ],
            "text/plain": [
              "<pandas.io.formats.style.Styler at 0x1cf5e8e27b0>"
            ]
          },
          "execution_count": 7,
          "metadata": {},
          "output_type": "execute_result"
        }
      ],
      "source": [
        "df.describe().T.style.background_gradient(cmap='YlOrRd')"
      ]
    },
    {
      "cell_type": "code",
      "execution_count": 8,
      "metadata": {
        "colab": {
          "base_uri": "https://localhost:8080/"
        },
        "id": "1C6sMq-fX6_1",
        "outputId": "89f356cd-e988-4304-d6b1-2842fe50d7b2"
      },
      "outputs": [
        {
          "data": {
            "text/plain": [
              "np.int64(0)"
            ]
          },
          "execution_count": 8,
          "metadata": {},
          "output_type": "execute_result"
        }
      ],
      "source": [
        "df.duplicated().sum()"
      ]
    },
    {
      "cell_type": "markdown",
      "metadata": {
        "id": "6cxCiBo8X9zt"
      },
      "source": [
        "*Дубликатов, пропущенных значений - нет*"
      ]
    },
    {
      "cell_type": "markdown",
      "metadata": {
        "id": "6_y9azfEzBYd"
      },
      "source": [
        "Создайте матрицу объект-признак X и вектор с целевой переменной (Churn) y."
      ]
    },
    {
      "cell_type": "code",
      "execution_count": 9,
      "metadata": {
        "id": "Nd0nCW4eypLE"
      },
      "outputs": [],
      "source": [
        "X = df.drop(\"Churn\", axis=1)\n",
        "y = df[\"Churn\"]"
      ]
    },
    {
      "cell_type": "markdown",
      "metadata": {
        "id": "NEvkoGWw1hFL"
      },
      "source": [
        "Проверьте баланс классов. Является ли выборка сбалансированной?"
      ]
    },
    {
      "cell_type": "code",
      "execution_count": 10,
      "metadata": {
        "colab": {
          "base_uri": "https://localhost:8080/",
          "height": 178
        },
        "id": "RpPcEOAm1keZ",
        "outputId": "79a6b4cf-7a18-43bb-e9bb-3572dd26cf31"
      },
      "outputs": [
        {
          "data": {
            "text/plain": [
              "Churn\n",
              "0    2850\n",
              "1     483\n",
              "Name: count, dtype: int64"
            ]
          },
          "execution_count": 10,
          "metadata": {},
          "output_type": "execute_result"
        }
      ],
      "source": [
        "df['Churn'].value_counts(sort = False)"
      ]
    },
    {
      "cell_type": "markdown",
      "metadata": {
        "id": "mnOh1QeNYcaG"
      },
      "source": [
        "*По целевому показателю выборка не сбалансированная - данных с меньшим классом (положительное значение Churn) в 5,9 раз меньше, чем с отрицательным значением Churn*"
      ]
    },
    {
      "cell_type": "code",
      "execution_count": 21,
      "metadata": {
        "colab": {
          "base_uri": "https://localhost:8080/",
          "height": 515
        },
        "id": "daWz2ou2kwQI",
        "outputId": "72bf2602-39b4-426f-a11e-6b0804253a16"
      },
      "outputs": [
        {
          "data": {
            "text/plain": [
              "Text(0.5, 1.0, 'Гистограмма распределения целевой переменной (Churn)')"
            ]
          },
          "execution_count": 21,
          "metadata": {},
          "output_type": "execute_result"
        },
        {
          "data": {
            "image/png": "[encoded data removed]",
            "text/plain": [
              "<Figure size 640x480 with 1 Axes>"
            ]
          },
          "metadata": {},
          "output_type": "display_data"
        }
      ],
      "source": [
        "df['Churn'].value_counts().plot(kind='bar');\n",
        "plt.title('Гистограмма распределения целевой переменной (Churn)')"
      ]
    },
    {
      "cell_type": "markdown",
      "metadata": {
        "id": "AYFme2HyzQxL"
      },
      "source": [
        "Разбейте данные на тренировочную и тестовую части, размер тестовой части — 30%."
      ]
    },
    {
      "cell_type": "code",
      "execution_count": 25,
      "metadata": {
        "id": "Cj13GmJlzQDS"
      },
      "outputs": [],
      "source": [
        "from sklearn.model_selection import train_test_split\n",
        "\n",
        "X_train, X_test, y_train, y_test = train_test_split(X, y, test_size=0.3, random_state=42)"
      ]
    },
    {
      "cell_type": "markdown",
      "metadata": {
        "id": "GbuDWle1z2Uh"
      },
      "source": [
        "Для линейных моделей очень важно масштабирование признаков. Поэтому отмасштабируйте признаки при помощи [StandardScaler](https://scikit-learn.org/stable/modules/generated/sklearn.preprocessing.StandardScaler.html), обучив метод на тренировочных данных и применив его и к трейну, и к тесту."
      ]
    },
    {
      "cell_type": "code",
      "execution_count": 26,
      "metadata": {
        "id": "69H1fh7VzaZf"
      },
      "outputs": [],
      "source": [
        "from sklearn.preprocessing import StandardScaler\n",
        "scaler = StandardScaler()\n",
        "\n",
        "X_train_scaled = scaler.fit_transform(X_train)\n",
        "X_test_scaled = scaler.transform(X_test)"
      ]
    },
    {
      "cell_type": "markdown",
      "metadata": {
        "id": "zvAH5Qte0W50"
      },
      "source": [
        "После масштабирования признаков X_train и X_test перестали быть объектами типа pd.DataFrame, это неудобно. Приведите их снова к pd.DataFrame."
      ]
    },
    {
      "cell_type": "code",
      "execution_count": 27,
      "metadata": {
        "id": "PRlpMQ750WSU"
      },
      "outputs": [],
      "source": [
        "X_train = pd.DataFrame(X_train_scaled, columns=X_train.columns)\n",
        "X_test = pd.DataFrame(X_test_scaled, columns=X_test.columns)"
      ]
    },
    {
      "cell_type": "markdown",
      "metadata": {
        "id": "253CDINX1TmR"
      },
      "source": [
        "Обучите на тренировочных данных с параметрами по умолчанию:\n",
        "\n",
        "1) логистическую регрессию;\n",
        "\n",
        "2) метод опорных векторов (с kernel='linear')."
      ]
    },
    {
      "cell_type": "code",
      "execution_count": 28,
      "metadata": {
        "id": "ULti0tAQd51P"
      },
      "outputs": [],
      "source": [
        "from sklearn.metrics import accuracy_score, precision_score, recall_score, f1_score, roc_auc_score\n",
        "from sklearn.metrics import classification_report\n",
        "from sklearn.metrics import roc_curve, auc, confusion_matrix\n",
        "from sklearn import metrics\n",
        "import seaborn as sns"
      ]
    },
    {
      "cell_type": "code",
      "execution_count": 29,
      "metadata": {
        "id": "GsQW48lf1SxJ"
      },
      "outputs": [],
      "source": [
        "from sklearn.linear_model import LogisticRegression\n",
        "from sklearn.svm import SVC\n"
      ]
    },
    {
      "cell_type": "markdown",
      "metadata": {
        "id": "laEJD_srhnJu"
      },
      "source": [
        "**Модель логистической регрессии:**"
      ]
    },
    {
      "cell_type": "code",
      "execution_count": 30,
      "metadata": {
        "colab": {
          "base_uri": "https://localhost:8080/"
        },
        "id": "zHeioK0Yg2jX",
        "outputId": "3e11cbd0-8855-4996-f0a0-d136a14b6ec2"
      },
      "outputs": [
        {
          "name": "stdout",
          "output_type": "stream",
          "text": [
            "              precision    recall  f1-score   support\n",
            "\n",
            "           0       0.88      0.97      0.92       857\n",
            "           1       0.55      0.21      0.30       143\n",
            "\n",
            "    accuracy                           0.86      1000\n",
            "   macro avg       0.71      0.59      0.61      1000\n",
            "weighted avg       0.83      0.86      0.83      1000\n",
            "\n"
          ]
        }
      ],
      "source": [
        "model1 = LogisticRegression(max_iter=1000)\n",
        "model1.fit(X_train, y_train)\n",
        "\n",
        "y_pred1 = model1.predict(X_test)\n",
        "print(classification_report(y_test, y_pred1))"
      ]
    },
    {
      "cell_type": "code",
      "execution_count": 31,
      "metadata": {
        "colab": {
          "base_uri": "https://localhost:8080/"
        },
        "id": "EpjZ9uCkhQeY",
        "outputId": "fc03f226-e009-46d9-a4f7-102f3cceb527"
      },
      "outputs": [
        {
          "name": "stdout",
          "output_type": "stream",
          "text": [
            "Точность: 0.862\n",
            "Точность: 0.5454545454545454\n",
            "Полнота: 0.2097902097902098\n",
            "F1-мера: 0.30303030303030304\n"
          ]
        }
      ],
      "source": [
        "confusion_mat = confusion_matrix(y_test, y_pred1)\n",
        "print(\"Точность:\", accuracy_score(y_test, y_pred1))\n",
        "print(\"Точность:\", precision_score(y_test, y_pred1, average = 'binary'))\n",
        "print(\"Полнота:\", recall_score(y_test, y_pred1, average = 'binary'))\n",
        "print(\"F1-мера:\", f1_score(y_test, y_pred1, average = 'binary'))\n"
      ]
    },
    {
      "cell_type": "markdown",
      "metadata": {
        "id": "2Q_LYi0biG5P"
      },
      "source": [
        "*Показатель Precision на уровне 0.54, показатель Recall 0.196 - крайне низкие параметры классификации, модель работает плохо.*"
      ]
    },
    {
      "cell_type": "code",
      "execution_count": 32,
      "metadata": {
        "colab": {
          "base_uri": "https://localhost:8080/",
          "height": 510
        },
        "id": "_gFELgtxkYCt",
        "outputId": "cc7cb8b2-fbcb-45d2-c992-3559da77bec4"
      },
      "outputs": [
        {
          "data": {
            "image/png": "[encoded data removed]",
            "text/plain": [
              "<Figure size 640x480 with 2 Axes>"
            ]
          },
          "metadata": {},
          "output_type": "display_data"
        }
      ],
      "source": [
        "sns.heatmap(confusion_mat, annot=True, fmt=\"d\", cmap = \"Blues\")\n",
        "plt.xlabel(\"Прогноз\")\n",
        "plt.ylabel(\"Фактическое значение\")\n",
        "plt.title(\"Матрица ошибок\")\n",
        "plt.show();"
      ]
    },
    {
      "cell_type": "markdown",
      "metadata": {
        "id": "CmLUSVt1mcRX"
      },
      "source": [
        "*Модель не склонна прогнозировать объекты со сзначением Churn = 1, практически все объекты относит к Churn=0*"
      ]
    },
    {
      "cell_type": "code",
      "execution_count": 33,
      "metadata": {
        "colab": {
          "base_uri": "https://localhost:8080/",
          "height": 479
        },
        "id": "QzYSrXCbm2uN",
        "outputId": "e9dc90ca-bad0-42a9-ce58-a2134c78ffc8"
      },
      "outputs": [
        {
          "data": {
            "image/png": "[encoded data removed]",
            "text/plain": [
              "<Figure size 640x480 with 1 Axes>"
            ]
          },
          "metadata": {},
          "output_type": "display_data"
        }
      ],
      "source": [
        "#Предсказываем вероятности\n",
        "y_pred_proba1 = model1.predict_proba(X_test)[:, 1]\n",
        "# Строим кривую ROC\n",
        "fpr, tpr, _ = metrics.roc_curve(y_test, y_pred_proba1)\n",
        "plt.plot(fpr, tpr)\n",
        "plt.ylabel('True Positive Rate')\n",
        "plt.xlabel('False Positive Rate')\n",
        "plt.show()"
      ]
    },
    {
      "cell_type": "code",
      "execution_count": 34,
      "metadata": {
        "colab": {
          "base_uri": "https://localhost:8080/"
        },
        "id": "K1pHFIu7pSKf",
        "outputId": "827097af-4e9b-4102-b083-cbcd5c526fb4"
      },
      "outputs": [
        {
          "name": "stdout",
          "output_type": "stream",
          "text": [
            "AUC: 0.828\n"
          ]
        }
      ],
      "source": [
        "auc = metrics.roc_auc_score(y_test, y_pred_proba1)\n",
        "print(\"AUC: %.3f\" % auc)"
      ]
    },
    {
      "cell_type": "code",
      "execution_count": 40,
      "metadata": {},
      "outputs": [
        {
          "name": "stdout",
          "output_type": "stream",
          "text": [
            "Collecting plotly\n",
            "  Using cached plotly-6.0.0-py3-none-any.whl.metadata (5.6 kB)\n",
            "Collecting narwhals>=1.15.1 (from plotly)\n",
            "  Using cached narwhals-1.30.0-py3-none-any.whl.metadata (11 kB)\n",
            "Requirement already satisfied: packaging in c:\\users\\rukavishnikovav\\appdata\\local\\programs\\python\\python312\\lib\\site-packages (from plotly) (24.1)\n",
            "Using cached plotly-6.0.0-py3-none-any.whl (14.8 MB)\n",
            "Using cached narwhals-1.30.0-py3-none-any.whl (313 kB)\n",
            "Installing collected packages: narwhals, plotly\n",
            "Successfully installed narwhals-1.30.0 plotly-6.0.0\n"
          ]
        },
        {
          "name": "stderr",
          "output_type": "stream",
          "text": [
            "\n",
            "[notice] A new release of pip is available: 24.3.1 -> 25.0.1\n",
            "[notice] To update, run: python.exe -m pip install --upgrade pip\n"
          ]
        }
      ],
      "source": [
        "!pip install plotly"
      ]
    },
    {
      "cell_type": "code",
      "execution_count": 42,
      "metadata": {
        "colab": {
          "base_uri": "https://localhost:8080/",
          "height": 542
        },
        "id": "cY5zOPrmsKKp",
        "outputId": "b2490a0c-25c0-42d4-f9ca-bc904eaf23ac"
      },
      "outputs": [
        {
          "data": {
            "application/vnd.plotly.v1+json": {
              "config": {
                "plotlyServerURL": "https://plot.ly"
              },
              "data": [
                {
                  "line": {
                    "color": "darkorange",
                    "width": 2
                  },
                  "mode": "lines",
                  "name": "AUC = 0.83",
                  "type": "scatter",
                  "x": {
                    "bdata": "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",
                    "dtype": "f8"
                  },
                  "y": {
                    "bdata": "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",
                    "dtype": "f8"
                  }
                },
                {
                  "line": {
                    "color": "navy",
                    "dash": "dash",
                    "width": 2
                  },
                  "mode": "lines",
                  "name": "Reference Line",
                  "type": "scatter",
                  "x": [
                    0,
                    1
                  ],
                  "y": [
                    0,
                    1
                  ]
                }
              ],
              "layout": {
                "template": {
                  "data": {
                    "bar": [
                      {
                        "error_x": {
                          "color": "#2a3f5f"
                        },
                        "error_y": {
                          "color": "#2a3f5f"
                        },
                        "marker": {
                          "line": {
                            "color": "#E5ECF6",
                            "width": 0.5
                          },
                          "pattern": {
                            "fillmode": "overlay",
                            "size": 10,
                            "solidity": 0.2
                          }
                        },
                        "type": "bar"
                      }
                    ],
                    "barpolar": [
                      {
                        "marker": {
                          "line": {
                            "color": "#E5ECF6",
                            "width": 0.5
                          },
                          "pattern": {
                            "fillmode": "overlay",
                            "size": 10,
                            "solidity": 0.2
                          }
                        },
                        "type": "barpolar"
                      }
                    ],
                    "carpet": [
                      {
                        "aaxis": {
                          "endlinecolor": "#2a3f5f",
                          "gridcolor": "white",
                          "linecolor": "white",
                          "minorgridcolor": "white",
                          "startlinecolor": "#2a3f5f"
                        },
                        "baxis": {
                          "endlinecolor": "#2a3f5f",
                          "gridcolor": "white",
                          "linecolor": "white",
                          "minorgridcolor": "white",
                          "startlinecolor": "#2a3f5f"
                        },
                        "type": "carpet"
                      }
                    ],
                    "choropleth": [
                      {
                        "colorbar": {
                          "outlinewidth": 0,
                          "ticks": ""
                        },
                        "type": "choropleth"
                      }
                    ],
                    "contour": [
                      {
                        "colorbar": {
                          "outlinewidth": 0,
                          "ticks": ""
                        },
                        "colorscale": [
                          [
                            0,
                            "#0d0887"
                          ],
                          [
                            0.1111111111111111,
                            "#46039f"
                          ],
                          [
                            0.2222222222222222,
                            "#7201a8"
                          ],
                          [
                            0.3333333333333333,
                            "#9c179e"
                          ],
                          [
                            0.4444444444444444,
                            "#bd3786"
                          ],
                          [
                            0.5555555555555556,
                            "#d8576b"
                          ],
                          [
                            0.6666666666666666,
                            "#ed7953"
                          ],
                          [
                            0.7777777777777778,
                            "#fb9f3a"
                          ],
                          [
                            0.8888888888888888,
                            "#fdca26"
                          ],
                          [
                            1,
                            "#f0f921"
                          ]
                        ],
                        "type": "contour"
                      }
                    ],
                    "contourcarpet": [
                      {
                        "colorbar": {
                          "outlinewidth": 0,
                          "ticks": ""
                        },
                        "type": "contourcarpet"
                      }
                    ],
                    "heatmap": [
                      {
                        "colorbar": {
                          "outlinewidth": 0,
                          "ticks": ""
                        },
                        "colorscale": [
                          [
                            0,
                            "#0d0887"
                          ],
                          [
                            0.1111111111111111,
                            "#46039f"
                          ],
                          [
                            0.2222222222222222,
                            "#7201a8"
                          ],
                          [
                            0.3333333333333333,
                            "#9c179e"
                          ],
                          [
                            0.4444444444444444,
                            "#bd3786"
                          ],
                          [
                            0.5555555555555556,
                            "#d8576b"
                          ],
                          [
                            0.6666666666666666,
                            "#ed7953"
                          ],
                          [
                            0.7777777777777778,
                            "#fb9f3a"
                          ],
                          [
                            0.8888888888888888,
                            "#fdca26"
                          ],
                          [
                            1,
                            "#f0f921"
                          ]
                        ],
                        "type": "heatmap"
                      }
                    ],
                    "histogram": [
                      {
                        "marker": {
                          "pattern": {
                            "fillmode": "overlay",
                            "size": 10,
                            "solidity": 0.2
                          }
                        },
                        "type": "histogram"
                      }
                    ],
                    "histogram2d": [
                      {
                        "colorbar": {
                          "outlinewidth": 0,
                          "ticks": ""
                        },
                        "colorscale": [
                          [
                            0,
                            "#0d0887"
                          ],
                          [
                            0.1111111111111111,
                            "#46039f"
                          ],
                          [
                            0.2222222222222222,
                            "#7201a8"
                          ],
                          [
                            0.3333333333333333,
                            "#9c179e"
                          ],
                          [
                            0.4444444444444444,
                            "#bd3786"
                          ],
                          [
                            0.5555555555555556,
                            "#d8576b"
                          ],
                          [
                            0.6666666666666666,
                            "#ed7953"
                          ],
                          [
                            0.7777777777777778,
                            "#fb9f3a"
                          ],
                          [
                            0.8888888888888888,
                            "#fdca26"
                          ],
                          [
                            1,
                            "#f0f921"
                          ]
                        ],
                        "type": "histogram2d"
                      }
                    ],
                    "histogram2dcontour": [
                      {
                        "colorbar": {
                          "outlinewidth": 0,
                          "ticks": ""
                        },
                        "colorscale": [
                          [
                            0,
                            "#0d0887"
                          ],
                          [
                            0.1111111111111111,
                            "#46039f"
                          ],
                          [
                            0.2222222222222222,
                            "#7201a8"
                          ],
                          [
                            0.3333333333333333,
                            "#9c179e"
                          ],
                          [
                            0.4444444444444444,
                            "#bd3786"
                          ],
                          [
                            0.5555555555555556,
                            "#d8576b"
                          ],
                          [
                            0.6666666666666666,
                            "#ed7953"
                          ],
                          [
                            0.7777777777777778,
                            "#fb9f3a"
                          ],
                          [
                            0.8888888888888888,
                            "#fdca26"
                          ],
                          [
                            1,
                            "#f0f921"
                          ]
                        ],
                        "type": "histogram2dcontour"
                      }
                    ],
                    "mesh3d": [
                      {
                        "colorbar": {
                          "outlinewidth": 0,
                          "ticks": ""
                        },
                        "type": "mesh3d"
                      }
                    ],
                    "parcoords": [
                      {
                        "line": {
                          "colorbar": {
                            "outlinewidth": 0,
                            "ticks": ""
                          }
                        },
                        "type": "parcoords"
                      }
                    ],
                    "pie": [
                      {
                        "automargin": true,
                        "type": "pie"
                      }
                    ],
                    "scatter": [
                      {
                        "fillpattern": {
                          "fillmode": "overlay",
                          "size": 10,
                          "solidity": 0.2
                        },
                        "type": "scatter"
                      }
                    ],
                    "scatter3d": [
                      {
                        "line": {
                          "colorbar": {
                            "outlinewidth": 0,
                            "ticks": ""
                          }
                        },
                        "marker": {
                          "colorbar": {
                            "outlinewidth": 0,
                            "ticks": ""
                          }
                        },
                        "type": "scatter3d"
                      }
                    ],
                    "scattercarpet": [
                      {
                        "marker": {
                          "colorbar": {
                            "outlinewidth": 0,
                            "ticks": ""
                          }
                        },
                        "type": "scattercarpet"
                      }
                    ],
                    "scattergeo": [
                      {
                        "marker": {
                          "colorbar": {
                            "outlinewidth": 0,
                            "ticks": ""
                          }
                        },
                        "type": "scattergeo"
                      }
                    ],
                    "scattergl": [
                      {
                        "marker": {
                          "colorbar": {
                            "outlinewidth": 0,
                            "ticks": ""
                          }
                        },
                        "type": "scattergl"
                      }
                    ],
                    "scattermap": [
                      {
                        "marker": {
                          "colorbar": {
                            "outlinewidth": 0,
                            "ticks": ""
                          }
                        },
                        "type": "scattermap"
                      }
                    ],
                    "scattermapbox": [
                      {
                        "marker": {
                          "colorbar": {
                            "outlinewidth": 0,
                            "ticks": ""
                          }
                        },
                        "type": "scattermapbox"
                      }
                    ],
                    "scatterpolar": [
                      {
                        "marker": {
                          "colorbar": {
                            "outlinewidth": 0,
                            "ticks": ""
                          }
                        },
                        "type": "scatterpolar"
                      }
                    ],
                    "scatterpolargl": [
                      {
                        "marker": {
                          "colorbar": {
                            "outlinewidth": 0,
                            "ticks": ""
                          }
                        },
                        "type": "scatterpolargl"
                      }
                    ],
                    "scatterternary": [
                      {
                        "marker": {
                          "colorbar": {
                            "outlinewidth": 0,
                            "ticks": ""
                          }
                        },
                        "type": "scatterternary"
                      }
                    ],
                    "surface": [
                      {
                        "colorbar": {
                          "outlinewidth": 0,
                          "ticks": ""
                        },
                        "colorscale": [
                          [
                            0,
                            "#0d0887"
                          ],
                          [
                            0.1111111111111111,
                            "#46039f"
                          ],
                          [
                            0.2222222222222222,
                            "#7201a8"
                          ],
                          [
                            0.3333333333333333,
                            "#9c179e"
                          ],
                          [
                            0.4444444444444444,
                            "#bd3786"
                          ],
                          [
                            0.5555555555555556,
                            "#d8576b"
                          ],
                          [
                            0.6666666666666666,
                            "#ed7953"
                          ],
                          [
                            0.7777777777777778,
                            "#fb9f3a"
                          ],
                          [
                            0.8888888888888888,
                            "#fdca26"
                          ],
                          [
                            1,
                            "#f0f921"
                          ]
                        ],
                        "type": "surface"
                      }
                    ],
                    "table": [
                      {
                        "cells": {
                          "fill": {
                            "color": "#EBF0F8"
                          },
                          "line": {
                            "color": "white"
                          }
                        },
                        "header": {
                          "fill": {
                            "color": "#C8D4E3"
                          },
                          "line": {
                            "color": "white"
                          }
                        },
                        "type": "table"
                      }
                    ]
                  },
                  "layout": {
                    "annotationdefaults": {
                      "arrowcolor": "#2a3f5f",
                      "arrowhead": 0,
                      "arrowwidth": 1
                    },
                    "autotypenumbers": "strict",
                    "coloraxis": {
                      "colorbar": {
                        "outlinewidth": 0,
                        "ticks": ""
                      }
                    },
                    "colorscale": {
                      "diverging": [
                        [
                          0,
                          "#8e0152"
                        ],
                        [
                          0.1,
                          "#c51b7d"
                        ],
                        [
                          0.2,
                          "#de77ae"
                        ],
                        [
                          0.3,
                          "#f1b6da"
                        ],
                        [
                          0.4,
                          "#fde0ef"
                        ],
                        [
                          0.5,
                          "#f7f7f7"
                        ],
                        [
                          0.6,
                          "#e6f5d0"
                        ],
                        [
                          0.7,
                          "#b8e186"
                        ],
                        [
                          0.8,
                          "#7fbc41"
                        ],
                        [
                          0.9,
                          "#4d9221"
                        ],
                        [
                          1,
                          "#276419"
                        ]
                      ],
                      "sequential": [
                        [
                          0,
                          "#0d0887"
                        ],
                        [
                          0.1111111111111111,
                          "#46039f"
                        ],
                        [
                          0.2222222222222222,
                          "#7201a8"
                        ],
                        [
                          0.3333333333333333,
                          "#9c179e"
                        ],
                        [
                          0.4444444444444444,
                          "#bd3786"
                        ],
                        [
                          0.5555555555555556,
                          "#d8576b"
                        ],
                        [
                          0.6666666666666666,
                          "#ed7953"
                        ],
                        [
                          0.7777777777777778,
                          "#fb9f3a"
                        ],
                        [
                          0.8888888888888888,
                          "#fdca26"
                        ],
                        [
                          1,
                          "#f0f921"
                        ]
                      ],
                      "sequentialminus": [
                        [
                          0,
                          "#0d0887"
                        ],
                        [
                          0.1111111111111111,
                          "#46039f"
                        ],
                        [
                          0.2222222222222222,
                          "#7201a8"
                        ],
                        [
                          0.3333333333333333,
                          "#9c179e"
                        ],
                        [
                          0.4444444444444444,
                          "#bd3786"
                        ],
                        [
                          0.5555555555555556,
                          "#d8576b"
                        ],
                        [
                          0.6666666666666666,
                          "#ed7953"
                        ],
                        [
                          0.7777777777777778,
                          "#fb9f3a"
                        ],
                        [
                          0.8888888888888888,
                          "#fdca26"
                        ],
                        [
                          1,
                          "#f0f921"
                        ]
                      ]
                    },
                    "colorway": [
                      "#636efa",
                      "#EF553B",
                      "#00cc96",
                      "#ab63fa",
                      "#FFA15A",
                      "#19d3f3",
                      "#FF6692",
                      "#B6E880",
                      "#FF97FF",
                      "#FECB52"
                    ],
                    "font": {
                      "color": "#2a3f5f"
                    },
                    "geo": {
                      "bgcolor": "white",
                      "lakecolor": "white",
                      "landcolor": "#E5ECF6",
                      "showlakes": true,
                      "showland": true,
                      "subunitcolor": "white"
                    },
                    "hoverlabel": {
                      "align": "left"
                    },
                    "hovermode": "closest",
                    "mapbox": {
                      "style": "light"
                    },
                    "paper_bgcolor": "white",
                    "plot_bgcolor": "#E5ECF6",
                    "polar": {
                      "angularaxis": {
                        "gridcolor": "white",
                        "linecolor": "white",
                        "ticks": ""
                      },
                      "bgcolor": "#E5ECF6",
                      "radialaxis": {
                        "gridcolor": "white",
                        "linecolor": "white",
                        "ticks": ""
                      }
                    },
                    "scene": {
                      "xaxis": {
                        "backgroundcolor": "#E5ECF6",
                        "gridcolor": "white",
                        "gridwidth": 2,
                        "linecolor": "white",
                        "showbackground": true,
                        "ticks": "",
                        "zerolinecolor": "white"
                      },
                      "yaxis": {
                        "backgroundcolor": "#E5ECF6",
                        "gridcolor": "white",
                        "gridwidth": 2,
                        "linecolor": "white",
                        "showbackground": true,
                        "ticks": "",
                        "zerolinecolor": "white"
                      },
                      "zaxis": {
                        "backgroundcolor": "#E5ECF6",
                        "gridcolor": "white",
                        "gridwidth": 2,
                        "linecolor": "white",
                        "showbackground": true,
                        "ticks": "",
                        "zerolinecolor": "white"
                      }
                    },
                    "shapedefaults": {
                      "line": {
                        "color": "#2a3f5f"
                      }
                    },
                    "ternary": {
                      "aaxis": {
                        "gridcolor": "white",
                        "linecolor": "white",
                        "ticks": ""
                      },
                      "baxis": {
                        "gridcolor": "white",
                        "linecolor": "white",
                        "ticks": ""
                      },
                      "bgcolor": "#E5ECF6",
                      "caxis": {
                        "gridcolor": "white",
                        "linecolor": "white",
                        "ticks": ""
                      }
                    },
                    "title": {
                      "x": 0.05
                    },
                    "xaxis": {
                      "automargin": true,
                      "gridcolor": "white",
                      "linecolor": "white",
                      "ticks": "",
                      "title": {
                        "standoff": 15
                      },
                      "zerolinecolor": "white",
                      "zerolinewidth": 2
                    },
                    "yaxis": {
                      "automargin": true,
                      "gridcolor": "white",
                      "linecolor": "white",
                      "ticks": "",
                      "title": {
                        "standoff": 15
                      },
                      "zerolinecolor": "white",
                      "zerolinewidth": 2
                    }
                  }
                },
                "title": {
                  "text": "Interactive ROC Curve"
                },
                "xaxis": {
                  "title": {
                    "text": "False Positive Rate"
                  }
                },
                "yaxis": {
                  "title": {
                    "text": "True Positive Rate"
                  }
                }
              }
            }
          },
          "metadata": {},
          "output_type": "display_data"
        }
      ],
      "source": [
        "import plotly.graph_objs as go\n",
        "\n",
        "trace = go.Scatter(x=fpr, y=tpr, mode='lines', name='AUC = %0.2f' % auc,\n",
        "                   line=dict(color='darkorange', width=2))\n",
        "reference_line = go.Scatter(x=[0,1], y=[0,1], mode='lines', name='Reference Line',\n",
        "                            line=dict(color='navy', width=2, dash='dash'))\n",
        "fig = go.Figure(data=[trace, reference_line])\n",
        "fig.update_layout(title='Interactive ROC Curve',\n",
        "                  xaxis_title='False Positive Rate',\n",
        "                  yaxis_title='True Positive Rate')\n",
        "fig.show()"
      ]
    },
    {
      "cell_type": "markdown",
      "metadata": {
        "id": "_shz7c3x193v"
      },
      "source": [
        "*Показатель AUC (Area under Curve) - площади под кривой ROC - интерпретирует вероятность, с которой модель верно определит две точки (объекта), расположенные в разных классах, которые поданы ей на вход для анализа. В нашем случае это вероятность 83,2%. Показатель 50% (площадь под синей пунктирной кривой - вариант случайного выбора, рандомного угадывания). Однако мы помним, что в наших данных есть очень существенный дисбаланс классов по целевому признаку, поэтому значение показателя AUC на уровне 83,2% демонстрирует лишь нежелание модели правильно классифицировать объекты в меньший по численности класс, модель по-сути бесполезна, так как относит все объекты преимущественно к мажорному классу (предсказывает на всех данных отсуствие перехода к другому оператору). Основной в данном случае показатель - Recall - доля правильно предсказанный показаний, для Churn=True (клиент уходит) она составляет лишь 21%. То есть модель правильно предсказала 21% ушедших клиентов, что крайне мало.*"
      ]
    },
    {
      "cell_type": "markdown",
      "metadata": {
        "id": "MFwxJLqOijzf"
      },
      "source": [
        "**Метод опорных векторов**"
      ]
    },
    {
      "cell_type": "code",
      "execution_count": 41,
      "metadata": {
        "colab": {
          "base_uri": "https://localhost:8080/"
        },
        "id": "i9tFvF5bihIH",
        "outputId": "3cbb309e-8fc0-4abf-89b7-fc4544c92b8f"
      },
      "outputs": [
        {
          "name": "stdout",
          "output_type": "stream",
          "text": [
            "              precision    recall  f1-score   support\n",
            "\n",
            "           0       0.86      1.00      0.92       857\n",
            "           1       0.00      0.00      0.00       143\n",
            "\n",
            "    accuracy                           0.86      1000\n",
            "   macro avg       0.43      0.50      0.46      1000\n",
            "weighted avg       0.73      0.86      0.79      1000\n",
            "\n"
          ]
        },
        {
          "name": "stderr",
          "output_type": "stream",
          "text": [
            "c:\\Users\\rukavishnikovav\\AppData\\Local\\Programs\\Python\\Python312\\Lib\\site-packages\\sklearn\\metrics\\_classification.py:1565: UndefinedMetricWarning: Precision is ill-defined and being set to 0.0 in labels with no predicted samples. Use `zero_division` parameter to control this behavior.\n",
            "  _warn_prf(average, modifier, f\"{metric.capitalize()} is\", len(result))\n",
            "c:\\Users\\rukavishnikovav\\AppData\\Local\\Programs\\Python\\Python312\\Lib\\site-packages\\sklearn\\metrics\\_classification.py:1565: UndefinedMetricWarning: Precision is ill-defined and being set to 0.0 in labels with no predicted samples. Use `zero_division` parameter to control this behavior.\n",
            "  _warn_prf(average, modifier, f\"{metric.capitalize()} is\", len(result))\n",
            "c:\\Users\\rukavishnikovav\\AppData\\Local\\Programs\\Python\\Python312\\Lib\\site-packages\\sklearn\\metrics\\_classification.py:1565: UndefinedMetricWarning: Precision is ill-defined and being set to 0.0 in labels with no predicted samples. Use `zero_division` parameter to control this behavior.\n",
            "  _warn_prf(average, modifier, f\"{metric.capitalize()} is\", len(result))\n"
          ]
        }
      ],
      "source": [
        "model2 = SVC(kernel='linear', probability=True)\n",
        "#Включаем вероятности в параметрах модели, чтобы построить ROC AUC, ограничиваем число итераций\n",
        "\n",
        "model2.fit(X_train, y_train)\n",
        "y_pred2 = model2.predict(X_test)\n",
        "print(classification_report(y_test, y_pred2))"
      ]
    },
    {
      "cell_type": "markdown",
      "metadata": {
        "id": "wXRaBXNY1te2"
      },
      "source": [
        "*Показатель Precision на уровне 1, но показатель Recall 0.00 - крайне низкие параметры классификации, модель работает плохо.*"
      ]
    },
    {
      "cell_type": "code",
      "execution_count": 43,
      "metadata": {
        "colab": {
          "base_uri": "https://localhost:8080/"
        },
        "id": "6MsubKOojevw",
        "outputId": "e6d3525d-a905-4dcb-c231-a8742294ba44"
      },
      "outputs": [
        {
          "name": "stdout",
          "output_type": "stream",
          "text": [
            "Точность: 0.857\n",
            "Точность: 0.0\n",
            "Полнота: 0.0\n",
            "F1-мера: 0.0\n"
          ]
        },
        {
          "name": "stderr",
          "output_type": "stream",
          "text": [
            "c:\\Users\\rukavishnikovav\\AppData\\Local\\Programs\\Python\\Python312\\Lib\\site-packages\\sklearn\\metrics\\_classification.py:1565: UndefinedMetricWarning:\n",
            "\n",
            "Precision is ill-defined and being set to 0.0 due to no predicted samples. Use `zero_division` parameter to control this behavior.\n",
            "\n"
          ]
        }
      ],
      "source": [
        "confusion_mat = confusion_matrix(y_test, y_pred2)\n",
        "print(\"Точность:\", accuracy_score(y_test, y_pred2))\n",
        "print(\"Точность:\", precision_score(y_test, y_pred2, average = 'binary'))\n",
        "print(\"Полнота:\", recall_score(y_test, y_pred2, average = 'binary'))\n",
        "print(\"F1-мера:\", f1_score(y_test, y_pred2, average = 'binary'))\n"
      ]
    },
    {
      "cell_type": "code",
      "execution_count": 44,
      "metadata": {
        "colab": {
          "base_uri": "https://localhost:8080/",
          "height": 510
        },
        "id": "pJ30JiGSp7A3",
        "outputId": "19dbbe23-3474-46c0-8d82-546c0f81c3d7"
      },
      "outputs": [
        {
          "data": {
            "image/png": "[encoded data removed]",
            "text/plain": [
              "<Figure size 640x480 with 2 Axes>"
            ]
          },
          "metadata": {},
          "output_type": "display_data"
        }
      ],
      "source": [
        "sns.heatmap(confusion_mat, annot=True, fmt=\"d\", cmap = \"Blues\")\n",
        "plt.xlabel(\"Прогноз\")\n",
        "plt.ylabel(\"Фактическое значение\")\n",
        "plt.title(\"Матрица ошибок\")\n",
        "plt.show();"
      ]
    },
    {
      "cell_type": "markdown",
      "metadata": {
        "id": "B372PUrgp9wc"
      },
      "source": [
        "*Еще очевиднее нежелание модели классифицировать объекты в область Churn=1, все объекты классифицируются в область Churn=0 (отсутствие перехода)*"
      ]
    },
    {
      "cell_type": "code",
      "execution_count": 45,
      "metadata": {
        "colab": {
          "base_uri": "https://localhost:8080/",
          "height": 479
        },
        "id": "Ac6LpycYqbL-",
        "outputId": "fbc17a31-5f96-43c0-895b-49f67af88595"
      },
      "outputs": [
        {
          "data": {
            "image/png": "[encoded data removed]",
            "text/plain": [
              "<Figure size 640x480 with 1 Axes>"
            ]
          },
          "metadata": {},
          "output_type": "display_data"
        }
      ],
      "source": [
        "#Предсказываем вероятности\n",
        "y_pred_proba2 = model2.predict_proba(X_test)[:, 1]\n",
        "# Строим кривую ROC\n",
        "fpr, tpr, _ = metrics.roc_curve(y_test, y_pred_proba2)\n",
        "plt.plot(fpr, tpr)\n",
        "plt.ylabel('True Positive Rate')\n",
        "plt.xlabel('False Positive Rate')\n",
        "plt.show()"
      ]
    },
    {
      "cell_type": "code",
      "execution_count": 46,
      "metadata": {
        "colab": {
          "base_uri": "https://localhost:8080/"
        },
        "id": "gPXA1NDoreA_",
        "outputId": "734ee816-d16c-446c-ce97-b201f0033d07"
      },
      "outputs": [
        {
          "name": "stdout",
          "output_type": "stream",
          "text": [
            "AUC: 0.740\n"
          ]
        }
      ],
      "source": [
        "auc = metrics.roc_auc_score(y_test, y_pred_proba2)\n",
        "print(\"AUC: %.3f\" % auc)"
      ]
    },
    {
      "cell_type": "code",
      "execution_count": 47,
      "metadata": {
        "colab": {
          "base_uri": "https://localhost:8080/",
          "height": 542
        },
        "id": "pW7pHUSws7mh",
        "outputId": "52d1cc19-92de-4539-b5cc-b6b6756abfb4"
      },
      "outputs": [
        {
          "data": {
            "application/vnd.plotly.v1+json": {
              "config": {
                "plotlyServerURL": "https://plot.ly"
              },
              "data": [
                {
                  "line": {
                    "color": "darkorange",
                    "width": 2
                  },
                  "mode": "lines",
                  "name": "AUC = 0.74",
                  "type": "scatter",
                  "x": {
                    "bdata": "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",
                    "dtype": "f8"
                  },
                  "y": {
                    "bdata": "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",
                    "dtype": "f8"
                  }
                },
                {
                  "line": {
                    "color": "navy",
                    "dash": "dash",
                    "width": 2
                  },
                  "mode": "lines",
                  "name": "Reference Line",
                  "type": "scatter",
                  "x": [
                    0,
                    1
                  ],
                  "y": [
                    0,
                    1
                  ]
                }
              ],
              "layout": {
                "template": {
                  "data": {
                    "bar": [
                      {
                        "error_x": {
                          "color": "#2a3f5f"
                        },
                        "error_y": {
                          "color": "#2a3f5f"
                        },
                        "marker": {
                          "line": {
                            "color": "#E5ECF6",
                            "width": 0.5
                          },
                          "pattern": {
                            "fillmode": "overlay",
                            "size": 10,
                            "solidity": 0.2
                          }
                        },
                        "type": "bar"
                      }
                    ],
                    "barpolar": [
                      {
                        "marker": {
                          "line": {
                            "color": "#E5ECF6",
                            "width": 0.5
                          },
                          "pattern": {
                            "fillmode": "overlay",
                            "size": 10,
                            "solidity": 0.2
                          }
                        },
                        "type": "barpolar"
                      }
                    ],
                    "carpet": [
                      {
                        "aaxis": {
                          "endlinecolor": "#2a3f5f",
                          "gridcolor": "white",
                          "linecolor": "white",
                          "minorgridcolor": "white",
                          "startlinecolor": "#2a3f5f"
                        },
                        "baxis": {
                          "endlinecolor": "#2a3f5f",
                          "gridcolor": "white",
                          "linecolor": "white",
                          "minorgridcolor": "white",
                          "startlinecolor": "#2a3f5f"
                        },
                        "type": "carpet"
                      }
                    ],
                    "choropleth": [
                      {
                        "colorbar": {
                          "outlinewidth": 0,
                          "ticks": ""
                        },
                        "type": "choropleth"
                      }
                    ],
                    "contour": [
                      {
                        "colorbar": {
                          "outlinewidth": 0,
                          "ticks": ""
                        },
                        "colorscale": [
                          [
                            0,
                            "#0d0887"
                          ],
                          [
                            0.1111111111111111,
                            "#46039f"
                          ],
                          [
                            0.2222222222222222,
                            "#7201a8"
                          ],
                          [
                            0.3333333333333333,
                            "#9c179e"
                          ],
                          [
                            0.4444444444444444,
                            "#bd3786"
                          ],
                          [
                            0.5555555555555556,
                            "#d8576b"
                          ],
                          [
                            0.6666666666666666,
                            "#ed7953"
                          ],
                          [
                            0.7777777777777778,
                            "#fb9f3a"
                          ],
                          [
                            0.8888888888888888,
                            "#fdca26"
                          ],
                          [
                            1,
                            "#f0f921"
                          ]
                        ],
                        "type": "contour"
                      }
                    ],
                    "contourcarpet": [
                      {
                        "colorbar": {
                          "outlinewidth": 0,
                          "ticks": ""
                        },
                        "type": "contourcarpet"
                      }
                    ],
                    "heatmap": [
                      {
                        "colorbar": {
                          "outlinewidth": 0,
                          "ticks": ""
                        },
                        "colorscale": [
                          [
                            0,
                            "#0d0887"
                          ],
                          [
                            0.1111111111111111,
                            "#46039f"
                          ],
                          [
                            0.2222222222222222,
                            "#7201a8"
                          ],
                          [
                            0.3333333333333333,
                            "#9c179e"
                          ],
                          [
                            0.4444444444444444,
                            "#bd3786"
                          ],
                          [
                            0.5555555555555556,
                            "#d8576b"
                          ],
                          [
                            0.6666666666666666,
                            "#ed7953"
                          ],
                          [
                            0.7777777777777778,
                            "#fb9f3a"
                          ],
                          [
                            0.8888888888888888,
                            "#fdca26"
                          ],
                          [
                            1,
                            "#f0f921"
                          ]
                        ],
                        "type": "heatmap"
                      }
                    ],
                    "histogram": [
                      {
                        "marker": {
                          "pattern": {
                            "fillmode": "overlay",
                            "size": 10,
                            "solidity": 0.2
                          }
                        },
                        "type": "histogram"
                      }
                    ],
                    "histogram2d": [
                      {
                        "colorbar": {
                          "outlinewidth": 0,
                          "ticks": ""
                        },
                        "colorscale": [
                          [
                            0,
                            "#0d0887"
                          ],
                          [
                            0.1111111111111111,
                            "#46039f"
                          ],
                          [
                            0.2222222222222222,
                            "#7201a8"
                          ],
                          [
                            0.3333333333333333,
                            "#9c179e"
                          ],
                          [
                            0.4444444444444444,
                            "#bd3786"
                          ],
                          [
                            0.5555555555555556,
                            "#d8576b"
                          ],
                          [
                            0.6666666666666666,
                            "#ed7953"
                          ],
                          [
                            0.7777777777777778,
                            "#fb9f3a"
                          ],
                          [
                            0.8888888888888888,
                            "#fdca26"
                          ],
                          [
                            1,
                            "#f0f921"
                          ]
                        ],
                        "type": "histogram2d"
                      }
                    ],
                    "histogram2dcontour": [
                      {
                        "colorbar": {
                          "outlinewidth": 0,
                          "ticks": ""
                        },
                        "colorscale": [
                          [
                            0,
                            "#0d0887"
                          ],
                          [
                            0.1111111111111111,
                            "#46039f"
                          ],
                          [
                            0.2222222222222222,
                            "#7201a8"
                          ],
                          [
                            0.3333333333333333,
                            "#9c179e"
                          ],
                          [
                            0.4444444444444444,
                            "#bd3786"
                          ],
                          [
                            0.5555555555555556,
                            "#d8576b"
                          ],
                          [
                            0.6666666666666666,
                            "#ed7953"
                          ],
                          [
                            0.7777777777777778,
                            "#fb9f3a"
                          ],
                          [
                            0.8888888888888888,
                            "#fdca26"
                          ],
                          [
                            1,
                            "#f0f921"
                          ]
                        ],
                        "type": "histogram2dcontour"
                      }
                    ],
                    "mesh3d": [
                      {
                        "colorbar": {
                          "outlinewidth": 0,
                          "ticks": ""
                        },
                        "type": "mesh3d"
                      }
                    ],
                    "parcoords": [
                      {
                        "line": {
                          "colorbar": {
                            "outlinewidth": 0,
                            "ticks": ""
                          }
                        },
                        "type": "parcoords"
                      }
                    ],
                    "pie": [
                      {
                        "automargin": true,
                        "type": "pie"
                      }
                    ],
                    "scatter": [
                      {
                        "fillpattern": {
                          "fillmode": "overlay",
                          "size": 10,
                          "solidity": 0.2
                        },
                        "type": "scatter"
                      }
                    ],
                    "scatter3d": [
                      {
                        "line": {
                          "colorbar": {
                            "outlinewidth": 0,
                            "ticks": ""
                          }
                        },
                        "marker": {
                          "colorbar": {
                            "outlinewidth": 0,
                            "ticks": ""
                          }
                        },
                        "type": "scatter3d"
                      }
                    ],
                    "scattercarpet": [
                      {
                        "marker": {
                          "colorbar": {
                            "outlinewidth": 0,
                            "ticks": ""
                          }
                        },
                        "type": "scattercarpet"
                      }
                    ],
                    "scattergeo": [
                      {
                        "marker": {
                          "colorbar": {
                            "outlinewidth": 0,
                            "ticks": ""
                          }
                        },
                        "type": "scattergeo"
                      }
                    ],
                    "scattergl": [
                      {
                        "marker": {
                          "colorbar": {
                            "outlinewidth": 0,
                            "ticks": ""
                          }
                        },
                        "type": "scattergl"
                      }
                    ],
                    "scattermap": [
                      {
                        "marker": {
                          "colorbar": {
                            "outlinewidth": 0,
                            "ticks": ""
                          }
                        },
                        "type": "scattermap"
                      }
                    ],
                    "scattermapbox": [
                      {
                        "marker": {
                          "colorbar": {
                            "outlinewidth": 0,
                            "ticks": ""
                          }
                        },
                        "type": "scattermapbox"
                      }
                    ],
                    "scatterpolar": [
                      {
                        "marker": {
                          "colorbar": {
                            "outlinewidth": 0,
                            "ticks": ""
                          }
                        },
                        "type": "scatterpolar"
                      }
                    ],
                    "scatterpolargl": [
                      {
                        "marker": {
                          "colorbar": {
                            "outlinewidth": 0,
                            "ticks": ""
                          }
                        },
                        "type": "scatterpolargl"
                      }
                    ],
                    "scatterternary": [
                      {
                        "marker": {
                          "colorbar": {
                            "outlinewidth": 0,
                            "ticks": ""
                          }
                        },
                        "type": "scatterternary"
                      }
                    ],
                    "surface": [
                      {
                        "colorbar": {
                          "outlinewidth": 0,
                          "ticks": ""
                        },
                        "colorscale": [
                          [
                            0,
                            "#0d0887"
                          ],
                          [
                            0.1111111111111111,
                            "#46039f"
                          ],
                          [
                            0.2222222222222222,
                            "#7201a8"
                          ],
                          [
                            0.3333333333333333,
                            "#9c179e"
                          ],
                          [
                            0.4444444444444444,
                            "#bd3786"
                          ],
                          [
                            0.5555555555555556,
                            "#d8576b"
                          ],
                          [
                            0.6666666666666666,
                            "#ed7953"
                          ],
                          [
                            0.7777777777777778,
                            "#fb9f3a"
                          ],
                          [
                            0.8888888888888888,
                            "#fdca26"
                          ],
                          [
                            1,
                            "#f0f921"
                          ]
                        ],
                        "type": "surface"
                      }
                    ],
                    "table": [
                      {
                        "cells": {
                          "fill": {
                            "color": "#EBF0F8"
                          },
                          "line": {
                            "color": "white"
                          }
                        },
                        "header": {
                          "fill": {
                            "color": "#C8D4E3"
                          },
                          "line": {
                            "color": "white"
                          }
                        },
                        "type": "table"
                      }
                    ]
                  },
                  "layout": {
                    "annotationdefaults": {
                      "arrowcolor": "#2a3f5f",
                      "arrowhead": 0,
                      "arrowwidth": 1
                    },
                    "autotypenumbers": "strict",
                    "coloraxis": {
                      "colorbar": {
                        "outlinewidth": 0,
                        "ticks": ""
                      }
                    },
                    "colorscale": {
                      "diverging": [
                        [
                          0,
                          "#8e0152"
                        ],
                        [
                          0.1,
                          "#c51b7d"
                        ],
                        [
                          0.2,
                          "#de77ae"
                        ],
                        [
                          0.3,
                          "#f1b6da"
                        ],
                        [
                          0.4,
                          "#fde0ef"
                        ],
                        [
                          0.5,
                          "#f7f7f7"
                        ],
                        [
                          0.6,
                          "#e6f5d0"
                        ],
                        [
                          0.7,
                          "#b8e186"
                        ],
                        [
                          0.8,
                          "#7fbc41"
                        ],
                        [
                          0.9,
                          "#4d9221"
                        ],
                        [
                          1,
                          "#276419"
                        ]
                      ],
                      "sequential": [
                        [
                          0,
                          "#0d0887"
                        ],
                        [
                          0.1111111111111111,
                          "#46039f"
                        ],
                        [
                          0.2222222222222222,
                          "#7201a8"
                        ],
                        [
                          0.3333333333333333,
                          "#9c179e"
                        ],
                        [
                          0.4444444444444444,
                          "#bd3786"
                        ],
                        [
                          0.5555555555555556,
                          "#d8576b"
                        ],
                        [
                          0.6666666666666666,
                          "#ed7953"
                        ],
                        [
                          0.7777777777777778,
                          "#fb9f3a"
                        ],
                        [
                          0.8888888888888888,
                          "#fdca26"
                        ],
                        [
                          1,
                          "#f0f921"
                        ]
                      ],
                      "sequentialminus": [
                        [
                          0,
                          "#0d0887"
                        ],
                        [
                          0.1111111111111111,
                          "#46039f"
                        ],
                        [
                          0.2222222222222222,
                          "#7201a8"
                        ],
                        [
                          0.3333333333333333,
                          "#9c179e"
                        ],
                        [
                          0.4444444444444444,
                          "#bd3786"
                        ],
                        [
                          0.5555555555555556,
                          "#d8576b"
                        ],
                        [
                          0.6666666666666666,
                          "#ed7953"
                        ],
                        [
                          0.7777777777777778,
                          "#fb9f3a"
                        ],
                        [
                          0.8888888888888888,
                          "#fdca26"
                        ],
                        [
                          1,
                          "#f0f921"
                        ]
                      ]
                    },
                    "colorway": [
                      "#636efa",
                      "#EF553B",
                      "#00cc96",
                      "#ab63fa",
                      "#FFA15A",
                      "#19d3f3",
                      "#FF6692",
                      "#B6E880",
                      "#FF97FF",
                      "#FECB52"
                    ],
                    "font": {
                      "color": "#2a3f5f"
                    },
                    "geo": {
                      "bgcolor": "white",
                      "lakecolor": "white",
                      "landcolor": "#E5ECF6",
                      "showlakes": true,
                      "showland": true,
                      "subunitcolor": "white"
                    },
                    "hoverlabel": {
                      "align": "left"
                    },
                    "hovermode": "closest",
                    "mapbox": {
                      "style": "light"
                    },
                    "paper_bgcolor": "white",
                    "plot_bgcolor": "#E5ECF6",
                    "polar": {
                      "angularaxis": {
                        "gridcolor": "white",
                        "linecolor": "white",
                        "ticks": ""
                      },
                      "bgcolor": "#E5ECF6",
                      "radialaxis": {
                        "gridcolor": "white",
                        "linecolor": "white",
                        "ticks": ""
                      }
                    },
                    "scene": {
                      "xaxis": {
                        "backgroundcolor": "#E5ECF6",
                        "gridcolor": "white",
                        "gridwidth": 2,
                        "linecolor": "white",
                        "showbackground": true,
                        "ticks": "",
                        "zerolinecolor": "white"
                      },
                      "yaxis": {
                        "backgroundcolor": "#E5ECF6",
                        "gridcolor": "white",
                        "gridwidth": 2,
                        "linecolor": "white",
                        "showbackground": true,
                        "ticks": "",
                        "zerolinecolor": "white"
                      },
                      "zaxis": {
                        "backgroundcolor": "#E5ECF6",
                        "gridcolor": "white",
                        "gridwidth": 2,
                        "linecolor": "white",
                        "showbackground": true,
                        "ticks": "",
                        "zerolinecolor": "white"
                      }
                    },
                    "shapedefaults": {
                      "line": {
                        "color": "#2a3f5f"
                      }
                    },
                    "ternary": {
                      "aaxis": {
                        "gridcolor": "white",
                        "linecolor": "white",
                        "ticks": ""
                      },
                      "baxis": {
                        "gridcolor": "white",
                        "linecolor": "white",
                        "ticks": ""
                      },
                      "bgcolor": "#E5ECF6",
                      "caxis": {
                        "gridcolor": "white",
                        "linecolor": "white",
                        "ticks": ""
                      }
                    },
                    "title": {
                      "x": 0.05
                    },
                    "xaxis": {
                      "automargin": true,
                      "gridcolor": "white",
                      "linecolor": "white",
                      "ticks": "",
                      "title": {
                        "standoff": 15
                      },
                      "zerolinecolor": "white",
                      "zerolinewidth": 2
                    },
                    "yaxis": {
                      "automargin": true,
                      "gridcolor": "white",
                      "linecolor": "white",
                      "ticks": "",
                      "title": {
                        "standoff": 15
                      },
                      "zerolinecolor": "white",
                      "zerolinewidth": 2
                    }
                  }
                },
                "title": {
                  "text": "Interactive ROC Curve"
                },
                "xaxis": {
                  "title": {
                    "text": "False Positive Rate"
                  }
                },
                "yaxis": {
                  "title": {
                    "text": "True Positive Rate"
                  }
                }
              }
            }
          },
          "metadata": {},
          "output_type": "display_data"
        }
      ],
      "source": [
        "trace = go.Scatter(x=fpr, y=tpr, mode='lines', name='AUC = %0.2f' % auc,\n",
        "                   line=dict(color='darkorange', width=2))\n",
        "reference_line = go.Scatter(x=[0,1], y=[0,1], mode='lines', name='Reference Line',\n",
        "                            line=dict(color='navy', width=2, dash='dash'))\n",
        "fig = go.Figure(data=[trace, reference_line])\n",
        "fig.update_layout(title='Interactive ROC Curve',\n",
        "                  xaxis_title='False Positive Rate',\n",
        "                  yaxis_title='True Positive Rate')\n",
        "fig.show()"
      ]
    },
    {
      "cell_type": "markdown",
      "metadata": {
        "id": "x30MxCtx3u_P"
      },
      "source": [
        "*Значение показателя AUC на уровне 81,4%, и еще сильнее, чем в модели логистической регрессии, модель демонстрирует нежелание правильно классифицировать объекты в меньший по численности класс, модель по-сути бесполезна, так как относит все объекты преимущественно к мажорному классу (предсказывает на всех данных отсуствие перехода к другому оператору). Основной в данном случае показатель - Recall - доля правильно предсказанный показаний, для Churn=True (клиент уходит) она составляет лишь 1%. То есть модель правильно предсказала 1% ушедших клиентов, что крайне мало. Из 143 случае перехода на тестовой выборке модель правильно предсказала лишь 2.*"
      ]
    },
    {
      "cell_type": "markdown",
      "metadata": {
        "id": "PT9XHod2ubFR"
      },
      "source": [
        "**Модель Решающих деревьев**"
      ]
    },
    {
      "cell_type": "markdown",
      "metadata": {
        "id": "mVgXsdO02iVG"
      },
      "source": [
        "Теперь обучите решающее дерево с параметрами по умолчанию на тренировочных данных, сделайте предсказание на тесте. Используйте метрику для оценки."
      ]
    },
    {
      "cell_type": "code",
      "execution_count": 48,
      "metadata": {
        "colab": {
          "base_uri": "https://localhost:8080/"
        },
        "id": "yc822SQa2Zsc",
        "outputId": "ad5f0a2d-6fcf-4b96-a13b-d7d5c30ebcb7"
      },
      "outputs": [
        {
          "name": "stdout",
          "output_type": "stream",
          "text": [
            "              precision    recall  f1-score   support\n",
            "\n",
            "           0       0.95      0.99      0.97       857\n",
            "           1       0.89      0.71      0.79       143\n",
            "\n",
            "    accuracy                           0.95      1000\n",
            "   macro avg       0.92      0.85      0.88      1000\n",
            "weighted avg       0.95      0.95      0.94      1000\n",
            "\n"
          ]
        }
      ],
      "source": [
        "from sklearn.tree import DecisionTreeClassifier\n",
        "\n",
        "model3 = DecisionTreeClassifier(max_depth=7, min_samples_leaf=4)\n",
        "model3.fit(X_train, y_train)\n",
        "y_pred3 = model3.predict(X_test)\n",
        "print(classification_report(y_test, y_pred3))"
      ]
    },
    {
      "cell_type": "code",
      "execution_count": 49,
      "metadata": {
        "colab": {
          "base_uri": "https://localhost:8080/"
        },
        "id": "olNAW-rswwVI",
        "outputId": "4404a93a-b4aa-411d-d6d6-efa7dcd8586e"
      },
      "outputs": [
        {
          "name": "stdout",
          "output_type": "stream",
          "text": [
            "Точность: 0.947\n",
            "Точность: 0.8947368421052632\n",
            "Полнота: 0.7132867132867133\n",
            "F1-мера: 0.7937743190661478\n"
          ]
        }
      ],
      "source": [
        "confusion_mat = confusion_matrix(y_test, y_pred3)\n",
        "print(\"Точность:\", accuracy_score(y_test, y_pred3))\n",
        "print(\"Точность:\", precision_score(y_test, y_pred3, average = 'binary'))\n",
        "print(\"Полнота:\", recall_score(y_test, y_pred3, average = 'binary'))\n",
        "print(\"F1-мера:\", f1_score(y_test, y_pred3, average = 'binary'))\n"
      ]
    },
    {
      "cell_type": "code",
      "execution_count": 50,
      "metadata": {
        "colab": {
          "base_uri": "https://localhost:8080/",
          "height": 510
        },
        "id": "jmDs3KyJw4l3",
        "outputId": "815fa429-7f3f-4bda-f71e-b1ba2c384d3b"
      },
      "outputs": [
        {
          "data": {
            "image/png": "[encoded data removed]",
            "text/plain": [
              "<Figure size 640x480 with 2 Axes>"
            ]
          },
          "metadata": {},
          "output_type": "display_data"
        }
      ],
      "source": [
        "sns.heatmap(confusion_mat, annot=True, fmt=\"d\", cmap = \"Blues\")\n",
        "plt.xlabel(\"Прогноз\")\n",
        "plt.ylabel(\"Фактическое значение\")\n",
        "plt.title(\"Матрица ошибок\")\n",
        "plt.show();"
      ]
    },
    {
      "cell_type": "markdown",
      "metadata": {
        "id": "TEa2z76P4XwX"
      },
      "source": [
        "*В модели решающих деревьев мы наблюдаем более уверенное желание модели классифицировать объекты в минорный класс (Churn=True) - из 143 случаев перехода к другому оператору модель верно определила 102.*"
      ]
    },
    {
      "cell_type": "code",
      "execution_count": 51,
      "metadata": {
        "colab": {
          "base_uri": "https://localhost:8080/",
          "height": 479
        },
        "id": "XCFX8Xe-xAq2",
        "outputId": "9da91634-e0d1-435f-8af2-d74d62473771"
      },
      "outputs": [
        {
          "data": {
            "image/png": "[encoded data removed]",
            "text/plain": [
              "<Figure size 640x480 with 1 Axes>"
            ]
          },
          "metadata": {},
          "output_type": "display_data"
        }
      ],
      "source": [
        "#Предсказываем вероятности\n",
        "y_pred_proba3 = model3.predict_proba(X_test)[:, 1]\n",
        "# Строим кривую ROC\n",
        "fpr, tpr, _ = metrics.roc_curve(y_test, y_pred_proba3)\n",
        "plt.plot(fpr, tpr)\n",
        "plt.ylabel('True Positive Rate')\n",
        "plt.xlabel('False Positive Rate')\n",
        "plt.show()\n"
      ]
    },
    {
      "cell_type": "code",
      "execution_count": 52,
      "metadata": {
        "colab": {
          "base_uri": "https://localhost:8080/"
        },
        "id": "TtN598j-1kDL",
        "outputId": "23c29190-4602-4610-82de-4202d1c214e0"
      },
      "outputs": [
        {
          "name": "stdout",
          "output_type": "stream",
          "text": [
            "AUC: 0.902\n"
          ]
        }
      ],
      "source": [
        "auc = metrics.roc_auc_score(y_test, y_pred_proba3)\n",
        "print(\"AUC: %.3f\" % auc)"
      ]
    },
    {
      "cell_type": "code",
      "execution_count": 53,
      "metadata": {
        "colab": {
          "base_uri": "https://localhost:8080/",
          "height": 542
        },
        "id": "jsgGKf7OuUTD",
        "outputId": "5ed81a33-3e68-47cb-eee1-c03b4c1fce32"
      },
      "outputs": [
        {
          "data": {
            "application/vnd.plotly.v1+json": {
              "config": {
                "plotlyServerURL": "https://plot.ly"
              },
              "data": [
                {
                  "line": {
                    "color": "darkorange",
                    "width": 2
                  },
                  "mode": "lines",
                  "name": "AUC = 0.90",
                  "type": "scatter",
                  "x": {
                    "bdata": "AAAAAAAAAACkPD1rQa18P6Q8PWtBrXw/wn3TnCsegz977W0Q8YGFP6Q8PWtBrYw/XKzX3gYRjz9crNfeBhGPPzNdCIS25Zc/1OHsPzqFoj+NUYez/+ikP3vtbRDxgaU/VyU7ytOzpj/9MLyairCpP/RQWd2TecE/iPjACjwPxT8N3XyO2wnnPzwPldU9mec/PsfthPum6T9gBZ6HyuruPwAAAAAAAPA/",
                    "dtype": "f8"
                  },
                  "y": {
                    "bdata": "AAAAAAAAAABddNFFF13kPyAy3KtgluQ/LSkHRIZ75T8tKQdEhnvlP8CbR6g+0+Y/g1lSDogM5z8J1WfaGn/nP1IOiAz3Kug/Ug6IDPcq6D+cR6g+09boP5xHqD7T1ug/8nfzCNVn6j+1Nf5uHqHqP/5uHqH6TOs//m4eofpM6z/nEarPtDXuP22Nv5tHqO4/MEvKAZHh7j+3xt/NI1TvPwAAAAAAAPA/",
                    "dtype": "f8"
                  }
                },
                {
                  "line": {
                    "color": "navy",
                    "dash": "dash",
                    "width": 2
                  },
                  "mode": "lines",
                  "name": "Reference Line",
                  "type": "scatter",
                  "x": [
                    0,
                    1
                  ],
                  "y": [
                    0,
                    1
                  ]
                }
              ],
              "layout": {
                "template": {
                  "data": {
                    "bar": [
                      {
                        "error_x": {
                          "color": "#2a3f5f"
                        },
                        "error_y": {
                          "color": "#2a3f5f"
                        },
                        "marker": {
                          "line": {
                            "color": "#E5ECF6",
                            "width": 0.5
                          },
                          "pattern": {
                            "fillmode": "overlay",
                            "size": 10,
                            "solidity": 0.2
                          }
                        },
                        "type": "bar"
                      }
                    ],
                    "barpolar": [
                      {
                        "marker": {
                          "line": {
                            "color": "#E5ECF6",
                            "width": 0.5
                          },
                          "pattern": {
                            "fillmode": "overlay",
                            "size": 10,
                            "solidity": 0.2
                          }
                        },
                        "type": "barpolar"
                      }
                    ],
                    "carpet": [
                      {
                        "aaxis": {
                          "endlinecolor": "#2a3f5f",
                          "gridcolor": "white",
                          "linecolor": "white",
                          "minorgridcolor": "white",
                          "startlinecolor": "#2a3f5f"
                        },
                        "baxis": {
                          "endlinecolor": "#2a3f5f",
                          "gridcolor": "white",
                          "linecolor": "white",
                          "minorgridcolor": "white",
                          "startlinecolor": "#2a3f5f"
                        },
                        "type": "carpet"
                      }
                    ],
                    "choropleth": [
                      {
                        "colorbar": {
                          "outlinewidth": 0,
                          "ticks": ""
                        },
                        "type": "choropleth"
                      }
                    ],
                    "contour": [
                      {
                        "colorbar": {
                          "outlinewidth": 0,
                          "ticks": ""
                        },
                        "colorscale": [
                          [
                            0,
                            "#0d0887"
                          ],
                          [
                            0.1111111111111111,
                            "#46039f"
                          ],
                          [
                            0.2222222222222222,
                            "#7201a8"
                          ],
                          [
                            0.3333333333333333,
                            "#9c179e"
                          ],
                          [
                            0.4444444444444444,
                            "#bd3786"
                          ],
                          [
                            0.5555555555555556,
                            "#d8576b"
                          ],
                          [
                            0.6666666666666666,
                            "#ed7953"
                          ],
                          [
                            0.7777777777777778,
                            "#fb9f3a"
                          ],
                          [
                            0.8888888888888888,
                            "#fdca26"
                          ],
                          [
                            1,
                            "#f0f921"
                          ]
                        ],
                        "type": "contour"
                      }
                    ],
                    "contourcarpet": [
                      {
                        "colorbar": {
                          "outlinewidth": 0,
                          "ticks": ""
                        },
                        "type": "contourcarpet"
                      }
                    ],
                    "heatmap": [
                      {
                        "colorbar": {
                          "outlinewidth": 0,
                          "ticks": ""
                        },
                        "colorscale": [
                          [
                            0,
                            "#0d0887"
                          ],
                          [
                            0.1111111111111111,
                            "#46039f"
                          ],
                          [
                            0.2222222222222222,
                            "#7201a8"
                          ],
                          [
                            0.3333333333333333,
                            "#9c179e"
                          ],
                          [
                            0.4444444444444444,
                            "#bd3786"
                          ],
                          [
                            0.5555555555555556,
                            "#d8576b"
                          ],
                          [
                            0.6666666666666666,
                            "#ed7953"
                          ],
                          [
                            0.7777777777777778,
                            "#fb9f3a"
                          ],
                          [
                            0.8888888888888888,
                            "#fdca26"
                          ],
                          [
                            1,
                            "#f0f921"
                          ]
                        ],
                        "type": "heatmap"
                      }
                    ],
                    "histogram": [
                      {
                        "marker": {
                          "pattern": {
                            "fillmode": "overlay",
                            "size": 10,
                            "solidity": 0.2
                          }
                        },
                        "type": "histogram"
                      }
                    ],
                    "histogram2d": [
                      {
                        "colorbar": {
                          "outlinewidth": 0,
                          "ticks": ""
                        },
                        "colorscale": [
                          [
                            0,
                            "#0d0887"
                          ],
                          [
                            0.1111111111111111,
                            "#46039f"
                          ],
                          [
                            0.2222222222222222,
                            "#7201a8"
                          ],
                          [
                            0.3333333333333333,
                            "#9c179e"
                          ],
                          [
                            0.4444444444444444,
                            "#bd3786"
                          ],
                          [
                            0.5555555555555556,
                            "#d8576b"
                          ],
                          [
                            0.6666666666666666,
                            "#ed7953"
                          ],
                          [
                            0.7777777777777778,
                            "#fb9f3a"
                          ],
                          [
                            0.8888888888888888,
                            "#fdca26"
                          ],
                          [
                            1,
                            "#f0f921"
                          ]
                        ],
                        "type": "histogram2d"
                      }
                    ],
                    "histogram2dcontour": [
                      {
                        "colorbar": {
                          "outlinewidth": 0,
                          "ticks": ""
                        },
                        "colorscale": [
                          [
                            0,
                            "#0d0887"
                          ],
                          [
                            0.1111111111111111,
                            "#46039f"
                          ],
                          [
                            0.2222222222222222,
                            "#7201a8"
                          ],
                          [
                            0.3333333333333333,
                            "#9c179e"
                          ],
                          [
                            0.4444444444444444,
                            "#bd3786"
                          ],
                          [
                            0.5555555555555556,
                            "#d8576b"
                          ],
                          [
                            0.6666666666666666,
                            "#ed7953"
                          ],
                          [
                            0.7777777777777778,
                            "#fb9f3a"
                          ],
                          [
                            0.8888888888888888,
                            "#fdca26"
                          ],
                          [
                            1,
                            "#f0f921"
                          ]
                        ],
                        "type": "histogram2dcontour"
                      }
                    ],
                    "mesh3d": [
                      {
                        "colorbar": {
                          "outlinewidth": 0,
                          "ticks": ""
                        },
                        "type": "mesh3d"
                      }
                    ],
                    "parcoords": [
                      {
                        "line": {
                          "colorbar": {
                            "outlinewidth": 0,
                            "ticks": ""
                          }
                        },
                        "type": "parcoords"
                      }
                    ],
                    "pie": [
                      {
                        "automargin": true,
                        "type": "pie"
                      }
                    ],
                    "scatter": [
                      {
                        "fillpattern": {
                          "fillmode": "overlay",
                          "size": 10,
                          "solidity": 0.2
                        },
                        "type": "scatter"
                      }
                    ],
                    "scatter3d": [
                      {
                        "line": {
                          "colorbar": {
                            "outlinewidth": 0,
                            "ticks": ""
                          }
                        },
                        "marker": {
                          "colorbar": {
                            "outlinewidth": 0,
                            "ticks": ""
                          }
                        },
                        "type": "scatter3d"
                      }
                    ],
                    "scattercarpet": [
                      {
                        "marker": {
                          "colorbar": {
                            "outlinewidth": 0,
                            "ticks": ""
                          }
                        },
                        "type": "scattercarpet"
                      }
                    ],
                    "scattergeo": [
                      {
                        "marker": {
                          "colorbar": {
                            "outlinewidth": 0,
                            "ticks": ""
                          }
                        },
                        "type": "scattergeo"
                      }
                    ],
                    "scattergl": [
                      {
                        "marker": {
                          "colorbar": {
                            "outlinewidth": 0,
                            "ticks": ""
                          }
                        },
                        "type": "scattergl"
                      }
                    ],
                    "scattermap": [
                      {
                        "marker": {
                          "colorbar": {
                            "outlinewidth": 0,
                            "ticks": ""
                          }
                        },
                        "type": "scattermap"
                      }
                    ],
                    "scattermapbox": [
                      {
                        "marker": {
                          "colorbar": {
                            "outlinewidth": 0,
                            "ticks": ""
                          }
                        },
                        "type": "scattermapbox"
                      }
                    ],
                    "scatterpolar": [
                      {
                        "marker": {
                          "colorbar": {
                            "outlinewidth": 0,
                            "ticks": ""
                          }
                        },
                        "type": "scatterpolar"
                      }
                    ],
                    "scatterpolargl": [
                      {
                        "marker": {
                          "colorbar": {
                            "outlinewidth": 0,
                            "ticks": ""
                          }
                        },
                        "type": "scatterpolargl"
                      }
                    ],
                    "scatterternary": [
                      {
                        "marker": {
                          "colorbar": {
                            "outlinewidth": 0,
                            "ticks": ""
                          }
                        },
                        "type": "scatterternary"
                      }
                    ],
                    "surface": [
                      {
                        "colorbar": {
                          "outlinewidth": 0,
                          "ticks": ""
                        },
                        "colorscale": [
                          [
                            0,
                            "#0d0887"
                          ],
                          [
                            0.1111111111111111,
                            "#46039f"
                          ],
                          [
                            0.2222222222222222,
                            "#7201a8"
                          ],
                          [
                            0.3333333333333333,
                            "#9c179e"
                          ],
                          [
                            0.4444444444444444,
                            "#bd3786"
                          ],
                          [
                            0.5555555555555556,
                            "#d8576b"
                          ],
                          [
                            0.6666666666666666,
                            "#ed7953"
                          ],
                          [
                            0.7777777777777778,
                            "#fb9f3a"
                          ],
                          [
                            0.8888888888888888,
                            "#fdca26"
                          ],
                          [
                            1,
                            "#f0f921"
                          ]
                        ],
                        "type": "surface"
                      }
                    ],
                    "table": [
                      {
                        "cells": {
                          "fill": {
                            "color": "#EBF0F8"
                          },
                          "line": {
                            "color": "white"
                          }
                        },
                        "header": {
                          "fill": {
                            "color": "#C8D4E3"
                          },
                          "line": {
                            "color": "white"
                          }
                        },
                        "type": "table"
                      }
                    ]
                  },
                  "layout": {
                    "annotationdefaults": {
                      "arrowcolor": "#2a3f5f",
                      "arrowhead": 0,
                      "arrowwidth": 1
                    },
                    "autotypenumbers": "strict",
                    "coloraxis": {
                      "colorbar": {
                        "outlinewidth": 0,
                        "ticks": ""
                      }
                    },
                    "colorscale": {
                      "diverging": [
                        [
                          0,
                          "#8e0152"
                        ],
                        [
                          0.1,
                          "#c51b7d"
                        ],
                        [
                          0.2,
                          "#de77ae"
                        ],
                        [
                          0.3,
                          "#f1b6da"
                        ],
                        [
                          0.4,
                          "#fde0ef"
                        ],
                        [
                          0.5,
                          "#f7f7f7"
                        ],
                        [
                          0.6,
                          "#e6f5d0"
                        ],
                        [
                          0.7,
                          "#b8e186"
                        ],
                        [
                          0.8,
                          "#7fbc41"
                        ],
                        [
                          0.9,
                          "#4d9221"
                        ],
                        [
                          1,
                          "#276419"
                        ]
                      ],
                      "sequential": [
                        [
                          0,
                          "#0d0887"
                        ],
                        [
                          0.1111111111111111,
                          "#46039f"
                        ],
                        [
                          0.2222222222222222,
                          "#7201a8"
                        ],
                        [
                          0.3333333333333333,
                          "#9c179e"
                        ],
                        [
                          0.4444444444444444,
                          "#bd3786"
                        ],
                        [
                          0.5555555555555556,
                          "#d8576b"
                        ],
                        [
                          0.6666666666666666,
                          "#ed7953"
                        ],
                        [
                          0.7777777777777778,
                          "#fb9f3a"
                        ],
                        [
                          0.8888888888888888,
                          "#fdca26"
                        ],
                        [
                          1,
                          "#f0f921"
                        ]
                      ],
                      "sequentialminus": [
                        [
                          0,
                          "#0d0887"
                        ],
                        [
                          0.1111111111111111,
                          "#46039f"
                        ],
                        [
                          0.2222222222222222,
                          "#7201a8"
                        ],
                        [
                          0.3333333333333333,
                          "#9c179e"
                        ],
                        [
                          0.4444444444444444,
                          "#bd3786"
                        ],
                        [
                          0.5555555555555556,
                          "#d8576b"
                        ],
                        [
                          0.6666666666666666,
                          "#ed7953"
                        ],
                        [
                          0.7777777777777778,
                          "#fb9f3a"
                        ],
                        [
                          0.8888888888888888,
                          "#fdca26"
                        ],
                        [
                          1,
                          "#f0f921"
                        ]
                      ]
                    },
                    "colorway": [
                      "#636efa",
                      "#EF553B",
                      "#00cc96",
                      "#ab63fa",
                      "#FFA15A",
                      "#19d3f3",
                      "#FF6692",
                      "#B6E880",
                      "#FF97FF",
                      "#FECB52"
                    ],
                    "font": {
                      "color": "#2a3f5f"
                    },
                    "geo": {
                      "bgcolor": "white",
                      "lakecolor": "white",
                      "landcolor": "#E5ECF6",
                      "showlakes": true,
                      "showland": true,
                      "subunitcolor": "white"
                    },
                    "hoverlabel": {
                      "align": "left"
                    },
                    "hovermode": "closest",
                    "mapbox": {
                      "style": "light"
                    },
                    "paper_bgcolor": "white",
                    "plot_bgcolor": "#E5ECF6",
                    "polar": {
                      "angularaxis": {
                        "gridcolor": "white",
                        "linecolor": "white",
                        "ticks": ""
                      },
                      "bgcolor": "#E5ECF6",
                      "radialaxis": {
                        "gridcolor": "white",
                        "linecolor": "white",
                        "ticks": ""
                      }
                    },
                    "scene": {
                      "xaxis": {
                        "backgroundcolor": "#E5ECF6",
                        "gridcolor": "white",
                        "gridwidth": 2,
                        "linecolor": "white",
                        "showbackground": true,
                        "ticks": "",
                        "zerolinecolor": "white"
                      },
                      "yaxis": {
                        "backgroundcolor": "#E5ECF6",
                        "gridcolor": "white",
                        "gridwidth": 2,
                        "linecolor": "white",
                        "showbackground": true,
                        "ticks": "",
                        "zerolinecolor": "white"
                      },
                      "zaxis": {
                        "backgroundcolor": "#E5ECF6",
                        "gridcolor": "white",
                        "gridwidth": 2,
                        "linecolor": "white",
                        "showbackground": true,
                        "ticks": "",
                        "zerolinecolor": "white"
                      }
                    },
                    "shapedefaults": {
                      "line": {
                        "color": "#2a3f5f"
                      }
                    },
                    "ternary": {
                      "aaxis": {
                        "gridcolor": "white",
                        "linecolor": "white",
                        "ticks": ""
                      },
                      "baxis": {
                        "gridcolor": "white",
                        "linecolor": "white",
                        "ticks": ""
                      },
                      "bgcolor": "#E5ECF6",
                      "caxis": {
                        "gridcolor": "white",
                        "linecolor": "white",
                        "ticks": ""
                      }
                    },
                    "title": {
                      "x": 0.05
                    },
                    "xaxis": {
                      "automargin": true,
                      "gridcolor": "white",
                      "linecolor": "white",
                      "ticks": "",
                      "title": {
                        "standoff": 15
                      },
                      "zerolinecolor": "white",
                      "zerolinewidth": 2
                    },
                    "yaxis": {
                      "automargin": true,
                      "gridcolor": "white",
                      "linecolor": "white",
                      "ticks": "",
                      "title": {
                        "standoff": 15
                      },
                      "zerolinecolor": "white",
                      "zerolinewidth": 2
                    }
                  }
                },
                "title": {
                  "text": "Interactive ROC Curve"
                },
                "xaxis": {
                  "title": {
                    "text": "False Positive Rate"
                  }
                },
                "yaxis": {
                  "title": {
                    "text": "True Positive Rate"
                  }
                }
              }
            }
          },
          "metadata": {},
          "output_type": "display_data"
        }
      ],
      "source": [
        "trace = go.Scatter(x=fpr, y=tpr, mode='lines', name='AUC = %0.2f' % auc,\n",
        "                   line=dict(color='darkorange', width=2))\n",
        "reference_line = go.Scatter(x=[0,1], y=[0,1], mode='lines', name='Reference Line',\n",
        "                            line=dict(color='navy', width=2, dash='dash'))\n",
        "fig = go.Figure(data=[trace, reference_line])\n",
        "fig.update_layout(title='Interactive ROC Curve',\n",
        "                  xaxis_title='False Positive Rate',\n",
        "                  yaxis_title='True Positive Rate')\n",
        "fig.show()"
      ]
    },
    {
      "cell_type": "markdown",
      "metadata": {
        "id": "SEvlNrzmKdwy"
      },
      "source": [
        "*Значение показателя AUC выросло по сравнению с предыдущими моделями несущественно, но модель стала лучше, что видно по показателю Recall для минорного класса, который увеличился с 21% до 71%. Более 2/3 переходов модель находит и классифицирует верно.*"
      ]
    },
    {
      "cell_type": "markdown",
      "metadata": {
        "id": "Q2CRw8fr4rc6"
      },
      "source": [
        "*Визуализируем дерево*"
      ]
    },
    {
      "cell_type": "code",
      "execution_count": 54,
      "metadata": {
        "id": "chQ0FSOx1GfF"
      },
      "outputs": [],
      "source": [
        "from sklearn.tree import plot_tree"
      ]
    },
    {
      "cell_type": "code",
      "execution_count": 55,
      "metadata": {
        "colab": {
          "base_uri": "https://localhost:8080/",
          "height": 673
        },
        "id": "QRFtJfdm1ULR",
        "outputId": "330c83c5-d29f-4929-ae99-4cb1d7dc0a6a"
      },
      "outputs": [
        {
          "data": {
            "image/png": "[encoded data removed]",
            "text/plain": [
              "<Figure size 1500x800 with 1 Axes>"
            ]
          },
          "metadata": {},
          "output_type": "display_data"
        }
      ],
      "source": [
        "plt.figure(figsize=(15, 8))\n",
        "plot_tree(model3, feature_names=df.columns[:-1], filled=True)\n",
        "plt.show()"
      ]
    },
    {
      "cell_type": "markdown",
      "metadata": {
        "id": "pJSVqQKJu3qL"
      },
      "source": [
        " *Изучим важность признаков в их влиянии на целевой признак Churn:*"
      ]
    },
    {
      "cell_type": "code",
      "execution_count": 56,
      "metadata": {
        "colab": {
          "base_uri": "https://localhost:8080/",
          "height": 1000
        },
        "id": "ojIDfWM36Lph",
        "outputId": "9b69bc2e-5ede-4643-dfb9-f08e0e9f3a56"
      },
      "outputs": [
        {
          "data": {
            "image/png": "[encoded data removed]",
            "text/plain": [
              "<Figure size 3000x1500 with 1 Axes>"
            ]
          },
          "metadata": {},
          "output_type": "display_data"
        },
        {
          "data": {
            "text/plain": [
              "None"
            ]
          },
          "metadata": {},
          "output_type": "display_data"
        },
        {
          "data": {
            "text/html": [
              "<div>\n",
              "<style scoped>\n",
              "    .dataframe tbody tr th:only-of-type {\n",
              "        vertical-align: middle;\n",
              "    }\n",
              "\n",
              "    .dataframe tbody tr th {\n",
              "        vertical-align: top;\n",
              "    }\n",
              "\n",
              "    .dataframe thead th {\n",
              "        text-align: right;\n",
              "    }\n",
              "</style>\n",
              "<table border=\"1\" class=\"dataframe\">\n",
              "  <thead>\n",
              "    <tr style=\"text-align: right;\">\n",
              "      <th></th>\n",
              "      <th>Features</th>\n",
              "      <th>Gini-Importance</th>\n",
              "    </tr>\n",
              "  </thead>\n",
              "  <tbody>\n",
              "    <tr>\n",
              "      <th>0</th>\n",
              "      <td>Total day charge</td>\n",
              "      <td>0.186193</td>\n",
              "    </tr>\n",
              "    <tr>\n",
              "      <th>1</th>\n",
              "      <td>Customer service calls</td>\n",
              "      <td>0.145296</td>\n",
              "    </tr>\n",
              "    <tr>\n",
              "      <th>2</th>\n",
              "      <td>Total eve charge</td>\n",
              "      <td>0.130112</td>\n",
              "    </tr>\n",
              "    <tr>\n",
              "      <th>3</th>\n",
              "      <td>Total day minutes</td>\n",
              "      <td>0.113503</td>\n",
              "    </tr>\n",
              "    <tr>\n",
              "      <th>4</th>\n",
              "      <td>International plan</td>\n",
              "      <td>0.110448</td>\n",
              "    </tr>\n",
              "    <tr>\n",
              "      <th>5</th>\n",
              "      <td>Total intl minutes</td>\n",
              "      <td>0.110437</td>\n",
              "    </tr>\n",
              "    <tr>\n",
              "      <th>6</th>\n",
              "      <td>Total intl calls</td>\n",
              "      <td>0.084684</td>\n",
              "    </tr>\n",
              "    <tr>\n",
              "      <th>7</th>\n",
              "      <td>Number vmail messages</td>\n",
              "      <td>0.055163</td>\n",
              "    </tr>\n",
              "    <tr>\n",
              "      <th>8</th>\n",
              "      <td>Voice mail plan</td>\n",
              "      <td>0.017180</td>\n",
              "    </tr>\n",
              "    <tr>\n",
              "      <th>9</th>\n",
              "      <td>Total eve minutes</td>\n",
              "      <td>0.013426</td>\n",
              "    </tr>\n",
              "    <tr>\n",
              "      <th>10</th>\n",
              "      <td>Total night charge</td>\n",
              "      <td>0.010862</td>\n",
              "    </tr>\n",
              "    <tr>\n",
              "      <th>11</th>\n",
              "      <td>Total night minutes</td>\n",
              "      <td>0.009444</td>\n",
              "    </tr>\n",
              "    <tr>\n",
              "      <th>12</th>\n",
              "      <td>Total night calls</td>\n",
              "      <td>0.006154</td>\n",
              "    </tr>\n",
              "    <tr>\n",
              "      <th>13</th>\n",
              "      <td>Total eve calls</td>\n",
              "      <td>0.005163</td>\n",
              "    </tr>\n",
              "    <tr>\n",
              "      <th>14</th>\n",
              "      <td>Account length</td>\n",
              "      <td>0.000972</td>\n",
              "    </tr>\n",
              "    <tr>\n",
              "      <th>15</th>\n",
              "      <td>Total intl charge</td>\n",
              "      <td>0.000963</td>\n",
              "    </tr>\n",
              "    <tr>\n",
              "      <th>16</th>\n",
              "      <td>Area code</td>\n",
              "      <td>0.000000</td>\n",
              "    </tr>\n",
              "    <tr>\n",
              "      <th>17</th>\n",
              "      <td>Total day calls</td>\n",
              "      <td>0.000000</td>\n",
              "    </tr>\n",
              "  </tbody>\n",
              "</table>\n",
              "</div>"
            ],
            "text/plain": [
              "                  Features  Gini-Importance\n",
              "0         Total day charge         0.186193\n",
              "1   Customer service calls         0.145296\n",
              "2         Total eve charge         0.130112\n",
              "3        Total day minutes         0.113503\n",
              "4       International plan         0.110448\n",
              "5       Total intl minutes         0.110437\n",
              "6         Total intl calls         0.084684\n",
              "7    Number vmail messages         0.055163\n",
              "8          Voice mail plan         0.017180\n",
              "9        Total eve minutes         0.013426\n",
              "10      Total night charge         0.010862\n",
              "11     Total night minutes         0.009444\n",
              "12       Total night calls         0.006154\n",
              "13         Total eve calls         0.005163\n",
              "14          Account length         0.000972\n",
              "15       Total intl charge         0.000963\n",
              "16               Area code         0.000000\n",
              "17         Total day calls         0.000000"
            ]
          },
          "metadata": {},
          "output_type": "display_data"
        }
      ],
      "source": [
        "feats = {}\n",
        "for feature, importance in zip(df.columns, model3.feature_importances_):\n",
        "    feats[feature] = importance\n",
        "importances = pd.DataFrame.from_dict(feats, orient='index').rename(columns={0: 'Gini-Importance'})\n",
        "importances = importances.sort_values(by='Gini-Importance', ascending=False)\n",
        "importances = importances.reset_index()\n",
        "importances = importances.rename(columns={'index': 'Features'})\n",
        "sns.set(font_scale = 5)\n",
        "sns.set(style=\"whitegrid\", color_codes=True, font_scale = 1.7)\n",
        "fig, ax = plt.subplots()\n",
        "fig.set_size_inches(30,15)\n",
        "sns.barplot(x=importances['Gini-Importance'], y=importances['Features'], data=importances, color='skyblue')\n",
        "plt.xlabel('Importance', fontsize=25, weight = 'bold')\n",
        "plt.ylabel('Features', fontsize=25, weight = 'bold')\n",
        "plt.title('Feature Importance', fontsize=25, weight = 'bold')\n",
        "display(plt.show())\n",
        "display(importances)"
      ]
    },
    {
      "cell_type": "markdown",
      "metadata": {
        "id": "eU9LrInBv200"
      },
      "source": [
        "*Часть признаков не оказывают существенного влияния на целевой параметр*"
      ]
    },
    {
      "cell_type": "markdown",
      "metadata": {
        "id": "wNSwPGPl22zf"
      },
      "source": [
        "Нужно ли масшабировать признаки для обучения решающего дерева? Проверьте это, заново разбив данные на тренировочную и тестовую части (назовите новые полученные объекты новыми названиями), и проведите обучение, предсказание и оценку метрики до масштабирования и после.\n"
      ]
    },
    {
      "cell_type": "markdown",
      "metadata": {
        "id": "5ZNjwlAFvVmA"
      },
      "source": [
        "*Возьмем ранее полученные данные после масштабирования (нормализации) X_train_scaled и X_test_scaled и построим модель DecisionTreeClassifier на основе этих данных*"
      ]
    },
    {
      "cell_type": "code",
      "execution_count": 57,
      "metadata": {
        "colab": {
          "base_uri": "https://localhost:8080/"
        },
        "id": "ZSM9fKQevRlR",
        "outputId": "86959eaa-74b3-423f-cbb1-131655f56de5"
      },
      "outputs": [
        {
          "name": "stdout",
          "output_type": "stream",
          "text": [
            "              precision    recall  f1-score   support\n",
            "\n",
            "           0       0.95      0.98      0.97       857\n",
            "           1       0.89      0.71      0.79       143\n",
            "\n",
            "    accuracy                           0.94      1000\n",
            "   macro avg       0.92      0.85      0.88      1000\n",
            "weighted avg       0.94      0.94      0.94      1000\n",
            "\n"
          ]
        }
      ],
      "source": [
        "model4 = DecisionTreeClassifier(max_depth=7, min_samples_leaf=4)\n",
        "model4.fit(X_train_scaled, y_train)\n",
        "y_pred4 = model4.predict(X_test_scaled)\n",
        "print(classification_report(y_test, y_pred4))"
      ]
    },
    {
      "cell_type": "markdown",
      "metadata": {
        "id": "93uYZ82MzCp1"
      },
      "source": [
        "*Видим, что после масштабирования качество модели практически не изменилось,  - параметры Precision и Recall на минорном классе остались на уровнях 89% и 71% соответственно.*"
      ]
    },
    {
      "cell_type": "code",
      "execution_count": 58,
      "metadata": {
        "colab": {
          "base_uri": "https://localhost:8080/"
        },
        "id": "Cv_3nB9W79P7",
        "outputId": "f9990a5b-1afe-46a2-e7d7-a7deb7675dab"
      },
      "outputs": [
        {
          "name": "stdout",
          "output_type": "stream",
          "text": [
            "Точность: 0.945\n",
            "Точность: 0.8859649122807017\n",
            "Полнота: 0.7062937062937062\n",
            "F1-мера: 0.7859922178988327\n"
          ]
        }
      ],
      "source": [
        "confusion_mat = confusion_matrix(y_test, y_pred4)\n",
        "print(\"Точность:\", accuracy_score(y_test, y_pred4))\n",
        "print(\"Точность:\", precision_score(y_test, y_pred4, average = 'binary'))\n",
        "print(\"Полнота:\", recall_score(y_test, y_pred4, average = 'binary'))\n",
        "print(\"F1-мера:\", f1_score(y_test, y_pred4, average = 'binary'))"
      ]
    },
    {
      "cell_type": "code",
      "execution_count": 59,
      "metadata": {
        "colab": {
          "base_uri": "https://localhost:8080/",
          "height": 510
        },
        "id": "f9i8N2SK9WuD",
        "outputId": "cdc670a9-5453-41f7-b097-41b32486f4bf"
      },
      "outputs": [
        {
          "data": {
            "image/png": "[encoded data removed]",
            "text/plain": [
              "<Figure size 640x480 with 2 Axes>"
            ]
          },
          "metadata": {},
          "output_type": "display_data"
        }
      ],
      "source": [
        "sns.heatmap(confusion_mat, annot=True, fmt=\"d\", cmap = \"Blues\")\n",
        "plt.xlabel(\"Прогноз\")\n",
        "plt.ylabel(\"Фактическое значение\")\n",
        "plt.title(\"Матрица ошибок\")\n",
        "plt.show();"
      ]
    },
    {
      "cell_type": "markdown",
      "metadata": {
        "id": "2sTbULvV9Z-a"
      },
      "source": [
        "*Ошибки классификации при масштабировании признаков не изменились ни в одной группе*"
      ]
    },
    {
      "cell_type": "code",
      "execution_count": 60,
      "metadata": {
        "colab": {
          "base_uri": "https://localhost:8080/",
          "height": 479
        },
        "id": "kGb6LezA-Vcr",
        "outputId": "1cf9fa40-6af7-4ec9-c693-3a9f7e0b17d1"
      },
      "outputs": [
        {
          "data": {
            "image/png": "[encoded data removed]",
            "text/plain": [
              "<Figure size 640x480 with 1 Axes>"
            ]
          },
          "metadata": {},
          "output_type": "display_data"
        }
      ],
      "source": [
        "#Предсказываем вероятности\n",
        "y_pred_proba4 = model4.predict_proba(X_test_scaled)[:, 1]\n",
        "# Строим кривую ROC\n",
        "fpr, tpr, _ = metrics.roc_curve(y_test, y_pred_proba4)\n",
        "plt.plot(fpr, tpr)\n",
        "plt.ylabel('True Positive Rate')\n",
        "plt.xlabel('False Positive Rate')\n",
        "plt.show()"
      ]
    },
    {
      "cell_type": "code",
      "execution_count": 61,
      "metadata": {
        "colab": {
          "base_uri": "https://localhost:8080/"
        },
        "id": "CMUCTGEw-gOU",
        "outputId": "bd38eb00-be3f-4d89-fcc8-fc30b11a9aed"
      },
      "outputs": [
        {
          "name": "stdout",
          "output_type": "stream",
          "text": [
            "AUC: 0.892\n"
          ]
        }
      ],
      "source": [
        "auc = metrics.roc_auc_score(y_test, y_pred_proba4)\n",
        "print(\"AUC: %.3f\" % auc)"
      ]
    },
    {
      "cell_type": "code",
      "execution_count": 62,
      "metadata": {
        "colab": {
          "base_uri": "https://localhost:8080/",
          "height": 542
        },
        "id": "hLXsQy2O-Hf7",
        "outputId": "b20dfb7e-b0df-4f94-8e47-7eecd23c016e"
      },
      "outputs": [
        {
          "data": {
            "application/vnd.plotly.v1+json": {
              "config": {
                "plotlyServerURL": "https://plot.ly"
              },
              "data": [
                {
                  "line": {
                    "color": "darkorange",
                    "width": 2
                  },
                  "mode": "lines",
                  "name": "AUC = 0.89",
                  "type": "scatter",
                  "x": {
                    "bdata": "AAAAAAAAAAAKDjkpZrqAPwoOOSlmuoA/wn3TnCsegz977W0Q8YGFPzNdCIS25Yc/XKzX3gYRjz8KDjkpZrqQPwoOOSlmupA/M10IhLbllz/U4ew/OoWiP41Rh7P/6KQ/e+1tEPGBpT9XJTvK07OmPw+V1T2ZF6k/tqBWDlAUrD/i7D86hRLCP3aUp2ctqMU/CIS25Rcw5z8LPA+V1T3pPy16v5ekge4/AAAAAAAA8D8=",
                    "dtype": "f8"
                  },
                  "y": {
                    "bdata": "AAAAAAAAAABRfaat8XfjPxQ7sRM7seM/pq3xd/MI5T+mrfF38wjlP2pr/N08QuU//N08QvWZ5j/Am0eoPtPmP0YXXXTRRec/CdVn2hp/5z8J1WfaGn/nP1IOiAz3Kug/Ug6IDPcq6D+oPtPW+LvpPy+66KKLLuo/8nfzCNVn6j87sRM7sRPrPzuxEzuxE+s/JFSfaWv87T+qz7Q1/m7uPzBLygGR4e4/AAAAAAAA8D8=",
                    "dtype": "f8"
                  }
                },
                {
                  "line": {
                    "color": "navy",
                    "dash": "dash",
                    "width": 2
                  },
                  "mode": "lines",
                  "name": "Reference Line",
                  "type": "scatter",
                  "x": [
                    0,
                    1
                  ],
                  "y": [
                    0,
                    1
                  ]
                }
              ],
              "layout": {
                "template": {
                  "data": {
                    "bar": [
                      {
                        "error_x": {
                          "color": "#2a3f5f"
                        },
                        "error_y": {
                          "color": "#2a3f5f"
                        },
                        "marker": {
                          "line": {
                            "color": "#E5ECF6",
                            "width": 0.5
                          },
                          "pattern": {
                            "fillmode": "overlay",
                            "size": 10,
                            "solidity": 0.2
                          }
                        },
                        "type": "bar"
                      }
                    ],
                    "barpolar": [
                      {
                        "marker": {
                          "line": {
                            "color": "#E5ECF6",
                            "width": 0.5
                          },
                          "pattern": {
                            "fillmode": "overlay",
                            "size": 10,
                            "solidity": 0.2
                          }
                        },
                        "type": "barpolar"
                      }
                    ],
                    "carpet": [
                      {
                        "aaxis": {
                          "endlinecolor": "#2a3f5f",
                          "gridcolor": "white",
                          "linecolor": "white",
                          "minorgridcolor": "white",
                          "startlinecolor": "#2a3f5f"
                        },
                        "baxis": {
                          "endlinecolor": "#2a3f5f",
                          "gridcolor": "white",
                          "linecolor": "white",
                          "minorgridcolor": "white",
                          "startlinecolor": "#2a3f5f"
                        },
                        "type": "carpet"
                      }
                    ],
                    "choropleth": [
                      {
                        "colorbar": {
                          "outlinewidth": 0,
                          "ticks": ""
                        },
                        "type": "choropleth"
                      }
                    ],
                    "contour": [
                      {
                        "colorbar": {
                          "outlinewidth": 0,
                          "ticks": ""
                        },
                        "colorscale": [
                          [
                            0,
                            "#0d0887"
                          ],
                          [
                            0.1111111111111111,
                            "#46039f"
                          ],
                          [
                            0.2222222222222222,
                            "#7201a8"
                          ],
                          [
                            0.3333333333333333,
                            "#9c179e"
                          ],
                          [
                            0.4444444444444444,
                            "#bd3786"
                          ],
                          [
                            0.5555555555555556,
                            "#d8576b"
                          ],
                          [
                            0.6666666666666666,
                            "#ed7953"
                          ],
                          [
                            0.7777777777777778,
                            "#fb9f3a"
                          ],
                          [
                            0.8888888888888888,
                            "#fdca26"
                          ],
                          [
                            1,
                            "#f0f921"
                          ]
                        ],
                        "type": "contour"
                      }
                    ],
                    "contourcarpet": [
                      {
                        "colorbar": {
                          "outlinewidth": 0,
                          "ticks": ""
                        },
                        "type": "contourcarpet"
                      }
                    ],
                    "heatmap": [
                      {
                        "colorbar": {
                          "outlinewidth": 0,
                          "ticks": ""
                        },
                        "colorscale": [
                          [
                            0,
                            "#0d0887"
                          ],
                          [
                            0.1111111111111111,
                            "#46039f"
                          ],
                          [
                            0.2222222222222222,
                            "#7201a8"
                          ],
                          [
                            0.3333333333333333,
                            "#9c179e"
                          ],
                          [
                            0.4444444444444444,
                            "#bd3786"
                          ],
                          [
                            0.5555555555555556,
                            "#d8576b"
                          ],
                          [
                            0.6666666666666666,
                            "#ed7953"
                          ],
                          [
                            0.7777777777777778,
                            "#fb9f3a"
                          ],
                          [
                            0.8888888888888888,
                            "#fdca26"
                          ],
                          [
                            1,
                            "#f0f921"
                          ]
                        ],
                        "type": "heatmap"
                      }
                    ],
                    "histogram": [
                      {
                        "marker": {
                          "pattern": {
                            "fillmode": "overlay",
                            "size": 10,
                            "solidity": 0.2
                          }
                        },
                        "type": "histogram"
                      }
                    ],
                    "histogram2d": [
                      {
                        "colorbar": {
                          "outlinewidth": 0,
                          "ticks": ""
                        },
                        "colorscale": [
                          [
                            0,
                            "#0d0887"
                          ],
                          [
                            0.1111111111111111,
                            "#46039f"
                          ],
                          [
                            0.2222222222222222,
                            "#7201a8"
                          ],
                          [
                            0.3333333333333333,
                            "#9c179e"
                          ],
                          [
                            0.4444444444444444,
                            "#bd3786"
                          ],
                          [
                            0.5555555555555556,
                            "#d8576b"
                          ],
                          [
                            0.6666666666666666,
                            "#ed7953"
                          ],
                          [
                            0.7777777777777778,
                            "#fb9f3a"
                          ],
                          [
                            0.8888888888888888,
                            "#fdca26"
                          ],
                          [
                            1,
                            "#f0f921"
                          ]
                        ],
                        "type": "histogram2d"
                      }
                    ],
                    "histogram2dcontour": [
                      {
                        "colorbar": {
                          "outlinewidth": 0,
                          "ticks": ""
                        },
                        "colorscale": [
                          [
                            0,
                            "#0d0887"
                          ],
                          [
                            0.1111111111111111,
                            "#46039f"
                          ],
                          [
                            0.2222222222222222,
                            "#7201a8"
                          ],
                          [
                            0.3333333333333333,
                            "#9c179e"
                          ],
                          [
                            0.4444444444444444,
                            "#bd3786"
                          ],
                          [
                            0.5555555555555556,
                            "#d8576b"
                          ],
                          [
                            0.6666666666666666,
                            "#ed7953"
                          ],
                          [
                            0.7777777777777778,
                            "#fb9f3a"
                          ],
                          [
                            0.8888888888888888,
                            "#fdca26"
                          ],
                          [
                            1,
                            "#f0f921"
                          ]
                        ],
                        "type": "histogram2dcontour"
                      }
                    ],
                    "mesh3d": [
                      {
                        "colorbar": {
                          "outlinewidth": 0,
                          "ticks": ""
                        },
                        "type": "mesh3d"
                      }
                    ],
                    "parcoords": [
                      {
                        "line": {
                          "colorbar": {
                            "outlinewidth": 0,
                            "ticks": ""
                          }
                        },
                        "type": "parcoords"
                      }
                    ],
                    "pie": [
                      {
                        "automargin": true,
                        "type": "pie"
                      }
                    ],
                    "scatter": [
                      {
                        "fillpattern": {
                          "fillmode": "overlay",
                          "size": 10,
                          "solidity": 0.2
                        },
                        "type": "scatter"
                      }
                    ],
                    "scatter3d": [
                      {
                        "line": {
                          "colorbar": {
                            "outlinewidth": 0,
                            "ticks": ""
                          }
                        },
                        "marker": {
                          "colorbar": {
                            "outlinewidth": 0,
                            "ticks": ""
                          }
                        },
                        "type": "scatter3d"
                      }
                    ],
                    "scattercarpet": [
                      {
                        "marker": {
                          "colorbar": {
                            "outlinewidth": 0,
                            "ticks": ""
                          }
                        },
                        "type": "scattercarpet"
                      }
                    ],
                    "scattergeo": [
                      {
                        "marker": {
                          "colorbar": {
                            "outlinewidth": 0,
                            "ticks": ""
                          }
                        },
                        "type": "scattergeo"
                      }
                    ],
                    "scattergl": [
                      {
                        "marker": {
                          "colorbar": {
                            "outlinewidth": 0,
                            "ticks": ""
                          }
                        },
                        "type": "scattergl"
                      }
                    ],
                    "scattermap": [
                      {
                        "marker": {
                          "colorbar": {
                            "outlinewidth": 0,
                            "ticks": ""
                          }
                        },
                        "type": "scattermap"
                      }
                    ],
                    "scattermapbox": [
                      {
                        "marker": {
                          "colorbar": {
                            "outlinewidth": 0,
                            "ticks": ""
                          }
                        },
                        "type": "scattermapbox"
                      }
                    ],
                    "scatterpolar": [
                      {
                        "marker": {
                          "colorbar": {
                            "outlinewidth": 0,
                            "ticks": ""
                          }
                        },
                        "type": "scatterpolar"
                      }
                    ],
                    "scatterpolargl": [
                      {
                        "marker": {
                          "colorbar": {
                            "outlinewidth": 0,
                            "ticks": ""
                          }
                        },
                        "type": "scatterpolargl"
                      }
                    ],
                    "scatterternary": [
                      {
                        "marker": {
                          "colorbar": {
                            "outlinewidth": 0,
                            "ticks": ""
                          }
                        },
                        "type": "scatterternary"
                      }
                    ],
                    "surface": [
                      {
                        "colorbar": {
                          "outlinewidth": 0,
                          "ticks": ""
                        },
                        "colorscale": [
                          [
                            0,
                            "#0d0887"
                          ],
                          [
                            0.1111111111111111,
                            "#46039f"
                          ],
                          [
                            0.2222222222222222,
                            "#7201a8"
                          ],
                          [
                            0.3333333333333333,
                            "#9c179e"
                          ],
                          [
                            0.4444444444444444,
                            "#bd3786"
                          ],
                          [
                            0.5555555555555556,
                            "#d8576b"
                          ],
                          [
                            0.6666666666666666,
                            "#ed7953"
                          ],
                          [
                            0.7777777777777778,
                            "#fb9f3a"
                          ],
                          [
                            0.8888888888888888,
                            "#fdca26"
                          ],
                          [
                            1,
                            "#f0f921"
                          ]
                        ],
                        "type": "surface"
                      }
                    ],
                    "table": [
                      {
                        "cells": {
                          "fill": {
                            "color": "#EBF0F8"
                          },
                          "line": {
                            "color": "white"
                          }
                        },
                        "header": {
                          "fill": {
                            "color": "#C8D4E3"
                          },
                          "line": {
                            "color": "white"
                          }
                        },
                        "type": "table"
                      }
                    ]
                  },
                  "layout": {
                    "annotationdefaults": {
                      "arrowcolor": "#2a3f5f",
                      "arrowhead": 0,
                      "arrowwidth": 1
                    },
                    "autotypenumbers": "strict",
                    "coloraxis": {
                      "colorbar": {
                        "outlinewidth": 0,
                        "ticks": ""
                      }
                    },
                    "colorscale": {
                      "diverging": [
                        [
                          0,
                          "#8e0152"
                        ],
                        [
                          0.1,
                          "#c51b7d"
                        ],
                        [
                          0.2,
                          "#de77ae"
                        ],
                        [
                          0.3,
                          "#f1b6da"
                        ],
                        [
                          0.4,
                          "#fde0ef"
                        ],
                        [
                          0.5,
                          "#f7f7f7"
                        ],
                        [
                          0.6,
                          "#e6f5d0"
                        ],
                        [
                          0.7,
                          "#b8e186"
                        ],
                        [
                          0.8,
                          "#7fbc41"
                        ],
                        [
                          0.9,
                          "#4d9221"
                        ],
                        [
                          1,
                          "#276419"
                        ]
                      ],
                      "sequential": [
                        [
                          0,
                          "#0d0887"
                        ],
                        [
                          0.1111111111111111,
                          "#46039f"
                        ],
                        [
                          0.2222222222222222,
                          "#7201a8"
                        ],
                        [
                          0.3333333333333333,
                          "#9c179e"
                        ],
                        [
                          0.4444444444444444,
                          "#bd3786"
                        ],
                        [
                          0.5555555555555556,
                          "#d8576b"
                        ],
                        [
                          0.6666666666666666,
                          "#ed7953"
                        ],
                        [
                          0.7777777777777778,
                          "#fb9f3a"
                        ],
                        [
                          0.8888888888888888,
                          "#fdca26"
                        ],
                        [
                          1,
                          "#f0f921"
                        ]
                      ],
                      "sequentialminus": [
                        [
                          0,
                          "#0d0887"
                        ],
                        [
                          0.1111111111111111,
                          "#46039f"
                        ],
                        [
                          0.2222222222222222,
                          "#7201a8"
                        ],
                        [
                          0.3333333333333333,
                          "#9c179e"
                        ],
                        [
                          0.4444444444444444,
                          "#bd3786"
                        ],
                        [
                          0.5555555555555556,
                          "#d8576b"
                        ],
                        [
                          0.6666666666666666,
                          "#ed7953"
                        ],
                        [
                          0.7777777777777778,
                          "#fb9f3a"
                        ],
                        [
                          0.8888888888888888,
                          "#fdca26"
                        ],
                        [
                          1,
                          "#f0f921"
                        ]
                      ]
                    },
                    "colorway": [
                      "#636efa",
                      "#EF553B",
                      "#00cc96",
                      "#ab63fa",
                      "#FFA15A",
                      "#19d3f3",
                      "#FF6692",
                      "#B6E880",
                      "#FF97FF",
                      "#FECB52"
                    ],
                    "font": {
                      "color": "#2a3f5f"
                    },
                    "geo": {
                      "bgcolor": "white",
                      "lakecolor": "white",
                      "landcolor": "#E5ECF6",
                      "showlakes": true,
                      "showland": true,
                      "subunitcolor": "white"
                    },
                    "hoverlabel": {
                      "align": "left"
                    },
                    "hovermode": "closest",
                    "mapbox": {
                      "style": "light"
                    },
                    "paper_bgcolor": "white",
                    "plot_bgcolor": "#E5ECF6",
                    "polar": {
                      "angularaxis": {
                        "gridcolor": "white",
                        "linecolor": "white",
                        "ticks": ""
                      },
                      "bgcolor": "#E5ECF6",
                      "radialaxis": {
                        "gridcolor": "white",
                        "linecolor": "white",
                        "ticks": ""
                      }
                    },
                    "scene": {
                      "xaxis": {
                        "backgroundcolor": "#E5ECF6",
                        "gridcolor": "white",
                        "gridwidth": 2,
                        "linecolor": "white",
                        "showbackground": true,
                        "ticks": "",
                        "zerolinecolor": "white"
                      },
                      "yaxis": {
                        "backgroundcolor": "#E5ECF6",
                        "gridcolor": "white",
                        "gridwidth": 2,
                        "linecolor": "white",
                        "showbackground": true,
                        "ticks": "",
                        "zerolinecolor": "white"
                      },
                      "zaxis": {
                        "backgroundcolor": "#E5ECF6",
                        "gridcolor": "white",
                        "gridwidth": 2,
                        "linecolor": "white",
                        "showbackground": true,
                        "ticks": "",
                        "zerolinecolor": "white"
                      }
                    },
                    "shapedefaults": {
                      "line": {
                        "color": "#2a3f5f"
                      }
                    },
                    "ternary": {
                      "aaxis": {
                        "gridcolor": "white",
                        "linecolor": "white",
                        "ticks": ""
                      },
                      "baxis": {
                        "gridcolor": "white",
                        "linecolor": "white",
                        "ticks": ""
                      },
                      "bgcolor": "#E5ECF6",
                      "caxis": {
                        "gridcolor": "white",
                        "linecolor": "white",
                        "ticks": ""
                      }
                    },
                    "title": {
                      "x": 0.05
                    },
                    "xaxis": {
                      "automargin": true,
                      "gridcolor": "white",
                      "linecolor": "white",
                      "ticks": "",
                      "title": {
                        "standoff": 15
                      },
                      "zerolinecolor": "white",
                      "zerolinewidth": 2
                    },
                    "yaxis": {
                      "automargin": true,
                      "gridcolor": "white",
                      "linecolor": "white",
                      "ticks": "",
                      "title": {
                        "standoff": 15
                      },
                      "zerolinecolor": "white",
                      "zerolinewidth": 2
                    }
                  }
                },
                "title": {
                  "text": "Interactive ROC Curve"
                },
                "xaxis": {
                  "title": {
                    "text": "False Positive Rate"
                  }
                },
                "yaxis": {
                  "title": {
                    "text": "True Positive Rate"
                  }
                }
              }
            }
          },
          "metadata": {},
          "output_type": "display_data"
        }
      ],
      "source": [
        "trace = go.Scatter(x=fpr, y=tpr, mode='lines', name='AUC = %0.2f' % auc,\n",
        "                   line=dict(color='darkorange', width=2))\n",
        "reference_line = go.Scatter(x=[0,1], y=[0,1], mode='lines', name='Reference Line',\n",
        "                            line=dict(color='navy', width=2, dash='dash'))\n",
        "fig = go.Figure(data=[trace, reference_line])\n",
        "fig.update_layout(title='Interactive ROC Curve',\n",
        "                  xaxis_title='False Positive Rate',\n",
        "                  yaxis_title='True Positive Rate')\n",
        "fig.show()"
      ]
    },
    {
      "cell_type": "markdown",
      "metadata": {
        "id": "D6yHVt_K_tXQ"
      },
      "source": [
        "*Показатель AUC также почти не изменился (0,907 до масштабирования против 0,902 после)*"
      ]
    },
    {
      "cell_type": "markdown",
      "metadata": {
        "id": "fNV9JZDm_82_"
      },
      "source": [
        "-------------------------------------------"
      ]
    },
    {
      "cell_type": "markdown",
      "metadata": {
        "id": "tesm1a488NyC"
      },
      "source": [
        "*Выясним, нужно ли бороться с дисбалансом классов. Используем стратифицированное разбиение, изменение параметров модели деревьев решений на сбалансированные по классам веса, и посмотрим, что даст наилучший результат.*\n"
      ]
    },
    {
      "cell_type": "markdown",
      "metadata": {
        "id": "cU8LOc279Q0v"
      },
      "source": [
        "*1. Стратифицированное разбиение выборки.*"
      ]
    },
    {
      "cell_type": "code",
      "execution_count": 63,
      "metadata": {
        "id": "t0tjFrP02yIR"
      },
      "outputs": [],
      "source": [
        "X2 = df.drop('Churn', axis=1)\n",
        "y2 = df['Churn']\n",
        "\n",
        "X_train0, X_test0, y_train0, y_test0 = train_test_split(X2, y2, test_size=0.3, stratify=y2, random_state=42)"
      ]
    },
    {
      "cell_type": "markdown",
      "metadata": {
        "id": "smEaoqAM-Too"
      },
      "source": [
        "*2. Изменение параметров модели деревьев решений на сбалансированные по классам веса*"
      ]
    },
    {
      "cell_type": "code",
      "execution_count": 64,
      "metadata": {
        "colab": {
          "base_uri": "https://localhost:8080/"
        },
        "id": "NVlFtudDG20y",
        "outputId": "4a24a92c-d42e-46bc-c27f-b0184e648417"
      },
      "outputs": [
        {
          "name": "stdout",
          "output_type": "stream",
          "text": [
            "              precision    recall  f1-score   support\n",
            "\n",
            "           0       0.96      0.91      0.94       855\n",
            "           1       0.61      0.79      0.69       145\n",
            "\n",
            "    accuracy                           0.90      1000\n",
            "   macro avg       0.79      0.85      0.81      1000\n",
            "weighted avg       0.91      0.90      0.90      1000\n",
            "\n"
          ]
        }
      ],
      "source": [
        "model5 = DecisionTreeClassifier(max_depth=6, min_samples_leaf=4, class_weight='balanced')\n",
        "model5.fit(X_train0, y_train0)\n",
        "y_pred5 = model5.predict(X_test0)\n",
        "print(classification_report(y_test0, y_pred5))"
      ]
    },
    {
      "cell_type": "markdown",
      "metadata": {
        "id": "-VHV1_iV-9cP"
      },
      "source": [
        "*Показатель Recall поднимается с 71% до 79%, но показатель Precision (сколько из предсказанных переходов на тестовой выборке в реальности были переходами) упал с 89% до 61%*"
      ]
    },
    {
      "cell_type": "code",
      "execution_count": 65,
      "metadata": {
        "colab": {
          "base_uri": "https://localhost:8080/"
        },
        "id": "Mz0tp3kP_QbQ",
        "outputId": "910e433e-b053-49ed-b972-75f608fec419"
      },
      "outputs": [
        {
          "name": "stdout",
          "output_type": "stream",
          "text": [
            "Точность: 0.897\n",
            "Точность: 0.6117021276595744\n",
            "Полнота: 0.7931034482758621\n",
            "F1-мера: 0.6906906906906907\n",
            "AUC: 0.8538616656583989\n"
          ]
        }
      ],
      "source": [
        "confusion_mat = confusion_matrix(y_test0, y_pred5)\n",
        "print(\"Точность:\", accuracy_score(y_test0, y_pred5))\n",
        "print(\"Точность:\", precision_score(y_test0, y_pred5, average = 'binary'))\n",
        "print(\"Полнота:\", recall_score(y_test0, y_pred5, average = 'binary'))\n",
        "print(\"F1-мера:\", f1_score(y_test0, y_pred5, average = 'binary'))\n",
        "print(\"AUC:\", roc_auc_score(y_test0, y_pred5))"
      ]
    },
    {
      "cell_type": "code",
      "execution_count": 66,
      "metadata": {
        "colab": {
          "base_uri": "https://localhost:8080/",
          "height": 510
        },
        "id": "xoNqEijz_UfR",
        "outputId": "605a18dc-cc27-40d6-ab06-cfcc99690102"
      },
      "outputs": [
        {
          "data": {
            "image/png": "[encoded data removed]",
            "text/plain": [
              "<Figure size 640x480 with 2 Axes>"
            ]
          },
          "metadata": {},
          "output_type": "display_data"
        }
      ],
      "source": [
        "sns.heatmap(confusion_mat, annot=True, fmt=\"d\", cmap = \"Blues\")\n",
        "plt.xlabel(\"Прогноз\")\n",
        "plt.ylabel(\"Фактическое значение\")\n",
        "plt.title(\"Матрица ошибок\")\n",
        "plt.show();"
      ]
    },
    {
      "cell_type": "markdown",
      "metadata": {
        "id": "7bNYzJ-wBJN5"
      },
      "source": [
        "*Модель стала чаще классифицировать случаи в Churn = 1, когда фактически Churn=0, то есть чаще, чем нужно, прогнозировать переходы. За счет этого увеличилось значение правильно классифицированный реальных переходов, но еще сильнее увеличилось число отрицательных случаев (Churn=0), которые модель ошибочно классифицировала как положительные. (Рост с 13 до 72 случаев).*"
      ]
    },
    {
      "cell_type": "code",
      "execution_count": 67,
      "metadata": {
        "colab": {
          "base_uri": "https://localhost:8080/",
          "height": 479
        },
        "id": "aYuC64PEBGc7",
        "outputId": "e200aa69-6d7b-498e-e8a9-af6e8db56c0b"
      },
      "outputs": [
        {
          "data": {
            "image/png": "[encoded data removed]",
            "text/plain": [
              "<Figure size 640x480 with 1 Axes>"
            ]
          },
          "metadata": {},
          "output_type": "display_data"
        }
      ],
      "source": [
        "#Предсказываем вероятности\n",
        "y_pred_proba5 = model5.predict_proba(X_test0)[:, 1]\n",
        "# Строим кривую ROC\n",
        "fpr, tpr, _ = metrics.roc_curve(y_test0, y_pred_proba5)\n",
        "plt.plot(fpr, tpr)\n",
        "plt.ylabel('True Positive Rate')\n",
        "plt.xlabel('False Positive Rate')\n",
        "plt.show()"
      ]
    },
    {
      "cell_type": "code",
      "execution_count": 68,
      "metadata": {
        "colab": {
          "base_uri": "https://localhost:8080/"
        },
        "id": "wlfZfSfaBZ8U",
        "outputId": "c698b472-096c-453e-8a3c-5d55bf9bafed"
      },
      "outputs": [
        {
          "name": "stdout",
          "output_type": "stream",
          "text": [
            "AUC: 0.857\n"
          ]
        }
      ],
      "source": [
        "auc = metrics.roc_auc_score(y_test0, y_pred_proba5)\n",
        "print(\"AUC: %.3f\" % auc)"
      ]
    },
    {
      "cell_type": "code",
      "execution_count": 69,
      "metadata": {
        "colab": {
          "base_uri": "https://localhost:8080/",
          "height": 542
        },
        "id": "XQn6GVpPBnx7",
        "outputId": "69f8260d-c357-4fc6-bc63-ad7615f6912f"
      },
      "outputs": [
        {
          "data": {
            "application/vnd.plotly.v1+json": {
              "config": {
                "plotlyServerURL": "https://plot.ly"
              },
              "data": [
                {
                  "line": {
                    "color": "darkorange",
                    "width": 2
                  },
                  "mode": "lines",
                  "name": "AUC = 0.86",
                  "type": "scatter",
                  "x": {
                    "bdata": "AAAAAAAAAACaMgFkniljP+fLAZZtvmw/mjIBZJ4pcz/tWIEw0o6FP1hPYT2F9aQ/7ViBMNKOpT/tWIEw0o6lP724wa/Ti6s/pehhb1SKrj868oFioSOvP7ICYaQdK7A/ZDeR3UR2sz9YT2E9hfW0P7hdEap427U/NJfRXEZzuT9AfwH9BfTHP6XoYW9Uis4/q9x5P7TK3T+6vrXHo+vrPwAAAAAAAPA/",
                    "dtype": "f8"
                  },
                  "y": {
                    "bdata": "AAAAAAAAAACWexphuafRP0GrLxW0+tI/Xypo9aWC1j/uaYTlnkbYP4qSXZso2eU/ipJdmyjZ5T9tomTXJkrmP/zhgMcfDug//OGAxx8O6D/84YDHHw7oP+5phOWeRug/0nmLIZ236D+oEZZ7GmHpP6gRlnsaYek/mpmZmZmZ6T+LIZ23GNLpP28xpPMWQ+o/Kdm1iZJd6z9xwOMPBzzuPwAAAAAAAPA/",
                    "dtype": "f8"
                  }
                },
                {
                  "line": {
                    "color": "navy",
                    "dash": "dash",
                    "width": 2
                  },
                  "mode": "lines",
                  "name": "Reference Line",
                  "type": "scatter",
                  "x": [
                    0,
                    1
                  ],
                  "y": [
                    0,
                    1
                  ]
                }
              ],
              "layout": {
                "template": {
                  "data": {
                    "bar": [
                      {
                        "error_x": {
                          "color": "#2a3f5f"
                        },
                        "error_y": {
                          "color": "#2a3f5f"
                        },
                        "marker": {
                          "line": {
                            "color": "#E5ECF6",
                            "width": 0.5
                          },
                          "pattern": {
                            "fillmode": "overlay",
                            "size": 10,
                            "solidity": 0.2
                          }
                        },
                        "type": "bar"
                      }
                    ],
                    "barpolar": [
                      {
                        "marker": {
                          "line": {
                            "color": "#E5ECF6",
                            "width": 0.5
                          },
                          "pattern": {
                            "fillmode": "overlay",
                            "size": 10,
                            "solidity": 0.2
                          }
                        },
                        "type": "barpolar"
                      }
                    ],
                    "carpet": [
                      {
                        "aaxis": {
                          "endlinecolor": "#2a3f5f",
                          "gridcolor": "white",
                          "linecolor": "white",
                          "minorgridcolor": "white",
                          "startlinecolor": "#2a3f5f"
                        },
                        "baxis": {
                          "endlinecolor": "#2a3f5f",
                          "gridcolor": "white",
                          "linecolor": "white",
                          "minorgridcolor": "white",
                          "startlinecolor": "#2a3f5f"
                        },
                        "type": "carpet"
                      }
                    ],
                    "choropleth": [
                      {
                        "colorbar": {
                          "outlinewidth": 0,
                          "ticks": ""
                        },
                        "type": "choropleth"
                      }
                    ],
                    "contour": [
                      {
                        "colorbar": {
                          "outlinewidth": 0,
                          "ticks": ""
                        },
                        "colorscale": [
                          [
                            0,
                            "#0d0887"
                          ],
                          [
                            0.1111111111111111,
                            "#46039f"
                          ],
                          [
                            0.2222222222222222,
                            "#7201a8"
                          ],
                          [
                            0.3333333333333333,
                            "#9c179e"
                          ],
                          [
                            0.4444444444444444,
                            "#bd3786"
                          ],
                          [
                            0.5555555555555556,
                            "#d8576b"
                          ],
                          [
                            0.6666666666666666,
                            "#ed7953"
                          ],
                          [
                            0.7777777777777778,
                            "#fb9f3a"
                          ],
                          [
                            0.8888888888888888,
                            "#fdca26"
                          ],
                          [
                            1,
                            "#f0f921"
                          ]
                        ],
                        "type": "contour"
                      }
                    ],
                    "contourcarpet": [
                      {
                        "colorbar": {
                          "outlinewidth": 0,
                          "ticks": ""
                        },
                        "type": "contourcarpet"
                      }
                    ],
                    "heatmap": [
                      {
                        "colorbar": {
                          "outlinewidth": 0,
                          "ticks": ""
                        },
                        "colorscale": [
                          [
                            0,
                            "#0d0887"
                          ],
                          [
                            0.1111111111111111,
                            "#46039f"
                          ],
                          [
                            0.2222222222222222,
                            "#7201a8"
                          ],
                          [
                            0.3333333333333333,
                            "#9c179e"
                          ],
                          [
                            0.4444444444444444,
                            "#bd3786"
                          ],
                          [
                            0.5555555555555556,
                            "#d8576b"
                          ],
                          [
                            0.6666666666666666,
                            "#ed7953"
                          ],
                          [
                            0.7777777777777778,
                            "#fb9f3a"
                          ],
                          [
                            0.8888888888888888,
                            "#fdca26"
                          ],
                          [
                            1,
                            "#f0f921"
                          ]
                        ],
                        "type": "heatmap"
                      }
                    ],
                    "histogram": [
                      {
                        "marker": {
                          "pattern": {
                            "fillmode": "overlay",
                            "size": 10,
                            "solidity": 0.2
                          }
                        },
                        "type": "histogram"
                      }
                    ],
                    "histogram2d": [
                      {
                        "colorbar": {
                          "outlinewidth": 0,
                          "ticks": ""
                        },
                        "colorscale": [
                          [
                            0,
                            "#0d0887"
                          ],
                          [
                            0.1111111111111111,
                            "#46039f"
                          ],
                          [
                            0.2222222222222222,
                            "#7201a8"
                          ],
                          [
                            0.3333333333333333,
                            "#9c179e"
                          ],
                          [
                            0.4444444444444444,
                            "#bd3786"
                          ],
                          [
                            0.5555555555555556,
                            "#d8576b"
                          ],
                          [
                            0.6666666666666666,
                            "#ed7953"
                          ],
                          [
                            0.7777777777777778,
                            "#fb9f3a"
                          ],
                          [
                            0.8888888888888888,
                            "#fdca26"
                          ],
                          [
                            1,
                            "#f0f921"
                          ]
                        ],
                        "type": "histogram2d"
                      }
                    ],
                    "histogram2dcontour": [
                      {
                        "colorbar": {
                          "outlinewidth": 0,
                          "ticks": ""
                        },
                        "colorscale": [
                          [
                            0,
                            "#0d0887"
                          ],
                          [
                            0.1111111111111111,
                            "#46039f"
                          ],
                          [
                            0.2222222222222222,
                            "#7201a8"
                          ],
                          [
                            0.3333333333333333,
                            "#9c179e"
                          ],
                          [
                            0.4444444444444444,
                            "#bd3786"
                          ],
                          [
                            0.5555555555555556,
                            "#d8576b"
                          ],
                          [
                            0.6666666666666666,
                            "#ed7953"
                          ],
                          [
                            0.7777777777777778,
                            "#fb9f3a"
                          ],
                          [
                            0.8888888888888888,
                            "#fdca26"
                          ],
                          [
                            1,
                            "#f0f921"
                          ]
                        ],
                        "type": "histogram2dcontour"
                      }
                    ],
                    "mesh3d": [
                      {
                        "colorbar": {
                          "outlinewidth": 0,
                          "ticks": ""
                        },
                        "type": "mesh3d"
                      }
                    ],
                    "parcoords": [
                      {
                        "line": {
                          "colorbar": {
                            "outlinewidth": 0,
                            "ticks": ""
                          }
                        },
                        "type": "parcoords"
                      }
                    ],
                    "pie": [
                      {
                        "automargin": true,
                        "type": "pie"
                      }
                    ],
                    "scatter": [
                      {
                        "fillpattern": {
                          "fillmode": "overlay",
                          "size": 10,
                          "solidity": 0.2
                        },
                        "type": "scatter"
                      }
                    ],
                    "scatter3d": [
                      {
                        "line": {
                          "colorbar": {
                            "outlinewidth": 0,
                            "ticks": ""
                          }
                        },
                        "marker": {
                          "colorbar": {
                            "outlinewidth": 0,
                            "ticks": ""
                          }
                        },
                        "type": "scatter3d"
                      }
                    ],
                    "scattercarpet": [
                      {
                        "marker": {
                          "colorbar": {
                            "outlinewidth": 0,
                            "ticks": ""
                          }
                        },
                        "type": "scattercarpet"
                      }
                    ],
                    "scattergeo": [
                      {
                        "marker": {
                          "colorbar": {
                            "outlinewidth": 0,
                            "ticks": ""
                          }
                        },
                        "type": "scattergeo"
                      }
                    ],
                    "scattergl": [
                      {
                        "marker": {
                          "colorbar": {
                            "outlinewidth": 0,
                            "ticks": ""
                          }
                        },
                        "type": "scattergl"
                      }
                    ],
                    "scattermap": [
                      {
                        "marker": {
                          "colorbar": {
                            "outlinewidth": 0,
                            "ticks": ""
                          }
                        },
                        "type": "scattermap"
                      }
                    ],
                    "scattermapbox": [
                      {
                        "marker": {
                          "colorbar": {
                            "outlinewidth": 0,
                            "ticks": ""
                          }
                        },
                        "type": "scattermapbox"
                      }
                    ],
                    "scatterpolar": [
                      {
                        "marker": {
                          "colorbar": {
                            "outlinewidth": 0,
                            "ticks": ""
                          }
                        },
                        "type": "scatterpolar"
                      }
                    ],
                    "scatterpolargl": [
                      {
                        "marker": {
                          "colorbar": {
                            "outlinewidth": 0,
                            "ticks": ""
                          }
                        },
                        "type": "scatterpolargl"
                      }
                    ],
                    "scatterternary": [
                      {
                        "marker": {
                          "colorbar": {
                            "outlinewidth": 0,
                            "ticks": ""
                          }
                        },
                        "type": "scatterternary"
                      }
                    ],
                    "surface": [
                      {
                        "colorbar": {
                          "outlinewidth": 0,
                          "ticks": ""
                        },
                        "colorscale": [
                          [
                            0,
                            "#0d0887"
                          ],
                          [
                            0.1111111111111111,
                            "#46039f"
                          ],
                          [
                            0.2222222222222222,
                            "#7201a8"
                          ],
                          [
                            0.3333333333333333,
                            "#9c179e"
                          ],
                          [
                            0.4444444444444444,
                            "#bd3786"
                          ],
                          [
                            0.5555555555555556,
                            "#d8576b"
                          ],
                          [
                            0.6666666666666666,
                            "#ed7953"
                          ],
                          [
                            0.7777777777777778,
                            "#fb9f3a"
                          ],
                          [
                            0.8888888888888888,
                            "#fdca26"
                          ],
                          [
                            1,
                            "#f0f921"
                          ]
                        ],
                        "type": "surface"
                      }
                    ],
                    "table": [
                      {
                        "cells": {
                          "fill": {
                            "color": "#EBF0F8"
                          },
                          "line": {
                            "color": "white"
                          }
                        },
                        "header": {
                          "fill": {
                            "color": "#C8D4E3"
                          },
                          "line": {
                            "color": "white"
                          }
                        },
                        "type": "table"
                      }
                    ]
                  },
                  "layout": {
                    "annotationdefaults": {
                      "arrowcolor": "#2a3f5f",
                      "arrowhead": 0,
                      "arrowwidth": 1
                    },
                    "autotypenumbers": "strict",
                    "coloraxis": {
                      "colorbar": {
                        "outlinewidth": 0,
                        "ticks": ""
                      }
                    },
                    "colorscale": {
                      "diverging": [
                        [
                          0,
                          "#8e0152"
                        ],
                        [
                          0.1,
                          "#c51b7d"
                        ],
                        [
                          0.2,
                          "#de77ae"
                        ],
                        [
                          0.3,
                          "#f1b6da"
                        ],
                        [
                          0.4,
                          "#fde0ef"
                        ],
                        [
                          0.5,
                          "#f7f7f7"
                        ],
                        [
                          0.6,
                          "#e6f5d0"
                        ],
                        [
                          0.7,
                          "#b8e186"
                        ],
                        [
                          0.8,
                          "#7fbc41"
                        ],
                        [
                          0.9,
                          "#4d9221"
                        ],
                        [
                          1,
                          "#276419"
                        ]
                      ],
                      "sequential": [
                        [
                          0,
                          "#0d0887"
                        ],
                        [
                          0.1111111111111111,
                          "#46039f"
                        ],
                        [
                          0.2222222222222222,
                          "#7201a8"
                        ],
                        [
                          0.3333333333333333,
                          "#9c179e"
                        ],
                        [
                          0.4444444444444444,
                          "#bd3786"
                        ],
                        [
                          0.5555555555555556,
                          "#d8576b"
                        ],
                        [
                          0.6666666666666666,
                          "#ed7953"
                        ],
                        [
                          0.7777777777777778,
                          "#fb9f3a"
                        ],
                        [
                          0.8888888888888888,
                          "#fdca26"
                        ],
                        [
                          1,
                          "#f0f921"
                        ]
                      ],
                      "sequentialminus": [
                        [
                          0,
                          "#0d0887"
                        ],
                        [
                          0.1111111111111111,
                          "#46039f"
                        ],
                        [
                          0.2222222222222222,
                          "#7201a8"
                        ],
                        [
                          0.3333333333333333,
                          "#9c179e"
                        ],
                        [
                          0.4444444444444444,
                          "#bd3786"
                        ],
                        [
                          0.5555555555555556,
                          "#d8576b"
                        ],
                        [
                          0.6666666666666666,
                          "#ed7953"
                        ],
                        [
                          0.7777777777777778,
                          "#fb9f3a"
                        ],
                        [
                          0.8888888888888888,
                          "#fdca26"
                        ],
                        [
                          1,
                          "#f0f921"
                        ]
                      ]
                    },
                    "colorway": [
                      "#636efa",
                      "#EF553B",
                      "#00cc96",
                      "#ab63fa",
                      "#FFA15A",
                      "#19d3f3",
                      "#FF6692",
                      "#B6E880",
                      "#FF97FF",
                      "#FECB52"
                    ],
                    "font": {
                      "color": "#2a3f5f"
                    },
                    "geo": {
                      "bgcolor": "white",
                      "lakecolor": "white",
                      "landcolor": "#E5ECF6",
                      "showlakes": true,
                      "showland": true,
                      "subunitcolor": "white"
                    },
                    "hoverlabel": {
                      "align": "left"
                    },
                    "hovermode": "closest",
                    "mapbox": {
                      "style": "light"
                    },
                    "paper_bgcolor": "white",
                    "plot_bgcolor": "#E5ECF6",
                    "polar": {
                      "angularaxis": {
                        "gridcolor": "white",
                        "linecolor": "white",
                        "ticks": ""
                      },
                      "bgcolor": "#E5ECF6",
                      "radialaxis": {
                        "gridcolor": "white",
                        "linecolor": "white",
                        "ticks": ""
                      }
                    },
                    "scene": {
                      "xaxis": {
                        "backgroundcolor": "#E5ECF6",
                        "gridcolor": "white",
                        "gridwidth": 2,
                        "linecolor": "white",
                        "showbackground": true,
                        "ticks": "",
                        "zerolinecolor": "white"
                      },
                      "yaxis": {
                        "backgroundcolor": "#E5ECF6",
                        "gridcolor": "white",
                        "gridwidth": 2,
                        "linecolor": "white",
                        "showbackground": true,
                        "ticks": "",
                        "zerolinecolor": "white"
                      },
                      "zaxis": {
                        "backgroundcolor": "#E5ECF6",
                        "gridcolor": "white",
                        "gridwidth": 2,
                        "linecolor": "white",
                        "showbackground": true,
                        "ticks": "",
                        "zerolinecolor": "white"
                      }
                    },
                    "shapedefaults": {
                      "line": {
                        "color": "#2a3f5f"
                      }
                    },
                    "ternary": {
                      "aaxis": {
                        "gridcolor": "white",
                        "linecolor": "white",
                        "ticks": ""
                      },
                      "baxis": {
                        "gridcolor": "white",
                        "linecolor": "white",
                        "ticks": ""
                      },
                      "bgcolor": "#E5ECF6",
                      "caxis": {
                        "gridcolor": "white",
                        "linecolor": "white",
                        "ticks": ""
                      }
                    },
                    "title": {
                      "x": 0.05
                    },
                    "xaxis": {
                      "automargin": true,
                      "gridcolor": "white",
                      "linecolor": "white",
                      "ticks": "",
                      "title": {
                        "standoff": 15
                      },
                      "zerolinecolor": "white",
                      "zerolinewidth": 2
                    },
                    "yaxis": {
                      "automargin": true,
                      "gridcolor": "white",
                      "linecolor": "white",
                      "ticks": "",
                      "title": {
                        "standoff": 15
                      },
                      "zerolinecolor": "white",
                      "zerolinewidth": 2
                    }
                  }
                },
                "title": {
                  "text": "Interactive ROC Curve"
                },
                "xaxis": {
                  "title": {
                    "text": "False Positive Rate"
                  }
                },
                "yaxis": {
                  "title": {
                    "text": "True Positive Rate"
                  }
                }
              }
            }
          },
          "metadata": {},
          "output_type": "display_data"
        }
      ],
      "source": [
        "trace = go.Scatter(x=fpr, y=tpr, mode='lines', name='AUC = %0.2f' % auc,\n",
        "                   line=dict(color='darkorange', width=2))\n",
        "reference_line = go.Scatter(x=[0,1], y=[0,1], mode='lines', name='Reference Line',\n",
        "                            line=dict(color='navy', width=2, dash='dash'))\n",
        "fig = go.Figure(data=[trace, reference_line])\n",
        "fig.update_layout(title='Interactive ROC Curve',\n",
        "                  xaxis_title='False Positive Rate',\n",
        "                  yaxis_title='True Positive Rate')\n",
        "fig.show()"
      ]
    },
    {
      "cell_type": "markdown",
      "metadata": {
        "id": "GIbC3szBB3lJ"
      },
      "source": [
        "*Видим, что в данном случае стандартные методы борьбы с дисбалансом классов не позволили улучшить модель, также как и масштабирование данных.*"
      ]
    },
    {
      "cell_type": "markdown",
      "metadata": {
        "id": "lTtKBSi_CUy7"
      },
      "source": [
        "Попробуем применить еще одну модель классификаци - RandomForestClassifier, также основанную на \"деревьях\" решений"
      ]
    },
    {
      "cell_type": "code",
      "execution_count": 70,
      "metadata": {
        "colab": {
          "base_uri": "https://localhost:8080/"
        },
        "id": "4yS2Dl4GCT9U",
        "outputId": "668b9a39-d968-44b4-fcd4-4c43ac1c3533"
      },
      "outputs": [
        {
          "name": "stdout",
          "output_type": "stream",
          "text": [
            "              precision    recall  f1-score   support\n",
            "\n",
            "           0       0.94      1.00      0.97       857\n",
            "           1       0.97      0.64      0.77       143\n",
            "\n",
            "    accuracy                           0.95      1000\n",
            "   macro avg       0.96      0.82      0.87      1000\n",
            "weighted avg       0.95      0.95      0.94      1000\n",
            "\n"
          ]
        }
      ],
      "source": [
        "from sklearn.ensemble import RandomForestClassifier\n",
        "\n",
        "model7 = RandomForestClassifier(max_depth=11, min_samples_leaf=3)\n",
        "model7.fit(X_train_scaled, y_train)\n",
        "y_pred7 = model7.predict(X_test_scaled)\n",
        "print(classification_report(y_test, y_pred7))"
      ]
    },
    {
      "cell_type": "markdown",
      "metadata": {
        "id": "Fr8WSYj-E4Ts"
      },
      "source": [
        "Показатель Recall немного снизился с 71% до 67%, но показатель Precision (сколько из предсказанных переходов на тестовой выборке в реальности были переходами) вырос с 89% до 94%"
      ]
    },
    {
      "cell_type": "code",
      "execution_count": 71,
      "metadata": {
        "colab": {
          "base_uri": "https://localhost:8080/"
        },
        "id": "zwSTtXsBFJlm",
        "outputId": "c23a43f7-9206-4f7a-fc11-a21e13e6116b"
      },
      "outputs": [
        {
          "name": "stdout",
          "output_type": "stream",
          "text": [
            "Точность: 0.946\n",
            "Точность: 0.968421052631579\n",
            "Полнота: 0.6433566433566433\n",
            "F1-мера: 0.773109243697479\n"
          ]
        }
      ],
      "source": [
        "confusion_mat = confusion_matrix(y_test, y_pred7)\n",
        "print(\"Точность:\", accuracy_score(y_test, y_pred7))\n",
        "print(\"Точность:\", precision_score(y_test, y_pred7, average = 'binary'))\n",
        "print(\"Полнота:\", recall_score(y_test, y_pred7, average = 'binary'))\n",
        "print(\"F1-мера:\", f1_score(y_test, y_pred7, average = 'binary'))"
      ]
    },
    {
      "cell_type": "code",
      "execution_count": 72,
      "metadata": {
        "colab": {
          "base_uri": "https://localhost:8080/",
          "height": 510
        },
        "id": "hDDxwQ66FcgY",
        "outputId": "fdd91ec4-a98a-4c5a-c3a0-1b9befde6b2e"
      },
      "outputs": [
        {
          "data": {
            "image/png": "[encoded data removed]",
            "text/plain": [
              "<Figure size 640x480 with 2 Axes>"
            ]
          },
          "metadata": {},
          "output_type": "display_data"
        }
      ],
      "source": [
        "sns.heatmap(confusion_mat, annot=True, fmt=\"d\", cmap = \"Blues\")\n",
        "plt.xlabel(\"Прогноз\")\n",
        "plt.ylabel(\"Фактическое значение\")\n",
        "plt.title(\"Матрица ошибок\")\n",
        "plt.show();"
      ]
    },
    {
      "cell_type": "code",
      "execution_count": 73,
      "metadata": {
        "colab": {
          "base_uri": "https://localhost:8080/",
          "height": 479
        },
        "id": "ZQxf4YHEFxal",
        "outputId": "cf196ad8-4965-431a-8a23-6b3ca054e32d"
      },
      "outputs": [
        {
          "data": {
            "image/png": "[encoded data removed]",
            "text/plain": [
              "<Figure size 640x480 with 1 Axes>"
            ]
          },
          "metadata": {},
          "output_type": "display_data"
        }
      ],
      "source": [
        "#Предсказываем вероятности\n",
        "y_pred_proba7 = model7.predict_proba(X_test_scaled)[:, 1]\n",
        "# Строим кривую ROC\n",
        "fpr, tpr, _ = metrics.roc_curve(y_test, y_pred_proba7)\n",
        "plt.plot(fpr, tpr)\n",
        "plt.ylabel('True Positive Rate')\n",
        "plt.xlabel('False Positive Rate')\n",
        "plt.show()"
      ]
    },
    {
      "cell_type": "code",
      "execution_count": 74,
      "metadata": {
        "colab": {
          "base_uri": "https://localhost:8080/"
        },
        "id": "hMk-g9afF_fk",
        "outputId": "9aa669fa-6356-45f8-f713-049fae74c613"
      },
      "outputs": [
        {
          "name": "stdout",
          "output_type": "stream",
          "text": [
            "AUC: 0.940\n"
          ]
        }
      ],
      "source": [
        "auc = metrics.roc_auc_score(y_test, y_pred_proba7)\n",
        "print(\"AUC: %.3f\" % auc)"
      ]
    },
    {
      "cell_type": "code",
      "execution_count": 75,
      "metadata": {
        "colab": {
          "base_uri": "https://localhost:8080/",
          "height": 542
        },
        "id": "cHtj572aGJj0",
        "outputId": "9cc4ca2e-a174-4c81-b011-aeaa58dfccf1"
      },
      "outputs": [
        {
          "data": {
            "application/vnd.plotly.v1+json": {
              "config": {
                "plotlyServerURL": "https://plot.ly"
              },
              "data": [
                {
                  "line": {
                    "color": "darkorange",
                    "width": 2
                  },
                  "mode": "lines",
                  "name": "AUC = 0.94",
                  "type": "scatter",
                  "x": {
                    "bdata": "AAAAAAAAAAAAAAAAAAAAAAAAAAAAAAAAwn3TnCseUz/CfdOcKx5TP8J905wrHmM/wn3TnCseYz+kPD1rQa1sP6Q8PWtBrWw/M10IhLbldz8zXQiEtuV3PwoOOSlmuoA/Cg45KWa6gD/CfdOcKx6DP8J905wrHoM/e+1tEPGBhT977W0Q8YGFPzNdCIS25Yc/M10IhLblhz/rzKL3e0mKP+vMovd7SYo/pDw9a0GtjD+kPD1rQa2MP1ys194GEY8/XKzX3gYRjz+ftaBWDlCUP5+1oFYOUJQ/VyU7ytOzlj9XJTvK07OWP0XBISfFTKc/RcEhJ8VMpz/rzKL3e0mqP+vMovd7Sao/yy9g7rLRsj/LL2DustGyP41Rh7P/6LQ/jVGHs//otD9g18cbW2e2P2DXxxtbZ7Y/E8DFeu1twD8TwMV67W3AP9loiVRt4so/2WiJVG3iyj+1coCi4JDTP7VygKLgkNM/IeIDK/A81D8h4gMr8DzUPwKhbfkFzN0/AqFt+QXM3T/mRQbjSOzhP+ZFBuNI7OE/viQN9GdE4z++JA30Z0TjP1AUHHJSzOQ/UBQcclLM5D/rtbdBxAfmP+u1t0HEB+Y/aYlUbeIa5j9piVRt4hrmP0XBISfFTOc/RcEhJ8VM5z8EK/A8VFbnPwQr8DxUVuc/+49OoYTk6z/7j06hhOTrP7hYr70NIu4/uFivvQ0i7j8AAAAAAADwPw==",
                    "dtype": "f8"
                  },
                  "y": {
                    "bdata": "AAAAAAAAAACR4V4Fs6R8P4HIcK+CWeI/gchwr4JZ4j9EhnsVzJLiP0SGexXMkuI/XXTRRRdd5D9ddNFFF13kP7OkHBAZ7uU/s6QcEBnu5T+DWVIOiAznP4NZUg6IDOc/RhdddNFF5z9GF1100UXnP8ySckBkuOc/zJJyQGS45z+PUH2mrfHnP49Qfaat8ec/Ug6IDPcq6D9SDogM9yroP5xHqD7T1ug/nEeoPtPW6D9r/N08QvXpP2v83TxC9ek//m4eofpM6z/+bh6h+kzrP8EsKQdEhus/wSwpB0SG6z+E6jNtjb/rP4TqM22Nv+s/SKg+09b46z9IqD7T1vjrPwtmSTkgMuw/C2ZJOSAy7D/OI1SfaWvsP84jVJ9pa+w/keFeBbOk7D+R4V4Fs6TsP1SfaWv83ew/VJ9pa/zd7D8XXXTRRRftPxdddNFFF+0/2hp/N49Q7T/aGn83j1DtP57YiZ3Yie0/ntiJndiJ7T9hlpQDIsPtP2GWlAMiw+0/JFSfaWv87T8kVJ9pa/ztP+cRqs+0Ne4/5xGqz7Q17j+qz7Q1/m7uP6rPtDX+bu4/bY2/m0eo7j9tjb+bR6juPzBLygGR4e4/MEvKAZHh7j/zCNVn2hrvP/MI1WfaGu8/t8bfzSNU7z+3xt/NI1TvP3qE6jNtje8/eoTqM22N7z89QvWZtsbvPz1C9Zm2xu8/AAAAAAAA8D8AAAAAAADwPw==",
                    "dtype": "f8"
                  }
                },
                {
                  "line": {
                    "color": "navy",
                    "dash": "dash",
                    "width": 2
                  },
                  "mode": "lines",
                  "name": "Reference Line",
                  "type": "scatter",
                  "x": [
                    0,
                    1
                  ],
                  "y": [
                    0,
                    1
                  ]
                }
              ],
              "layout": {
                "template": {
                  "data": {
                    "bar": [
                      {
                        "error_x": {
                          "color": "#2a3f5f"
                        },
                        "error_y": {
                          "color": "#2a3f5f"
                        },
                        "marker": {
                          "line": {
                            "color": "#E5ECF6",
                            "width": 0.5
                          },
                          "pattern": {
                            "fillmode": "overlay",
                            "size": 10,
                            "solidity": 0.2
                          }
                        },
                        "type": "bar"
                      }
                    ],
                    "barpolar": [
                      {
                        "marker": {
                          "line": {
                            "color": "#E5ECF6",
                            "width": 0.5
                          },
                          "pattern": {
                            "fillmode": "overlay",
                            "size": 10,
                            "solidity": 0.2
                          }
                        },
                        "type": "barpolar"
                      }
                    ],
                    "carpet": [
                      {
                        "aaxis": {
                          "endlinecolor": "#2a3f5f",
                          "gridcolor": "white",
                          "linecolor": "white",
                          "minorgridcolor": "white",
                          "startlinecolor": "#2a3f5f"
                        },
                        "baxis": {
                          "endlinecolor": "#2a3f5f",
                          "gridcolor": "white",
                          "linecolor": "white",
                          "minorgridcolor": "white",
                          "startlinecolor": "#2a3f5f"
                        },
                        "type": "carpet"
                      }
                    ],
                    "choropleth": [
                      {
                        "colorbar": {
                          "outlinewidth": 0,
                          "ticks": ""
                        },
                        "type": "choropleth"
                      }
                    ],
                    "contour": [
                      {
                        "colorbar": {
                          "outlinewidth": 0,
                          "ticks": ""
                        },
                        "colorscale": [
                          [
                            0,
                            "#0d0887"
                          ],
                          [
                            0.1111111111111111,
                            "#46039f"
                          ],
                          [
                            0.2222222222222222,
                            "#7201a8"
                          ],
                          [
                            0.3333333333333333,
                            "#9c179e"
                          ],
                          [
                            0.4444444444444444,
                            "#bd3786"
                          ],
                          [
                            0.5555555555555556,
                            "#d8576b"
                          ],
                          [
                            0.6666666666666666,
                            "#ed7953"
                          ],
                          [
                            0.7777777777777778,
                            "#fb9f3a"
                          ],
                          [
                            0.8888888888888888,
                            "#fdca26"
                          ],
                          [
                            1,
                            "#f0f921"
                          ]
                        ],
                        "type": "contour"
                      }
                    ],
                    "contourcarpet": [
                      {
                        "colorbar": {
                          "outlinewidth": 0,
                          "ticks": ""
                        },
                        "type": "contourcarpet"
                      }
                    ],
                    "heatmap": [
                      {
                        "colorbar": {
                          "outlinewidth": 0,
                          "ticks": ""
                        },
                        "colorscale": [
                          [
                            0,
                            "#0d0887"
                          ],
                          [
                            0.1111111111111111,
                            "#46039f"
                          ],
                          [
                            0.2222222222222222,
                            "#7201a8"
                          ],
                          [
                            0.3333333333333333,
                            "#9c179e"
                          ],
                          [
                            0.4444444444444444,
                            "#bd3786"
                          ],
                          [
                            0.5555555555555556,
                            "#d8576b"
                          ],
                          [
                            0.6666666666666666,
                            "#ed7953"
                          ],
                          [
                            0.7777777777777778,
                            "#fb9f3a"
                          ],
                          [
                            0.8888888888888888,
                            "#fdca26"
                          ],
                          [
                            1,
                            "#f0f921"
                          ]
                        ],
                        "type": "heatmap"
                      }
                    ],
                    "histogram": [
                      {
                        "marker": {
                          "pattern": {
                            "fillmode": "overlay",
                            "size": 10,
                            "solidity": 0.2
                          }
                        },
                        "type": "histogram"
                      }
                    ],
                    "histogram2d": [
                      {
                        "colorbar": {
                          "outlinewidth": 0,
                          "ticks": ""
                        },
                        "colorscale": [
                          [
                            0,
                            "#0d0887"
                          ],
                          [
                            0.1111111111111111,
                            "#46039f"
                          ],
                          [
                            0.2222222222222222,
                            "#7201a8"
                          ],
                          [
                            0.3333333333333333,
                            "#9c179e"
                          ],
                          [
                            0.4444444444444444,
                            "#bd3786"
                          ],
                          [
                            0.5555555555555556,
                            "#d8576b"
                          ],
                          [
                            0.6666666666666666,
                            "#ed7953"
                          ],
                          [
                            0.7777777777777778,
                            "#fb9f3a"
                          ],
                          [
                            0.8888888888888888,
                            "#fdca26"
                          ],
                          [
                            1,
                            "#f0f921"
                          ]
                        ],
                        "type": "histogram2d"
                      }
                    ],
                    "histogram2dcontour": [
                      {
                        "colorbar": {
                          "outlinewidth": 0,
                          "ticks": ""
                        },
                        "colorscale": [
                          [
                            0,
                            "#0d0887"
                          ],
                          [
                            0.1111111111111111,
                            "#46039f"
                          ],
                          [
                            0.2222222222222222,
                            "#7201a8"
                          ],
                          [
                            0.3333333333333333,
                            "#9c179e"
                          ],
                          [
                            0.4444444444444444,
                            "#bd3786"
                          ],
                          [
                            0.5555555555555556,
                            "#d8576b"
                          ],
                          [
                            0.6666666666666666,
                            "#ed7953"
                          ],
                          [
                            0.7777777777777778,
                            "#fb9f3a"
                          ],
                          [
                            0.8888888888888888,
                            "#fdca26"
                          ],
                          [
                            1,
                            "#f0f921"
                          ]
                        ],
                        "type": "histogram2dcontour"
                      }
                    ],
                    "mesh3d": [
                      {
                        "colorbar": {
                          "outlinewidth": 0,
                          "ticks": ""
                        },
                        "type": "mesh3d"
                      }
                    ],
                    "parcoords": [
                      {
                        "line": {
                          "colorbar": {
                            "outlinewidth": 0,
                            "ticks": ""
                          }
                        },
                        "type": "parcoords"
                      }
                    ],
                    "pie": [
                      {
                        "automargin": true,
                        "type": "pie"
                      }
                    ],
                    "scatter": [
                      {
                        "fillpattern": {
                          "fillmode": "overlay",
                          "size": 10,
                          "solidity": 0.2
                        },
                        "type": "scatter"
                      }
                    ],
                    "scatter3d": [
                      {
                        "line": {
                          "colorbar": {
                            "outlinewidth": 0,
                            "ticks": ""
                          }
                        },
                        "marker": {
                          "colorbar": {
                            "outlinewidth": 0,
                            "ticks": ""
                          }
                        },
                        "type": "scatter3d"
                      }
                    ],
                    "scattercarpet": [
                      {
                        "marker": {
                          "colorbar": {
                            "outlinewidth": 0,
                            "ticks": ""
                          }
                        },
                        "type": "scattercarpet"
                      }
                    ],
                    "scattergeo": [
                      {
                        "marker": {
                          "colorbar": {
                            "outlinewidth": 0,
                            "ticks": ""
                          }
                        },
                        "type": "scattergeo"
                      }
                    ],
                    "scattergl": [
                      {
                        "marker": {
                          "colorbar": {
                            "outlinewidth": 0,
                            "ticks": ""
                          }
                        },
                        "type": "scattergl"
                      }
                    ],
                    "scattermap": [
                      {
                        "marker": {
                          "colorbar": {
                            "outlinewidth": 0,
                            "ticks": ""
                          }
                        },
                        "type": "scattermap"
                      }
                    ],
                    "scattermapbox": [
                      {
                        "marker": {
                          "colorbar": {
                            "outlinewidth": 0,
                            "ticks": ""
                          }
                        },
                        "type": "scattermapbox"
                      }
                    ],
                    "scatterpolar": [
                      {
                        "marker": {
                          "colorbar": {
                            "outlinewidth": 0,
                            "ticks": ""
                          }
                        },
                        "type": "scatterpolar"
                      }
                    ],
                    "scatterpolargl": [
                      {
                        "marker": {
                          "colorbar": {
                            "outlinewidth": 0,
                            "ticks": ""
                          }
                        },
                        "type": "scatterpolargl"
                      }
                    ],
                    "scatterternary": [
                      {
                        "marker": {
                          "colorbar": {
                            "outlinewidth": 0,
                            "ticks": ""
                          }
                        },
                        "type": "scatterternary"
                      }
                    ],
                    "surface": [
                      {
                        "colorbar": {
                          "outlinewidth": 0,
                          "ticks": ""
                        },
                        "colorscale": [
                          [
                            0,
                            "#0d0887"
                          ],
                          [
                            0.1111111111111111,
                            "#46039f"
                          ],
                          [
                            0.2222222222222222,
                            "#7201a8"
                          ],
                          [
                            0.3333333333333333,
                            "#9c179e"
                          ],
                          [
                            0.4444444444444444,
                            "#bd3786"
                          ],
                          [
                            0.5555555555555556,
                            "#d8576b"
                          ],
                          [
                            0.6666666666666666,
                            "#ed7953"
                          ],
                          [
                            0.7777777777777778,
                            "#fb9f3a"
                          ],
                          [
                            0.8888888888888888,
                            "#fdca26"
                          ],
                          [
                            1,
                            "#f0f921"
                          ]
                        ],
                        "type": "surface"
                      }
                    ],
                    "table": [
                      {
                        "cells": {
                          "fill": {
                            "color": "#EBF0F8"
                          },
                          "line": {
                            "color": "white"
                          }
                        },
                        "header": {
                          "fill": {
                            "color": "#C8D4E3"
                          },
                          "line": {
                            "color": "white"
                          }
                        },
                        "type": "table"
                      }
                    ]
                  },
                  "layout": {
                    "annotationdefaults": {
                      "arrowcolor": "#2a3f5f",
                      "arrowhead": 0,
                      "arrowwidth": 1
                    },
                    "autotypenumbers": "strict",
                    "coloraxis": {
                      "colorbar": {
                        "outlinewidth": 0,
                        "ticks": ""
                      }
                    },
                    "colorscale": {
                      "diverging": [
                        [
                          0,
                          "#8e0152"
                        ],
                        [
                          0.1,
                          "#c51b7d"
                        ],
                        [
                          0.2,
                          "#de77ae"
                        ],
                        [
                          0.3,
                          "#f1b6da"
                        ],
                        [
                          0.4,
                          "#fde0ef"
                        ],
                        [
                          0.5,
                          "#f7f7f7"
                        ],
                        [
                          0.6,
                          "#e6f5d0"
                        ],
                        [
                          0.7,
                          "#b8e186"
                        ],
                        [
                          0.8,
                          "#7fbc41"
                        ],
                        [
                          0.9,
                          "#4d9221"
                        ],
                        [
                          1,
                          "#276419"
                        ]
                      ],
                      "sequential": [
                        [
                          0,
                          "#0d0887"
                        ],
                        [
                          0.1111111111111111,
                          "#46039f"
                        ],
                        [
                          0.2222222222222222,
                          "#7201a8"
                        ],
                        [
                          0.3333333333333333,
                          "#9c179e"
                        ],
                        [
                          0.4444444444444444,
                          "#bd3786"
                        ],
                        [
                          0.5555555555555556,
                          "#d8576b"
                        ],
                        [
                          0.6666666666666666,
                          "#ed7953"
                        ],
                        [
                          0.7777777777777778,
                          "#fb9f3a"
                        ],
                        [
                          0.8888888888888888,
                          "#fdca26"
                        ],
                        [
                          1,
                          "#f0f921"
                        ]
                      ],
                      "sequentialminus": [
                        [
                          0,
                          "#0d0887"
                        ],
                        [
                          0.1111111111111111,
                          "#46039f"
                        ],
                        [
                          0.2222222222222222,
                          "#7201a8"
                        ],
                        [
                          0.3333333333333333,
                          "#9c179e"
                        ],
                        [
                          0.4444444444444444,
                          "#bd3786"
                        ],
                        [
                          0.5555555555555556,
                          "#d8576b"
                        ],
                        [
                          0.6666666666666666,
                          "#ed7953"
                        ],
                        [
                          0.7777777777777778,
                          "#fb9f3a"
                        ],
                        [
                          0.8888888888888888,
                          "#fdca26"
                        ],
                        [
                          1,
                          "#f0f921"
                        ]
                      ]
                    },
                    "colorway": [
                      "#636efa",
                      "#EF553B",
                      "#00cc96",
                      "#ab63fa",
                      "#FFA15A",
                      "#19d3f3",
                      "#FF6692",
                      "#B6E880",
                      "#FF97FF",
                      "#FECB52"
                    ],
                    "font": {
                      "color": "#2a3f5f"
                    },
                    "geo": {
                      "bgcolor": "white",
                      "lakecolor": "white",
                      "landcolor": "#E5ECF6",
                      "showlakes": true,
                      "showland": true,
                      "subunitcolor": "white"
                    },
                    "hoverlabel": {
                      "align": "left"
                    },
                    "hovermode": "closest",
                    "mapbox": {
                      "style": "light"
                    },
                    "paper_bgcolor": "white",
                    "plot_bgcolor": "#E5ECF6",
                    "polar": {
                      "angularaxis": {
                        "gridcolor": "white",
                        "linecolor": "white",
                        "ticks": ""
                      },
                      "bgcolor": "#E5ECF6",
                      "radialaxis": {
                        "gridcolor": "white",
                        "linecolor": "white",
                        "ticks": ""
                      }
                    },
                    "scene": {
                      "xaxis": {
                        "backgroundcolor": "#E5ECF6",
                        "gridcolor": "white",
                        "gridwidth": 2,
                        "linecolor": "white",
                        "showbackground": true,
                        "ticks": "",
                        "zerolinecolor": "white"
                      },
                      "yaxis": {
                        "backgroundcolor": "#E5ECF6",
                        "gridcolor": "white",
                        "gridwidth": 2,
                        "linecolor": "white",
                        "showbackground": true,
                        "ticks": "",
                        "zerolinecolor": "white"
                      },
                      "zaxis": {
                        "backgroundcolor": "#E5ECF6",
                        "gridcolor": "white",
                        "gridwidth": 2,
                        "linecolor": "white",
                        "showbackground": true,
                        "ticks": "",
                        "zerolinecolor": "white"
                      }
                    },
                    "shapedefaults": {
                      "line": {
                        "color": "#2a3f5f"
                      }
                    },
                    "ternary": {
                      "aaxis": {
                        "gridcolor": "white",
                        "linecolor": "white",
                        "ticks": ""
                      },
                      "baxis": {
                        "gridcolor": "white",
                        "linecolor": "white",
                        "ticks": ""
                      },
                      "bgcolor": "#E5ECF6",
                      "caxis": {
                        "gridcolor": "white",
                        "linecolor": "white",
                        "ticks": ""
                      }
                    },
                    "title": {
                      "x": 0.05
                    },
                    "xaxis": {
                      "automargin": true,
                      "gridcolor": "white",
                      "linecolor": "white",
                      "ticks": "",
                      "title": {
                        "standoff": 15
                      },
                      "zerolinecolor": "white",
                      "zerolinewidth": 2
                    },
                    "yaxis": {
                      "automargin": true,
                      "gridcolor": "white",
                      "linecolor": "white",
                      "ticks": "",
                      "title": {
                        "standoff": 15
                      },
                      "zerolinecolor": "white",
                      "zerolinewidth": 2
                    }
                  }
                },
                "title": {
                  "text": "Interactive ROC Curve"
                },
                "xaxis": {
                  "title": {
                    "text": "False Positive Rate"
                  }
                },
                "yaxis": {
                  "title": {
                    "text": "True Positive Rate"
                  }
                }
              }
            }
          },
          "metadata": {},
          "output_type": "display_data"
        }
      ],
      "source": [
        "trace = go.Scatter(x=fpr, y=tpr, mode='lines', name='AUC = %0.2f' % auc,\n",
        "                   line=dict(color='darkorange', width=2))\n",
        "reference_line = go.Scatter(x=[0,1], y=[0,1], mode='lines', name='Reference Line',\n",
        "                            line=dict(color='navy', width=2, dash='dash'))\n",
        "fig = go.Figure(data=[trace, reference_line])\n",
        "fig.update_layout(title='Interactive ROC Curve',\n",
        "                  xaxis_title='False Positive Rate',\n",
        "                  yaxis_title='True Positive Rate')\n",
        "fig.show()"
      ]
    },
    {
      "cell_type": "markdown",
      "metadata": {
        "id": "K5R9ilKZGLW7"
      },
      "source": [
        "*Показатель AUC (ROC) удалось поднять таким образом с 90% до 94%*"
      ]
    },
    {
      "cell_type": "markdown",
      "metadata": {
        "id": "VVMIhZjzIm6i"
      },
      "source": [
        "*В данном исследовании мы увидели, что модель DecisionTree дает хорошие результаты в задаче классификации по сравнению с другими моделями. Масштабирование данных не позволяет улучшить качество модели в этом случае. Также не ухудшает качество модели дисбаланс классов у целевого признака - модель \"из коробки\" отлично справляется с такими данными и не требует дополнительных манипуляций. Альтернативный вариант модели дерева решений (RandomForestClassifier) позволяет незначительно повысить качество предсказаний модели.*"
      ]
    }
  ],
  "metadata": {
    "colab": {
      "provenance": []
    },
    "kernelspec": {
      "display_name": "Python 3",
      "name": "python3"
    },
    "language_info": {
      "codemirror_mode": {
        "name": "ipython",
        "version": 3
      },
      "file_extension": ".py",
      "mimetype": "text/x-python",
      "name": "python",
      "nbconvert_exporter": "python",
      "pygments_lexer": "ipython3",
      "version": "3.12.3"
    }
  },
  "nbformat": 4,
  "nbformat_minor": 0
}

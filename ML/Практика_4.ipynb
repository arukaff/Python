{
 "cells": [
  {
   "cell_type": "code",
   "execution_count": 13,
   "metadata": {},
   "outputs": [
    {
     "name": "stdout",
     "output_type": "stream",
     "text": [
      "   f1          f2      f3        f4  f5        f6        f7        f8  \\\n",
      "0  31  238.933333   47296  0.238933  10  0.238933  0.238933  0.238933   \n",
      "1  24  238.933333   33088  0.238933   7  0.238933  0.238933  0.238933   \n",
      "2  18  238.933333  283342  0.238933   7  0.238933  0.238933  0.238933   \n",
      "3  19  238.933333  393712  0.238933   9  0.238933  0.238933  0.238933   \n",
      "4  28  238.933333  200515  0.238933  10  0.238933  0.238933  0.238933   \n",
      "\n",
      "          f9       f10  f11   f12  f13       f14  target  \n",
      "0  23.893333  0.238933    0  1740   20  0.238933       0  \n",
      "1  23.893333  0.238933    0     0   40  0.238933       0  \n",
      "2  23.893333  0.238933    0     0   20  0.238933       0  \n",
      "3  23.893333  0.238933    0     0   20  0.238933       0  \n",
      "4  23.893333  0.238933    0     0   40  0.238933       0  \n"
     ]
    }
   ],
   "source": [
    "import pandas as pd\n",
    "df = pd.read_csv(\"TestData.csv\") \n",
    "print(df.head())\n",
    "X = df[['f1','f2']] \n",
    "y = df['target']"
   ]
  },
  {
   "cell_type": "code",
   "execution_count": 14,
   "metadata": {},
   "outputs": [
    {
     "name": "stdout",
     "output_type": "stream",
     "text": [
      "<class 'pandas.core.frame.DataFrame'>\n",
      "RangeIndex: 2500 entries, 0 to 2499\n",
      "Data columns (total 15 columns):\n",
      " #   Column  Non-Null Count  Dtype  \n",
      "---  ------  --------------  -----  \n",
      " 0   f1      2500 non-null   int64  \n",
      " 1   f2      2500 non-null   float64\n",
      " 2   f3      2500 non-null   int64  \n",
      " 3   f4      2500 non-null   float64\n",
      " 4   f5      2500 non-null   int64  \n",
      " 5   f6      2500 non-null   float64\n",
      " 6   f7      2500 non-null   float64\n",
      " 7   f8      2500 non-null   float64\n",
      " 8   f9      2500 non-null   float64\n",
      " 9   f10     2500 non-null   float64\n",
      " 10  f11     2500 non-null   int64  \n",
      " 11  f12     2500 non-null   int64  \n",
      " 12  f13     2500 non-null   int64  \n",
      " 13  f14     2500 non-null   float64\n",
      " 14  target  2500 non-null   int64  \n",
      "dtypes: float64(8), int64(7)\n",
      "memory usage: 293.1 KB\n"
     ]
    }
   ],
   "source": [
    "df.info()"
   ]
  },
  {
   "cell_type": "code",
   "execution_count": 15,
   "metadata": {},
   "outputs": [
    {
     "data": {
      "text/plain": [
       "target\n",
       "0    1913\n",
       "1     587\n",
       "Name: count, dtype: int64"
      ]
     },
     "execution_count": 15,
     "metadata": {},
     "output_type": "execute_result"
    }
   ],
   "source": [
    "y.value_counts()"
   ]
  },
  {
   "cell_type": "code",
   "execution_count": 16,
   "metadata": {},
   "outputs": [
    {
     "data": {
      "text/html": [
       "<div>\n",
       "<style scoped>\n",
       "    .dataframe tbody tr th:only-of-type {\n",
       "        vertical-align: middle;\n",
       "    }\n",
       "\n",
       "    .dataframe tbody tr th {\n",
       "        vertical-align: top;\n",
       "    }\n",
       "\n",
       "    .dataframe thead th {\n",
       "        text-align: right;\n",
       "    }\n",
       "</style>\n",
       "<table border=\"1\" class=\"dataframe\">\n",
       "  <thead>\n",
       "    <tr style=\"text-align: right;\">\n",
       "      <th></th>\n",
       "      <th>f1</th>\n",
       "      <th>f2</th>\n",
       "    </tr>\n",
       "  </thead>\n",
       "  <tbody>\n",
       "    <tr>\n",
       "      <th>158</th>\n",
       "      <td>25</td>\n",
       "      <td>238.933333</td>\n",
       "    </tr>\n",
       "    <tr>\n",
       "      <th>502</th>\n",
       "      <td>35</td>\n",
       "      <td>238.933333</td>\n",
       "    </tr>\n",
       "    <tr>\n",
       "      <th>1703</th>\n",
       "      <td>52</td>\n",
       "      <td>238.933333</td>\n",
       "    </tr>\n",
       "    <tr>\n",
       "      <th>2390</th>\n",
       "      <td>58</td>\n",
       "      <td>238.933333</td>\n",
       "    </tr>\n",
       "    <tr>\n",
       "      <th>201</th>\n",
       "      <td>37</td>\n",
       "      <td>238.933333</td>\n",
       "    </tr>\n",
       "    <tr>\n",
       "      <th>...</th>\n",
       "      <td>...</td>\n",
       "      <td>...</td>\n",
       "    </tr>\n",
       "    <tr>\n",
       "      <th>559</th>\n",
       "      <td>49</td>\n",
       "      <td>238.933333</td>\n",
       "    </tr>\n",
       "    <tr>\n",
       "      <th>1800</th>\n",
       "      <td>44</td>\n",
       "      <td>238.933333</td>\n",
       "    </tr>\n",
       "    <tr>\n",
       "      <th>999</th>\n",
       "      <td>19</td>\n",
       "      <td>238.933333</td>\n",
       "    </tr>\n",
       "    <tr>\n",
       "      <th>2003</th>\n",
       "      <td>25</td>\n",
       "      <td>238.933333</td>\n",
       "    </tr>\n",
       "    <tr>\n",
       "      <th>1141</th>\n",
       "      <td>19</td>\n",
       "      <td>238.933333</td>\n",
       "    </tr>\n",
       "  </tbody>\n",
       "</table>\n",
       "<p>1875 rows × 2 columns</p>\n",
       "</div>"
      ],
      "text/plain": [
       "      f1          f2\n",
       "158   25  238.933333\n",
       "502   35  238.933333\n",
       "1703  52  238.933333\n",
       "2390  58  238.933333\n",
       "201   37  238.933333\n",
       "...   ..         ...\n",
       "559   49  238.933333\n",
       "1800  44  238.933333\n",
       "999   19  238.933333\n",
       "2003  25  238.933333\n",
       "1141  19  238.933333\n",
       "\n",
       "[1875 rows x 2 columns]"
      ]
     },
     "execution_count": 16,
     "metadata": {},
     "output_type": "execute_result"
    }
   ],
   "source": [
    "from sklearn.model_selection import train_test_split\n",
    "X_train, X_test, y_train, y_test = train_test_split(X, y, test_size=0.25)\n",
    "X_train\n"
   ]
  },
  {
   "cell_type": "code",
   "execution_count": 17,
   "metadata": {},
   "outputs": [
    {
     "name": "stdout",
     "output_type": "stream",
     "text": [
      "              precision    recall  f1-score   support\n",
      "\n",
      "           0       0.75      1.00      0.85       466\n",
      "           1       0.00      0.00      0.00       159\n",
      "\n",
      "    accuracy                           0.75       625\n",
      "   macro avg       0.37      0.50      0.43       625\n",
      "weighted avg       0.56      0.75      0.64       625\n",
      "\n"
     ]
    },
    {
     "name": "stderr",
     "output_type": "stream",
     "text": [
      "/Users/a.rukaff/Python/Python/.venv/lib/python3.12/site-packages/sklearn/metrics/_classification.py:1565: UndefinedMetricWarning: Precision is ill-defined and being set to 0.0 in labels with no predicted samples. Use `zero_division` parameter to control this behavior.\n",
      "  _warn_prf(average, modifier, f\"{metric.capitalize()} is\", len(result))\n",
      "/Users/a.rukaff/Python/Python/.venv/lib/python3.12/site-packages/sklearn/metrics/_classification.py:1565: UndefinedMetricWarning: Precision is ill-defined and being set to 0.0 in labels with no predicted samples. Use `zero_division` parameter to control this behavior.\n",
      "  _warn_prf(average, modifier, f\"{metric.capitalize()} is\", len(result))\n",
      "/Users/a.rukaff/Python/Python/.venv/lib/python3.12/site-packages/sklearn/metrics/_classification.py:1565: UndefinedMetricWarning: Precision is ill-defined and being set to 0.0 in labels with no predicted samples. Use `zero_division` parameter to control this behavior.\n",
      "  _warn_prf(average, modifier, f\"{metric.capitalize()} is\", len(result))\n"
     ]
    }
   ],
   "source": [
    "from sklearn.svm import SVC\n",
    "model = SVC() \n",
    "model.fit(X_train, y_train)\n",
    "pred_unb = model.predict(X_test)\n",
    "from sklearn.metrics import classification_report \n",
    "print(classification_report(y_test, pred_unb))"
   ]
  },
  {
   "cell_type": "code",
   "execution_count": 18,
   "metadata": {},
   "outputs": [
    {
     "name": "stdout",
     "output_type": "stream",
     "text": [
      "              precision    recall  f1-score   support\n",
      "\n",
      "           0       0.88      0.55      0.67       466\n",
      "           1       0.37      0.77      0.50       159\n",
      "\n",
      "    accuracy                           0.60       625\n",
      "   macro avg       0.62      0.66      0.58       625\n",
      "weighted avg       0.75      0.60      0.63       625\n",
      "\n"
     ]
    }
   ],
   "source": [
    "model = SVC(class_weight='balanced') \n",
    "model.fit(X_train, y_train)\n",
    "pred_b = model.predict(X_test) \n",
    "print(classification_report(y_test, pred_b))"
   ]
  }
 ],
 "metadata": {
  "kernelspec": {
   "display_name": ".venv",
   "language": "python",
   "name": "python3"
  },
  "language_info": {
   "codemirror_mode": {
    "name": "ipython",
    "version": 3
   },
   "file_extension": ".py",
   "mimetype": "text/x-python",
   "name": "python",
   "nbconvert_exporter": "python",
   "pygments_lexer": "ipython3",
   "version": "3.12.2"
  }
 },
 "nbformat": 4,
 "nbformat_minor": 2
}

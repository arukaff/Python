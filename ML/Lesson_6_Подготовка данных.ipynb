{
 "cells": [
  {
   "cell_type": "code",
   "execution_count": 10,
   "metadata": {},
   "outputs": [
    {
     "data": {
      "text/plain": [
       "(13119, 9)"
      ]
     },
     "execution_count": 10,
     "metadata": {},
     "output_type": "execute_result"
    }
   ],
   "source": [
    "import pandas as pd\n",
    "df = pd.read_csv('merc.csv')\n",
    "df.shape"
   ]
  },
  {
   "cell_type": "code",
   "execution_count": 11,
   "metadata": {},
   "outputs": [
    {
     "data": {
      "text/html": [
       "<div>\n",
       "<style scoped>\n",
       "    .dataframe tbody tr th:only-of-type {\n",
       "        vertical-align: middle;\n",
       "    }\n",
       "\n",
       "    .dataframe tbody tr th {\n",
       "        vertical-align: top;\n",
       "    }\n",
       "\n",
       "    .dataframe thead th {\n",
       "        text-align: right;\n",
       "    }\n",
       "</style>\n",
       "<table border=\"1\" class=\"dataframe\">\n",
       "  <thead>\n",
       "    <tr style=\"text-align: right;\">\n",
       "      <th></th>\n",
       "      <th>model</th>\n",
       "      <th>year</th>\n",
       "      <th>price</th>\n",
       "      <th>transmission</th>\n",
       "      <th>mileage</th>\n",
       "      <th>fuelType</th>\n",
       "      <th>tax</th>\n",
       "      <th>mpg</th>\n",
       "      <th>engineSize</th>\n",
       "    </tr>\n",
       "  </thead>\n",
       "  <tbody>\n",
       "    <tr>\n",
       "      <th>0</th>\n",
       "      <td>SLK</td>\n",
       "      <td>2005</td>\n",
       "      <td>5200</td>\n",
       "      <td>Automatic</td>\n",
       "      <td>63000</td>\n",
       "      <td>Petrol</td>\n",
       "      <td>325</td>\n",
       "      <td>32.1</td>\n",
       "      <td>1.8</td>\n",
       "    </tr>\n",
       "    <tr>\n",
       "      <th>1</th>\n",
       "      <td>S Class</td>\n",
       "      <td>2017</td>\n",
       "      <td>34948</td>\n",
       "      <td>Automatic</td>\n",
       "      <td>27000</td>\n",
       "      <td>Hybrid</td>\n",
       "      <td>20</td>\n",
       "      <td>61.4</td>\n",
       "      <td>2.1</td>\n",
       "    </tr>\n",
       "    <tr>\n",
       "      <th>2</th>\n",
       "      <td>SL CLASS</td>\n",
       "      <td>2016</td>\n",
       "      <td>49948</td>\n",
       "      <td>Automatic</td>\n",
       "      <td>6200</td>\n",
       "      <td>Petrol</td>\n",
       "      <td>555</td>\n",
       "      <td>28.0</td>\n",
       "      <td>5.5</td>\n",
       "    </tr>\n",
       "    <tr>\n",
       "      <th>3</th>\n",
       "      <td>G Class</td>\n",
       "      <td>2016</td>\n",
       "      <td>61948</td>\n",
       "      <td>Automatic</td>\n",
       "      <td>16000</td>\n",
       "      <td>Petrol</td>\n",
       "      <td>325</td>\n",
       "      <td>30.4</td>\n",
       "      <td>4.0</td>\n",
       "    </tr>\n",
       "    <tr>\n",
       "      <th>4</th>\n",
       "      <td>G Class</td>\n",
       "      <td>2016</td>\n",
       "      <td>73948</td>\n",
       "      <td>Automatic</td>\n",
       "      <td>4000</td>\n",
       "      <td>Petrol</td>\n",
       "      <td>325</td>\n",
       "      <td>30.1</td>\n",
       "      <td>4.0</td>\n",
       "    </tr>\n",
       "  </tbody>\n",
       "</table>\n",
       "</div>"
      ],
      "text/plain": [
       "       model  year  price transmission  mileage fuelType  tax   mpg  \\\n",
       "0        SLK  2005   5200    Automatic    63000   Petrol  325  32.1   \n",
       "1    S Class  2017  34948    Automatic    27000   Hybrid   20  61.4   \n",
       "2   SL CLASS  2016  49948    Automatic     6200   Petrol  555  28.0   \n",
       "3    G Class  2016  61948    Automatic    16000   Petrol  325  30.4   \n",
       "4    G Class  2016  73948    Automatic     4000   Petrol  325  30.1   \n",
       "\n",
       "   engineSize  \n",
       "0         1.8  \n",
       "1         2.1  \n",
       "2         5.5  \n",
       "3         4.0  \n",
       "4         4.0  "
      ]
     },
     "execution_count": 11,
     "metadata": {},
     "output_type": "execute_result"
    }
   ],
   "source": [
    "df.head()"
   ]
  },
  {
   "cell_type": "markdown",
   "metadata": {},
   "source": [
    "Метод isna для каждой ячейки проверяет, пропущено в ней значение или нет.Затем\n",
    "мы используем метод sum чтобы просуммировать количество пропусков в каждом\n",
    "признаке."
   ]
  },
  {
   "cell_type": "code",
   "execution_count": 12,
   "metadata": {},
   "outputs": [
    {
     "data": {
      "text/plain": [
       "model           0\n",
       "year            0\n",
       "price           0\n",
       "transmission    0\n",
       "mileage         0\n",
       "fuelType        0\n",
       "tax             0\n",
       "mpg             0\n",
       "engineSize      0\n",
       "dtype: int64"
      ]
     },
     "execution_count": 12,
     "metadata": {},
     "output_type": "execute_result"
    }
   ],
   "source": [
    "df.isna().sum()"
   ]
  },
  {
   "cell_type": "markdown",
   "metadata": {},
   "source": [
    "Некоторые признаки не содержат пропусков. А в остальных их примерно равное\n",
    "количество.Давайте посмотрим на процент пропусков в каждом признаке. Для\n",
    "этого разделим значения на количество записей в датафрейме."
   ]
  },
  {
   "cell_type": "code",
   "execution_count": 13,
   "metadata": {},
   "outputs": [
    {
     "data": {
      "text/plain": [
       "model           0.0\n",
       "year            0.0\n",
       "price           0.0\n",
       "transmission    0.0\n",
       "mileage         0.0\n",
       "fuelType        0.0\n",
       "tax             0.0\n",
       "mpg             0.0\n",
       "engineSize      0.0\n",
       "dtype: float64"
      ]
     },
     "execution_count": 13,
     "metadata": {},
     "output_type": "execute_result"
    }
   ],
   "source": [
    "df.isna().sum() / df.shape[0]"
   ]
  },
  {
   "cell_type": "markdown",
   "metadata": {},
   "source": [
    "Давайте просуммируем наши пропуски и посмотрим сколько же там пропущено\n",
    "значений."
   ]
  },
  {
   "cell_type": "code",
   "execution_count": 14,
   "metadata": {},
   "outputs": [
    {
     "data": {
      "text/plain": [
       "(0, 9)"
      ]
     },
     "execution_count": 14,
     "metadata": {},
     "output_type": "execute_result"
    }
   ],
   "source": [
    "df_miss_row = df[df.isna().sum(axis=1) >= 5]\n",
    "df_miss_row.shape"
   ]
  },
  {
   "cell_type": "markdown",
   "metadata": {},
   "source": [
    "Давайте их просто удалим из набора данных строки где пропусков меньше 5"
   ]
  },
  {
   "cell_type": "code",
   "execution_count": 15,
   "metadata": {},
   "outputs": [
    {
     "data": {
      "text/plain": [
       "(13119, 9)"
      ]
     },
     "execution_count": 15,
     "metadata": {},
     "output_type": "execute_result"
    }
   ],
   "source": [
    "df = df[df.isna().sum(axis=1) < 5]\n",
    "df.shape"
   ]
  },
  {
   "cell_type": "code",
   "execution_count": 16,
   "metadata": {},
   "outputs": [],
   "source": [
    "from sklearn.model_selection import train_test_split\n",
    "random_state = 42\n",
    "X_train, X_test = train_test_split(df, test_size=0.2, random_state=random_state)"
   ]
  },
  {
   "cell_type": "markdown",
   "metadata": {},
   "source": [
    "Заполним пропуски в признаках налога и пробега заполним нулями, а в признаке\n",
    "модели значением неизвестно. Ав признакаха расхода топлива и объема двигателя\n",
    "- медианным значением этих признаков. В отличии от пробега и налога эти\n",
    "признаки не могут быть равны нулю. Для начала импортируем предпроцессор,\n",
    "который мы будем использовать для заполнения пропусков."
   ]
  },
  {
   "cell_type": "code",
   "execution_count": 17,
   "metadata": {},
   "outputs": [],
   "source": [
    "from sklearn.impute import SimpleImputer"
   ]
  },
  {
   "cell_type": "code",
   "execution_count": 23,
   "metadata": {},
   "outputs": [],
   "source": [
    "imp_const_0 = SimpleImputer(strategy='constant', fill_value=0)"
   ]
  },
  {
   "cell_type": "code",
   "execution_count": 24,
   "metadata": {},
   "outputs": [],
   "source": [
    "zero_cols = ['mileage', 'tax']"
   ]
  },
  {
   "cell_type": "code",
   "execution_count": 25,
   "metadata": {},
   "outputs": [
    {
     "data": {
      "text/html": [
       "<div>\n",
       "<style scoped>\n",
       "    .dataframe tbody tr th:only-of-type {\n",
       "        vertical-align: middle;\n",
       "    }\n",
       "\n",
       "    .dataframe tbody tr th {\n",
       "        vertical-align: top;\n",
       "    }\n",
       "\n",
       "    .dataframe thead th {\n",
       "        text-align: right;\n",
       "    }\n",
       "</style>\n",
       "<table border=\"1\" class=\"dataframe\">\n",
       "  <thead>\n",
       "    <tr style=\"text-align: right;\">\n",
       "      <th></th>\n",
       "      <th>model</th>\n",
       "      <th>year</th>\n",
       "      <th>price</th>\n",
       "      <th>transmission</th>\n",
       "      <th>mileage</th>\n",
       "      <th>fuelType</th>\n",
       "      <th>tax</th>\n",
       "      <th>mpg</th>\n",
       "      <th>engineSize</th>\n",
       "    </tr>\n",
       "  </thead>\n",
       "  <tbody>\n",
       "    <tr>\n",
       "      <th>7765</th>\n",
       "      <td>C Class</td>\n",
       "      <td>2019</td>\n",
       "      <td>34579</td>\n",
       "      <td>Semi-Auto</td>\n",
       "      <td>1000</td>\n",
       "      <td>Petrol</td>\n",
       "      <td>145</td>\n",
       "      <td>44.1</td>\n",
       "      <td>1.5</td>\n",
       "    </tr>\n",
       "    <tr>\n",
       "      <th>4007</th>\n",
       "      <td>GLE Class</td>\n",
       "      <td>2017</td>\n",
       "      <td>33142</td>\n",
       "      <td>Automatic</td>\n",
       "      <td>27661</td>\n",
       "      <td>Diesel</td>\n",
       "      <td>145</td>\n",
       "      <td>42.8</td>\n",
       "      <td>3.0</td>\n",
       "    </tr>\n",
       "    <tr>\n",
       "      <th>274</th>\n",
       "      <td>C Class</td>\n",
       "      <td>2018</td>\n",
       "      <td>20685</td>\n",
       "      <td>Semi-Auto</td>\n",
       "      <td>21929</td>\n",
       "      <td>Diesel</td>\n",
       "      <td>145</td>\n",
       "      <td>64.2</td>\n",
       "      <td>2.1</td>\n",
       "    </tr>\n",
       "    <tr>\n",
       "      <th>1281</th>\n",
       "      <td>C Class</td>\n",
       "      <td>2016</td>\n",
       "      <td>18700</td>\n",
       "      <td>Semi-Auto</td>\n",
       "      <td>33237</td>\n",
       "      <td>Diesel</td>\n",
       "      <td>125</td>\n",
       "      <td>58.9</td>\n",
       "      <td>2.1</td>\n",
       "    </tr>\n",
       "    <tr>\n",
       "      <th>6062</th>\n",
       "      <td>C Class</td>\n",
       "      <td>2019</td>\n",
       "      <td>29995</td>\n",
       "      <td>Semi-Auto</td>\n",
       "      <td>9</td>\n",
       "      <td>Petrol</td>\n",
       "      <td>145</td>\n",
       "      <td>42.8</td>\n",
       "      <td>2.0</td>\n",
       "    </tr>\n",
       "  </tbody>\n",
       "</table>\n",
       "</div>"
      ],
      "text/plain": [
       "           model  year  price transmission  mileage fuelType  tax   mpg  \\\n",
       "7765     C Class  2019  34579    Semi-Auto     1000   Petrol  145  44.1   \n",
       "4007   GLE Class  2017  33142    Automatic    27661   Diesel  145  42.8   \n",
       "274      C Class  2018  20685    Semi-Auto    21929   Diesel  145  64.2   \n",
       "1281     C Class  2016  18700    Semi-Auto    33237   Diesel  125  58.9   \n",
       "6062     C Class  2019  29995    Semi-Auto        9   Petrol  145  42.8   \n",
       "\n",
       "      engineSize  \n",
       "7765         1.5  \n",
       "4007         3.0  \n",
       "274          2.1  \n",
       "1281         2.1  \n",
       "6062         2.0  "
      ]
     },
     "execution_count": 25,
     "metadata": {},
     "output_type": "execute_result"
    }
   ],
   "source": [
    "X_train[zero_cols] = imp_const_0.fit_transform(X_train[zero_cols])\n",
    "X_train.head()"
   ]
  },
  {
   "cell_type": "markdown",
   "metadata": {},
   "source": [
    "Убедимся, что все пропуски были заполнены"
   ]
  },
  {
   "cell_type": "code",
   "execution_count": 22,
   "metadata": {},
   "outputs": [
    {
     "data": {
      "text/plain": [
       "mileage    0\n",
       "tax        0\n",
       "dtype: int64"
      ]
     },
     "execution_count": 22,
     "metadata": {},
     "output_type": "execute_result"
    }
   ],
   "source": [
    "X_train[zero_cols].isna().sum()"
   ]
  },
  {
   "cell_type": "code",
   "execution_count": 26,
   "metadata": {},
   "outputs": [
    {
     "data": {
      "text/html": [
       "<div>\n",
       "<style scoped>\n",
       "    .dataframe tbody tr th:only-of-type {\n",
       "        vertical-align: middle;\n",
       "    }\n",
       "\n",
       "    .dataframe tbody tr th {\n",
       "        vertical-align: top;\n",
       "    }\n",
       "\n",
       "    .dataframe thead th {\n",
       "        text-align: right;\n",
       "    }\n",
       "</style>\n",
       "<table border=\"1\" class=\"dataframe\">\n",
       "  <thead>\n",
       "    <tr style=\"text-align: right;\">\n",
       "      <th></th>\n",
       "      <th>model</th>\n",
       "      <th>year</th>\n",
       "      <th>price</th>\n",
       "      <th>transmission</th>\n",
       "      <th>mileage</th>\n",
       "      <th>fuelType</th>\n",
       "      <th>tax</th>\n",
       "      <th>mpg</th>\n",
       "      <th>engineSize</th>\n",
       "    </tr>\n",
       "  </thead>\n",
       "  <tbody>\n",
       "    <tr>\n",
       "      <th>7765</th>\n",
       "      <td>C Class</td>\n",
       "      <td>2019</td>\n",
       "      <td>34579</td>\n",
       "      <td>Semi-Auto</td>\n",
       "      <td>1000</td>\n",
       "      <td>Petrol</td>\n",
       "      <td>145</td>\n",
       "      <td>44.1</td>\n",
       "      <td>1.5</td>\n",
       "    </tr>\n",
       "    <tr>\n",
       "      <th>4007</th>\n",
       "      <td>GLE Class</td>\n",
       "      <td>2017</td>\n",
       "      <td>33142</td>\n",
       "      <td>Automatic</td>\n",
       "      <td>27661</td>\n",
       "      <td>Diesel</td>\n",
       "      <td>145</td>\n",
       "      <td>42.8</td>\n",
       "      <td>3.0</td>\n",
       "    </tr>\n",
       "    <tr>\n",
       "      <th>274</th>\n",
       "      <td>C Class</td>\n",
       "      <td>2018</td>\n",
       "      <td>20685</td>\n",
       "      <td>Semi-Auto</td>\n",
       "      <td>21929</td>\n",
       "      <td>Diesel</td>\n",
       "      <td>145</td>\n",
       "      <td>64.2</td>\n",
       "      <td>2.1</td>\n",
       "    </tr>\n",
       "    <tr>\n",
       "      <th>1281</th>\n",
       "      <td>C Class</td>\n",
       "      <td>2016</td>\n",
       "      <td>18700</td>\n",
       "      <td>Semi-Auto</td>\n",
       "      <td>33237</td>\n",
       "      <td>Diesel</td>\n",
       "      <td>125</td>\n",
       "      <td>58.9</td>\n",
       "      <td>2.1</td>\n",
       "    </tr>\n",
       "    <tr>\n",
       "      <th>6062</th>\n",
       "      <td>C Class</td>\n",
       "      <td>2019</td>\n",
       "      <td>29995</td>\n",
       "      <td>Semi-Auto</td>\n",
       "      <td>9</td>\n",
       "      <td>Petrol</td>\n",
       "      <td>145</td>\n",
       "      <td>42.8</td>\n",
       "      <td>2.0</td>\n",
       "    </tr>\n",
       "  </tbody>\n",
       "</table>\n",
       "</div>"
      ],
      "text/plain": [
       "           model  year  price transmission  mileage fuelType  tax   mpg  \\\n",
       "7765     C Class  2019  34579    Semi-Auto     1000   Petrol  145  44.1   \n",
       "4007   GLE Class  2017  33142    Automatic    27661   Diesel  145  42.8   \n",
       "274      C Class  2018  20685    Semi-Auto    21929   Diesel  145  64.2   \n",
       "1281     C Class  2016  18700    Semi-Auto    33237   Diesel  125  58.9   \n",
       "6062     C Class  2019  29995    Semi-Auto        9   Petrol  145  42.8   \n",
       "\n",
       "      engineSize  \n",
       "7765         1.5  \n",
       "4007         3.0  \n",
       "274          2.1  \n",
       "1281         2.1  \n",
       "6062         2.0  "
      ]
     },
     "execution_count": 26,
     "metadata": {},
     "output_type": "execute_result"
    }
   ],
   "source": [
    "imp_const_unknown = SimpleImputer(strategy='constant', fill_value='unknown')\n",
    "unk_cols = ['model']\n",
    "X_train[unk_cols] = imp_const_unknown.fit_transform(X_train[unk_cols])\n",
    "X_train.head()"
   ]
  },
  {
   "cell_type": "markdown",
   "metadata": {},
   "source": [
    "А теперь заполним пропуски в признаках, про которые мы говорили выше,\n",
    "медианным значением."
   ]
  },
  {
   "cell_type": "code",
   "execution_count": 28,
   "metadata": {},
   "outputs": [
    {
     "data": {
      "text/html": [
       "<div>\n",
       "<style scoped>\n",
       "    .dataframe tbody tr th:only-of-type {\n",
       "        vertical-align: middle;\n",
       "    }\n",
       "\n",
       "    .dataframe tbody tr th {\n",
       "        vertical-align: top;\n",
       "    }\n",
       "\n",
       "    .dataframe thead th {\n",
       "        text-align: right;\n",
       "    }\n",
       "</style>\n",
       "<table border=\"1\" class=\"dataframe\">\n",
       "  <thead>\n",
       "    <tr style=\"text-align: right;\">\n",
       "      <th></th>\n",
       "      <th>model</th>\n",
       "      <th>year</th>\n",
       "      <th>price</th>\n",
       "      <th>transmission</th>\n",
       "      <th>mileage</th>\n",
       "      <th>fuelType</th>\n",
       "      <th>tax</th>\n",
       "      <th>mpg</th>\n",
       "      <th>engineSize</th>\n",
       "    </tr>\n",
       "  </thead>\n",
       "  <tbody>\n",
       "    <tr>\n",
       "      <th>7765</th>\n",
       "      <td>C Class</td>\n",
       "      <td>2019</td>\n",
       "      <td>34579</td>\n",
       "      <td>Semi-Auto</td>\n",
       "      <td>1000</td>\n",
       "      <td>Petrol</td>\n",
       "      <td>145</td>\n",
       "      <td>44.1</td>\n",
       "      <td>1.5</td>\n",
       "    </tr>\n",
       "    <tr>\n",
       "      <th>4007</th>\n",
       "      <td>GLE Class</td>\n",
       "      <td>2017</td>\n",
       "      <td>33142</td>\n",
       "      <td>Automatic</td>\n",
       "      <td>27661</td>\n",
       "      <td>Diesel</td>\n",
       "      <td>145</td>\n",
       "      <td>42.8</td>\n",
       "      <td>3.0</td>\n",
       "    </tr>\n",
       "    <tr>\n",
       "      <th>274</th>\n",
       "      <td>C Class</td>\n",
       "      <td>2018</td>\n",
       "      <td>20685</td>\n",
       "      <td>Semi-Auto</td>\n",
       "      <td>21929</td>\n",
       "      <td>Diesel</td>\n",
       "      <td>145</td>\n",
       "      <td>64.2</td>\n",
       "      <td>2.1</td>\n",
       "    </tr>\n",
       "    <tr>\n",
       "      <th>1281</th>\n",
       "      <td>C Class</td>\n",
       "      <td>2016</td>\n",
       "      <td>18700</td>\n",
       "      <td>Semi-Auto</td>\n",
       "      <td>33237</td>\n",
       "      <td>Diesel</td>\n",
       "      <td>125</td>\n",
       "      <td>58.9</td>\n",
       "      <td>2.1</td>\n",
       "    </tr>\n",
       "    <tr>\n",
       "      <th>6062</th>\n",
       "      <td>C Class</td>\n",
       "      <td>2019</td>\n",
       "      <td>29995</td>\n",
       "      <td>Semi-Auto</td>\n",
       "      <td>9</td>\n",
       "      <td>Petrol</td>\n",
       "      <td>145</td>\n",
       "      <td>42.8</td>\n",
       "      <td>2.0</td>\n",
       "    </tr>\n",
       "  </tbody>\n",
       "</table>\n",
       "</div>"
      ],
      "text/plain": [
       "           model  year  price transmission  mileage fuelType  tax   mpg  \\\n",
       "7765     C Class  2019  34579    Semi-Auto     1000   Petrol  145  44.1   \n",
       "4007   GLE Class  2017  33142    Automatic    27661   Diesel  145  42.8   \n",
       "274      C Class  2018  20685    Semi-Auto    21929   Diesel  145  64.2   \n",
       "1281     C Class  2016  18700    Semi-Auto    33237   Diesel  125  58.9   \n",
       "6062     C Class  2019  29995    Semi-Auto        9   Petrol  145  42.8   \n",
       "\n",
       "      engineSize  \n",
       "7765         1.5  \n",
       "4007         3.0  \n",
       "274          2.1  \n",
       "1281         2.1  \n",
       "6062         2.0  "
      ]
     },
     "execution_count": 28,
     "metadata": {},
     "output_type": "execute_result"
    }
   ],
   "source": [
    "imp_median = SimpleImputer(strategy='median')\n",
    "med_cols = ['mpg', 'engineSize']\n",
    "X_train[med_cols] = imp_median.fit_transform(X_train[med_cols])\n",
    "X_train.head()"
   ]
  },
  {
   "cell_type": "markdown",
   "metadata": {},
   "source": [
    "У нас остался еще один признак с пропусками - год выпуска. Давайте используем\n",
    "метод к ближайших соседей. Мы будем искать пропуски, а затем найдем соседей, и\n",
    "посмотрим, какие значения там.\n",
    "\n",
    "Будем брать трех ближайших соседей. Будем использовать только численные\n",
    "признаки"
   ]
  },
  {
   "cell_type": "code",
   "execution_count": 30,
   "metadata": {},
   "outputs": [
    {
     "data": {
      "text/html": [
       "<div>\n",
       "<style scoped>\n",
       "    .dataframe tbody tr th:only-of-type {\n",
       "        vertical-align: middle;\n",
       "    }\n",
       "\n",
       "    .dataframe tbody tr th {\n",
       "        vertical-align: top;\n",
       "    }\n",
       "\n",
       "    .dataframe thead th {\n",
       "        text-align: right;\n",
       "    }\n",
       "</style>\n",
       "<table border=\"1\" class=\"dataframe\">\n",
       "  <thead>\n",
       "    <tr style=\"text-align: right;\">\n",
       "      <th></th>\n",
       "      <th>model</th>\n",
       "      <th>year</th>\n",
       "      <th>price</th>\n",
       "      <th>transmission</th>\n",
       "      <th>mileage</th>\n",
       "      <th>fuelType</th>\n",
       "      <th>tax</th>\n",
       "      <th>mpg</th>\n",
       "      <th>engineSize</th>\n",
       "    </tr>\n",
       "  </thead>\n",
       "  <tbody>\n",
       "    <tr>\n",
       "      <th>7765</th>\n",
       "      <td>C Class</td>\n",
       "      <td>2019.0</td>\n",
       "      <td>34579</td>\n",
       "      <td>Semi-Auto</td>\n",
       "      <td>1000.0</td>\n",
       "      <td>Petrol</td>\n",
       "      <td>145.0</td>\n",
       "      <td>44.1</td>\n",
       "      <td>1.5</td>\n",
       "    </tr>\n",
       "    <tr>\n",
       "      <th>4007</th>\n",
       "      <td>GLE Class</td>\n",
       "      <td>2017.0</td>\n",
       "      <td>33142</td>\n",
       "      <td>Automatic</td>\n",
       "      <td>27661.0</td>\n",
       "      <td>Diesel</td>\n",
       "      <td>145.0</td>\n",
       "      <td>42.8</td>\n",
       "      <td>3.0</td>\n",
       "    </tr>\n",
       "    <tr>\n",
       "      <th>274</th>\n",
       "      <td>C Class</td>\n",
       "      <td>2018.0</td>\n",
       "      <td>20685</td>\n",
       "      <td>Semi-Auto</td>\n",
       "      <td>21929.0</td>\n",
       "      <td>Diesel</td>\n",
       "      <td>145.0</td>\n",
       "      <td>64.2</td>\n",
       "      <td>2.1</td>\n",
       "    </tr>\n",
       "    <tr>\n",
       "      <th>1281</th>\n",
       "      <td>C Class</td>\n",
       "      <td>2016.0</td>\n",
       "      <td>18700</td>\n",
       "      <td>Semi-Auto</td>\n",
       "      <td>33237.0</td>\n",
       "      <td>Diesel</td>\n",
       "      <td>125.0</td>\n",
       "      <td>58.9</td>\n",
       "      <td>2.1</td>\n",
       "    </tr>\n",
       "    <tr>\n",
       "      <th>6062</th>\n",
       "      <td>C Class</td>\n",
       "      <td>2019.0</td>\n",
       "      <td>29995</td>\n",
       "      <td>Semi-Auto</td>\n",
       "      <td>9.0</td>\n",
       "      <td>Petrol</td>\n",
       "      <td>145.0</td>\n",
       "      <td>42.8</td>\n",
       "      <td>2.0</td>\n",
       "    </tr>\n",
       "  </tbody>\n",
       "</table>\n",
       "</div>"
      ],
      "text/plain": [
       "           model    year  price transmission  mileage fuelType    tax   mpg  \\\n",
       "7765     C Class  2019.0  34579    Semi-Auto   1000.0   Petrol  145.0  44.1   \n",
       "4007   GLE Class  2017.0  33142    Automatic  27661.0   Diesel  145.0  42.8   \n",
       "274      C Class  2018.0  20685    Semi-Auto  21929.0   Diesel  145.0  64.2   \n",
       "1281     C Class  2016.0  18700    Semi-Auto  33237.0   Diesel  125.0  58.9   \n",
       "6062     C Class  2019.0  29995    Semi-Auto      9.0   Petrol  145.0  42.8   \n",
       "\n",
       "      engineSize  \n",
       "7765         1.5  \n",
       "4007         3.0  \n",
       "274          2.1  \n",
       "1281         2.1  \n",
       "6062         2.0  "
      ]
     },
     "execution_count": 30,
     "metadata": {},
     "output_type": "execute_result"
    }
   ],
   "source": [
    "from sklearn.impute import KNNImputer\n",
    "imp_knn = KNNImputer(n_neighbors=3)\n",
    "num_columns = ['year', 'mileage', 'tax', 'mpg', 'engineSize']\n",
    "#Пройдемся сразу по всем численным признакам, чтобы результат был точным\n",
    "X_train[num_columns] = imp_knn.fit_transform(X_train[num_columns])\n",
    "X_train.head()"
   ]
  },
  {
   "cell_type": "code",
   "execution_count": 31,
   "metadata": {},
   "outputs": [],
   "source": [
    "#Теперь сделаем все тоже самое на тестовой выборке.\n",
    "X_test[zero_cols] = imp_const_0.transform(X_test[zero_cols])\n",
    "X_test[unk_cols] = imp_const_unknown.transform(X_test[unk_cols])\n",
    "X_test[med_cols] = imp_median.transform(X_test[med_cols])\n",
    "X_test[num_columns] = imp_knn.transform(X_test[num_columns])\n",
    "X_train.to_csv('merc_train.csv', index=False)\n",
    "X_test.to_csv('merc_test.csv', index=False)"
   ]
  },
  {
   "cell_type": "markdown",
   "metadata": {},
   "source": [
    "# Выбрасы и анамалии"
   ]
  },
  {
   "cell_type": "code",
   "execution_count": 32,
   "metadata": {},
   "outputs": [
    {
     "name": "stdout",
     "output_type": "stream",
     "text": [
      "Histogram for year\n"
     ]
    },
    {
     "data": {
      "image/png": "[encoded data removed]",
      "text/plain": [
       "<Figure size 640x480 with 1 Axes>"
      ]
     },
     "metadata": {},
     "output_type": "display_data"
    },
    {
     "name": "stdout",
     "output_type": "stream",
     "text": [
      "Histogram for price\n"
     ]
    },
    {
     "data": {
      "image/png": "[encoded data removed]",
      "text/plain": [
       "<Figure size 640x480 with 1 Axes>"
      ]
     },
     "metadata": {},
     "output_type": "display_data"
    },
    {
     "name": "stdout",
     "output_type": "stream",
     "text": [
      "Histogram for mileage\n"
     ]
    },
    {
     "data": {
      "image/png": "[encoded data removed]",
      "text/plain": [
       "<Figure size 640x480 with 1 Axes>"
      ]
     },
     "metadata": {},
     "output_type": "display_data"
    },
    {
     "name": "stdout",
     "output_type": "stream",
     "text": [
      "Histogram for tax\n"
     ]
    },
    {
     "data": {
      "image/png": "[encoded data removed]",
      "text/plain": [
       "<Figure size 640x480 with 1 Axes>"
      ]
     },
     "metadata": {},
     "output_type": "display_data"
    },
    {
     "name": "stdout",
     "output_type": "stream",
     "text": [
      "Histogram for mpg\n"
     ]
    },
    {
     "data": {
      "image/png": "[encoded data removed]",
      "text/plain": [
       "<Figure size 640x480 with 1 Axes>"
      ]
     },
     "metadata": {},
     "output_type": "display_data"
    },
    {
     "name": "stdout",
     "output_type": "stream",
     "text": [
      "Histogram for engineSize\n"
     ]
    },
    {
     "data": {
      "image/png": "[encoded data removed]",
      "text/plain": [
       "<Figure size 640x480 with 1 Axes>"
      ]
     },
     "metadata": {},
     "output_type": "display_data"
    }
   ],
   "source": [
    "import matplotlib.pyplot as plt\n",
    "num_cols = ['year', 'price', 'mileage', 'tax', 'mpg', 'engineSize']\n",
    "for col in num_cols:\n",
    "    print(f'Histogram for {col}')\n",
    "    df[col].hist(bins=100)\n",
    "    plt.show()"
   ]
  },
  {
   "cell_type": "markdown",
   "metadata": {},
   "source": [
    "Видно что в расходе топлива у нас явный выброс. Давайте найдем этот выброс с\n",
    "помощью метода межквартильного расстояния. Немного статистикки:\n",
    "Межквартильное расстояние это расстояние между 25 и 75 процентов в данных."
   ]
  },
  {
   "cell_type": "code",
   "execution_count": 33,
   "metadata": {},
   "outputs": [
    {
     "data": {
      "image/png": "[encoded data removed]",
      "text/plain": [
       "<Figure size 640x480 with 1 Axes>"
      ]
     },
     "metadata": {},
     "output_type": "display_data"
    }
   ],
   "source": [
    "def calculate_iqr_boundaries(series):\n",
    "    q25 = series.quantile(0.25)\n",
    "    q75 = series.quantile(0.75)\n",
    "    iqr = q75 - q25\n",
    "    boundaries = (q25 - 1.5 * iqr, q75 + 1.5 * iqr)\n",
    "    return boundaries\n",
    "#Посмотрим на графике\n",
    "plt.boxplot(df.mpg)\n",
    "plt.show()"
   ]
  },
  {
   "cell_type": "code",
   "execution_count": 34,
   "metadata": {},
   "outputs": [
    {
     "data": {
      "text/plain": [
       "(17.7, 92.10000000000001)"
      ]
     },
     "execution_count": 34,
     "metadata": {},
     "output_type": "execute_result"
    }
   ],
   "source": [
    "#границы - все остальное выброс\n",
    "mpg_bounds = calculate_iqr_boundaries(df['mpg'])\n",
    "mpg_bounds"
   ]
  },
  {
   "cell_type": "code",
   "execution_count": 35,
   "metadata": {},
   "outputs": [
    {
     "name": "stdout",
     "output_type": "stream",
     "text": [
      "12990\n",
      "0.9901669334552938\n"
     ]
    }
   ],
   "source": [
    "#№Расход топлива лежащий вне этого диапозона мы можем посчитать выбросами и18 удалить.И посмотрим сколько записей останется после удаления выбросов.\n",
    "df_1 = df[(df['mpg'] >= mpg_bounds[0]) & (df['mpg'] <= mpg_bounds[1])]\n",
    "print(df_1.shape[0])\n",
    "print(df_1.shape[0] / df.shape[0])"
   ]
  },
  {
   "cell_type": "markdown",
   "metadata": {},
   "source": [
    "# Нормализация данных"
   ]
  },
  {
   "cell_type": "code",
   "execution_count": 39,
   "metadata": {},
   "outputs": [
    {
     "data": {
      "text/html": [
       "<div>\n",
       "<style scoped>\n",
       "    .dataframe tbody tr th:only-of-type {\n",
       "        vertical-align: middle;\n",
       "    }\n",
       "\n",
       "    .dataframe tbody tr th {\n",
       "        vertical-align: top;\n",
       "    }\n",
       "\n",
       "    .dataframe thead th {\n",
       "        text-align: right;\n",
       "    }\n",
       "</style>\n",
       "<table border=\"1\" class=\"dataframe\">\n",
       "  <thead>\n",
       "    <tr style=\"text-align: right;\">\n",
       "      <th></th>\n",
       "      <th>price</th>\n",
       "      <th>mileage</th>\n",
       "      <th>tax</th>\n",
       "      <th>mpg</th>\n",
       "    </tr>\n",
       "  </thead>\n",
       "  <tbody>\n",
       "    <tr>\n",
       "      <th>count</th>\n",
       "      <td>13119.000000</td>\n",
       "      <td>13119.000000</td>\n",
       "      <td>13119.000000</td>\n",
       "      <td>13119.000000</td>\n",
       "    </tr>\n",
       "    <tr>\n",
       "      <th>mean</th>\n",
       "      <td>24698.596920</td>\n",
       "      <td>21949.559037</td>\n",
       "      <td>129.972178</td>\n",
       "      <td>55.155843</td>\n",
       "    </tr>\n",
       "    <tr>\n",
       "      <th>std</th>\n",
       "      <td>11842.675542</td>\n",
       "      <td>21176.512267</td>\n",
       "      <td>65.260286</td>\n",
       "      <td>15.220082</td>\n",
       "    </tr>\n",
       "    <tr>\n",
       "      <th>min</th>\n",
       "      <td>650.000000</td>\n",
       "      <td>1.000000</td>\n",
       "      <td>0.000000</td>\n",
       "      <td>1.100000</td>\n",
       "    </tr>\n",
       "    <tr>\n",
       "      <th>25%</th>\n",
       "      <td>17450.000000</td>\n",
       "      <td>6097.500000</td>\n",
       "      <td>125.000000</td>\n",
       "      <td>45.600000</td>\n",
       "    </tr>\n",
       "    <tr>\n",
       "      <th>50%</th>\n",
       "      <td>22480.000000</td>\n",
       "      <td>15189.000000</td>\n",
       "      <td>145.000000</td>\n",
       "      <td>56.500000</td>\n",
       "    </tr>\n",
       "    <tr>\n",
       "      <th>75%</th>\n",
       "      <td>28980.000000</td>\n",
       "      <td>31779.500000</td>\n",
       "      <td>145.000000</td>\n",
       "      <td>64.200000</td>\n",
       "    </tr>\n",
       "    <tr>\n",
       "      <th>max</th>\n",
       "      <td>159999.000000</td>\n",
       "      <td>259000.000000</td>\n",
       "      <td>580.000000</td>\n",
       "      <td>217.300000</td>\n",
       "    </tr>\n",
       "  </tbody>\n",
       "</table>\n",
       "</div>"
      ],
      "text/plain": [
       "               price        mileage           tax           mpg\n",
       "count   13119.000000   13119.000000  13119.000000  13119.000000\n",
       "mean    24698.596920   21949.559037    129.972178     55.155843\n",
       "std     11842.675542   21176.512267     65.260286     15.220082\n",
       "min       650.000000       1.000000      0.000000      1.100000\n",
       "25%     17450.000000    6097.500000    125.000000     45.600000\n",
       "50%     22480.000000   15189.000000    145.000000     56.500000\n",
       "75%     28980.000000   31779.500000    145.000000     64.200000\n",
       "max    159999.000000  259000.000000    580.000000    217.300000"
      ]
     },
     "execution_count": 39,
     "metadata": {},
     "output_type": "execute_result"
    }
   ],
   "source": [
    "df_1 = df[['price', 'mileage', 'tax', 'mpg']]\n",
    "df_1.describe()"
   ]
  },
  {
   "cell_type": "markdown",
   "metadata": {},
   "source": [
    "Очевидно, что признаки имеют разный масштаб. Рассмотрим первый способ —\n",
    "стандартизация. Это масштабирование признака таким образом, что среднее\n",
    "значение его элементов станет равно нулю, а стандартное отклонение — единица.\n",
    "Соответственно у каждого признака будет свое числовое значение и свое\n",
    "стандартное отклонение. Поэтому после стандартизации масштаб этих признаков\n",
    "будет одинаковым.\n",
    "Для стандартизации используем класс стандарт скелер."
   ]
  },
  {
   "cell_type": "code",
   "execution_count": 40,
   "metadata": {},
   "outputs": [],
   "source": [
    "from sklearn.preprocessing import StandardScaler\n",
    "scaler = StandardScaler()"
   ]
  },
  {
   "cell_type": "markdown",
   "metadata": {},
   "source": [
    "Масштабировать мы будем только обучающую выборку. Это делается для того,\n",
    "22\n",
    "чтобы проверить стандартизированные данные на реальных и понять, как работает\n",
    "модель. Еще один важный момент — обычно целевую переменную не\n",
    "масштабируют"
   ]
  },
  {
   "cell_type": "code",
   "execution_count": 41,
   "metadata": {},
   "outputs": [
    {
     "data": {
      "text/plain": [
       "array([[ 1.93856312,  2.98857495, -1.51488811],\n",
       "       [ 0.23850167, -1.68519595,  0.41027343],\n",
       "       [-0.74375606,  6.51305791, -1.78427931],\n",
       "       ...,\n",
       "       [-0.48818016,  0.23028393, -0.89725949],\n",
       "       [-0.92197917,  0.23028393, -0.62786829],\n",
       "       [-0.93855477,  0.23028393, -0.18764363]])"
      ]
     },
     "execution_count": 41,
     "metadata": {},
     "output_type": "execute_result"
    }
   ],
   "source": [
    "X_train = df[['mileage', 'tax', 'mpg']]\n",
    "y_train = df['price']\n",
    "X_train_s = scaler.fit_transform(X_train)\n",
    "X_train_s"
   ]
  },
  {
   "cell_type": "code",
   "execution_count": 42,
   "metadata": {},
   "outputs": [
    {
     "data": {
      "text/html": [
       "<div>\n",
       "<style scoped>\n",
       "    .dataframe tbody tr th:only-of-type {\n",
       "        vertical-align: middle;\n",
       "    }\n",
       "\n",
       "    .dataframe tbody tr th {\n",
       "        vertical-align: top;\n",
       "    }\n",
       "\n",
       "    .dataframe thead th {\n",
       "        text-align: right;\n",
       "    }\n",
       "</style>\n",
       "<table border=\"1\" class=\"dataframe\">\n",
       "  <thead>\n",
       "    <tr style=\"text-align: right;\">\n",
       "      <th></th>\n",
       "      <th>mileage</th>\n",
       "      <th>tax</th>\n",
       "      <th>mpg</th>\n",
       "    </tr>\n",
       "  </thead>\n",
       "  <tbody>\n",
       "    <tr>\n",
       "      <th>count</th>\n",
       "      <td>1.311900e+04</td>\n",
       "      <td>1.311900e+04</td>\n",
       "      <td>1.311900e+04</td>\n",
       "    </tr>\n",
       "    <tr>\n",
       "      <th>mean</th>\n",
       "      <td>6.932653e-17</td>\n",
       "      <td>5.632780e-17</td>\n",
       "      <td>-6.066071e-17</td>\n",
       "    </tr>\n",
       "    <tr>\n",
       "      <th>std</th>\n",
       "      <td>1.000038e+00</td>\n",
       "      <td>1.000038e+00</td>\n",
       "      <td>1.000038e+00</td>\n",
       "    </tr>\n",
       "    <tr>\n",
       "      <th>min</th>\n",
       "      <td>-1.036497e+00</td>\n",
       "      <td>-1.991673e+00</td>\n",
       "      <td>-3.551748e+00</td>\n",
       "    </tr>\n",
       "    <tr>\n",
       "      <th>25%</th>\n",
       "      <td>-7.485965e-01</td>\n",
       "      <td>-7.619285e-02</td>\n",
       "      <td>-6.278683e-01</td>\n",
       "    </tr>\n",
       "    <tr>\n",
       "      <th>50%</th>\n",
       "      <td>-3.192602e-01</td>\n",
       "      <td>2.302839e-01</td>\n",
       "      <td>8.831809e-02</td>\n",
       "    </tr>\n",
       "    <tr>\n",
       "      <th>75%</th>\n",
       "      <td>4.642084e-01</td>\n",
       "      <td>2.302839e-01</td>\n",
       "      <td>5.942479e-01</td>\n",
       "    </tr>\n",
       "    <tr>\n",
       "      <th>max</th>\n",
       "      <td>1.119445e+01</td>\n",
       "      <td>6.896154e+00</td>\n",
       "      <td>1.065371e+01</td>\n",
       "    </tr>\n",
       "  </tbody>\n",
       "</table>\n",
       "</div>"
      ],
      "text/plain": [
       "            mileage           tax           mpg\n",
       "count  1.311900e+04  1.311900e+04  1.311900e+04\n",
       "mean   6.932653e-17  5.632780e-17 -6.066071e-17\n",
       "std    1.000038e+00  1.000038e+00  1.000038e+00\n",
       "min   -1.036497e+00 -1.991673e+00 -3.551748e+00\n",
       "25%   -7.485965e-01 -7.619285e-02 -6.278683e-01\n",
       "50%   -3.192602e-01  2.302839e-01  8.831809e-02\n",
       "75%    4.642084e-01  2.302839e-01  5.942479e-01\n",
       "max    1.119445e+01  6.896154e+00  1.065371e+01"
      ]
     },
     "execution_count": 42,
     "metadata": {},
     "output_type": "execute_result"
    }
   ],
   "source": [
    "#нам вернулась матрица. Так работает метод sklearn. Давайте на ее основе создадим датафрейм\n",
    "df_X_s = pd.DataFrame(X_train_s, columns=X_train.columns)\n",
    "df_X_s.describe()"
   ]
  },
  {
   "cell_type": "markdown",
   "metadata": {},
   "source": [
    "Давайте рассмотрим еще один пример нормализации — минимаксную\n",
    "нормализацию. Чаще всего ее называют просто нормализацией. Смысл такой\n",
    "нормализации — каждый признак масштабируется таким образом, что его\n",
    "минимальное значение равно нулю - а максимальное — единице. Импортируем\n",
    "23\n",
    "специальный класс."
   ]
  },
  {
   "cell_type": "code",
   "execution_count": 43,
   "metadata": {},
   "outputs": [
    {
     "data": {
      "text/plain": [
       "array([[0.24324032, 0.56034483, 0.14338575],\n",
       "       [0.10424365, 0.03448276, 0.27890842],\n",
       "       [0.02393446, 0.95689655, 0.12442183],\n",
       "       ...,\n",
       "       [0.04483029, 0.25      , 0.18686401],\n",
       "       [0.00936297, 0.25      , 0.20582794],\n",
       "       [0.00800775, 0.25      , 0.23681776]])"
      ]
     },
     "execution_count": 43,
     "metadata": {},
     "output_type": "execute_result"
    }
   ],
   "source": [
    "from sklearn.preprocessing import MinMaxScaler\n",
    "mmscaler = MinMaxScaler()\n",
    "X_train_mm = mmscaler.fit_transform(X_train)\n",
    "X_train_mm"
   ]
  },
  {
   "cell_type": "code",
   "execution_count": 45,
   "metadata": {},
   "outputs": [
    {
     "data": {
      "text/html": [
       "<div>\n",
       "<style scoped>\n",
       "    .dataframe tbody tr th:only-of-type {\n",
       "        vertical-align: middle;\n",
       "    }\n",
       "\n",
       "    .dataframe tbody tr th {\n",
       "        vertical-align: top;\n",
       "    }\n",
       "\n",
       "    .dataframe thead th {\n",
       "        text-align: right;\n",
       "    }\n",
       "</style>\n",
       "<table border=\"1\" class=\"dataframe\">\n",
       "  <thead>\n",
       "    <tr style=\"text-align: right;\">\n",
       "      <th></th>\n",
       "      <th>mileage</th>\n",
       "      <th>tax</th>\n",
       "      <th>mpg</th>\n",
       "    </tr>\n",
       "  </thead>\n",
       "  <tbody>\n",
       "    <tr>\n",
       "      <th>count</th>\n",
       "      <td>13119.000000</td>\n",
       "      <td>13119.000000</td>\n",
       "      <td>13119.000000</td>\n",
       "    </tr>\n",
       "    <tr>\n",
       "      <th>mean</th>\n",
       "      <td>0.084744</td>\n",
       "      <td>0.224090</td>\n",
       "      <td>0.250027</td>\n",
       "    </tr>\n",
       "    <tr>\n",
       "      <th>std</th>\n",
       "      <td>0.081763</td>\n",
       "      <td>0.112518</td>\n",
       "      <td>0.070398</td>\n",
       "    </tr>\n",
       "    <tr>\n",
       "      <th>min</th>\n",
       "      <td>0.000000</td>\n",
       "      <td>0.000000</td>\n",
       "      <td>0.000000</td>\n",
       "    </tr>\n",
       "    <tr>\n",
       "      <th>25%</th>\n",
       "      <td>0.023539</td>\n",
       "      <td>0.215517</td>\n",
       "      <td>0.205828</td>\n",
       "    </tr>\n",
       "    <tr>\n",
       "      <th>50%</th>\n",
       "      <td>0.058641</td>\n",
       "      <td>0.250000</td>\n",
       "      <td>0.256244</td>\n",
       "    </tr>\n",
       "    <tr>\n",
       "      <th>75%</th>\n",
       "      <td>0.122697</td>\n",
       "      <td>0.250000</td>\n",
       "      <td>0.291859</td>\n",
       "    </tr>\n",
       "    <tr>\n",
       "      <th>max</th>\n",
       "      <td>1.000000</td>\n",
       "      <td>1.000000</td>\n",
       "      <td>1.000000</td>\n",
       "    </tr>\n",
       "  </tbody>\n",
       "</table>\n",
       "</div>"
      ],
      "text/plain": [
       "            mileage           tax           mpg\n",
       "count  13119.000000  13119.000000  13119.000000\n",
       "mean       0.084744      0.224090      0.250027\n",
       "std        0.081763      0.112518      0.070398\n",
       "min        0.000000      0.000000      0.000000\n",
       "25%        0.023539      0.215517      0.205828\n",
       "50%        0.058641      0.250000      0.256244\n",
       "75%        0.122697      0.250000      0.291859\n",
       "max        1.000000      1.000000      1.000000"
      ]
     },
     "execution_count": 45,
     "metadata": {},
     "output_type": "execute_result"
    }
   ],
   "source": [
    "df_sc_x = pd.DataFrame(X_train_mm, columns=X_train.columns)\n",
    "df_sc_x.describe()"
   ]
  },
  {
   "cell_type": "markdown",
   "metadata": {},
   "source": [
    "# Работа с категориальными признаками"
   ]
  },
  {
   "cell_type": "code",
   "execution_count": 48,
   "metadata": {},
   "outputs": [
    {
     "name": "stdout",
     "output_type": "stream",
     "text": [
      "<class 'pandas.core.frame.DataFrame'>\n",
      "RangeIndex: 13119 entries, 0 to 13118\n",
      "Data columns (total 9 columns):\n",
      " #   Column        Non-Null Count  Dtype  \n",
      "---  ------        --------------  -----  \n",
      " 0   model         13119 non-null  object \n",
      " 1   year          13119 non-null  int64  \n",
      " 2   price         13119 non-null  int64  \n",
      " 3   transmission  13119 non-null  object \n",
      " 4   mileage       13119 non-null  int64  \n",
      " 5   fuelType      13119 non-null  object \n",
      " 6   tax           13119 non-null  int64  \n",
      " 7   mpg           13119 non-null  float64\n",
      " 8   engineSize    13119 non-null  float64\n",
      "dtypes: float64(2), int64(4), object(3)\n",
      "memory usage: 922.6+ KB\n"
     ]
    }
   ],
   "source": [
    "df.info()"
   ]
  },
  {
   "cell_type": "code",
   "execution_count": 49,
   "metadata": {},
   "outputs": [
    {
     "data": {
      "text/html": [
       "<div>\n",
       "<style scoped>\n",
       "    .dataframe tbody tr th:only-of-type {\n",
       "        vertical-align: middle;\n",
       "    }\n",
       "\n",
       "    .dataframe tbody tr th {\n",
       "        vertical-align: top;\n",
       "    }\n",
       "\n",
       "    .dataframe thead th {\n",
       "        text-align: right;\n",
       "    }\n",
       "</style>\n",
       "<table border=\"1\" class=\"dataframe\">\n",
       "  <thead>\n",
       "    <tr style=\"text-align: right;\">\n",
       "      <th></th>\n",
       "      <th>model</th>\n",
       "      <th>transmission</th>\n",
       "      <th>fuelType</th>\n",
       "    </tr>\n",
       "  </thead>\n",
       "  <tbody>\n",
       "    <tr>\n",
       "      <th>count</th>\n",
       "      <td>13119</td>\n",
       "      <td>13119</td>\n",
       "      <td>13119</td>\n",
       "    </tr>\n",
       "    <tr>\n",
       "      <th>unique</th>\n",
       "      <td>27</td>\n",
       "      <td>4</td>\n",
       "      <td>4</td>\n",
       "    </tr>\n",
       "    <tr>\n",
       "      <th>top</th>\n",
       "      <td>C Class</td>\n",
       "      <td>Semi-Auto</td>\n",
       "      <td>Diesel</td>\n",
       "    </tr>\n",
       "    <tr>\n",
       "      <th>freq</th>\n",
       "      <td>3747</td>\n",
       "      <td>6848</td>\n",
       "      <td>9187</td>\n",
       "    </tr>\n",
       "  </tbody>\n",
       "</table>\n",
       "</div>"
      ],
      "text/plain": [
       "           model transmission fuelType\n",
       "count      13119        13119    13119\n",
       "unique        27            4        4\n",
       "top      C Class    Semi-Auto   Diesel\n",
       "freq        3747         6848     9187"
      ]
     },
     "execution_count": 49,
     "metadata": {},
     "output_type": "execute_result"
    }
   ],
   "source": [
    "df.describe(include=['object'])"
   ]
  },
  {
   "cell_type": "code",
   "execution_count": 50,
   "metadata": {},
   "outputs": [
    {
     "name": "stdout",
     "output_type": "stream",
     "text": [
      "model: [' SLK' ' S Class' ' SL CLASS' ' G Class' ' GLE Class' ' GLA Class'\n",
      " ' A Class' ' B Class' ' GLC Class' ' C Class' ' E Class' ' GL Class'\n",
      " ' CLS Class' ' CLC Class' ' CLA Class' ' V Class' ' M Class' ' CL Class'\n",
      " ' GLS Class' ' GLB Class' ' X-CLASS' '180' ' CLK' ' R Class' '230' '220'\n",
      " '200']\n",
      "transmission: ['Automatic' 'Manual' 'Semi-Auto' 'Other']\n",
      "fuelType: ['Petrol' 'Hybrid' 'Diesel' 'Other']\n"
     ]
    }
   ],
   "source": [
    "#Давайте посмотрим на список значений каждого признака\n",
    "cat_features = ['model', 'transmission', 'fuelType']\n",
    "for feat in cat_features:\n",
    "    print(f'{feat}: {df[feat].unique()}')"
   ]
  },
  {
   "cell_type": "markdown",
   "metadata": {},
   "source": [
    "Рассмотрим несколько видов использования категориальных данных в модели. Для\n",
    "начала нам нужно научиться преобразовывать категориальные данные в числа.\n",
    "Начнем с самого простого метода label encoding. Этот метод просто, потому что мы\n",
    "просто нумеруем список значений категориального признака. Давайте рассмотрим\n",
    "этот прием на примере модели автомобиля.\n",
    "Импортируем класс предпроцессор label encoder"
   ]
  },
  {
   "cell_type": "code",
   "execution_count": 52,
   "metadata": {},
   "outputs": [
    {
     "data": {
      "text/html": [
       "<div>\n",
       "<style scoped>\n",
       "    .dataframe tbody tr th:only-of-type {\n",
       "        vertical-align: middle;\n",
       "    }\n",
       "\n",
       "    .dataframe tbody tr th {\n",
       "        vertical-align: top;\n",
       "    }\n",
       "\n",
       "    .dataframe thead th {\n",
       "        text-align: right;\n",
       "    }\n",
       "</style>\n",
       "<table border=\"1\" class=\"dataframe\">\n",
       "  <thead>\n",
       "    <tr style=\"text-align: right;\">\n",
       "      <th></th>\n",
       "      <th>model</th>\n",
       "      <th>year</th>\n",
       "      <th>price</th>\n",
       "      <th>transmission</th>\n",
       "      <th>mileage</th>\n",
       "      <th>fuelType</th>\n",
       "      <th>tax</th>\n",
       "      <th>mpg</th>\n",
       "      <th>engineSize</th>\n",
       "      <th>model_le</th>\n",
       "    </tr>\n",
       "  </thead>\n",
       "  <tbody>\n",
       "    <tr>\n",
       "      <th>0</th>\n",
       "      <td>SLK</td>\n",
       "      <td>2005</td>\n",
       "      <td>5200</td>\n",
       "      <td>Automatic</td>\n",
       "      <td>63000</td>\n",
       "      <td>Petrol</td>\n",
       "      <td>325</td>\n",
       "      <td>32.1</td>\n",
       "      <td>1.8</td>\n",
       "      <td>20</td>\n",
       "    </tr>\n",
       "    <tr>\n",
       "      <th>1</th>\n",
       "      <td>S Class</td>\n",
       "      <td>2017</td>\n",
       "      <td>34948</td>\n",
       "      <td>Automatic</td>\n",
       "      <td>27000</td>\n",
       "      <td>Hybrid</td>\n",
       "      <td>20</td>\n",
       "      <td>61.4</td>\n",
       "      <td>2.1</td>\n",
       "      <td>18</td>\n",
       "    </tr>\n",
       "    <tr>\n",
       "      <th>2</th>\n",
       "      <td>SL CLASS</td>\n",
       "      <td>2016</td>\n",
       "      <td>49948</td>\n",
       "      <td>Automatic</td>\n",
       "      <td>6200</td>\n",
       "      <td>Petrol</td>\n",
       "      <td>555</td>\n",
       "      <td>28.0</td>\n",
       "      <td>5.5</td>\n",
       "      <td>19</td>\n",
       "    </tr>\n",
       "    <tr>\n",
       "      <th>3</th>\n",
       "      <td>G Class</td>\n",
       "      <td>2016</td>\n",
       "      <td>61948</td>\n",
       "      <td>Automatic</td>\n",
       "      <td>16000</td>\n",
       "      <td>Petrol</td>\n",
       "      <td>325</td>\n",
       "      <td>30.4</td>\n",
       "      <td>4.0</td>\n",
       "      <td>9</td>\n",
       "    </tr>\n",
       "    <tr>\n",
       "      <th>4</th>\n",
       "      <td>G Class</td>\n",
       "      <td>2016</td>\n",
       "      <td>73948</td>\n",
       "      <td>Automatic</td>\n",
       "      <td>4000</td>\n",
       "      <td>Petrol</td>\n",
       "      <td>325</td>\n",
       "      <td>30.1</td>\n",
       "      <td>4.0</td>\n",
       "      <td>9</td>\n",
       "    </tr>\n",
       "  </tbody>\n",
       "</table>\n",
       "</div>"
      ],
      "text/plain": [
       "       model  year  price transmission  mileage fuelType  tax   mpg  \\\n",
       "0        SLK  2005   5200    Automatic    63000   Petrol  325  32.1   \n",
       "1    S Class  2017  34948    Automatic    27000   Hybrid   20  61.4   \n",
       "2   SL CLASS  2016  49948    Automatic     6200   Petrol  555  28.0   \n",
       "3    G Class  2016  61948    Automatic    16000   Petrol  325  30.4   \n",
       "4    G Class  2016  73948    Automatic     4000   Petrol  325  30.1   \n",
       "\n",
       "   engineSize  model_le  \n",
       "0         1.8        20  \n",
       "1         2.1        18  \n",
       "2         5.5        19  \n",
       "3         4.0         9  \n",
       "4         4.0         9  "
      ]
     },
     "execution_count": 52,
     "metadata": {},
     "output_type": "execute_result"
    }
   ],
   "source": [
    "from sklearn.preprocessing import LabelEncoder\n",
    "encoder = LabelEncoder()\n",
    "#Теперь создадим новый признак соответствующий закодированным признакаммодели\n",
    "df['model_le'] = encoder.fit_transform(df['model'])\n",
    "df.head()"
   ]
  },
  {
   "cell_type": "code",
   "execution_count": 53,
   "metadata": {},
   "outputs": [
    {
     "data": {
      "text/plain": [
       "array([' A Class', ' B Class', ' C Class', ' CL Class', ' CLA Class',\n",
       "       ' CLC Class', ' CLK', ' CLS Class', ' E Class', ' G Class',\n",
       "       ' GL Class', ' GLA Class', ' GLB Class', ' GLC Class',\n",
       "       ' GLE Class', ' GLS Class', ' M Class', ' R Class', ' S Class',\n",
       "       ' SL CLASS', ' SLK', ' V Class', ' X-CLASS', '180', '200', '220',\n",
       "       '230'], dtype=object)"
      ]
     },
     "execution_count": 53,
     "metadata": {},
     "output_type": "execute_result"
    }
   ],
   "source": [
    "encoder.classes_"
   ]
  },
  {
   "cell_type": "code",
   "execution_count": 54,
   "metadata": {},
   "outputs": [
    {
     "name": "stdout",
     "output_type": "stream",
     "text": [
      "0:  A Class\n",
      "1:  B Class\n",
      "2:  C Class\n",
      "3:  CL Class\n",
      "4:  CLA Class\n",
      "5:  CLC Class\n",
      "6:  CLK\n",
      "7:  CLS Class\n",
      "8:  E Class\n",
      "9:  G Class\n",
      "10:  GL Class\n",
      "11:  GLA Class\n",
      "12:  GLB Class\n",
      "13:  GLC Class\n",
      "14:  GLE Class\n",
      "15:  GLS Class\n",
      "16:  M Class\n",
      "17:  R Class\n",
      "18:  S Class\n",
      "19:  SL CLASS\n",
      "20:  SLK\n",
      "21:  V Class\n",
      "22:  X-CLASS\n",
      "23: 180\n",
      "24: 200\n",
      "25: 220\n",
      "26: 230\n"
     ]
    }
   ],
   "source": [
    "for i, e in enumerate(encoder.classes_):\n",
    "    print(f'{i}: {e}')"
   ]
  },
  {
   "cell_type": "markdown",
   "metadata": {},
   "source": [
    "При таком кодировании есть большой минус label encoder явно вносит отношение\n",
    "сравнения в категории. То есть v class будет лучше, чем c class в семь раз.\n",
    "Естественно в реальности таких отношений между категориями не существует, но\n",
    "модель будет считать что они есть, и делать неправильные выводы.\n",
    "Поэтому label encoding применяют для тех признаков, у которых явно есть\n",
    "отношения сравнения. Например, анкетирования или соц опросы, в которых есть\n",
    "ответы плохо, хорошо, нейтрально. Здесь явно есть отношения зависимости, так как\n",
    "хорошо, это точно лучше, чем нейтрально."
   ]
  },
  {
   "cell_type": "markdown",
   "metadata": {},
   "source": [
    "Мы воспользуемся другим методом — one-hot encoding. Рассмотрим его на примере\n",
    "типа топлива. Идея такого метода в том, что вместо одного категориального\n",
    "признака с тремя категориями мы создаем три бинарных признака — по одному\n",
    "признаку на каждое значение категории и заполняем их так, что в каждой строке\n",
    "единицей заполняется тот признак, который соответствует исходному значению\n",
    "категории, а остальные заполняются нулями. Давайте посмотрим как это работает.\n",
    "И"
   ]
  },
  {
   "cell_type": "code",
   "execution_count": 58,
   "metadata": {},
   "outputs": [
    {
     "data": {
      "text/html": [
       "<div>\n",
       "<style scoped>\n",
       "    .dataframe tbody tr th:only-of-type {\n",
       "        vertical-align: middle;\n",
       "    }\n",
       "\n",
       "    .dataframe tbody tr th {\n",
       "        vertical-align: top;\n",
       "    }\n",
       "\n",
       "    .dataframe thead th {\n",
       "        text-align: right;\n",
       "    }\n",
       "</style>\n",
       "<table border=\"1\" class=\"dataframe\">\n",
       "  <thead>\n",
       "    <tr style=\"text-align: right;\">\n",
       "      <th></th>\n",
       "      <th>fuelType_Hybrid</th>\n",
       "      <th>fuelType_Other</th>\n",
       "      <th>fuelType_Petrol</th>\n",
       "    </tr>\n",
       "  </thead>\n",
       "  <tbody>\n",
       "    <tr>\n",
       "      <th>0</th>\n",
       "      <td>0.0</td>\n",
       "      <td>0.0</td>\n",
       "      <td>1.0</td>\n",
       "    </tr>\n",
       "    <tr>\n",
       "      <th>1</th>\n",
       "      <td>1.0</td>\n",
       "      <td>0.0</td>\n",
       "      <td>0.0</td>\n",
       "    </tr>\n",
       "    <tr>\n",
       "      <th>2</th>\n",
       "      <td>0.0</td>\n",
       "      <td>0.0</td>\n",
       "      <td>1.0</td>\n",
       "    </tr>\n",
       "    <tr>\n",
       "      <th>3</th>\n",
       "      <td>0.0</td>\n",
       "      <td>0.0</td>\n",
       "      <td>1.0</td>\n",
       "    </tr>\n",
       "    <tr>\n",
       "      <th>4</th>\n",
       "      <td>0.0</td>\n",
       "      <td>0.0</td>\n",
       "      <td>1.0</td>\n",
       "    </tr>\n",
       "  </tbody>\n",
       "</table>\n",
       "</div>"
      ],
      "text/plain": [
       "   fuelType_Hybrid  fuelType_Other  fuelType_Petrol\n",
       "0              0.0             0.0              1.0\n",
       "1              1.0             0.0              0.0\n",
       "2              0.0             0.0              1.0\n",
       "3              0.0             0.0              1.0\n",
       "4              0.0             0.0              1.0"
      ]
     },
     "execution_count": 58,
     "metadata": {},
     "output_type": "execute_result"
    }
   ],
   "source": [
    "from sklearn.preprocessing import OneHotEncoder\n",
    "ohe = OneHotEncoder(sparse_output=False, drop='first', handle_unknown='ignore')\n",
    "ft = ohe.fit_transform(df[['fuelType']])\n",
    "df_ft = pd.DataFrame(ft, columns=ohe.get_feature_names_out())\n",
    "df_ft.head()"
   ]
  }
 ],
 "metadata": {
  "kernelspec": {
   "display_name": ".venv",
   "language": "python",
   "name": "python3"
  },
  "language_info": {
   "codemirror_mode": {
    "name": "ipython",
    "version": 3
   },
   "file_extension": ".py",
   "mimetype": "text/x-python",
   "name": "python",
   "nbconvert_exporter": "python",
   "pygments_lexer": "ipython3",
   "version": "3.12.2"
  }
 },
 "nbformat": 4,
 "nbformat_minor": 2
}

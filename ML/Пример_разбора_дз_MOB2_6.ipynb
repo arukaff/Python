{
  "cells": [
    {
      "cell_type": "markdown",
      "metadata": {
        "id": "o6I4n4hwCgV5"
      },
      "source": [
        "# Работа с данными. Домашнее задание\n"
      ]
    },
    {
      "cell_type": "markdown",
      "metadata": {
        "id": "CUhKZgVsFEkk"
      },
      "source": [
        "## Задача\n",
        "Имеется набор данных покупателей супермаркета. Проведите анализ и очистку этих данных."
      ]
    },
    {
      "cell_type": "markdown",
      "metadata": {
        "id": "MMergpE8Fj8-"
      },
      "source": [
        "### Описание данных\n",
        "\n",
        "Дан файл Mall_Customers.csv, содержащий следующие данные по покупателям сети супермаркетов:\n",
        "- CustomerID — идентификатор покупателя.\n",
        "- Genre – пол покупателя.\n",
        "- Age – возраст покупателя.\n",
        "- Annual Income (k\\$) – годовой доход покупателя, тысяч $.\n",
        "- Spending Score (1–100) – рейтинг покупателя, целевая переменная."
      ]
    },
    {
      "cell_type": "markdown",
      "metadata": {
        "id": "9pfNcyY_FoV7"
      },
      "source": [
        "### Задание 1\n",
        "\n",
        "Загрузите данные из файла `Mall_Customers.csv` в ноутбук и выведите первые пять строк на экран."
      ]
    },
    {
      "cell_type": "code",
      "execution_count": 8,
      "metadata": {
        "id": "CNnHWtWylTb9"
      },
      "outputs": [],
      "source": [
        "# Импорт библиотек\n",
        "import pandas as pd\n",
        "import numpy as np\n",
        "import seaborn as sns\n",
        "import matplotlib.pyplot as plt"
      ]
    },
    {
      "cell_type": "code",
      "execution_count": 9,
      "metadata": {
        "colab": {
          "base_uri": "https://localhost:8080/",
          "height": 206
        },
        "id": "e2tq7lmmfRBJ",
        "outputId": "bc961dfc-a609-4220-dd3e-3621ca2783d2"
      },
      "outputs": [
        {
          "data": {
            "text/html": [
              "<div>\n",
              "<style scoped>\n",
              "    .dataframe tbody tr th:only-of-type {\n",
              "        vertical-align: middle;\n",
              "    }\n",
              "\n",
              "    .dataframe tbody tr th {\n",
              "        vertical-align: top;\n",
              "    }\n",
              "\n",
              "    .dataframe thead th {\n",
              "        text-align: right;\n",
              "    }\n",
              "</style>\n",
              "<table border=\"1\" class=\"dataframe\">\n",
              "  <thead>\n",
              "    <tr style=\"text-align: right;\">\n",
              "      <th></th>\n",
              "      <th>CustomerID</th>\n",
              "      <th>Genre</th>\n",
              "      <th>Age</th>\n",
              "      <th>Annual Income (k$)</th>\n",
              "      <th>Spending Score (1-100)</th>\n",
              "    </tr>\n",
              "  </thead>\n",
              "  <tbody>\n",
              "    <tr>\n",
              "      <th>0</th>\n",
              "      <td>1</td>\n",
              "      <td>Male</td>\n",
              "      <td>19.0</td>\n",
              "      <td>15.0</td>\n",
              "      <td>39</td>\n",
              "    </tr>\n",
              "    <tr>\n",
              "      <th>1</th>\n",
              "      <td>2</td>\n",
              "      <td>Male</td>\n",
              "      <td>NaN</td>\n",
              "      <td>NaN</td>\n",
              "      <td>81</td>\n",
              "    </tr>\n",
              "    <tr>\n",
              "      <th>2</th>\n",
              "      <td>3</td>\n",
              "      <td>Female</td>\n",
              "      <td>NaN</td>\n",
              "      <td>16.0</td>\n",
              "      <td>6</td>\n",
              "    </tr>\n",
              "    <tr>\n",
              "      <th>3</th>\n",
              "      <td>4</td>\n",
              "      <td>Female</td>\n",
              "      <td>23.0</td>\n",
              "      <td>16.0</td>\n",
              "      <td>77</td>\n",
              "    </tr>\n",
              "    <tr>\n",
              "      <th>4</th>\n",
              "      <td>5</td>\n",
              "      <td>Female</td>\n",
              "      <td>31.0</td>\n",
              "      <td>17.0</td>\n",
              "      <td>40</td>\n",
              "    </tr>\n",
              "  </tbody>\n",
              "</table>\n",
              "</div>"
            ],
            "text/plain": [
              "   CustomerID   Genre   Age  Annual Income (k$)  Spending Score (1-100)\n",
              "0           1    Male  19.0                15.0                      39\n",
              "1           2    Male   NaN                 NaN                      81\n",
              "2           3  Female   NaN                16.0                       6\n",
              "3           4  Female  23.0                16.0                      77\n",
              "4           5  Female  31.0                17.0                      40"
            ]
          },
          "execution_count": 9,
          "metadata": {},
          "output_type": "execute_result"
        }
      ],
      "source": [
        "df = pd.read_csv('Mall_Customers.csv')\n",
        "df.head()"
      ]
    },
    {
      "cell_type": "code",
      "execution_count": 10,
      "metadata": {
        "id": "SLCtrA-3TAP6"
      },
      "outputs": [],
      "source": [
        "# В названии столбца скорее всего опечатка\n",
        "df.rename(columns={'Genre': 'Gender'}, inplace=True)"
      ]
    },
    {
      "cell_type": "code",
      "execution_count": 6,
      "metadata": {
        "colab": {
          "base_uri": "https://localhost:8080/",
          "height": 1000
        },
        "id": "pgzXeymfg03E",
        "outputId": "78424758-f287-4669-db7c-adebb783c125"
      },
      "outputs": [
        {
          "data": {
            "text/html": [
              "<div>\n",
              "<style scoped>\n",
              "    .dataframe tbody tr th:only-of-type {\n",
              "        vertical-align: middle;\n",
              "    }\n",
              "\n",
              "    .dataframe tbody tr th {\n",
              "        vertical-align: top;\n",
              "    }\n",
              "\n",
              "    .dataframe thead th {\n",
              "        text-align: right;\n",
              "    }\n",
              "</style>\n",
              "<table border=\"1\" class=\"dataframe\">\n",
              "  <thead>\n",
              "    <tr style=\"text-align: right;\">\n",
              "      <th></th>\n",
              "      <th>CustomerID</th>\n",
              "      <th>Gender</th>\n",
              "      <th>Age</th>\n",
              "      <th>Annual Income (k$)</th>\n",
              "      <th>Spending Score (1-100)</th>\n",
              "    </tr>\n",
              "  </thead>\n",
              "  <tbody>\n",
              "    <tr>\n",
              "      <th>0</th>\n",
              "      <td>1</td>\n",
              "      <td>Male</td>\n",
              "      <td>19.0</td>\n",
              "      <td>15.0</td>\n",
              "      <td>39</td>\n",
              "    </tr>\n",
              "    <tr>\n",
              "      <th>1</th>\n",
              "      <td>2</td>\n",
              "      <td>Male</td>\n",
              "      <td>NaN</td>\n",
              "      <td>NaN</td>\n",
              "      <td>81</td>\n",
              "    </tr>\n",
              "    <tr>\n",
              "      <th>2</th>\n",
              "      <td>3</td>\n",
              "      <td>Female</td>\n",
              "      <td>NaN</td>\n",
              "      <td>16.0</td>\n",
              "      <td>6</td>\n",
              "    </tr>\n",
              "    <tr>\n",
              "      <th>3</th>\n",
              "      <td>4</td>\n",
              "      <td>Female</td>\n",
              "      <td>23.0</td>\n",
              "      <td>16.0</td>\n",
              "      <td>77</td>\n",
              "    </tr>\n",
              "    <tr>\n",
              "      <th>4</th>\n",
              "      <td>5</td>\n",
              "      <td>Female</td>\n",
              "      <td>31.0</td>\n",
              "      <td>17.0</td>\n",
              "      <td>40</td>\n",
              "    </tr>\n",
              "    <tr>\n",
              "      <th>...</th>\n",
              "      <td>...</td>\n",
              "      <td>...</td>\n",
              "      <td>...</td>\n",
              "      <td>...</td>\n",
              "      <td>...</td>\n",
              "    </tr>\n",
              "    <tr>\n",
              "      <th>195</th>\n",
              "      <td>196</td>\n",
              "      <td>Female</td>\n",
              "      <td>35.0</td>\n",
              "      <td>120.0</td>\n",
              "      <td>79</td>\n",
              "    </tr>\n",
              "    <tr>\n",
              "      <th>196</th>\n",
              "      <td>197</td>\n",
              "      <td>Female</td>\n",
              "      <td>45.0</td>\n",
              "      <td>126.0</td>\n",
              "      <td>28</td>\n",
              "    </tr>\n",
              "    <tr>\n",
              "      <th>197</th>\n",
              "      <td>198</td>\n",
              "      <td>Male</td>\n",
              "      <td>32.0</td>\n",
              "      <td>126.0</td>\n",
              "      <td>74</td>\n",
              "    </tr>\n",
              "    <tr>\n",
              "      <th>198</th>\n",
              "      <td>199</td>\n",
              "      <td>Male</td>\n",
              "      <td>NaN</td>\n",
              "      <td>137.0</td>\n",
              "      <td>18</td>\n",
              "    </tr>\n",
              "    <tr>\n",
              "      <th>199</th>\n",
              "      <td>200</td>\n",
              "      <td>NaN</td>\n",
              "      <td>30.0</td>\n",
              "      <td>137.0</td>\n",
              "      <td>83</td>\n",
              "    </tr>\n",
              "  </tbody>\n",
              "</table>\n",
              "<p>200 rows × 5 columns</p>\n",
              "</div>"
            ],
            "text/plain": [
              "     CustomerID  Gender   Age  Annual Income (k$)  Spending Score (1-100)\n",
              "0             1    Male  19.0                15.0                      39\n",
              "1             2    Male   NaN                 NaN                      81\n",
              "2             3  Female   NaN                16.0                       6\n",
              "3             4  Female  23.0                16.0                      77\n",
              "4             5  Female  31.0                17.0                      40\n",
              "..          ...     ...   ...                 ...                     ...\n",
              "195         196  Female  35.0               120.0                      79\n",
              "196         197  Female  45.0               126.0                      28\n",
              "197         198    Male  32.0               126.0                      74\n",
              "198         199    Male   NaN               137.0                      18\n",
              "199         200     NaN  30.0               137.0                      83\n",
              "\n",
              "[200 rows x 5 columns]"
            ]
          },
          "execution_count": 6,
          "metadata": {},
          "output_type": "execute_result"
        }
      ],
      "source": [
        "df"
      ]
    },
    {
      "cell_type": "code",
      "execution_count": 11,
      "metadata": {
        "colab": {
          "base_uri": "https://localhost:8080/",
          "height": 300
        },
        "id": "7H0W_7_ulv6a",
        "outputId": "891ddf17-c15c-409e-f061-c9bd8218799d"
      },
      "outputs": [
        {
          "data": {
            "text/html": [
              "<div>\n",
              "<style scoped>\n",
              "    .dataframe tbody tr th:only-of-type {\n",
              "        vertical-align: middle;\n",
              "    }\n",
              "\n",
              "    .dataframe tbody tr th {\n",
              "        vertical-align: top;\n",
              "    }\n",
              "\n",
              "    .dataframe thead th {\n",
              "        text-align: right;\n",
              "    }\n",
              "</style>\n",
              "<table border=\"1\" class=\"dataframe\">\n",
              "  <thead>\n",
              "    <tr style=\"text-align: right;\">\n",
              "      <th></th>\n",
              "      <th>CustomerID</th>\n",
              "      <th>Age</th>\n",
              "      <th>Annual Income (k$)</th>\n",
              "      <th>Spending Score (1-100)</th>\n",
              "    </tr>\n",
              "  </thead>\n",
              "  <tbody>\n",
              "    <tr>\n",
              "      <th>count</th>\n",
              "      <td>200.000000</td>\n",
              "      <td>180.000000</td>\n",
              "      <td>180.000000</td>\n",
              "      <td>200.000000</td>\n",
              "    </tr>\n",
              "    <tr>\n",
              "      <th>mean</th>\n",
              "      <td>100.500000</td>\n",
              "      <td>39.894444</td>\n",
              "      <td>5615.433333</td>\n",
              "      <td>50.200000</td>\n",
              "    </tr>\n",
              "    <tr>\n",
              "      <th>std</th>\n",
              "      <td>57.879185</td>\n",
              "      <td>16.842848</td>\n",
              "      <td>74531.115872</td>\n",
              "      <td>25.823522</td>\n",
              "    </tr>\n",
              "    <tr>\n",
              "      <th>min</th>\n",
              "      <td>1.000000</td>\n",
              "      <td>18.000000</td>\n",
              "      <td>15.000000</td>\n",
              "      <td>1.000000</td>\n",
              "    </tr>\n",
              "    <tr>\n",
              "      <th>25%</th>\n",
              "      <td>50.750000</td>\n",
              "      <td>29.000000</td>\n",
              "      <td>42.000000</td>\n",
              "      <td>34.750000</td>\n",
              "    </tr>\n",
              "    <tr>\n",
              "      <th>50%</th>\n",
              "      <td>100.500000</td>\n",
              "      <td>36.000000</td>\n",
              "      <td>61.000000</td>\n",
              "      <td>50.000000</td>\n",
              "    </tr>\n",
              "    <tr>\n",
              "      <th>75%</th>\n",
              "      <td>150.250000</td>\n",
              "      <td>49.000000</td>\n",
              "      <td>78.000000</td>\n",
              "      <td>73.000000</td>\n",
              "    </tr>\n",
              "    <tr>\n",
              "      <th>max</th>\n",
              "      <td>200.000000</td>\n",
              "      <td>135.000000</td>\n",
              "      <td>1000000.000000</td>\n",
              "      <td>99.000000</td>\n",
              "    </tr>\n",
              "  </tbody>\n",
              "</table>\n",
              "</div>"
            ],
            "text/plain": [
              "       CustomerID         Age  Annual Income (k$)  Spending Score (1-100)\n",
              "count  200.000000  180.000000          180.000000              200.000000\n",
              "mean   100.500000   39.894444         5615.433333               50.200000\n",
              "std     57.879185   16.842848        74531.115872               25.823522\n",
              "min      1.000000   18.000000           15.000000                1.000000\n",
              "25%     50.750000   29.000000           42.000000               34.750000\n",
              "50%    100.500000   36.000000           61.000000               50.000000\n",
              "75%    150.250000   49.000000           78.000000               73.000000\n",
              "max    200.000000  135.000000      1000000.000000               99.000000"
            ]
          },
          "execution_count": 11,
          "metadata": {},
          "output_type": "execute_result"
        }
      ],
      "source": [
        "df.describe()"
      ]
    },
    {
      "cell_type": "code",
      "execution_count": 12,
      "metadata": {
        "colab": {
          "base_uri": "https://localhost:8080/",
          "height": 269
        },
        "id": "5swnUInshOwX",
        "outputId": "eff46d51-cebe-43b3-e255-84e1143ff100"
      },
      "outputs": [
        {
          "data": {
            "text/html": [
              "<div>\n",
              "<style scoped>\n",
              "    .dataframe tbody tr th:only-of-type {\n",
              "        vertical-align: middle;\n",
              "    }\n",
              "\n",
              "    .dataframe tbody tr th {\n",
              "        vertical-align: top;\n",
              "    }\n",
              "\n",
              "    .dataframe thead th {\n",
              "        text-align: right;\n",
              "    }\n",
              "</style>\n",
              "<table border=\"1\" class=\"dataframe\">\n",
              "  <thead>\n",
              "    <tr style=\"text-align: right;\">\n",
              "      <th></th>\n",
              "      <th>CustomerID</th>\n",
              "      <th>Gender</th>\n",
              "      <th>Age</th>\n",
              "      <th>Annual Income (k$)</th>\n",
              "      <th>Spending Score (1-100)</th>\n",
              "    </tr>\n",
              "  </thead>\n",
              "  <tbody>\n",
              "    <tr>\n",
              "      <th>100</th>\n",
              "      <td>101</td>\n",
              "      <td>Female</td>\n",
              "      <td>23.0</td>\n",
              "      <td>62.0</td>\n",
              "      <td>41</td>\n",
              "    </tr>\n",
              "    <tr>\n",
              "      <th>54</th>\n",
              "      <td>55</td>\n",
              "      <td>NaN</td>\n",
              "      <td>50.0</td>\n",
              "      <td>NaN</td>\n",
              "      <td>45</td>\n",
              "    </tr>\n",
              "    <tr>\n",
              "      <th>145</th>\n",
              "      <td>146</td>\n",
              "      <td>Male</td>\n",
              "      <td>NaN</td>\n",
              "      <td>77.0</td>\n",
              "      <td>97</td>\n",
              "    </tr>\n",
              "    <tr>\n",
              "      <th>34</th>\n",
              "      <td>35</td>\n",
              "      <td>Feemale</td>\n",
              "      <td>49.0</td>\n",
              "      <td>33.0</td>\n",
              "      <td>14</td>\n",
              "    </tr>\n",
              "    <tr>\n",
              "      <th>128</th>\n",
              "      <td>129</td>\n",
              "      <td>Male</td>\n",
              "      <td>59.0</td>\n",
              "      <td>NaN</td>\n",
              "      <td>11</td>\n",
              "    </tr>\n",
              "    <tr>\n",
              "      <th>116</th>\n",
              "      <td>117</td>\n",
              "      <td>Female</td>\n",
              "      <td>NaN</td>\n",
              "      <td>65.0</td>\n",
              "      <td>43</td>\n",
              "    </tr>\n",
              "    <tr>\n",
              "      <th>179</th>\n",
              "      <td>180</td>\n",
              "      <td>Male</td>\n",
              "      <td>35.0</td>\n",
              "      <td>93.0</td>\n",
              "      <td>90</td>\n",
              "    </tr>\n",
              "  </tbody>\n",
              "</table>\n",
              "</div>"
            ],
            "text/plain": [
              "     CustomerID   Gender   Age  Annual Income (k$)  Spending Score (1-100)\n",
              "100         101   Female  23.0                62.0                      41\n",
              "54           55      NaN  50.0                 NaN                      45\n",
              "145         146     Male   NaN                77.0                      97\n",
              "34           35  Feemale  49.0                33.0                      14\n",
              "128         129     Male  59.0                 NaN                      11\n",
              "116         117   Female   NaN                65.0                      43\n",
              "179         180     Male  35.0                93.0                      90"
            ]
          },
          "execution_count": 12,
          "metadata": {},
          "output_type": "execute_result"
        }
      ],
      "source": [
        "df.sample(7)"
      ]
    },
    {
      "cell_type": "markdown",
      "metadata": {
        "id": "dZ6Tm3koGft2"
      },
      "source": [
        "### Задание 2\n",
        "\n",
        "Проведите разведочный анализ загруженных данных. Обязательные атрибуты для анализа:\n",
        "- количество пропусков в каждом признаке;\n",
        "- распределения признаков;\n",
        "- возможные выбросы или аномалии.\n",
        "\n",
        "Анализ дополнительных атрибутов и свойств данных приветствуется. Используйте средства визуализации там, где это необходимо.\n",
        "\n",
        "По результатам анализа сделайте выводы о свойствах отдельных признаков и качестве данных в целом."
      ]
    },
    {
      "cell_type": "markdown",
      "metadata": {
        "id": "WftoCqd5iCmz"
      },
      "source": [
        "Проверяем и удаляем дубликаты только в CustomerID (см обсуждение семинар timing 1:00:00)"
      ]
    },
    {
      "cell_type": "code",
      "execution_count": 13,
      "metadata": {
        "colab": {
          "base_uri": "https://localhost:8080/"
        },
        "id": "IhT3Jrl8jVXI",
        "outputId": "ff5a538b-e5b9-4041-cf0b-c8ae499f1463"
      },
      "outputs": [
        {
          "name": "stdout",
          "output_type": "stream",
          "text": [
            "Дубликаты по CustomerID:\n",
            "Empty DataFrame\n",
            "Columns: [CustomerID, Gender, Age, Annual Income (k$), Spending Score (1-100)]\n",
            "Index: []\n"
          ]
        }
      ],
      "source": [
        "duplicates = df[df.duplicated(subset='CustomerID')]\n",
        "print(\"Дубликаты по CustomerID:\")\n",
        "print(duplicates)"
      ]
    },
    {
      "cell_type": "markdown",
      "metadata": {
        "id": "LsOBXa_wju7c"
      },
      "source": [
        "В столбце CustomerID нет дубликатов, и DataFrame уже очищен от любых повторений по этому столбцу, поэтому в дальнейшем дубликаты не ищем и не удаляем, чтобы не исказить модель."
      ]
    },
    {
      "cell_type": "code",
      "execution_count": 17,
      "metadata": {
        "colab": {
          "base_uri": "https://localhost:8080/"
        },
        "id": "zczQG5MoHulI",
        "outputId": "67b047ca-c5b0-4880-c8b7-d0361151314c"
      },
      "outputs": [
        {
          "name": "stdout",
          "output_type": "stream",
          "text": [
            "Количество пропусков в каждом признаке:\n",
            "Gender                    19\n",
            "Age                       20\n",
            "Annual Income (k$)        20\n",
            "Spending Score (1-100)     0\n",
            "dtype: int64\n"
          ]
        }
      ],
      "source": [
        "# Проверка количества пропусков в каждом признаке\n",
        "missing_values = df.isnull().sum()\n",
        "print(\"Количество пропусков в каждом признаке:\")\n",
        "print(missing_values)"
      ]
    },
    {
      "cell_type": "code",
      "execution_count": 18,
      "metadata": {
        "colab": {
          "base_uri": "https://localhost:8080/"
        },
        "id": "TFXW5_u7nA4v",
        "outputId": "4f3d850d-56d3-4d8c-b041-5d6b7185102a"
      },
      "outputs": [
        {
          "ename": "KeyError",
          "evalue": "\"['CustomerID'] not found in axis\"",
          "output_type": "error",
          "traceback": [
            "\u001b[0;31m---------------------------------------------------------------------------\u001b[0m",
            "\u001b[0;31mKeyError\u001b[0m                                  Traceback (most recent call last)",
            "Cell \u001b[0;32mIn[18], line 2\u001b[0m\n\u001b[1;32m      1\u001b[0m \u001b[38;5;66;03m# Удаляем столбец 'CustomerID'\u001b[39;00m\n\u001b[0;32m----> 2\u001b[0m df \u001b[38;5;241m=\u001b[39m \u001b[43mdf\u001b[49m\u001b[38;5;241;43m.\u001b[39;49m\u001b[43mdrop\u001b[49m\u001b[43m(\u001b[49m\u001b[38;5;124;43m'\u001b[39;49m\u001b[38;5;124;43mCustomerID\u001b[39;49m\u001b[38;5;124;43m'\u001b[39;49m\u001b[43m,\u001b[49m\u001b[43m \u001b[49m\u001b[43maxis\u001b[49m\u001b[38;5;241;43m=\u001b[39;49m\u001b[38;5;241;43m1\u001b[39;49m\u001b[43m)\u001b[49m\n\u001b[1;32m      4\u001b[0m \u001b[38;5;66;03m# Проверка, что столбец удален\u001b[39;00m\n\u001b[1;32m      5\u001b[0m \u001b[38;5;28mprint\u001b[39m(df\u001b[38;5;241m.\u001b[39mhead())\n",
            "File \u001b[0;32m~/Python/Python/.venv/lib/python3.12/site-packages/pandas/core/frame.py:5581\u001b[0m, in \u001b[0;36mDataFrame.drop\u001b[0;34m(self, labels, axis, index, columns, level, inplace, errors)\u001b[0m\n\u001b[1;32m   5433\u001b[0m \u001b[38;5;28;01mdef\u001b[39;00m\u001b[38;5;250m \u001b[39m\u001b[38;5;21mdrop\u001b[39m(\n\u001b[1;32m   5434\u001b[0m     \u001b[38;5;28mself\u001b[39m,\n\u001b[1;32m   5435\u001b[0m     labels: IndexLabel \u001b[38;5;241m|\u001b[39m \u001b[38;5;28;01mNone\u001b[39;00m \u001b[38;5;241m=\u001b[39m \u001b[38;5;28;01mNone\u001b[39;00m,\n\u001b[0;32m   (...)\u001b[0m\n\u001b[1;32m   5442\u001b[0m     errors: IgnoreRaise \u001b[38;5;241m=\u001b[39m \u001b[38;5;124m\"\u001b[39m\u001b[38;5;124mraise\u001b[39m\u001b[38;5;124m\"\u001b[39m,\n\u001b[1;32m   5443\u001b[0m ) \u001b[38;5;241m-\u001b[39m\u001b[38;5;241m>\u001b[39m DataFrame \u001b[38;5;241m|\u001b[39m \u001b[38;5;28;01mNone\u001b[39;00m:\n\u001b[1;32m   5444\u001b[0m \u001b[38;5;250m    \u001b[39m\u001b[38;5;124;03m\"\"\"\u001b[39;00m\n\u001b[1;32m   5445\u001b[0m \u001b[38;5;124;03m    Drop specified labels from rows or columns.\u001b[39;00m\n\u001b[1;32m   5446\u001b[0m \n\u001b[0;32m   (...)\u001b[0m\n\u001b[1;32m   5579\u001b[0m \u001b[38;5;124;03m            weight  1.0     0.8\u001b[39;00m\n\u001b[1;32m   5580\u001b[0m \u001b[38;5;124;03m    \"\"\"\u001b[39;00m\n\u001b[0;32m-> 5581\u001b[0m     \u001b[38;5;28;01mreturn\u001b[39;00m \u001b[38;5;28;43msuper\u001b[39;49m\u001b[43m(\u001b[49m\u001b[43m)\u001b[49m\u001b[38;5;241;43m.\u001b[39;49m\u001b[43mdrop\u001b[49m\u001b[43m(\u001b[49m\n\u001b[1;32m   5582\u001b[0m \u001b[43m        \u001b[49m\u001b[43mlabels\u001b[49m\u001b[38;5;241;43m=\u001b[39;49m\u001b[43mlabels\u001b[49m\u001b[43m,\u001b[49m\n\u001b[1;32m   5583\u001b[0m \u001b[43m        \u001b[49m\u001b[43maxis\u001b[49m\u001b[38;5;241;43m=\u001b[39;49m\u001b[43maxis\u001b[49m\u001b[43m,\u001b[49m\n\u001b[1;32m   5584\u001b[0m \u001b[43m        \u001b[49m\u001b[43mindex\u001b[49m\u001b[38;5;241;43m=\u001b[39;49m\u001b[43mindex\u001b[49m\u001b[43m,\u001b[49m\n\u001b[1;32m   5585\u001b[0m \u001b[43m        \u001b[49m\u001b[43mcolumns\u001b[49m\u001b[38;5;241;43m=\u001b[39;49m\u001b[43mcolumns\u001b[49m\u001b[43m,\u001b[49m\n\u001b[1;32m   5586\u001b[0m \u001b[43m        \u001b[49m\u001b[43mlevel\u001b[49m\u001b[38;5;241;43m=\u001b[39;49m\u001b[43mlevel\u001b[49m\u001b[43m,\u001b[49m\n\u001b[1;32m   5587\u001b[0m \u001b[43m        \u001b[49m\u001b[43minplace\u001b[49m\u001b[38;5;241;43m=\u001b[39;49m\u001b[43minplace\u001b[49m\u001b[43m,\u001b[49m\n\u001b[1;32m   5588\u001b[0m \u001b[43m        \u001b[49m\u001b[43merrors\u001b[49m\u001b[38;5;241;43m=\u001b[39;49m\u001b[43merrors\u001b[49m\u001b[43m,\u001b[49m\n\u001b[1;32m   5589\u001b[0m \u001b[43m    \u001b[49m\u001b[43m)\u001b[49m\n",
            "File \u001b[0;32m~/Python/Python/.venv/lib/python3.12/site-packages/pandas/core/generic.py:4788\u001b[0m, in \u001b[0;36mNDFrame.drop\u001b[0;34m(self, labels, axis, index, columns, level, inplace, errors)\u001b[0m\n\u001b[1;32m   4786\u001b[0m \u001b[38;5;28;01mfor\u001b[39;00m axis, labels \u001b[38;5;129;01min\u001b[39;00m axes\u001b[38;5;241m.\u001b[39mitems():\n\u001b[1;32m   4787\u001b[0m     \u001b[38;5;28;01mif\u001b[39;00m labels \u001b[38;5;129;01mis\u001b[39;00m \u001b[38;5;129;01mnot\u001b[39;00m \u001b[38;5;28;01mNone\u001b[39;00m:\n\u001b[0;32m-> 4788\u001b[0m         obj \u001b[38;5;241m=\u001b[39m \u001b[43mobj\u001b[49m\u001b[38;5;241;43m.\u001b[39;49m\u001b[43m_drop_axis\u001b[49m\u001b[43m(\u001b[49m\u001b[43mlabels\u001b[49m\u001b[43m,\u001b[49m\u001b[43m \u001b[49m\u001b[43maxis\u001b[49m\u001b[43m,\u001b[49m\u001b[43m \u001b[49m\u001b[43mlevel\u001b[49m\u001b[38;5;241;43m=\u001b[39;49m\u001b[43mlevel\u001b[49m\u001b[43m,\u001b[49m\u001b[43m \u001b[49m\u001b[43merrors\u001b[49m\u001b[38;5;241;43m=\u001b[39;49m\u001b[43merrors\u001b[49m\u001b[43m)\u001b[49m\n\u001b[1;32m   4790\u001b[0m \u001b[38;5;28;01mif\u001b[39;00m inplace:\n\u001b[1;32m   4791\u001b[0m     \u001b[38;5;28mself\u001b[39m\u001b[38;5;241m.\u001b[39m_update_inplace(obj)\n",
            "File \u001b[0;32m~/Python/Python/.venv/lib/python3.12/site-packages/pandas/core/generic.py:4830\u001b[0m, in \u001b[0;36mNDFrame._drop_axis\u001b[0;34m(self, labels, axis, level, errors, only_slice)\u001b[0m\n\u001b[1;32m   4828\u001b[0m         new_axis \u001b[38;5;241m=\u001b[39m axis\u001b[38;5;241m.\u001b[39mdrop(labels, level\u001b[38;5;241m=\u001b[39mlevel, errors\u001b[38;5;241m=\u001b[39merrors)\n\u001b[1;32m   4829\u001b[0m     \u001b[38;5;28;01melse\u001b[39;00m:\n\u001b[0;32m-> 4830\u001b[0m         new_axis \u001b[38;5;241m=\u001b[39m \u001b[43maxis\u001b[49m\u001b[38;5;241;43m.\u001b[39;49m\u001b[43mdrop\u001b[49m\u001b[43m(\u001b[49m\u001b[43mlabels\u001b[49m\u001b[43m,\u001b[49m\u001b[43m \u001b[49m\u001b[43merrors\u001b[49m\u001b[38;5;241;43m=\u001b[39;49m\u001b[43merrors\u001b[49m\u001b[43m)\u001b[49m\n\u001b[1;32m   4831\u001b[0m     indexer \u001b[38;5;241m=\u001b[39m axis\u001b[38;5;241m.\u001b[39mget_indexer(new_axis)\n\u001b[1;32m   4833\u001b[0m \u001b[38;5;66;03m# Case for non-unique axis\u001b[39;00m\n\u001b[1;32m   4834\u001b[0m \u001b[38;5;28;01melse\u001b[39;00m:\n",
            "File \u001b[0;32m~/Python/Python/.venv/lib/python3.12/site-packages/pandas/core/indexes/base.py:7070\u001b[0m, in \u001b[0;36mIndex.drop\u001b[0;34m(self, labels, errors)\u001b[0m\n\u001b[1;32m   7068\u001b[0m \u001b[38;5;28;01mif\u001b[39;00m mask\u001b[38;5;241m.\u001b[39many():\n\u001b[1;32m   7069\u001b[0m     \u001b[38;5;28;01mif\u001b[39;00m errors \u001b[38;5;241m!=\u001b[39m \u001b[38;5;124m\"\u001b[39m\u001b[38;5;124mignore\u001b[39m\u001b[38;5;124m\"\u001b[39m:\n\u001b[0;32m-> 7070\u001b[0m         \u001b[38;5;28;01mraise\u001b[39;00m \u001b[38;5;167;01mKeyError\u001b[39;00m(\u001b[38;5;124mf\u001b[39m\u001b[38;5;124m\"\u001b[39m\u001b[38;5;132;01m{\u001b[39;00mlabels[mask]\u001b[38;5;241m.\u001b[39mtolist()\u001b[38;5;132;01m}\u001b[39;00m\u001b[38;5;124m not found in axis\u001b[39m\u001b[38;5;124m\"\u001b[39m)\n\u001b[1;32m   7071\u001b[0m     indexer \u001b[38;5;241m=\u001b[39m indexer[\u001b[38;5;241m~\u001b[39mmask]\n\u001b[1;32m   7072\u001b[0m \u001b[38;5;28;01mreturn\u001b[39;00m \u001b[38;5;28mself\u001b[39m\u001b[38;5;241m.\u001b[39mdelete(indexer)\n",
            "\u001b[0;31mKeyError\u001b[0m: \"['CustomerID'] not found in axis\""
          ]
        }
      ],
      "source": [
        "# Удаляем столбец 'CustomerID'\n",
        "df = df.drop('CustomerID', axis=1)\n",
        "\n",
        "# Проверка, что столбец удален\n",
        "print(df.head())"
      ]
    },
    {
      "cell_type": "code",
      "execution_count": 19,
      "metadata": {
        "colab": {
          "base_uri": "https://localhost:8080/"
        },
        "id": "HwP9WdXu3xO2",
        "outputId": "9014442e-0870-4e34-8d1d-4ef903dd8b76"
      },
      "outputs": [
        {
          "name": "stdout",
          "output_type": "stream",
          "text": [
            "Уникальные значения в столбце Gender: ['Male' 'Female' nan 'Feemale']\n",
            "Уникальные значения в столбце Age: [ 19.  nan  23.  31.  22. 135.  30.  35.  58.  24.  37.  20.  52.  25.\n",
            "  46.  54.  29.  45.  40.  60.  21.  53.  18.  49.  65.  48.  27.  33.\n",
            "  59.  50.  47.  51.  69.  70.  67.  63.  43.  68.  32.  26.  57.  38.\n",
            "  55.  66.  39.  44.  28.  34.  56.  36.  42.  41.]\n",
            "Уникальные значения в столбце Annual Income (k$): [1.50e+01      nan 1.60e+01 1.70e+01 1.80e+01 1.90e+01 2.00e+01 2.10e+01\n",
            " 2.30e+01 2.40e+01 2.50e+01 2.80e+01 2.90e+01 3.00e+01 3.30e+01 3.40e+01\n",
            " 3.70e+01 3.80e+01 3.90e+01 4.00e+01 4.20e+01 4.30e+01 4.40e+01 4.60e+01\n",
            " 4.70e+01 4.80e+01 4.90e+01 5.00e+01 5.40e+01 5.70e+01 5.80e+01 5.90e+01\n",
            " 6.00e+01 6.10e+01 6.20e+01 6.30e+01 6.40e+01 6.50e+01 6.70e+01 6.90e+01\n",
            " 7.00e+01 7.10e+01 7.20e+01 7.30e+01 7.40e+01 7.50e+01 7.60e+01 7.70e+01\n",
            " 7.80e+01 1.00e+06 7.90e+01 8.10e+01 8.50e+01 8.60e+01 8.70e+01 8.80e+01\n",
            " 9.30e+01 9.70e+01 9.80e+01 9.90e+01 1.03e+02 1.13e+02 1.20e+02 1.26e+02\n",
            " 1.37e+02]\n",
            "Уникальные значения в столбце Spending Score (1-100): [39 81  6 77 40 76 94  3 72 14 99 15 13 79 35 66 29 98 73  5 82 32 61 31\n",
            " 87  4 92 17 26 75 36 28 65 55 47 42 52 60 54 45 41 50 46 51 56 59 48 49\n",
            " 53 44 57 58 43 91 95 11  9 34 71 88  7 10 93 12 97 74 22 90 20 16 89  1\n",
            " 78 83 27 63 86 69 24 68 85 23  8 18]\n"
          ]
        }
      ],
      "source": [
        "# Предварительная проверка уникальных значений в каждом столбце\n",
        "for column in df.columns:\n",
        "    unique_values = df[column].unique()\n",
        "    print(f'Уникальные значения в столбце {column}: {unique_values}')"
      ]
    },
    {
      "cell_type": "code",
      "execution_count": 20,
      "metadata": {
        "id": "RGx05XNu4t71"
      },
      "outputs": [],
      "source": [
        "# Сразу преобразуем все аномальные значения\n",
        "df['Gender'] = df['Gender'].replace({'Feemale': 'Female'})  # Исправление опечатки\n",
        "df['Gender'] = df['Gender'].fillna('Unknown')  # Замена пропусков на 'Unknown'"
      ]
    },
    {
      "cell_type": "code",
      "execution_count": 21,
      "metadata": {
        "colab": {
          "base_uri": "https://localhost:8080/"
        },
        "id": "KDFi26Jf58C1",
        "outputId": "d2e6fc99-4e8a-4f5b-bbeb-bbd8d294e15b"
      },
      "outputs": [
        {
          "name": "stdout",
          "output_type": "stream",
          "text": [
            "0   15.000\n",
            "1      NaN\n",
            "2   16.000\n",
            "3   16.000\n",
            "4   17.000\n",
            "Name: Annual Income (k$), dtype: float64\n"
          ]
        }
      ],
      "source": [
        "# Установить формат отображения чисел\n",
        "pd.options.display.float_format = '{:,.3f}'.format\n",
        "df['Annual Income (k$)'] = df['Annual Income (k$)'].astype(float)\n",
        "print(df['Annual Income (k$)'].head())"
      ]
    },
    {
      "cell_type": "code",
      "execution_count": 22,
      "metadata": {
        "colab": {
          "base_uri": "https://localhost:8080/",
          "height": 807
        },
        "id": "fncIxNGGmsX2",
        "outputId": "58226cac-ccef-48cd-bac4-c6113a0192b6"
      },
      "outputs": [
        {
          "data": {
            "image/png": "[encoded data removed]",
            "text/plain": [
              "<Figure size 1000x800 with 4 Axes>"
            ]
          },
          "metadata": {},
          "output_type": "display_data"
        }
      ],
      "source": [
        "# Гистограммы для числовых признаков\n",
        "df.hist(bins=20, figsize=(10, 8))\n",
        "plt.tight_layout()\n",
        "plt.show()"
      ]
    },
    {
      "cell_type": "markdown",
      "metadata": {
        "id": "f2D8MlDlHvL4"
      },
      "source": [
        "### Задание 3\n",
        "\n",
        "Разделите данные на обучающую и тестовую выборки в пропорции 80:20. Здесь и далее используйте random_state = 1."
      ]
    },
    {
      "cell_type": "code",
      "execution_count": 25,
      "metadata": {
        "colab": {
          "base_uri": "https://localhost:8080/"
        },
        "id": "7YwL8vOzICNY",
        "outputId": "a7933610-b39a-4e11-fa28-404098b5f5d9"
      },
      "outputs": [
        {
          "name": "stdout",
          "output_type": "stream",
          "text": [
            "Размер обучающей выборки: (160, 3)\n",
            "Размер тестовой выборки: (40, 3)\n"
          ]
        },
        {
          "data": {
            "text/html": [
              "<div>\n",
              "<style scoped>\n",
              "    .dataframe tbody tr th:only-of-type {\n",
              "        vertical-align: middle;\n",
              "    }\n",
              "\n",
              "    .dataframe tbody tr th {\n",
              "        vertical-align: top;\n",
              "    }\n",
              "\n",
              "    .dataframe thead th {\n",
              "        text-align: right;\n",
              "    }\n",
              "</style>\n",
              "<table border=\"1\" class=\"dataframe\">\n",
              "  <thead>\n",
              "    <tr style=\"text-align: right;\">\n",
              "      <th></th>\n",
              "      <th>Gender</th>\n",
              "      <th>Age</th>\n",
              "      <th>Annual Income (k$)</th>\n",
              "    </tr>\n",
              "  </thead>\n",
              "  <tbody>\n",
              "    <tr>\n",
              "      <th>0</th>\n",
              "      <td>Male</td>\n",
              "      <td>19.000</td>\n",
              "      <td>15.000</td>\n",
              "    </tr>\n",
              "    <tr>\n",
              "      <th>1</th>\n",
              "      <td>Male</td>\n",
              "      <td>NaN</td>\n",
              "      <td>NaN</td>\n",
              "    </tr>\n",
              "    <tr>\n",
              "      <th>2</th>\n",
              "      <td>Female</td>\n",
              "      <td>NaN</td>\n",
              "      <td>16.000</td>\n",
              "    </tr>\n",
              "    <tr>\n",
              "      <th>3</th>\n",
              "      <td>Female</td>\n",
              "      <td>23.000</td>\n",
              "      <td>16.000</td>\n",
              "    </tr>\n",
              "    <tr>\n",
              "      <th>4</th>\n",
              "      <td>Female</td>\n",
              "      <td>31.000</td>\n",
              "      <td>17.000</td>\n",
              "    </tr>\n",
              "    <tr>\n",
              "      <th>...</th>\n",
              "      <td>...</td>\n",
              "      <td>...</td>\n",
              "      <td>...</td>\n",
              "    </tr>\n",
              "    <tr>\n",
              "      <th>195</th>\n",
              "      <td>Female</td>\n",
              "      <td>35.000</td>\n",
              "      <td>120.000</td>\n",
              "    </tr>\n",
              "    <tr>\n",
              "      <th>196</th>\n",
              "      <td>Female</td>\n",
              "      <td>45.000</td>\n",
              "      <td>126.000</td>\n",
              "    </tr>\n",
              "    <tr>\n",
              "      <th>197</th>\n",
              "      <td>Male</td>\n",
              "      <td>32.000</td>\n",
              "      <td>126.000</td>\n",
              "    </tr>\n",
              "    <tr>\n",
              "      <th>198</th>\n",
              "      <td>Male</td>\n",
              "      <td>NaN</td>\n",
              "      <td>137.000</td>\n",
              "    </tr>\n",
              "    <tr>\n",
              "      <th>199</th>\n",
              "      <td>Unknown</td>\n",
              "      <td>30.000</td>\n",
              "      <td>137.000</td>\n",
              "    </tr>\n",
              "  </tbody>\n",
              "</table>\n",
              "<p>200 rows × 3 columns</p>\n",
              "</div>"
            ],
            "text/plain": [
              "      Gender    Age  Annual Income (k$)\n",
              "0       Male 19.000              15.000\n",
              "1       Male    NaN                 NaN\n",
              "2     Female    NaN              16.000\n",
              "3     Female 23.000              16.000\n",
              "4     Female 31.000              17.000\n",
              "..       ...    ...                 ...\n",
              "195   Female 35.000             120.000\n",
              "196   Female 45.000             126.000\n",
              "197     Male 32.000             126.000\n",
              "198     Male    NaN             137.000\n",
              "199  Unknown 30.000             137.000\n",
              "\n",
              "[200 rows x 3 columns]"
            ]
          },
          "execution_count": 25,
          "metadata": {},
          "output_type": "execute_result"
        }
      ],
      "source": [
        "from sklearn.model_selection import train_test_split\n",
        "# Разделение на признаки (X) и целевую переменную (y)\n",
        "X = df.drop(columns=['Spending Score (1-100)']) # Cоздаем новую переменную X, которая содержит все столбцы из датафрейма df, кроме столбца 'Spending Score (1-100)'\n",
        "y = df['Spending Score (1-100)']\n",
        "\n",
        "# Разделение данных на обучающую и тестовую выборки (80%/20%)\n",
        "X_train, X_test, y_train, y_test = train_test_split(X, y, test_size=0.2, random_state=1)\n",
        "\n",
        "# Проверка форматов данных\n",
        "print(f\"Размер обучающей выборки: {X_train.shape}\")\n",
        "print(f\"Размер тестовой выборки: {X_test.shape}\")\n",
        "X"
      ]
    },
    {
      "cell_type": "markdown",
      "metadata": {
        "id": "pmzNU3XqICuX"
      },
      "source": [
        "### Задание 4\n",
        "\n",
        "Заполните пропуски в признаках в обучающей выборке с использованием инструментов sklearn. Для каждого признака выберите и аргументируйте стратегию заполнения пропусков."
      ]
    },
    {
      "cell_type": "code",
      "execution_count": 26,
      "metadata": {
        "colab": {
          "base_uri": "https://localhost:8080/"
        },
        "id": "wM-cN8q8IZVe",
        "outputId": "963cdb16-8e0f-45fc-8114-510271275cce"
      },
      "outputs": [
        {
          "name": "stdout",
          "output_type": "stream",
          "text": [
            "Gender                0\n",
            "Age                   0\n",
            "Annual Income (k$)    0\n",
            "dtype: int64\n"
          ]
        }
      ],
      "source": [
        "from sklearn.impute import SimpleImputer\n",
        "# Для числовых признаков (возраст, годовой доход)\n",
        "numeric_imputer = SimpleImputer(strategy='median')\n",
        "X_train[['Age', 'Annual Income (k$)']] = numeric_imputer.fit_transform(X_train[['Age', 'Annual Income (k$)']])\n",
        "# Для категориальных признаков (пол)\n",
        "categorical_imputer = SimpleImputer(strategy='most_frequent')\n",
        "X_train['Gender'] = categorical_imputer.fit_transform(X_train['Gender'].values.reshape(-1, 1)).ravel()\n",
        "# Проверка, что пропусков больше нет\n",
        "print(X_train.isnull().sum())"
      ]
    },
    {
      "cell_type": "markdown",
      "metadata": {
        "id": "2v6KcjzKzjZz"
      },
      "source": [
        "  Age и Annual Income (k$): Медиана является устойчивой к выбросам и лучше отражает центральное положение данных, особенно если в признаке наблюдаются аномальные значения.\n",
        "\n",
        "  Genre: Для категориального признака разумно использовать моду, так как это минимизирует влияние отсутствующих данных и сохраняет распределение категорий.\n"
      ]
    },
    {
      "cell_type": "code",
      "execution_count": 27,
      "metadata": {
        "colab": {
          "base_uri": "https://localhost:8080/",
          "height": 423
        },
        "id": "N4RnlqQC1vly",
        "outputId": "3a19bc8d-3f17-4669-8fff-53d06b42303d"
      },
      "outputs": [
        {
          "data": {
            "text/html": [
              "<div>\n",
              "<style scoped>\n",
              "    .dataframe tbody tr th:only-of-type {\n",
              "        vertical-align: middle;\n",
              "    }\n",
              "\n",
              "    .dataframe tbody tr th {\n",
              "        vertical-align: top;\n",
              "    }\n",
              "\n",
              "    .dataframe thead th {\n",
              "        text-align: right;\n",
              "    }\n",
              "</style>\n",
              "<table border=\"1\" class=\"dataframe\">\n",
              "  <thead>\n",
              "    <tr style=\"text-align: right;\">\n",
              "      <th></th>\n",
              "      <th>Gender</th>\n",
              "      <th>Age</th>\n",
              "      <th>Annual Income (k$)</th>\n",
              "      <th>Spending Score (1-100)</th>\n",
              "    </tr>\n",
              "  </thead>\n",
              "  <tbody>\n",
              "    <tr>\n",
              "      <th>0</th>\n",
              "      <td>Male</td>\n",
              "      <td>19.000</td>\n",
              "      <td>15.000</td>\n",
              "      <td>39</td>\n",
              "    </tr>\n",
              "    <tr>\n",
              "      <th>1</th>\n",
              "      <td>Male</td>\n",
              "      <td>NaN</td>\n",
              "      <td>NaN</td>\n",
              "      <td>81</td>\n",
              "    </tr>\n",
              "    <tr>\n",
              "      <th>2</th>\n",
              "      <td>Female</td>\n",
              "      <td>NaN</td>\n",
              "      <td>16.000</td>\n",
              "      <td>6</td>\n",
              "    </tr>\n",
              "    <tr>\n",
              "      <th>3</th>\n",
              "      <td>Female</td>\n",
              "      <td>23.000</td>\n",
              "      <td>16.000</td>\n",
              "      <td>77</td>\n",
              "    </tr>\n",
              "    <tr>\n",
              "      <th>4</th>\n",
              "      <td>Female</td>\n",
              "      <td>31.000</td>\n",
              "      <td>17.000</td>\n",
              "      <td>40</td>\n",
              "    </tr>\n",
              "    <tr>\n",
              "      <th>...</th>\n",
              "      <td>...</td>\n",
              "      <td>...</td>\n",
              "      <td>...</td>\n",
              "      <td>...</td>\n",
              "    </tr>\n",
              "    <tr>\n",
              "      <th>195</th>\n",
              "      <td>Female</td>\n",
              "      <td>35.000</td>\n",
              "      <td>120.000</td>\n",
              "      <td>79</td>\n",
              "    </tr>\n",
              "    <tr>\n",
              "      <th>196</th>\n",
              "      <td>Female</td>\n",
              "      <td>45.000</td>\n",
              "      <td>126.000</td>\n",
              "      <td>28</td>\n",
              "    </tr>\n",
              "    <tr>\n",
              "      <th>197</th>\n",
              "      <td>Male</td>\n",
              "      <td>32.000</td>\n",
              "      <td>126.000</td>\n",
              "      <td>74</td>\n",
              "    </tr>\n",
              "    <tr>\n",
              "      <th>198</th>\n",
              "      <td>Male</td>\n",
              "      <td>NaN</td>\n",
              "      <td>137.000</td>\n",
              "      <td>18</td>\n",
              "    </tr>\n",
              "    <tr>\n",
              "      <th>199</th>\n",
              "      <td>Unknown</td>\n",
              "      <td>30.000</td>\n",
              "      <td>137.000</td>\n",
              "      <td>83</td>\n",
              "    </tr>\n",
              "  </tbody>\n",
              "</table>\n",
              "<p>200 rows × 4 columns</p>\n",
              "</div>"
            ],
            "text/plain": [
              "      Gender    Age  Annual Income (k$)  Spending Score (1-100)\n",
              "0       Male 19.000              15.000                      39\n",
              "1       Male    NaN                 NaN                      81\n",
              "2     Female    NaN              16.000                       6\n",
              "3     Female 23.000              16.000                      77\n",
              "4     Female 31.000              17.000                      40\n",
              "..       ...    ...                 ...                     ...\n",
              "195   Female 35.000             120.000                      79\n",
              "196   Female 45.000             126.000                      28\n",
              "197     Male 32.000             126.000                      74\n",
              "198     Male    NaN             137.000                      18\n",
              "199  Unknown 30.000             137.000                      83\n",
              "\n",
              "[200 rows x 4 columns]"
            ]
          },
          "execution_count": 27,
          "metadata": {},
          "output_type": "execute_result"
        }
      ],
      "source": [
        "df"
      ]
    },
    {
      "cell_type": "markdown",
      "metadata": {
        "id": "dG06N3kJIZ9A"
      },
      "source": [
        "### Задание 5\n",
        "\n",
        "Найдите выбросы в признаках обучающей выборки. Замените выбросы, если таковые имеются, и аргументируйте выбор метода поиска выбросов.\n"
      ]
    },
    {
      "cell_type": "markdown",
      "metadata": {
        "id": "DZ77CrkY1eSt"
      },
      "source": [
        "На графике описания данных видно, что существует аномальный выброс: возраст больше 120 лет.  Возможно произвести замену на моду или медиану или на среднее значение.\n",
        " Выбор метода обнаружения выбросов: Мы используем метод IQR, который основан на межквартильном диапазоне. Выбросы определяются как значения, выходящие за пределы 1.5 * IQR ниже первого квартиля (Q1) и выше третьего квартиля (Q3).\n",
        "\n",
        "Обработка выбросов:  выбросы можно заменить на границы (либо Q1 - 1.5 * IQR, либо Q3 + 1.5 * IQR)."
      ]
    },
    {
      "cell_type": "code",
      "execution_count": 28,
      "metadata": {
        "colab": {
          "base_uri": "https://localhost:8080/"
        },
        "id": "TTcePy4bI1ab",
        "outputId": "fbb9961c-4d6b-438f-97a4-da54a907b6d3"
      },
      "outputs": [
        {
          "name": "stdout",
          "output_type": "stream",
          "text": [
            "Аномальные значения возраста:\n",
            "    Gender     Age  Annual Income (k$)\n",
            "6  Unknown 135.000              18.000\n",
            "8     Male 135.000              19.000\n"
          ]
        }
      ],
      "source": [
        "# Определяем аномальные значения в возрасте\n",
        "anomalous_ages = X_train[X_train['Age'] > 120]\n",
        "print(\"Аномальные значения возраста:\")\n",
        "print(anomalous_ages)"
      ]
    },
    {
      "cell_type": "code",
      "execution_count": 29,
      "metadata": {
        "colab": {
          "base_uri": "https://localhost:8080/"
        },
        "id": "5m8GfSfb3vr8",
        "outputId": "309f451d-a779-478a-8c0a-debf9b801e70"
      },
      "outputs": [
        {
          "name": "stdout",
          "output_type": "stream",
          "text": [
            "Empty DataFrame\n",
            "Columns: [Gender, Age, Annual Income (k$)]\n",
            "Index: []\n"
          ]
        }
      ],
      "source": [
        "# Находим моду для возраста\n",
        "mode_age = X_train['Age'].mode()[0]\n",
        "\n",
        "# Заменяем аномальные значения на моду\n",
        "X_train.loc[X_train['Age'] > 90, 'Age'] = mode_age\n",
        "\n",
        "# Проверяем, что аномальные значения были заменены\n",
        "print(X_train[X_train['Age'] > 90])"
      ]
    },
    {
      "cell_type": "markdown",
      "metadata": {
        "id": "6Np67Pom7ifC"
      },
      "source": [
        "При обработке аномальных значений для признака, такого как годовой доход, важно учитывать контекст и понимание данных: сложно принять решение (по удалению или замене) т.к. про возраст точно кто-то пошутил или ошибся, а доход может быть аномально высоким."
      ]
    },
    {
      "cell_type": "code",
      "execution_count": 30,
      "metadata": {
        "colab": {
          "base_uri": "https://localhost:8080/",
          "height": 735
        },
        "id": "q94waYhZ73EY",
        "outputId": "dd1477df-5c50-41f6-f3bd-0e95b497a3d0"
      },
      "outputs": [
        {
          "data": {
            "image/png": "[encoded data removed]",
            "text/plain": [
              "<Figure size 800x400 with 1 Axes>"
            ]
          },
          "metadata": {},
          "output_type": "display_data"
        }
      ],
      "source": [
        "import matplotlib.pyplot as plt\n",
        "import seaborn as sns\n",
        "import numpy as np\n",
        "\n",
        "plt.figure(figsize=(8, 4))\n",
        "\n",
        "# Создание boxplot\n",
        "ax = sns.boxplot(x=X_train['Annual Income (k$)'])\n",
        "\n",
        "# Вычисление медианы и моды\n",
        "median_income = X_train['Annual Income (k$)'].median()\n",
        "mode_income = X_train['Annual Income (k$)'].mode()[0]  # Используем первый элемент, если несколько мод\n",
        "\n",
        "# Установка границ оси X\n",
        "plt.xlim(left=0, right=200)  # Настройте границы по вашему усмотрению\n",
        "\n",
        "# Аннотация для медианы\n",
        "ax.annotate(f'Median: {median_income:.2f}', xy=(median_income, 0.5),\n",
        "            xytext=(median_income + 10, 1),\n",
        "            arrowprops=dict(arrowstyle='->', lw=1.5),\n",
        "            fontsize=12, color='blue')\n",
        "\n",
        "# Аннотация для моды\n",
        "ax.annotate(f'Mode: {mode_income:.2f}', xy=(mode_income, 0.5),\n",
        "            xytext=(mode_income + 10, 1.5),\n",
        "            arrowprops=dict(arrowstyle='->', lw=1.5),\n",
        "            fontsize=12, color='orange')\n",
        "\n",
        "# Заголовок и подписи\n",
        "plt.title('Распределение годового дохода')\n",
        "plt.xlabel('Годовой доход (k$)')\n",
        "plt.ylabel('Частота')\n",
        "plt.grid(True)\n",
        "\n",
        "plt.show()"
      ]
    },
    {
      "cell_type": "markdown",
      "metadata": {
        "id": "lphHlTgiAXMh"
      },
      "source": [
        "Поступить с аномальными выбросами в данных дохода так же как с аномальными выбросами данных возраста нецелесообразно, потому что они могут быть обусловлены несколькими возможными факторами: действительно высоким доходом по сравнению с невозможностью возраста в 135 лет, наличием в качестве покупателя юридического лица или оптового клиента. таких аномально высоких выбросов 3 и было бы интересно проверить связано ли аномально высокие выбросы эээ с такими строками где пропущен пол клиента или возраст, чтобы аргументировать догадку о возможности происхождения таких аномально высоких данных годового дохода. На основании анализа на предобработаных данных будет приниматься решение, как поступить с выбросами в данных о годовом доходе:\n",
        " Замена аномальных значений на максимальное значение или вынесение их в отдельную категорию может быть обоснованными подходами в зависимости от контекста данных и бизнес-логики.\n",
        "\n",
        "1. Замена аномалий на максимальное значение\n",
        "Плюсы:\n",
        "Поддерживает структуру данных, поскольку записи не удаляются, а причисляются к максимальным в выборке.\n",
        "В некоторых случаях может быть логичным, чтобы аномальные значения не значительно отклонялись от реальных значений.\n",
        "Минусы:\n",
        "Если заменить аномальные значения на максимальное значение, это может создать ложное представление о данных, особенно если есть много клиентов с реальными высокими доходами.\n",
        "Может искажать средние значения и другие статистические метрики, что может негативно сказаться на качестве модели.\n",
        "2. Вынесение аномалий в отдельную категорию (если положительная корреляция с незаполненной графой пол или возраст 135 лет статистически значима)\n",
        "Плюсы:\n",
        "Позволяет сохранить информацию о клиентах с аномальными значениями, что может быть полезно для бизнес-анализа.\n",
        "Создание новой категории (например, \"юр. лицо\" или \"оптовик\") может помочь модели лучше понимать данные, поскольку это добавляет дополнительную информацию о характере клиента.\n",
        "Минусы:\n",
        "Возможно, потребуется больше работы для правильной настройки модели и анализа, чтобы убедиться, что эта новая категория правильно воспринимается моделью.\n",
        "Необходимо также учитывать, как эта категория будет использоваться в ваших аналитических отчетах.\n",
        "3. Оставить данные в первозданном виде\n",
        "Плюсы:\n",
        "Простота обработки и минимальные изменения в данных.\n",
        "Если есть предположения о том, что аномальные значения могут быть верными, это решение может быть оптимальным.\n",
        "Минусы:\n",
        "Может негативно сказаться на производительности модели, если выбросы не будут обработаны."
      ]
    },
    {
      "cell_type": "code",
      "execution_count": 32,
      "metadata": {
        "colab": {
          "base_uri": "https://localhost:8080/",
          "height": 325
        },
        "id": "HNdyLiqlNEa7",
        "outputId": "f1647b32-2708-444e-ddeb-d202b38c7cd2"
      },
      "outputs": [
        {
          "data": {
            "text/html": [
              "<div>\n",
              "<style scoped>\n",
              "    .dataframe tbody tr th:only-of-type {\n",
              "        vertical-align: middle;\n",
              "    }\n",
              "\n",
              "    .dataframe tbody tr th {\n",
              "        vertical-align: top;\n",
              "    }\n",
              "\n",
              "    .dataframe thead th {\n",
              "        text-align: right;\n",
              "    }\n",
              "</style>\n",
              "<table border=\"1\" class=\"dataframe\">\n",
              "  <thead>\n",
              "    <tr style=\"text-align: right;\">\n",
              "      <th></th>\n",
              "      <th>CustomerID</th>\n",
              "      <th>Genre</th>\n",
              "      <th>Age</th>\n",
              "      <th>Annual Income (k$)</th>\n",
              "      <th>Spending Score (1-100)</th>\n",
              "    </tr>\n",
              "  </thead>\n",
              "  <tbody>\n",
              "    <tr>\n",
              "      <th>82</th>\n",
              "      <td>83</td>\n",
              "      <td>Male</td>\n",
              "      <td>67.000</td>\n",
              "      <td>54.000</td>\n",
              "      <td>41</td>\n",
              "    </tr>\n",
              "    <tr>\n",
              "      <th>74</th>\n",
              "      <td>75</td>\n",
              "      <td>Male</td>\n",
              "      <td>59.000</td>\n",
              "      <td>54.000</td>\n",
              "      <td>47</td>\n",
              "    </tr>\n",
              "    <tr>\n",
              "      <th>20</th>\n",
              "      <td>21</td>\n",
              "      <td>Male</td>\n",
              "      <td>35.000</td>\n",
              "      <td>24.000</td>\n",
              "      <td>35</td>\n",
              "    </tr>\n",
              "    <tr>\n",
              "      <th>134</th>\n",
              "      <td>135</td>\n",
              "      <td>Male</td>\n",
              "      <td>20.000</td>\n",
              "      <td>73.000</td>\n",
              "      <td>5</td>\n",
              "    </tr>\n",
              "    <tr>\n",
              "      <th>92</th>\n",
              "      <td>93</td>\n",
              "      <td>Male</td>\n",
              "      <td>48.000</td>\n",
              "      <td>60.000</td>\n",
              "      <td>49</td>\n",
              "    </tr>\n",
              "    <tr>\n",
              "      <th>93</th>\n",
              "      <td>94</td>\n",
              "      <td>Female</td>\n",
              "      <td>40.000</td>\n",
              "      <td>60.000</td>\n",
              "      <td>40</td>\n",
              "    </tr>\n",
              "    <tr>\n",
              "      <th>122</th>\n",
              "      <td>123</td>\n",
              "      <td>Female</td>\n",
              "      <td>40.000</td>\n",
              "      <td>69.000</td>\n",
              "      <td>58</td>\n",
              "    </tr>\n",
              "  </tbody>\n",
              "</table>\n",
              "</div>"
            ],
            "text/plain": [
              "     CustomerID   Genre    Age  Annual Income (k$)  Spending Score (1-100)\n",
              "82           83    Male 67.000              54.000                      41\n",
              "74           75    Male 59.000              54.000                      47\n",
              "20           21    Male 35.000              24.000                      35\n",
              "134         135    Male 20.000              73.000                       5\n",
              "92           93    Male 48.000              60.000                      49\n",
              "93           94  Female 40.000              60.000                      40\n",
              "122         123  Female 40.000              69.000                      58"
            ]
          },
          "execution_count": 32,
          "metadata": {},
          "output_type": "execute_result"
        }
      ],
      "source": [
        "# Загрузка исходных данных\n",
        "df_original = pd.read_csv('Mall_Customers.csv')\n",
        "\n",
        "df_original.sample(7)"
      ]
    },
    {
      "cell_type": "code",
      "execution_count": 33,
      "metadata": {
        "id": "fs2JSBKKUEtg"
      },
      "outputs": [],
      "source": [
        "# В названии столбца скорее всего опечатка\n",
        "df_original.rename(columns={'Genre': 'Gender'}, inplace=True)"
      ]
    },
    {
      "cell_type": "code",
      "execution_count": 34,
      "metadata": {
        "colab": {
          "base_uri": "https://localhost:8080/"
        },
        "id": "DviQeIhaQQsI",
        "outputId": "5c94023a-93e0-4e0f-a669-74561050482e"
      },
      "outputs": [
        {
          "name": "stdout",
          "output_type": "stream",
          "text": [
            "Количество клиентов с аномально высоким доходом: 12\n",
            "Количество отсутствующих значений в Gender: 2\n",
            "Процент отсутствующих значений в Gender среди клиентов с высоким доходом: 16.67%\n"
          ]
        }
      ],
      "source": [
        "# Установка порогового значения для аномально высокого дохода\n",
        "high_income_threshold = 100  # например, 100k$, можно изменить по необходимости\n",
        "\n",
        "# Фильтрация данных по условию\n",
        "high_income_data = df_original[df_original['Annual Income (k$)'] > high_income_threshold]\n",
        "\n",
        "# Проверка на наличие отсутствующих значений в Gender среди клиентов с аномально высоким доходом\n",
        "missing_gender_high_income = high_income_data['Gender'].isnull().sum()\n",
        "\n",
        "# Проверка общего количества клиентов с аномально высоким доходом\n",
        "total_high_income_count = high_income_data.shape[0]\n",
        "\n",
        "# Расчет процента клиентов с отсутствующими значениями в Gender\n",
        "percentage_missing_gender = (missing_gender_high_income / total_high_income_count) * 100 if total_high_income_count > 0 else 0\n",
        "\n",
        "print(f\"Количество клиентов с аномально высоким доходом: {total_high_income_count}\")\n",
        "print(f\"Количество отсутствующих значений в Gender: {missing_gender_high_income}\")\n",
        "print(f\"Процент отсутствующих значений в Gender среди клиентов с высоким доходом: {percentage_missing_gender:.2f}%\")"
      ]
    },
    {
      "cell_type": "code",
      "execution_count": 35,
      "metadata": {
        "colab": {
          "base_uri": "https://localhost:8080/"
        },
        "id": "A1ZHyubYR23U",
        "outputId": "6cac5445-175e-4215-ca82-b347cc259eec"
      },
      "outputs": [
        {
          "name": "stdout",
          "output_type": "stream",
          "text": [
            "Количество клиентов с аномально высоким доходом и возрастом старше 90 лет: 0\n",
            "Empty DataFrame\n",
            "Columns: [Gender, Age, Annual Income (k$)]\n",
            "Index: []\n"
          ]
        }
      ],
      "source": [
        "# Установка порогового значения для аномально высокого дохода\n",
        "high_income_threshold = 100  # Например, 100k$\n",
        "\n",
        "# Фильтрация данных по условию\n",
        "high_income_over_90 = df_original[(df_original['Annual Income (k$)'] > high_income_threshold) & (df_original['Age'] > 90)]\n",
        "\n",
        "# Проверка количества клиентов\n",
        "count_high_income_over_90 = high_income_over_90.shape[0]\n",
        "\n",
        "print(f\"Количество клиентов с аномально высоким доходом и возрастом старше 90 лет: {count_high_income_over_90}\")\n",
        "print(high_income_over_90[['Gender', 'Age', 'Annual Income (k$)']])  # Выводим информацию о таких клиентах"
      ]
    },
    {
      "cell_type": "markdown",
      "metadata": {
        "id": "-E1EQa8PUdt5"
      },
      "source": [
        "Варианты действий с аномально высокими выбросами доходов:\n",
        "1. Оставить без изменений\n",
        "Обоснование: Оставление выбросов в данных может предоставить более полное представление о клиентской базе, включая возможность наличия очень состоятельных клиентов или организаций. Это может быть важно для анализа рынка.\n",
        "Плюсы:\n",
        "Сохранение всей информации, включая данные о клиентах с высоким доходом.\n",
        "Возможность выявить новые паттерны или тренды в будущем анализе.\n",
        "Минусы:\n",
        "Результаты анализа могут быть искажены. Например, если используется алгоритм машинного обучения, он может быть чувствителен к выбросам и давать некорректные прогнозы.\n",
        "Статистические метрики (например, среднее значение) могут быть значительно смещены.\n",
        "2. Заменить выбросы\n",
        "На максимальное значение: Если выбросы будут заменены на максимальное значение в наборе данных, это может быть оправдано, если мы предполагаем, что они представляют собой нечто большее, чем просто аномалии.\n",
        "Плюсы:\n",
        "Это сохранит общую структуру данных и позволит избежать потерь информации.\n",
        "Устойчивость к дальнейшим искажениям данных.\n",
        "Минусы:\n",
        "Может создать иллюзию, что остальные данные также могут быть равны этому значению.\n",
        "Если максимальное значение не является реальным, это может вызвать дополнительные проблемы в анализе.\n",
        "На медиану или моду: Замена выбросов на медиану или моду более консервативна и предпочтительна для поддержания статистической целостности данных.\n",
        "Плюсы:\n",
        "Медиана менее чувствительна к выбросам, поэтому распределение данных останется более сбалансированным.\n",
        "Сохранение более реалистичных значений для дальнейшего анализа.\n",
        "Минусы:\n",
        "Могут быть потеряны важные детали о клиентской базе, если выбросы действительно представляют собой важные данные.\n",
        "3. Удалить выбросы\n",
        "Обоснование: Удаление выбросов может помочь сделать набор данных более «чистым» и лучше подходящим для анализа.\n",
        "Плюсы:\n",
        "Устранение искажений, которые могут повлиять на результаты анализа.\n",
        "Улучшение стабильности алгоритмов машинного обучения, которые могут не справляться с выбросами.\n",
        "Минусы:\n",
        "Информация о потенциально важной категории клиентов может быть потеряна.\n",
        "Если выбросы будут представлять собой реальных клиентов, это может уменьшить возможности для анализа в дальнейшем.\n",
        "4. Классификация как отдельная категория\n",
        "Обоснование: Выделение аномальных значений в отдельную категорию, например, юридические лица или оптовые покупатели, может помочь сохранить информацию.\n",
        "Плюсы:\n",
        "Позволит проанализировать отдельные сегменты клиентов, что может выявить новые инсайты.\n",
        "Сохранение всех данных при их классификации.\n",
        "Минусы:\n",
        "Необходимо будет обновить методы анализа для учета новой категории.\n",
        "Может вызвать дополнительные сложности в интерпретации результатов.\n",
        "Рекомендация\n",
        "Перед принятием решения рекомендуется провести дополнительный анализ, чтобы выяснить, являются ли аномальные значения случайными выбросами или же это важные данные о клиентах. Например, если клиенты с высокими доходами не имеют информации о поле, может быть полезно проверить их возраст, чтобы понять, связаны ли эти два факта.\n",
        "\n",
        "Если эти клиенты действительно представляют интересный сегмент рынка (например, юридические лица), стоит рассмотреть возможность их выделения в отдельную категорию. В противном случае, если они являются простыми аномалиями, замена или удаление выбросов могут быть более предпочтительными."
      ]
    },
    {
      "cell_type": "markdown",
      "metadata": {
        "id": "4iZFKDQ7I2LZ"
      },
      "source": [
        "### Задание 6\n",
        "\n",
        "Нормализуйте численные признаки. Аргументируйте выбор стратегии нормализации для каждого признака.\n"
      ]
    },
    {
      "cell_type": "markdown",
      "metadata": {
        "id": "ML4dMc_wgonn"
      },
      "source": [
        "Можно использовать метод IQR (межквартильный размах) для определения выбросов. Этот метод позволяет установить границы, за которыми значения считаются выбросами."
      ]
    },
    {
      "cell_type": "code",
      "execution_count": 36,
      "metadata": {
        "colab": {
          "base_uri": "https://localhost:8080/",
          "height": 728
        },
        "id": "U0Wd0IzagHzp",
        "outputId": "7cf9adb0-201b-4b85-bb32-05dbc0a7ffaf"
      },
      "outputs": [
        {
          "name": "stdout",
          "output_type": "stream",
          "text": [
            "count   160.000\n",
            "mean     38.126\n",
            "std      12.411\n",
            "min      19.000\n",
            "25%      30.000\n",
            "50%      37.000\n",
            "75%      47.000\n",
            "max      63.150\n",
            "Name: Age, dtype: float64\n"
          ]
        },
        {
          "data": {
            "image/png": "[encoded data removed]",
            "text/plain": [
              "<Figure size 800x600 with 1 Axes>"
            ]
          },
          "metadata": {},
          "output_type": "display_data"
        }
      ],
      "source": [
        "import pandas as pd\n",
        "import seaborn as sns\n",
        "import matplotlib.pyplot as plt\n",
        "\n",
        "# Предположим, что X_train уже загружен и содержит столбец 'Age'\n",
        "\n",
        "# Проверка на наличие пропусков\n",
        "if X_train['Age'].isnull().sum() > 0:\n",
        "    print(\"В данных есть пропуски в столбце 'Age'. Рекомендуется заполнить их перед обработкой выбросов.\")\n",
        "\n",
        "# Определение нижней и верхней границ выбросов с помощью квантилей\n",
        "lower_bound_age = X_train['Age'].quantile(0.05)  # 5-й процентиль\n",
        "upper_bound_age = X_train['Age'].quantile(0.95)  # 95-й процентиль\n",
        "\n",
        "# Замена значений ниже 5-го и выше 95-го процентилей на соответствующие квантильные значения\n",
        "X_train.loc[X_train['Age'] < lower_bound_age, 'Age'] = lower_bound_age\n",
        "X_train.loc[X_train['Age'] > upper_bound_age, 'Age'] = upper_bound_age\n",
        "\n",
        "# Проверка результата\n",
        "print(X_train['Age'].describe())\n",
        "\n",
        "# Визуализация распределения возраста после обработки\n",
        "plt.figure(figsize=(8, 6))\n",
        "sns.histplot(X_train['Age'], bins=30, kde=True, color='green')\n",
        "plt.title('Распределение возраста (после обработки выбросов с quantile)')\n",
        "plt.xlabel('Возраст')\n",
        "plt.ylabel('Частота')\n",
        "plt.show()"
      ]
    },
    {
      "cell_type": "markdown",
      "metadata": {
        "id": "3WGWuQ_Zd0zE"
      },
      "source": [
        "1. Метод Winsorizing заменяет аномальные значения на определенный процентиль, что позволяет сохранить информацию о них, но уменьшает их влияние.\n",
        "\n",
        "Подход:\n",
        "Заменить значения выше 95-го или 99-го процентиля на значения в этом процентиле.\n",
        "Это позволит сохранить информацию о клиентах с высокими доходами, не влияя на модель.\n",
        "2. Использование логарифмической трансформации\n",
        "Логарифмическая трансформация может помочь уменьшить влияние выбросов, так как она сжимает диапазон значений.\n",
        "\n",
        "Подход:\n",
        "Примените логарифмическую трансформацию к годовым доходам.\n",
        "Это сделает распределение более симметричным и снизит влияние высоких значений."
      ]
    },
    {
      "cell_type": "code",
      "execution_count": 38,
      "metadata": {
        "colab": {
          "base_uri": "https://localhost:8080/"
        },
        "id": "gSLKHnlYI-bf",
        "outputId": "e02ef4e6-67de-4cbf-b84c-b6594d6a8df1"
      },
      "outputs": [
        {
          "name": "stdout",
          "output_type": "stream",
          "text": [
            "count   160.000\n",
            "mean     59.806\n",
            "std      22.526\n",
            "min      15.000\n",
            "25%      46.750\n",
            "50%      62.000\n",
            "75%      75.000\n",
            "max     103.000\n",
            "Name: Annual Income (k$), dtype: float64\n"
          ]
        }
      ],
      "source": [
        "# Определение 95-го процентиля для годового дохода\n",
        "income_upper_limit = X_train['Annual Income (k$)'].quantile(0.95)\n",
        "\n",
        "# Замена значений выше 95-го процентиля на это значение\n",
        "X_train.loc[X_train['Annual Income (k$)'] > income_upper_limit, 'Annual Income (k$)'] = income_upper_limit\n",
        "\n",
        "# Проверка результата\n",
        "print(X_train['Annual Income (k$)'].describe())"
      ]
    },
    {
      "cell_type": "code",
      "execution_count": 39,
      "metadata": {
        "colab": {
          "base_uri": "https://localhost:8080/",
          "height": 601
        },
        "id": "6WQ1kIglfhGH",
        "outputId": "1c30a769-6f96-456e-f2af-c9da3499d143"
      },
      "outputs": [
        {
          "data": {
            "image/png": "[encoded data removed]",
            "text/plain": [
              "<Figure size 800x600 with 1 Axes>"
            ]
          },
          "metadata": {},
          "output_type": "display_data"
        }
      ],
      "source": [
        "import pandas as pd\n",
        "import seaborn as sns\n",
        "import matplotlib.pyplot as plt\n",
        "\n",
        "\n",
        "# Определение 95-го процентиля для годового дохода\n",
        "income_upper_limit = X_train['Annual Income (k$)'].quantile(0.95)\n",
        "\n",
        "# Замена значений выше 95-го процентиля на это значение\n",
        "X_train.loc[X_train['Annual Income (k$)'] > income_upper_limit, 'Annual Income (k$)'] = income_upper_limit\n",
        "\n",
        "# Настройка стиля\n",
        "sns.set(style='whitegrid')\n",
        "\n",
        "plt.figure(figsize=(8, 6))\n",
        "\n",
        "# График распределения годового дохода после нормализации\n",
        "sns.histplot(X_train['Annual Income (k$)'], bins=30, kde=True, color='blue')\n",
        "plt.title('Распределение годового дохода (после нормализации)')\n",
        "plt.xlabel('Годовой доход (k$)')\n",
        "plt.ylabel('Частота')\n",
        "\n",
        "plt.tight_layout()\n",
        "plt.show()"
      ]
    },
    {
      "cell_type": "markdown",
      "metadata": {
        "id": "AcH5mXxFjYHO"
      },
      "source": [
        "Основные Scaler-методы:\n",
        "StandardScaler: Приводит данные к распределению с нулевым средним и стандартным отклонением 1 (полезно для данных с нормальным распределением).\n",
        "MinMaxScaler: Преобразует данные в диапазон [0, 1] (полезно для данных, где есть фиксированные минимальные и максимальные границы).\n",
        "Как выбрать Scaler:\n",
        "Если у данных нет строгого нормального распределения, MinMaxScaler может быть предпочтительным, так как он не предполагает определенного распределения.\n",
        "Если данные приблизительно нормальны, StandardScaler лучше нормализует их с точки зрения среднего и дисперсии."
      ]
    },
    {
      "cell_type": "code",
      "execution_count": 41,
      "metadata": {
        "colab": {
          "base_uri": "https://localhost:8080/",
          "height": 737
        },
        "id": "nAcYdYamf9Ps",
        "outputId": "1250455b-93a2-4381-c9c9-e0ef71f5cf30"
      },
      "outputs": [
        {
          "name": "stdout",
          "output_type": "stream",
          "text": [
            "          Age  Annual Income (k$)\n",
            "count 160.000             160.000\n",
            "mean    0.000               0.000\n",
            "std     1.003               1.003\n",
            "min    -1.546              -1.995\n",
            "25%    -0.657              -0.581\n",
            "50%    -0.091               0.098\n",
            "75%     0.717               0.677\n",
            "max     2.023               1.923\n"
          ]
        },
        {
          "data": {
            "image/png": "[encoded data removed]",
            "text/plain": [
              "<Figure size 800x600 with 1 Axes>"
            ]
          },
          "metadata": {},
          "output_type": "display_data"
        }
      ],
      "source": [
        "from sklearn.preprocessing import StandardScaler\n",
        "import pandas as pd\n",
        "import seaborn as sns\n",
        "import matplotlib.pyplot as plt\n",
        "\n",
        "# Создаем экземпляр StandardScaler\n",
        "scaler = StandardScaler()\n",
        "\n",
        "# Применяем масштабирование только к числовым признакам (например, 'Age' и 'Annual Income (k$)')\n",
        "X_train[['Age', 'Annual Income (k$)']] = scaler.fit_transform(X_train[['Age', 'Annual Income (k$)']])\n",
        "\n",
        "# Проверяем результаты\n",
        "print(X_train[['Age', 'Annual Income (k$)']].describe())\n",
        "\n",
        "# Визуализация масштабированных данных\n",
        "plt.figure(figsize=(8, 6))\n",
        "sns.histplot(X_train['Age'], bins=30, kde=True, color='blue', label='Age')\n",
        "sns.histplot(X_train['Annual Income (k$)'], bins=30, kde=True, color='orange', label='Annual Income')\n",
        "plt.title('Масштабированные данные (Age и Annual Income)')\n",
        "plt.xlabel('Значение')\n",
        "plt.ylabel('Частота')\n",
        "plt.legend()\n",
        "plt.show()"
      ]
    },
    {
      "cell_type": "markdown",
      "metadata": {
        "id": "MwEFsRNnI_Ar"
      },
      "source": [
        "### Задание 7\n",
        "\n",
        "Закодируйте категориальные признаки в обучающей выборке. Аргументируйте выбор способа кодирования."
      ]
    },
    {
      "cell_type": "code",
      "execution_count": 42,
      "metadata": {
        "colab": {
          "base_uri": "https://localhost:8080/"
        },
        "id": "0Pfl1OHQl-T0",
        "outputId": "aa2df585-afb0-411d-9c71-ad9a5b9ca485"
      },
      "outputs": [
        {
          "name": "stdout",
          "output_type": "stream",
          "text": [
            "Index(['Gender', 'Age', 'Annual Income (k$)'], dtype='object')\n"
          ]
        }
      ],
      "source": [
        "print(X_train.columns)"
      ]
    },
    {
      "cell_type": "code",
      "execution_count": 43,
      "metadata": {
        "colab": {
          "base_uri": "https://localhost:8080/"
        },
        "id": "Y3obSI632LZM",
        "outputId": "2f37c9a8-1902-4d10-a57e-1b71d112592a"
      },
      "outputs": [
        {
          "name": "stdout",
          "output_type": "stream",
          "text": [
            "['Male' 'Female' 'Unknown']\n",
            "          Age  Annual Income (k$)\n",
            "count 180.000             180.000\n",
            "mean   39.894           5,615.433\n",
            "std    16.843          74,531.116\n",
            "min    18.000              15.000\n",
            "25%    29.000              42.000\n",
            "50%    36.000              61.000\n",
            "75%    49.000              78.000\n",
            "max   135.000       1,000,000.000\n"
          ]
        }
      ],
      "source": [
        "# Проверка уникальных значений в Gender\n",
        "print(df['Gender'].unique())\n",
        "\n",
        "# Проверка значений в Age и Annual Income\n",
        "print(df[['Age', 'Annual Income (k$)']].describe())\n",
        "\n"
      ]
    },
    {
      "cell_type": "code",
      "execution_count": 44,
      "metadata": {
        "colab": {
          "base_uri": "https://localhost:8080/"
        },
        "id": "oKVmh91Q2z52",
        "outputId": "76d4f899-d698-4b5c-f7d1-c343fc469d6b"
      },
      "outputs": [
        {
          "name": "stdout",
          "output_type": "stream",
          "text": [
            "['Male' 'Female' 'Unknown']\n"
          ]
        }
      ],
      "source": [
        "# Замена опечатки и пропусков\n",
        "df['Gender'] = df['Gender'].replace({'Feemale': 'Female', np.nan: 'Female'})\n",
        "# Проверка уникальных значений после замены\n",
        "print(df['Gender'].unique())"
      ]
    },
    {
      "cell_type": "code",
      "execution_count": 45,
      "metadata": {
        "colab": {
          "base_uri": "https://localhost:8080/"
        },
        "id": "mGCKvg362_s9",
        "outputId": "30a457e5-da09-47d8-ee93-978519840621"
      },
      "outputs": [
        {
          "name": "stdout",
          "output_type": "stream",
          "text": [
            "     Gender    Age  Annual Income (k$)\n",
            "108       1  2.023               0.142\n",
            "107       1  1.283               0.142\n",
            "189       0 -0.172               1.923\n",
            "14        1 -0.091              -1.773\n",
            "56        0  1.041              -0.704\n",
            "Gender                0\n",
            "Age                   0\n",
            "Annual Income (k$)    0\n",
            "dtype: int64\n"
          ]
        },
        {
          "name": "stderr",
          "output_type": "stream",
          "text": [
            "/var/folders/4b/7k6l7jgn2zx1vq46wr0m6fbw0000gn/T/ipykernel_45621/3408194587.py:14: FutureWarning: Downcasting behavior in `replace` is deprecated and will be removed in a future version. To retain the old behavior, explicitly call `result.infer_objects(copy=False)`. To opt-in to the future behavior, set `pd.set_option('future.no_silent_downcasting', True)`\n",
            "  X_train['Gender'] = X_train['Gender'].replace({'Male': 1, 'Female': 0})\n"
          ]
        }
      ],
      "source": [
        "from sklearn.impute import SimpleImputer\n",
        "import numpy as np\n",
        "\n",
        "# Заменяем значения \"Unknown\" на NaN с использованием mask\n",
        "X_train['Gender'] = X_train['Gender'].mask(X_train['Gender'] == 'Unknown', np.nan)\n",
        "\n",
        "# Создание экземпляра SimpleImputer для заполнения NaN в категориальных данных\n",
        "categorical_imputer = SimpleImputer(strategy='most_frequent')\n",
        "\n",
        "# Заполнение пропусков в колонке 'Gender'\n",
        "X_train['Gender'] = categorical_imputer.fit_transform(X_train[['Gender']]).flatten()\n",
        "\n",
        "# Преобразование значений 'Gender' в бинарные\n",
        "X_train['Gender'] = X_train['Gender'].replace({'Male': 1, 'Female': 0})\n",
        "\n",
        "# Проверка результата\n",
        "print(X_train[['Gender', 'Age', 'Annual Income (k$)']].head())\n",
        "print(X_train.isnull().sum())  # Проверка на наличие NaN"
      ]
    },
    {
      "cell_type": "code",
      "execution_count": 46,
      "metadata": {
        "colab": {
          "base_uri": "https://localhost:8080/"
        },
        "id": "qgF5xJQBrf6i",
        "outputId": "52450947-0aab-431b-85e1-0422374c18b8"
      },
      "outputs": [
        {
          "name": "stdout",
          "output_type": "stream",
          "text": [
            "Количество пропусков в каждом признаке:\n",
            "Gender                0\n",
            "Age                   0\n",
            "Annual Income (k$)    0\n",
            "dtype: int64\n"
          ]
        }
      ],
      "source": [
        "# Откуда-то берутся NaN (уже после обработки и замены значений)\n",
        "# Проверка количества пропусков в каждом признаке\n",
        "# Проверка количества пропусков в каждом признаке\n",
        "missing_values = X_train.isnull().sum()\n",
        "print(\"Количество пропусков в каждом признаке:\")\n",
        "print(missing_values)"
      ]
    },
    {
      "cell_type": "code",
      "execution_count": 47,
      "metadata": {
        "colab": {
          "base_uri": "https://localhost:8080/"
        },
        "id": "DL_zLfcT1F82",
        "outputId": "556aaaf2-0aee-4047-9fdc-76d155f19e76"
      },
      "outputs": [
        {
          "name": "stdout",
          "output_type": "stream",
          "text": [
            "     Gender    Age  Annual Income (k$)\n",
            "108       1  2.023               0.142\n",
            "107       1  1.283               0.142\n",
            "189       0 -0.172               1.923\n",
            "14        1 -0.091              -1.773\n",
            "56        0  1.041              -0.704\n",
            "Gender                0\n",
            "Age                   0\n",
            "Annual Income (k$)    0\n",
            "dtype: int64\n"
          ]
        }
      ],
      "source": [
        "# Проверка результата\n",
        "print(X_train[['Gender', 'Age', 'Annual Income (k$)']].head())\n",
        "print(X_train.isnull().sum())  # Проверка на наличие NaN"
      ]
    },
    {
      "cell_type": "code",
      "execution_count": 48,
      "metadata": {
        "colab": {
          "base_uri": "https://localhost:8080/"
        },
        "id": "yXsNcZ9d7xR1",
        "outputId": "a6d92e64-46fb-41e0-d932-bfa51b22d420"
      },
      "outputs": [
        {
          "name": "stdout",
          "output_type": "stream",
          "text": [
            "Уникальные значения в столбце Gender: [1 0]\n",
            "Уникальные значения в столбце Age: [ 2.0226112   1.28303809 -0.17185982 -0.09103215  1.04055511 -0.25268748\n",
            " -1.54593006 -1.4651024  -0.65682579 -1.22261942  0.79807212  0.07062317\n",
            "  0.95972745  1.6871764  -0.49517046 -1.30344708  0.15145083 -1.38427474\n",
            " -0.73765345  0.39393382 -0.33351514  0.31310615  1.60634874  0.87889979\n",
            " -0.89930877  0.71724446 -0.01020449 -1.14179176 -1.06096409 -0.81848111\n",
            " -0.98013643  0.47476148 -0.4143428   1.44469342  1.20221043  0.6364168\n",
            " -0.57599812  0.23227849  2.01048705  1.52552108  0.55558914  1.76800406\n",
            "  1.36386576]\n",
            "Уникальные значения в столбце Annual Income (k$): [ 0.14222302  1.92348985 -1.77263882 -0.70387872 -1.63904381  0.23128636\n",
            "  0.09769135  1.74536317  0.45394472  0.05315968  0.32034971 -0.74841039\n",
            " -1.1937271   1.47817315  1.65629983 -0.52575204 -0.25856201 -0.92653707\n",
            " -1.72810715 -1.90623383  0.49847639  1.7008315   0.81019808  1.16645145\n",
            "  0.18675469  0.00862801 -0.03590366  0.40941305  0.54300806 -1.14919543\n",
            "  0.85472975  1.21098312 -1.59451213 -1.9507655  -0.48122037 -1.86170216\n",
            " -1.99529717 -0.08043533 -0.57028371  0.76566641 -0.124967   -1.81717049\n",
            " -1.54998046  0.58753973 -0.97106874  0.9437931  -1.41638545 -0.8820054\n",
            " -1.32732211  1.25551479 -0.61481538  0.67660307 -0.79294206  0.72113474\n",
            "  0.6320714  -0.4366887 ]\n"
          ]
        }
      ],
      "source": [
        "for column in X_train.columns:\n",
        "    unique_values = X_train[column].unique()\n",
        "    print(f'Уникальные значения в столбце {column}: {unique_values}')"
      ]
    },
    {
      "cell_type": "code",
      "execution_count": 50,
      "metadata": {
        "colab": {
          "base_uri": "https://localhost:8080/",
          "height": 269
        },
        "id": "FqmQBRlP9NB7",
        "outputId": "77784f32-41ef-4a34-c47a-86dc4f42ab16"
      },
      "outputs": [
        {
          "data": {
            "text/html": [
              "<div>\n",
              "<style scoped>\n",
              "    .dataframe tbody tr th:only-of-type {\n",
              "        vertical-align: middle;\n",
              "    }\n",
              "\n",
              "    .dataframe tbody tr th {\n",
              "        vertical-align: top;\n",
              "    }\n",
              "\n",
              "    .dataframe thead th {\n",
              "        text-align: right;\n",
              "    }\n",
              "</style>\n",
              "<table border=\"1\" class=\"dataframe\">\n",
              "  <thead>\n",
              "    <tr style=\"text-align: right;\">\n",
              "      <th></th>\n",
              "      <th>Gender</th>\n",
              "      <th>Age</th>\n",
              "      <th>Annual Income (k$)</th>\n",
              "    </tr>\n",
              "  </thead>\n",
              "  <tbody>\n",
              "    <tr>\n",
              "      <th>161</th>\n",
              "      <td>0</td>\n",
              "      <td>-0.738</td>\n",
              "      <td>0.855</td>\n",
              "    </tr>\n",
              "    <tr>\n",
              "      <th>56</th>\n",
              "      <td>0</td>\n",
              "      <td>1.041</td>\n",
              "      <td>-0.704</td>\n",
              "    </tr>\n",
              "    <tr>\n",
              "      <th>167</th>\n",
              "      <td>0</td>\n",
              "      <td>-0.414</td>\n",
              "      <td>1.166</td>\n",
              "    </tr>\n",
              "    <tr>\n",
              "      <th>55</th>\n",
              "      <td>1</td>\n",
              "      <td>0.717</td>\n",
              "      <td>-0.748</td>\n",
              "    </tr>\n",
              "    <tr>\n",
              "      <th>189</th>\n",
              "      <td>0</td>\n",
              "      <td>-0.172</td>\n",
              "      <td>1.923</td>\n",
              "    </tr>\n",
              "    <tr>\n",
              "      <th>68</th>\n",
              "      <td>1</td>\n",
              "      <td>-0.091</td>\n",
              "      <td>-0.526</td>\n",
              "    </tr>\n",
              "    <tr>\n",
              "      <th>86</th>\n",
              "      <td>0</td>\n",
              "      <td>1.364</td>\n",
              "      <td>-0.125</td>\n",
              "    </tr>\n",
              "  </tbody>\n",
              "</table>\n",
              "</div>"
            ],
            "text/plain": [
              "     Gender    Age  Annual Income (k$)\n",
              "161       0 -0.738               0.855\n",
              "56        0  1.041              -0.704\n",
              "167       0 -0.414               1.166\n",
              "55        1  0.717              -0.748\n",
              "189       0 -0.172               1.923\n",
              "68        1 -0.091              -0.526\n",
              "86        0  1.364              -0.125"
            ]
          },
          "execution_count": 50,
          "metadata": {},
          "output_type": "execute_result"
        }
      ],
      "source": [
        "X_train.sample(7)"
      ]
    },
    {
      "cell_type": "markdown",
      "metadata": {
        "id": "mT9hsPltJJ2z"
      },
      "source": [
        "### Задание 8\n",
        "Проведите очистку и подготовку тестовых данных. Используйте препроцессоры и другие инструменты, которые вы уже использовали при подготовке обучающей выборки, без их дополнительной настройки."
      ]
    },
    {
      "cell_type": "code",
      "execution_count": 51,
      "metadata": {
        "colab": {
          "base_uri": "https://localhost:8080/"
        },
        "id": "sPOf4Ygp-BqP",
        "outputId": "3844cd23-44a9-41a8-c376-9e490ba6334f"
      },
      "outputs": [
        {
          "name": "stdout",
          "output_type": "stream",
          "text": [
            "Gender                0\n",
            "Age                   0\n",
            "Annual Income (k$)    0\n",
            "dtype: int64\n"
          ]
        }
      ],
      "source": [
        "from sklearn.impute import SimpleImputer\n",
        "# Для числовых признаков (возраст, годовой доход)\n",
        "numeric_imputer = SimpleImputer(strategy='median')\n",
        "X_test[['Age', 'Annual Income (k$)']] = numeric_imputer.fit_transform(X_test[['Age', 'Annual Income (k$)']])\n",
        "# Для категориальных признаков (возраст)\n",
        "categorical_imputer = SimpleImputer(strategy='most_frequent')\n",
        "X_test['Gender'] = categorical_imputer.fit_transform(X_test['Gender'].values.reshape(-1, 1)).ravel()\n",
        "# Проверка, что пропусков больше нет\n",
        "print(X_test.isnull().sum())\n"
      ]
    },
    {
      "cell_type": "code",
      "execution_count": 52,
      "metadata": {
        "colab": {
          "base_uri": "https://localhost:8080/"
        },
        "id": "KttVWT5e-OTm",
        "outputId": "d1edaf51-7322-4afb-fd9a-853610b523b4"
      },
      "outputs": [
        {
          "name": "stdout",
          "output_type": "stream",
          "text": [
            "Аномальные значения возраста:\n",
            "Empty DataFrame\n",
            "Columns: [Gender, Age, Annual Income (k$)]\n",
            "Index: []\n"
          ]
        }
      ],
      "source": [
        "# Определяем аномальные значения в возрасте\n",
        "anomalous_ages = X_test[X_test['Age'] > 120]\n",
        "print(\"Аномальные значения возраста:\")\n",
        "print(anomalous_ages)"
      ]
    },
    {
      "cell_type": "code",
      "execution_count": 53,
      "metadata": {
        "colab": {
          "base_uri": "https://localhost:8080/"
        },
        "id": "c3MLRDTP-pV8",
        "outputId": "97fa9806-61c0-430c-d8c2-f571755ee81f"
      },
      "outputs": [
        {
          "name": "stdout",
          "output_type": "stream",
          "text": [
            "Empty DataFrame\n",
            "Columns: [Gender, Age, Annual Income (k$)]\n",
            "Index: []\n"
          ]
        }
      ],
      "source": [
        "# Находим моду для возраста\n",
        "mode_age = X_test['Age'].mode()[0]\n",
        "\n",
        "# Заменяем аномальные значения на моду\n",
        "X_test.loc[X_test['Age'] > 90, 'Age'] = mode_age\n",
        "\n",
        "# Проверяем, что аномальные значения были заменены\n",
        "print(X_test[X_test['Age'] > 90])"
      ]
    },
    {
      "cell_type": "code",
      "execution_count": 54,
      "metadata": {
        "colab": {
          "base_uri": "https://localhost:8080/",
          "height": 737
        },
        "id": "7_tw0gwe-qI8",
        "outputId": "a78d82fa-71c7-4db5-dd65-3a31be0c7754"
      },
      "outputs": [
        {
          "name": "stdout",
          "output_type": "stream",
          "text": [
            "count   40.000\n",
            "mean    39.698\n",
            "std     11.937\n",
            "min     23.950\n",
            "25%     31.750\n",
            "50%     36.000\n",
            "75%     49.000\n",
            "max     65.000\n",
            "Name: Age, dtype: float64\n"
          ]
        },
        {
          "data": {
            "image/png": "[encoded data removed]",
            "text/plain": [
              "<Figure size 800x600 with 1 Axes>"
            ]
          },
          "metadata": {},
          "output_type": "display_data"
        }
      ],
      "source": [
        "import pandas as pd\n",
        "import seaborn as sns\n",
        "import matplotlib.pyplot as plt\n",
        "\n",
        "# Предположим, что X_test уже загружен и содержит столбец 'Age'\n",
        "\n",
        "# Проверка на наличие пропусков\n",
        "if X_test['Age'].isnull().sum() > 0:\n",
        "    print(\"В данных есть пропуски в столбце 'Age'. Рекомендуется заполнить их перед обработкой выбросов.\")\n",
        "\n",
        "# Определение нижней и верхней границ выбросов с помощью квантилей\n",
        "lower_bound_age = X_test['Age'].quantile(0.05)  # 5-й процентиль\n",
        "upper_bound_age = X_test['Age'].quantile(0.95)  # 95-й процентиль\n",
        "\n",
        "# Замена значений ниже 5-го и выше 95-го процентилей на соответствующие квантильные значения\n",
        "X_test.loc[X_test['Age'] < lower_bound_age, 'Age'] = lower_bound_age\n",
        "X_test.loc[X_test['Age'] > upper_bound_age, 'Age'] = upper_bound_age\n",
        "\n",
        "# Проверка результата\n",
        "print(X_test['Age'].describe())\n",
        "\n",
        "# Визуализация распределения возраста после обработки\n",
        "plt.figure(figsize=(8, 6))\n",
        "sns.histplot(X_test['Age'], bins=30, kde=True, color='green')\n",
        "plt.title('Распределение возраста (после обработки выбросов с quantile)')\n",
        "plt.xlabel('Возраст')\n",
        "plt.ylabel('Частота')\n",
        "plt.show()"
      ]
    },
    {
      "cell_type": "code",
      "execution_count": 55,
      "metadata": {
        "colab": {
          "base_uri": "https://localhost:8080/"
        },
        "id": "T06aBt-y-4Ji",
        "outputId": "6d95a939-e5ef-4b3a-afe5-98bec6d21dd4"
      },
      "outputs": [
        {
          "name": "stdout",
          "output_type": "stream",
          "text": [
            "count    40.000\n",
            "mean     60.517\n",
            "std      27.170\n",
            "min      17.000\n",
            "25%      38.750\n",
            "50%      60.000\n",
            "75%      85.500\n",
            "max     113.350\n",
            "Name: Annual Income (k$), dtype: float64\n"
          ]
        }
      ],
      "source": [
        "# Определение 95-го процентиля для годового дохода\n",
        "income_upper_limit = X_test['Annual Income (k$)'].quantile(0.95)\n",
        "\n",
        "# Замена значений выше 95-го процентиля на это значение\n",
        "X_test.loc[X_test['Annual Income (k$)'] > income_upper_limit, 'Annual Income (k$)'] = income_upper_limit\n",
        "\n",
        "# Проверка результата\n",
        "print(X_test['Annual Income (k$)'].describe())"
      ]
    },
    {
      "cell_type": "code",
      "execution_count": 57,
      "metadata": {
        "colab": {
          "base_uri": "https://localhost:8080/",
          "height": 737
        },
        "id": "IyD0Rld__SaH",
        "outputId": "429b25a1-3cf1-4964-9e40-51547f70f372"
      },
      "outputs": [
        {
          "name": "stdout",
          "output_type": "stream",
          "text": [
            "         Age  Annual Income (k$)\n",
            "count 40.000              40.000\n",
            "mean  -0.000               0.000\n",
            "std    1.013               1.013\n",
            "min   -1.336              -1.622\n",
            "25%   -0.674              -0.811\n",
            "50%   -0.314              -0.019\n",
            "75%    0.789               0.931\n",
            "max    2.147               1.969\n"
          ]
        },
        {
          "data": {
            "image/png": "[encoded data removed]",
            "text/plain": [
              "<Figure size 800x600 with 1 Axes>"
            ]
          },
          "metadata": {},
          "output_type": "display_data"
        }
      ],
      "source": [
        "from sklearn.preprocessing import StandardScaler\n",
        "import pandas as pd\n",
        "import seaborn as sns\n",
        "import matplotlib.pyplot as plt\n",
        "\n",
        "# Создаем экземпляр StandardScaler\n",
        "scaler = StandardScaler()\n",
        "\n",
        "# Применяем масштабирование только к числовым признакам (например, 'Age' и 'Annual Income (k$)')\n",
        "X_test[['Age', 'Annual Income (k$)']] = scaler.fit_transform(X_test[['Age', 'Annual Income (k$)']])\n",
        "\n",
        "# Проверяем результаты\n",
        "print(X_test[['Age', 'Annual Income (k$)']].describe())\n",
        "\n",
        "# Визуализация масштабированных данных\n",
        "plt.figure(figsize=(8, 6))\n",
        "sns.histplot(X_test['Age'], bins=30, kde=True, color='blue', label='Age')\n",
        "sns.histplot(X_test['Annual Income (k$)'], bins=30, kde=True, color='orange', label='Annual Income')\n",
        "plt.title('Масштабированные данные (Age и Annual Income)')\n",
        "plt.xlabel('Значение')\n",
        "plt.ylabel('Частота')\n",
        "plt.legend()\n",
        "plt.show()"
      ]
    },
    {
      "cell_type": "code",
      "execution_count": 59,
      "metadata": {
        "colab": {
          "base_uri": "https://localhost:8080/"
        },
        "id": "VUspqQfj_X9x",
        "outputId": "f571e581-15e0-4814-b915-5342309ffe54"
      },
      "outputs": [
        {
          "name": "stdout",
          "output_type": "stream",
          "text": [
            "Index(['Gender', 'Age', 'Annual Income (k$)'], dtype='object')\n"
          ]
        }
      ],
      "source": [
        "print(X_test.columns)"
      ]
    },
    {
      "cell_type": "code",
      "execution_count": 63,
      "metadata": {
        "colab": {
          "base_uri": "https://localhost:8080/"
        },
        "id": "XJaHPhPo_dzX",
        "outputId": "d2df61bb-f41d-4421-ccb9-081261b9afcc"
      },
      "outputs": [
        {
          "name": "stdout",
          "output_type": "stream",
          "text": [
            "     Gender    Age  Annual Income (k$)\n",
            "58        0 -1.077              -0.541\n",
            "40        0  2.147              -0.839\n",
            "34        0  0.789              -1.026\n",
            "102       1  2.147               0.055\n",
            "184       0  0.111               1.434\n",
            "Gender                0\n",
            "Age                   0\n",
            "Annual Income (k$)    0\n",
            "dtype: int64\n"
          ]
        },
        {
          "name": "stderr",
          "output_type": "stream",
          "text": [
            "/var/folders/4b/7k6l7jgn2zx1vq46wr0m6fbw0000gn/T/ipykernel_45621/2887706968.py:14: FutureWarning: Downcasting behavior in `replace` is deprecated and will be removed in a future version. To retain the old behavior, explicitly call `result.infer_objects(copy=False)`. To opt-in to the future behavior, set `pd.set_option('future.no_silent_downcasting', True)`\n",
            "  X_test['Gender'] = X_test['Gender'].replace({'Male': 1, 'Female': 0})\n"
          ]
        }
      ],
      "source": [
        "from sklearn.impute import SimpleImputer\n",
        "import numpy as np\n",
        "\n",
        "# Заменяем значения \"Unknown\" на NaN с использованием mask\n",
        "X_test['Gender'] = X_test['Gender'].mask(X_test['Gender'] == 'Unknown', np.nan)\n",
        "\n",
        "# Создание экземпляра SimpleImputer для заполнения NaN в категориальных данных\n",
        "categorical_imputer = SimpleImputer(strategy='most_frequent')\n",
        "\n",
        "# Заполнение пропусков в колонке 'Gender'\n",
        "X_test['Gender'] = categorical_imputer.fit_transform(X_test[['Gender']]).flatten()\n",
        "\n",
        "# Преобразование значений 'Gender' в бинарные\n",
        "X_test['Gender'] = X_test['Gender'].replace({'Male': 1, 'Female': 0})\n",
        "\n",
        "# Проверка результата\n",
        "print(X_test[['Gender', 'Age', 'Annual Income (k$)']].head())\n",
        "print(X_test.isnull().sum())  # Проверка на наличие NaN"
      ]
    },
    {
      "cell_type": "code",
      "execution_count": 64,
      "metadata": {
        "colab": {
          "base_uri": "https://localhost:8080/",
          "height": 269
        },
        "id": "mEDvCTgl_o8l",
        "outputId": "9f5cf821-c2ff-4604-e54d-5668decd0ed2"
      },
      "outputs": [
        {
          "data": {
            "text/html": [
              "<div>\n",
              "<style scoped>\n",
              "    .dataframe tbody tr th:only-of-type {\n",
              "        vertical-align: middle;\n",
              "    }\n",
              "\n",
              "    .dataframe tbody tr th {\n",
              "        vertical-align: top;\n",
              "    }\n",
              "\n",
              "    .dataframe thead th {\n",
              "        text-align: right;\n",
              "    }\n",
              "</style>\n",
              "<table border=\"1\" class=\"dataframe\">\n",
              "  <thead>\n",
              "    <tr style=\"text-align: right;\">\n",
              "      <th></th>\n",
              "      <th>Gender</th>\n",
              "      <th>Age</th>\n",
              "      <th>Annual Income (k$)</th>\n",
              "    </tr>\n",
              "  </thead>\n",
              "  <tbody>\n",
              "    <tr>\n",
              "      <th>165</th>\n",
              "      <td>0</td>\n",
              "      <td>-0.314</td>\n",
              "      <td>0.913</td>\n",
              "    </tr>\n",
              "    <tr>\n",
              "      <th>198</th>\n",
              "      <td>1</td>\n",
              "      <td>-0.314</td>\n",
              "      <td>1.969</td>\n",
              "    </tr>\n",
              "    <tr>\n",
              "      <th>29</th>\n",
              "      <td>0</td>\n",
              "      <td>-1.336</td>\n",
              "      <td>-1.175</td>\n",
              "    </tr>\n",
              "    <tr>\n",
              "      <th>35</th>\n",
              "      <td>0</td>\n",
              "      <td>-0.314</td>\n",
              "      <td>-1.026</td>\n",
              "    </tr>\n",
              "    <tr>\n",
              "      <th>174</th>\n",
              "      <td>0</td>\n",
              "      <td>1.044</td>\n",
              "      <td>1.024</td>\n",
              "    </tr>\n",
              "    <tr>\n",
              "      <th>51</th>\n",
              "      <td>0</td>\n",
              "      <td>-0.568</td>\n",
              "      <td>-0.690</td>\n",
              "    </tr>\n",
              "    <tr>\n",
              "      <th>95</th>\n",
              "      <td>0</td>\n",
              "      <td>-1.332</td>\n",
              "      <td>-0.019</td>\n",
              "    </tr>\n",
              "  </tbody>\n",
              "</table>\n",
              "</div>"
            ],
            "text/plain": [
              "     Gender    Age  Annual Income (k$)\n",
              "165       0 -0.314               0.913\n",
              "198       1 -0.314               1.969\n",
              "29        0 -1.336              -1.175\n",
              "35        0 -0.314              -1.026\n",
              "174       0  1.044               1.024\n",
              "51        0 -0.568              -0.690\n",
              "95        0 -1.332              -0.019"
            ]
          },
          "execution_count": 64,
          "metadata": {},
          "output_type": "execute_result"
        }
      ],
      "source": [
        "X_test.sample(7)"
      ]
    }
  ],
  "metadata": {
    "colab": {
      "provenance": []
    },
    "gpuClass": "standard",
    "kernelspec": {
      "display_name": ".venv",
      "language": "python",
      "name": "python3"
    },
    "language_info": {
      "codemirror_mode": {
        "name": "ipython",
        "version": 3
      },
      "file_extension": ".py",
      "mimetype": "text/x-python",
      "name": "python",
      "nbconvert_exporter": "python",
      "pygments_lexer": "ipython3",
      "version": "3.12.2"
    }
  },
  "nbformat": 4,
  "nbformat_minor": 0
}

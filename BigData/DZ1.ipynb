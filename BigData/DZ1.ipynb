{
 "cells": [
  {
   "cell_type": "markdown",
   "metadata": {
    "id": "jqh_NMwMjfhO"
   },
   "source": [
    "# Домашняя работа"
   ]
  },
  {
   "cell_type": "markdown",
   "metadata": {
    "id": "dSCZYSMrTtEM"
   },
   "source": [
    "Сделайте mapper и reducer, чтобы посчитать среднее и дисперсию оценок за фильм."
   ]
  },
  {
   "cell_type": "markdown",
   "metadata": {
    "id": "n0NOraFOjK73"
   },
   "source": [
    " # Подготовка окружения"
   ]
  },
  {
   "cell_type": "code",
   "execution_count": 102,
   "metadata": {
    "id": "0PhWn1yjFd1L"
   },
   "outputs": [],
   "source": [
    "import opendatasets as od\n",
    "import pandas as pd\n",
    "import time\n",
    "from pathlib import Path"
   ]
  },
  {
   "cell_type": "code",
   "execution_count": 2,
   "metadata": {
    "colab": {
     "base_uri": "https://localhost:8080/"
    },
    "id": "qeWSaWkZRFxY",
    "outputId": "5f724ecd-5703-4d2d-fd8d-1188f315f99d"
   },
   "outputs": [
    {
     "name": "stdout",
     "output_type": "stream",
     "text": [
      "Dataset URL: https://www.kaggle.com/datasets/sadmadlad/imdb-user-reviews\n",
      "Downloading imdb-user-reviews.zip to .\\imdb-user-reviews\n"
     ]
    },
    {
     "name": "stderr",
     "output_type": "stream",
     "text": [
      "100%|██████████| 15.1M/15.1M [00:01<00:00, 12.5MB/s]\n"
     ]
    },
    {
     "name": "stdout",
     "output_type": "stream",
     "text": [
      "\n"
     ]
    }
   ],
   "source": [
    "dataset_path = Path('imdb-user-reviews', 'song_lyrics.csv')\n",
    "if not dataset_path.is_file():\n",
    "    od.download('https://www.kaggle.com/datasets/sadmadlad/imdb-user-reviews')"
   ]
  },
  {
   "cell_type": "markdown",
   "metadata": {
    "id": "g6AlGOz7aws5"
   },
   "source": [
    "Реализация через цикл (предпогаем, что мы не знаем сколько у нас фильмов):"
   ]
  },
  {
   "cell_type": "code",
   "execution_count": 154,
   "metadata": {
    "colab": {
     "base_uri": "https://localhost:8080/"
    },
    "id": "yBhMEH50MCyf",
    "outputId": "c7b71698-ea06-4ef8-929e-95f18e9b3e7e"
   },
   "outputs": [
    {
     "name": "stdout",
     "output_type": "stream",
     "text": [
      "10 8.03 1.0517128885774865\n"
     ]
    }
   ],
   "source": [
    "import json\n",
    "\n",
    "\n",
    "n, mean, M2 = 0, 0.0, 0\n",
    "for path in Path('imdb-user-reviews').glob('**/*'):\n",
    "    if path.is_file() and path.suffix == '.json':\n",
    "        with open(path, 'r') as f:\n",
    "            info = json.load(f)\n",
    "        score = float(info['movieIMDbRating'])\n",
    "        n += 1\n",
    "        delta = score - mean\n",
    "        mean += delta / n\n",
    "        M2 += delta * (score - mean)\n",
    "       \n",
    "print(n, mean, (M2 / n) ** (1/2))"
   ]
  },
  {
   "cell_type": "markdown",
   "metadata": {
    "id": "Ic09ccPLbMUR"
   },
   "source": [
    "На основе этого кода соберите mapper и reducer:"
   ]
  },
  {
   "cell_type": "code",
   "execution_count": 155,
   "metadata": {
    "id": "27ix083ng2kO"
   },
   "outputs": [],
   "source": [
    "\n",
    "file_list=[]\n",
    "for path in Path('imdb-user-reviews').glob('**/*'):\n",
    "    if path.is_file() and path.suffix == '.json':\n",
    "        file_list.append(path)\n",
    "\n",
    "def mapper(path):\n",
    "    with open(path, 'r') as f:\n",
    "        info = json.load(f)\n",
    "    score = float(info['movieIMDbRating'])\n",
    "    return (1,score,0)\n",
    "    \n",
    "    \n",
    "\n",
    "def reducer(score_data1, score_data2):\n",
    "    n, mean, M2=score_data1\n",
    "    n += 1\n",
    "    delta = score_data2[1] - mean\n",
    "    mean += delta / n\n",
    "    M2 += delta * (score_data2[1] - mean)\n",
    "    return n, mean, M2"
   ]
  },
  {
   "cell_type": "code",
   "execution_count": 156,
   "metadata": {
    "id": "aBa-fXxFg40_"
   },
   "outputs": [
    {
     "name": "stdout",
     "output_type": "stream",
     "text": [
      "10 8.03 1.0517128885774865\n",
      "CPU times: total: 0 ns\n",
      "Wall time: 2.01 ms\n"
     ]
    }
   ],
   "source": [
    "%%time\n",
    "from functools import reduce\n",
    "n, mean, M2 = reduce(reducer, map(mapper,file_list))\n",
    "print(n, mean, (M2 / n) ** (1/2))"
   ]
  }
 ],
 "metadata": {
  "colab": {
   "provenance": []
  },
  "kernelspec": {
   "display_name": "Python 3",
   "name": "python3"
  },
  "language_info": {
   "codemirror_mode": {
    "name": "ipython",
    "version": 3
   },
   "file_extension": ".py",
   "mimetype": "text/x-python",
   "name": "python",
   "nbconvert_exporter": "python",
   "pygments_lexer": "ipython3",
   "version": "3.12.3"
  }
 },
 "nbformat": 4,
 "nbformat_minor": 0
}

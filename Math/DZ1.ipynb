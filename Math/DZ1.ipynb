{
 "cells": [
  {
   "cell_type": "markdown",
   "metadata": {},
   "source": [
    "## Урок 1. Расчет вероятности случайных событий\n",
    "# Домашнее задание\n",
    "\n"
   ]
  },
  {
   "cell_type": "code",
   "execution_count": 1,
   "metadata": {},
   "outputs": [],
   "source": [
    "import numpy as np\n",
    "from math import factorial"
   ]
  },
  {
   "cell_type": "markdown",
   "metadata": {},
   "source": [
    "1. Из колоды в 52 карты извлекаются случайным образом 4 карты. \n",
    "* а) Найти вероятность того, что все карты – крести.  \n",
    "* б) Найти вероятность, что среди 4-х карт окажется хотя бы один туз."
   ]
  },
  {
   "cell_type": "code",
   "execution_count": 13,
   "metadata": {},
   "outputs": [
    {
     "name": "stdout",
     "output_type": "stream",
     "text": [
      "формула подсчета количества сочетаний = 0.0026\n",
      "классическая формула вероятности = 0.0026\n"
     ]
    }
   ],
   "source": [
    "def combination(n,k):\n",
    "    return factorial(n)//(factorial(k)* factorial(n-k))\n",
    "col_kr=int(52/4) # количество крестей\n",
    "a =  combination(col_kr,4)/combination(52,4) # формула подсчета количества сочетаний\n",
    "a1=13/52*12/51*11/50*10/49 # классическая формула вероятности \n",
    "print(f'формула подсчета количества сочетаний = {round(a,4)}')\n",
    "print(f'классическая формула вероятности = {round(a1,4)}')"
   ]
  },
  {
   "cell_type": "code",
   "execution_count": 21,
   "metadata": {},
   "outputs": [
    {
     "name": "stdout",
     "output_type": "stream",
     "text": [
      "1 или 2 или 3 или 4 туза = 0.2813\n",
      "единица минус отсутствие тузов = 0.2813\n"
     ]
    }
   ],
   "source": [
    "b=sum([combination(4,1)*combination(52-4,3),combination(4,2)*combination(52-4,2),combination(4,3)*combination(52-4,1),1])/combination(52,4) # сочетания с 1 тузом ИЛИ 2 тузами ИЛИ 3 тузами ИЛИ 4 тузами из 4 =1\n",
    "b1=1-combination(52-4,4)/combination(52,4) # идем от обратного 1 минус сочетание с отсутствием тузов в 4х выбранных картах \n",
    "print(f'1 или 2 или 3 или 4 туза = {round(b,4)}')\n",
    "print(f'единица минус отсутствие тузов = {round(b1,4)}')"
   ]
  },
  {
   "cell_type": "markdown",
   "metadata": {},
   "source": [
    "2. На входной двери подъезда установлен кодовый замок, содержащий десять кнопок с цифрами от 0 до 9. Код содержит три цифры, которые нужно нажать одновременно. Какова вероятность того, что человек, не знающий код, откроет дверь с первой попытки?"
   ]
  },
  {
   "cell_type": "code",
   "execution_count": 23,
   "metadata": {},
   "outputs": [
    {
     "name": "stdout",
     "output_type": "stream",
     "text": [
      "вероятность открыть с первой попытки = 0.0083\n"
     ]
    }
   ],
   "source": [
    "v=1/combination(10,3)# попытка одна сочетаний 3 из 10\n",
    "print(f'вероятность открыть с первой попытки = {round(v,4)}')"
   ]
  },
  {
   "cell_type": "markdown",
   "metadata": {},
   "source": [
    "3. В ящике имеется 15 деталей, из которых 9 окрашены. Рабочий случайным образом извлекает 3 детали. Какова вероятность того, что все извлеченные детали окрашены?"
   ]
  },
  {
   "cell_type": "code",
   "execution_count": 29,
   "metadata": {},
   "outputs": [
    {
     "name": "stdout",
     "output_type": "stream",
     "text": [
      "формула подсчета количества сочетаний = 0.1846\n",
      "классическая формула вероятности = 0.1846\n"
     ]
    }
   ],
   "source": [
    "v=combination(9,3)/combination(15,3) # формула подсчета количества сочетаний\n",
    "v1=9/15*8/14*7/13  # классическая формула вероятности\n",
    "print(f'формула подсчета количества сочетаний = {round(v,4)}')\n",
    "print(f'классическая формула вероятности = {round(v1,4)}')"
   ]
  },
  {
   "cell_type": "markdown",
   "metadata": {},
   "source": [
    "4. В лотерее 100 билетов. Из них 2 выигрышных. Какова вероятность того, что 2 приобретенных билета окажутся выигрышными?"
   ]
  },
  {
   "cell_type": "code",
   "execution_count": 31,
   "metadata": {},
   "outputs": [
    {
     "name": "stdout",
     "output_type": "stream",
     "text": [
      "вероятность что оба билета выйгрышные = 0.0002\n"
     ]
    }
   ],
   "source": [
    "v=1/combination(100,2)\n",
    "print(f'вероятность что оба билета выйгрышные = {round(v,4)}')"
   ]
  }
 ],
 "metadata": {
  "kernelspec": {
   "display_name": "Python 3",
   "language": "python",
   "name": "python3"
  },
  "language_info": {
   "codemirror_mode": {
    "name": "ipython",
    "version": 3
   },
   "file_extension": ".py",
   "mimetype": "text/x-python",
   "name": "python",
   "nbconvert_exporter": "python",
   "pygments_lexer": "ipython3",
   "version": "3.12.3"
  }
 },
 "nbformat": 4,
 "nbformat_minor": 2
}

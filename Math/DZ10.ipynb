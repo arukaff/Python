{
 "cells": [
  {
   "cell_type": "code",
   "execution_count": 1,
   "metadata": {},
   "outputs": [],
   "source": [
    "import scipy.stats as stats\n",
    "import numpy as np\n",
    "import matplotlib.pyplot as plt"
   ]
  },
  {
   "cell_type": "markdown",
   "metadata": {},
   "source": [
    "Провести дисперсионный анализ для определения того, есть ли различия среднего роста среди взрослых футболистов, хоккеистов и штангистов. \n",
    "\n",
    "Даны значения роста в трех группах случайно выбранных спортсменов: \n",
    "\n",
    "Футболисты: 173, 175, 180, 178, 177, 185, 183, 182. \n",
    "\n",
    "Хоккеисты: 177, 179, 180, 188, 177, 172, 171, 184, 180. \n",
    "\n",
    "Штангисты: 172, 173, 169, 177, 166, 180, 178, 177, 172, 166, 170. \n",
    "\n",
    "Данная промежуточная аттестация оценивается по системе \"зачет\" / \"не зачет\". \n",
    "\"Зачет\" ставится, если Слушатель успешно выполнил задание. \"Незачет\" ставится, если Слушатель не выполнил задание. \n",
    "\n",
    "Критерии оценивания: \n",
    "\n",
    "1 - Слушатель провел дисперсионный анализ для определения того, есть ли различия среднего роста среди взрослых футболистов, хоккеистов и штангистов"
   ]
  },
  {
   "cell_type": "code",
   "execution_count": 42,
   "metadata": {},
   "outputs": [],
   "source": [
    "f = np.array([173, 175, 180, 178, 177, 185, 183, 182])\n",
    "h = np.array([177, 179, 180, 188, 177, 172, 171, 184, 180])\n",
    "sh = np.array([172, 173, 169, 177, 166, 180, 178, 177, 172, 166, 170])\n",
    "k=3\n",
    "alpha=0.05\n",
    "#n=8+9+11\n",
    "f_mean=np.mean(f)\n",
    "h_mean=np.mean(h)\n",
    "sh_mean=np.mean(sh)\n",
    "total=np.concatenate([f, h, sh ])\n",
    "n=len(total)\n",
    "total_mean=np.mean(total)"
   ]
  },
  {
   "cell_type": "code",
   "execution_count": 43,
   "metadata": {},
   "outputs": [],
   "source": [
    "# Сумма квадратов отклонений средних групповых значений от обощего среднего\n",
    "S_f = np.sum((f_mean - total_mean) ** 2)*8 + np.sum((h_mean - total_mean) ** 2)*9 + np.sum((sh_mean - total_mean) ** 2)*11\n",
    "# Остаточная сумма квадратов отклонений\n",
    "S_ost = np.sum((f - f_mean) ** 2) + np.sum((h - h_mean) ** 2) + np.sum((sh - sh_mean) ** 2)"
   ]
  },
  {
   "cell_type": "code",
   "execution_count": 44,
   "metadata": {},
   "outputs": [
    {
     "name": "stdout",
     "output_type": "stream",
     "text": [
      "Наблюдаемый критерий Фишера = 5.50\n",
      "Проверка по функции однофакторного дисперсионного анализа: вычесленный наблюдаемый критерий Фишера (5.50) равен значению статистики (5.50)\n",
      "Статистические значимые различия найдены так как наблюдаемый критерий Фишера (5.50) больше F критического (3.39)\n"
     ]
    }
   ],
   "source": [
    "D_f=S_f/(k-1)\n",
    "D_ost=S_ost/(n-k)\n",
    "F_n=D_f/D_ost\n",
    "print(f\"Наблюдаемый критерий Фишера = {F_n:.2f}\")\n",
    "f,pvalue=stats.f_oneway(f, h, sh)\n",
    "print(f\"Проверка по функции однофакторного дисперсионного анализа: вычесленный наблюдаемый критерий Фишера ({F_n:.2f}) равен значению статистики ({f:.2f})\")\n",
    "F_crit = stats.f.ppf(1 - alpha, k-1, n-k)\n",
    "print(f\"Статистические значимые различия найдены так как наблюдаемый критерий Фишера ({F_n:.2f}) больше F критического ({F_crit:.2f})\")# в принципе все это сразу понятно по pvalue зачем все это было считать не понятно\n"
   ]
  }
 ],
 "metadata": {
  "kernelspec": {
   "display_name": ".venv",
   "language": "python",
   "name": "python3"
  },
  "language_info": {
   "codemirror_mode": {
    "name": "ipython",
    "version": 3
   },
   "file_extension": ".py",
   "mimetype": "text/x-python",
   "name": "python",
   "nbconvert_exporter": "python",
   "pygments_lexer": "ipython3",
   "version": "3.12.3"
  }
 },
 "nbformat": 4,
 "nbformat_minor": 2
}

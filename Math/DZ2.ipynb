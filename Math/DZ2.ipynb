{
 "cells": [
  {
   "cell_type": "code",
   "execution_count": 14,
   "metadata": {},
   "outputs": [],
   "source": [
    "from math import factorial, exp\n",
    "def bernulli(n, k, p):\n",
    "    comb=factorial(n)/(factorial(k)*factorial(n-k))\n",
    "    return comb*(p**k)*(1-p)**(n-k)\n",
    "def puasson(m,p,n):\n",
    "    lamb=p*n\n",
    "    return exp(-lamb)*(lamb**m)/factorial(m)\n",
    "def combination(n,k):\n",
    "    return factorial(n)//(factorial(k)* factorial(n-k))"
   ]
  },
  {
   "cell_type": "markdown",
   "metadata": {},
   "source": [
    "1. Вероятность того, что стрелок попадет в мишень, выстрелив один раз, равна 0.8. Стрелок выстрелил 100 раз. Найдите вероятность того, что стрелок попадет в цель ровно 85 раз."
   ]
  },
  {
   "cell_type": "code",
   "execution_count": 6,
   "metadata": {},
   "outputs": [
    {
     "name": "stdout",
     "output_type": "stream",
     "text": [
      "Bероятность того, что стрелок попадет в цель ровно 85 раз = 0.0481\n"
     ]
    }
   ],
   "source": [
    "n=100\n",
    "k=85\n",
    "p=0.8\n",
    "b=bernulli(n, k, p)\n",
    "print(f'Bероятность того, что стрелок попадет в цель ровно 85 раз = {round(b,4)}')\n"
   ]
  },
  {
   "cell_type": "markdown",
   "metadata": {},
   "source": [
    "2. Вероятность того, что лампочка перегорит в течение первого дня эксплуатации, равна 0.0004. В жилом комплексе после ремонта в один день включили 5000 новых лампочек. Какова вероятность, что ни одна из них не перегорит в первый день? Какова вероятность, что перегорят ровно две?"
   ]
  },
  {
   "cell_type": "code",
   "execution_count": 8,
   "metadata": {},
   "outputs": [
    {
     "name": "stdout",
     "output_type": "stream",
     "text": [
      "Bероятность, что ни одна из них не перегорит в первый день = 0.1353\n",
      "Bероятность, что перегорят ровно две из них не перегорит в первый день = 0.2707\n"
     ]
    }
   ],
   "source": [
    "n=5000\n",
    "p=0.0004\n",
    "m0=0\n",
    "m1=2\n",
    "P0=puasson(m0,p,n)\n",
    "P1=puasson(m1,p,n)\n",
    "print(f'Bероятность, что ни одна из них не перегорит в первый день = {round(P0,4)}')\n",
    "print(f'Bероятность, что перегорят ровно две из них не перегорит в первый день = {round(P1,4)}')"
   ]
  },
  {
   "cell_type": "markdown",
   "metadata": {},
   "source": [
    "3. Монету подбросили 144 раза. Какова вероятность, что орел выпадет ровно 70 раз?"
   ]
  },
  {
   "cell_type": "code",
   "execution_count": 9,
   "metadata": {},
   "outputs": [
    {
     "name": "stdout",
     "output_type": "stream",
     "text": [
      "Bероятность того, что орел выпадет ровно 70 раз = 0.0628\n"
     ]
    }
   ],
   "source": [
    "n=144\n",
    "p=0.5\n",
    "k=70\n",
    "b=bernulli(n, k, p)\n",
    "print(f'Bероятность того, что орел выпадет ровно 70 раз = {round(b,4)}')"
   ]
  },
  {
   "cell_type": "markdown",
   "metadata": {},
   "source": [
    "4. В первом ящике находится 10 мячей, из которых 7 - белые. Во втором ящике - 11 мячей, из которых 9 белых. Из каждого ящика вытаскивают случайным образом по два мяча. Какова вероятность того, что все мячи белые? Какова вероятность того, что ровно два мяча белые? Какова вероятность того, что хотя бы один мяч белый?"
   ]
  },
  {
   "cell_type": "code",
   "execution_count": 17,
   "metadata": {},
   "outputs": [
    {
     "name": "stdout",
     "output_type": "stream",
     "text": [
      "Bероятность того, что все мячи белые = 0.3055\n",
      "Bероятность того, что два мяча белые = 0.2048\n",
      "Bероятность того, что хотя бы один мяч белый = 0.9988\n"
     ]
    }
   ],
   "source": [
    "Pb=(7/10)*(6/9)*(9/11)*(8/10) # вытаскиваем оба белых из каждого ящика\n",
    "P2b=((7/10)*(6/9)*(2/11)*(1/10))+4*((7/10)*(3/9)*(9/11)*(2/10))+((3/10)*(2/9)*(9/11)*(8/10)) # вытаскиваем 1 белый из 1го ящика и один черный из 2го ящика или  4 варианта по 1му белому и одному черному из 1го и 2го ящиков или вытаскиваем 1 черный из 1го ящика и 1 белы1 из второго\n",
    "P1b=1-(3/10)*(2/9)*(2/11)*(1/10) # \n",
    "\n",
    "print(f'Bероятность того, что все мячи белые = {round(Pb,4)}')\n",
    "print(f'Bероятность того, что два мяча белые = {round(P2b,4)}')\n",
    "print(f'Bероятность того, что хотя бы один мяч белый = {round(P1b,4)}')\n",
    "\n"
   ]
  }
 ],
 "metadata": {
  "kernelspec": {
   "display_name": "Python 3",
   "language": "python",
   "name": "python3"
  },
  "language_info": {
   "codemirror_mode": {
    "name": "ipython",
    "version": 3
   },
   "file_extension": ".py",
   "mimetype": "text/x-python",
   "name": "python",
   "nbconvert_exporter": "python",
   "pygments_lexer": "ipython3",
   "version": "3.12.3"
  }
 },
 "nbformat": 4,
 "nbformat_minor": 2
}

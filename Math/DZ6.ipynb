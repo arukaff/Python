{
 "cells": [
  {
   "cell_type": "code",
   "execution_count": 1,
   "metadata": {},
   "outputs": [],
   "source": [
    "import numpy as np\n",
    "import scipy.stats as stats"
   ]
  },
  {
   "cell_type": "markdown",
   "metadata": {},
   "source": [
    "1. Известно, что генеральная совокупность распределена нормально со средним квадратическим отклонением, равным 16. Найти доверительный интервал для оценки математического ожидания a с надежностью 0.95, если выборочная средняя M = 80, а объем выборки n = 256."
   ]
  },
  {
   "cell_type": "code",
   "execution_count": 9,
   "metadata": {},
   "outputs": [
    {
     "name": "stdout",
     "output_type": "stream",
     "text": [
      "Доверительный интервал для оценки математического ожидания с надежностью 0.95: ( 81.96, 78.04 )\n"
     ]
    }
   ],
   "source": [
    "a=1-0.95\n",
    "Z=stats.norm.ppf(1-a/2)\n",
    "print(f'Доверительный интервал для оценки математического ожидания с надежностью 0.95: ({(80+(Z*16/np.sqrt(256))): .2f},{(80-(Z*16/np.sqrt(256))): .2f} )')\n"
   ]
  },
  {
   "cell_type": "markdown",
   "metadata": {},
   "source": [
    "2. В результате 10 независимых измерений некоторой величины X, выполненных с одинаковой точностью, получены опытные данные: 6.9, 6.1, 6.2, 6.8, 7.5, 6.3, 6.4, 6.9, 6.7, 6.1 Предполагая, что результаты измерений подчинены нормальному закону распределения вероятностей, оценить истинное значение величины X при помощи доверительного интервала, покрывающего это значение с доверительной вероятностью 0,95. "
   ]
  },
  {
   "cell_type": "code",
   "execution_count": 22,
   "metadata": {},
   "outputs": [
    {
     "name": "stdout",
     "output_type": "stream",
     "text": [
      "Доверительный интервал истинного значение величины X для для t табличного  2.26 с надежностью 0.95: ( 6.91, 6.27 )\n"
     ]
    }
   ],
   "source": [
    "x = np.array([6.9, 6.1, 6.2, 6.8, 7.5, 6.3, 6.4, 6.9, 6.7, 6.1])\n",
    "mean = x.mean()\n",
    "std = x.std(ddof = 1)\n",
    "mean_std = std / (np.sqrt(len(x)))\n",
    "t=stats.t.ppf(1-a/2, (len(x)-1))\n",
    "print(f'Доверительный интервал истинного значение величины X для для t табличного {t: .2f} с надежностью 0.95: ({mean+(t*mean_std): .2f},{mean-(t*mean_std): .2f} )')\n"
   ]
  },
  {
   "cell_type": "markdown",
   "metadata": {},
   "source": [
    "3. Рост дочерей 175, 167, 154, 174, 178, 148, 160, 167, 169, 170 Рост матерей  178, 165, 165, 173, 168, 155, 160, 164, 178, 175 Используя эти данные построить 95% доверительный интервал для разности среднего роста родителей и детей."
   ]
  },
  {
   "cell_type": "code",
   "execution_count": 26,
   "metadata": {},
   "outputs": [
    {
     "name": "stdout",
     "output_type": "stream",
     "text": [
      "Доверительный интервал: -10.07,  6.27\n"
     ]
    }
   ],
   "source": [
    "a = np.array([175, 167, 154, 174, 178, 148, 160, 167, 169, 170])\n",
    "b = np.array([178, 165, 165, 173, 168, 155, 160, 164, 178, 175])\n",
    "x_1 = np.mean(a)\n",
    "x_2 = np.mean(b)\n",
    "delta = x_1 - x_2\n",
    "n = len(a)\n",
    "D1 = np.var(a, ddof = 1)\n",
    "D2 = np.var(b, ddof = 1)\n",
    "D = (D1 + D2) / 2\n",
    "SE = np.sqrt(D/n + D/n)\n",
    "t = stats.t.ppf(0.975, 2 * (n - 1))\n",
    "print(f\"Доверительный интервал: {delta - t*SE: .2f}, {delta + t*SE: .2f}\")\n"
   ]
  }
 ],
 "metadata": {
  "kernelspec": {
   "display_name": ".venv",
   "language": "python",
   "name": "python3"
  },
  "language_info": {
   "codemirror_mode": {
    "name": "ipython",
    "version": 3
   },
   "file_extension": ".py",
   "mimetype": "text/x-python",
   "name": "python",
   "nbconvert_exporter": "python",
   "pygments_lexer": "ipython3",
   "version": "3.12.3"
  }
 },
 "nbformat": 4,
 "nbformat_minor": 2
}

{
 "cells": [
  {
   "cell_type": "code",
   "execution_count": 7,
   "metadata": {},
   "outputs": [],
   "source": [
    "import numpy as np\n",
    "from math import factorial\n",
    "import math\n",
    "def combination(n,k):\n",
    "    return factorial(n)//(factorial(k)* factorial(n-k))"
   ]
  },
  {
   "cell_type": "markdown",
   "metadata": {},
   "source": [
    "Задача 1\n",
    "\n",
    "Найдите математическое ожидание случайной величины X, распределенной\n",
    "по биномиальному закону с параметрами n =100, р=0.3. "
   ]
  },
  {
   "cell_type": "code",
   "execution_count": 3,
   "metadata": {},
   "outputs": [
    {
     "data": {
      "text/plain": [
       "30.0"
      ]
     },
     "execution_count": 3,
     "metadata": {},
     "output_type": "execute_result"
    }
   ],
   "source": [
    "n =100\n",
    "p=0.3\n",
    "E=n*p\n",
    "E"
   ]
  },
  {
   "cell_type": "markdown",
   "metadata": {},
   "source": [
    "Задача 2\n",
    "Найти среднее квадратичное СВ Х, распределенной по биномиальному закону с параметрами n=50, p=0.6"
   ]
  },
  {
   "cell_type": "code",
   "execution_count": 5,
   "metadata": {},
   "outputs": [
    {
     "data": {
      "text/plain": [
       "3.4641016151377544"
      ]
     },
     "execution_count": 5,
     "metadata": {},
     "output_type": "execute_result"
    }
   ],
   "source": [
    "n=50\n",
    "p=0.6\n",
    "q=1-p\n",
    "D=n*p*q #дисперсия равна кол * вероятность * на обратную величину вероятности\n",
    "ckd= math.sqrt(D) # среднеквадратичное отклонение это дисперсия из под коряня квадратного\n",
    "ckd"
   ]
  },
  {
   "cell_type": "markdown",
   "metadata": {},
   "source": [
    "Задача 3\n",
    "\n",
    "Вероятность события А в каждом независимом испытании 0.0015. Какова вероятность\n",
    "того, что при 2000 испытаниях событие А появится 3 раза."
   ]
  },
  {
   "cell_type": "code",
   "execution_count": 6,
   "metadata": {},
   "outputs": [
    {
     "data": {
      "text/plain": [
       "0.2236175071239568"
      ]
     },
     "execution_count": 6,
     "metadata": {},
     "output_type": "execute_result"
    }
   ],
   "source": [
    "m=3\n",
    "n=2000\n",
    "p=0.0015\n",
    "l=n*p\n",
    "e=2.72\n",
    "P=l**m/factorial(m)*e**(-l) # по формуле распределения Пуассона\n",
    "P"
   ]
  },
  {
   "cell_type": "markdown",
   "metadata": {},
   "source": [
    "Задача 1\n",
    "\n",
    "Подбрасывают 4 одинаковые монеты. Какова вероятность, что решка выпадет\n",
    "не более 1 раза"
   ]
  },
  {
   "cell_type": "code",
   "execution_count": 8,
   "metadata": {},
   "outputs": [
    {
     "data": {
      "text/plain": [
       "0.3125"
      ]
     },
     "execution_count": 8,
     "metadata": {},
     "output_type": "execute_result"
    }
   ],
   "source": [
    "n=4\n",
    "k0=0\n",
    "k1=1\n",
    "p=0.5 #  вероятность выпадения решки\n",
    "P0=combination(n,k0)*p**k0*(1-p)**(n-k0)\n",
    "P1=combination(n,k1)*p**k1*(1-p)**(n-k1)\n",
    "P=P0+P1\n",
    "P\n"
   ]
  },
  {
   "cell_type": "markdown",
   "metadata": {},
   "source": [
    "Задача 4\n",
    "\n",
    "Найти вероятность, что среди взятых наугад 5 деталей 2 стандартные, если\n",
    "вероятность детали быть стандартной равна 0.9"
   ]
  },
  {
   "cell_type": "code",
   "execution_count": 9,
   "metadata": {},
   "outputs": [
    {
     "data": {
      "text/plain": [
       "0.008099999999999996"
      ]
     },
     "execution_count": 9,
     "metadata": {},
     "output_type": "execute_result"
    }
   ],
   "source": [
    "n=5\n",
    "p=0.9\n",
    "k=2\n",
    "P=combination(n,k)*p**k*(1-p)**(n-k)\n",
    "P"
   ]
  }
 ],
 "metadata": {
  "kernelspec": {
   "display_name": "Python 3",
   "language": "python",
   "name": "python3"
  },
  "language_info": {
   "codemirror_mode": {
    "name": "ipython",
    "version": 3
   },
   "file_extension": ".py",
   "mimetype": "text/x-python",
   "name": "python",
   "nbconvert_exporter": "python",
   "pygments_lexer": "ipython3",
   "version": "3.12.3"
  }
 },
 "nbformat": 4,
 "nbformat_minor": 2
}

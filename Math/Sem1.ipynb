{
 "cells": [
  {
   "cell_type": "code",
   "execution_count": 6,
   "metadata": {},
   "outputs": [],
   "source": [
    "import numpy as np\n",
    "from math import factorial"
   ]
  },
  {
   "cell_type": "markdown",
   "metadata": {},
   "source": [
    "Задача 1\n",
    "\n",
    "В партии 10 деталей. Среди них 3 бракованные. Какова вероятность, что среди\n",
    "5 ,взятых на удачу, 4 хорошие детали?"
   ]
  },
  {
   "cell_type": "code",
   "execution_count": 9,
   "metadata": {},
   "outputs": [
    {
     "data": {
      "text/plain": [
       "0.4166666666666667"
      ]
     },
     "execution_count": 9,
     "metadata": {},
     "output_type": "execute_result"
    }
   ],
   "source": [
    "\n",
    "# всего 10 деталей, 3 бракованные, значит 7 хороших. Мы берем 5 деталей 4 хороших из 7 и 1 бракованную из 3х\n",
    "\n",
    "def combination(n,k):\n",
    "    return factorial(n)//(factorial(k)* factorial(n-k))\n",
    "\n",
    "v = combination(7,4)*combination(3,1)/combination(10,5) # вероятность это соотношение сочетаний которые нужны нам (4 хороших из 7 И 1 брак из 3х) деленное на всн возможные сочетания ( 5 берем из всех 10ти)\n",
    "v"
   ]
  },
  {
   "cell_type": "markdown",
   "metadata": {},
   "source": [
    "Задача 2\n",
    "\n",
    "Разработали спам-фильтр на основании часто встречающихся фраз. 70% всех писем –это\n",
    "спам. В 10 % писем со спамом встречается фраза: «вся правда о» и в 0.5% она встречается\n",
    "в хороших письмах. Какова вероятность, что пришедшее на почту письмо является спамом,\n",
    "если в нем есть данная фраза?"
   ]
  },
  {
   "cell_type": "code",
   "execution_count": 18,
   "metadata": {},
   "outputs": [
    {
     "data": {
      "text/plain": [
       "0.979020979020979"
      ]
     },
     "execution_count": 18,
     "metadata": {},
     "output_type": "execute_result"
    }
   ],
   "source": [
    "# Условная вероятность - рассчитанная для события, которое произойдет при условии, что другое событие уже наступило\n",
    "# здесь мы берем весь спам (70% - 0,7) И умножаем на вероятность встретить фразу в спаме (10% - 0,1) и все это делим на все случаи когда фраза встречается, а именно тоже что в числителе (0,7*0,1) ИЛИ (+) не спам (30%) в котором встречается эта фраза (0,5%-0,005)\n",
    "v = 0.7 * 0.1/(0.7 * 0.1 + 0.3 * 0.005)\n",
    "v"
   ]
  },
  {
   "cell_type": "markdown",
   "metadata": {},
   "source": [
    "Задача 3\n",
    "\n",
    "В ящике находится 10 красных, 5 черных, 5 зеленых шаров. Наудачу вынимают 6 шаров.\n",
    "Какова вероятность, что вынуты 3 красных, 2 черных, 1 зеленый?"
   ]
  },
  {
   "cell_type": "code",
   "execution_count": 19,
   "metadata": {},
   "outputs": [
    {
     "data": {
      "text/plain": [
       "0.15479876160990713"
      ]
     },
     "execution_count": 19,
     "metadata": {},
     "output_type": "execute_result"
    }
   ],
   "source": [
    "v = combination(10,3)*combination(5,2)*combination(5,1)/combination(20,6) # как и в первой задаче берем все нужные нам сочетания и делим на все возможные сочетания \n",
    "v"
   ]
  },
  {
   "cell_type": "markdown",
   "metadata": {},
   "source": [
    "Задача 4 \n",
    "\n",
    "На 5 одинаковых карточках написаны буквы Ч, А, Й ,К, И\n",
    "Какова вероятность, что получится слова ЧАЙКИ"
   ]
  },
  {
   "cell_type": "code",
   "execution_count": 23,
   "metadata": {},
   "outputs": [
    {
     "data": {
      "text/plain": [
       "0.008333333333333333"
      ]
     },
     "execution_count": 23,
     "metadata": {},
     "output_type": "execute_result"
    }
   ],
   "source": [
    "# получается сочетание 5 какточек из пяти мы делим на все возмодные варианты РАССТАНОВКИ (!5)\n",
    "v = combination(5,5)/factorial(5)\n",
    "v"
   ]
  },
  {
   "cell_type": "markdown",
   "metadata": {},
   "source": [
    "Задача 6 \n",
    "\n",
    "Какое количество семизначных номеров можно придумать, если в качестве первой\n",
    "цифры не может быть 0,1,7"
   ]
  },
  {
   "cell_type": "code",
   "execution_count": 24,
   "metadata": {},
   "outputs": [
    {
     "data": {
      "text/plain": [
       "70000000"
      ]
     },
     "execution_count": 24,
     "metadata": {},
     "output_type": "execute_result"
    }
   ],
   "source": [
    "c=7*10*10*10*10*10*10*10\n",
    "c"
   ]
  },
  {
   "cell_type": "markdown",
   "metadata": {},
   "source": [
    "Домашняя работа"
   ]
  },
  {
   "cell_type": "markdown",
   "metadata": {},
   "source": [
    "Задача 5\n",
    "\n",
    "На 5 одинаковых карточках написаны буквы Ч, А, Й ,К, А.\n",
    "Какова вероятность, что получится слова ЧАЙКА"
   ]
  },
  {
   "cell_type": "code",
   "execution_count": 34,
   "metadata": {},
   "outputs": [
    {
     "data": {
      "text/plain": [
       "0.016666666666666666"
      ]
     },
     "execution_count": 34,
     "metadata": {},
     "output_type": "execute_result"
    }
   ],
   "source": [
    "v=(combination(5,5)+combination(5,5))/factorial(5)\n",
    "v"
   ]
  }
 ],
 "metadata": {
  "kernelspec": {
   "display_name": "Python 3",
   "language": "python",
   "name": "python3"
  },
  "language_info": {
   "codemirror_mode": {
    "name": "ipython",
    "version": 3
   },
   "file_extension": ".py",
   "mimetype": "text/x-python",
   "name": "python",
   "nbconvert_exporter": "python",
   "pygments_lexer": "ipython3",
   "version": "3.12.3"
  }
 },
 "nbformat": 4,
 "nbformat_minor": 2
}

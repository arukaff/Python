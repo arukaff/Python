{
 "cells": [
  {
   "cell_type": "code",
   "execution_count": 2,
   "metadata": {},
   "outputs": [],
   "source": [
    "import numpy as np\n",
    "import scipy.stats as stats"
   ]
  },
  {
   "cell_type": "markdown",
   "metadata": {},
   "source": [
    "задача 1. \n",
    "\n",
    "На препарате А положительный результат лечения наблюдается у 17 из 32 пациентов, а\n",
    "на препарате В у 9 из 22. Построить 95% доверительный интервал для разности долей.\n",
    "Обнаружены ли статистически значимые различия?"
   ]
  },
  {
   "cell_type": "code",
   "execution_count": 9,
   "metadata": {},
   "outputs": [
    {
     "data": {
      "text/plain": [
       "(np.float64(0.3933846238259852),\n",
       " np.float64(-0.14906644200780345),\n",
       " np.float64(1.959963984540054))"
      ]
     },
     "execution_count": 9,
     "metadata": {},
     "output_type": "execute_result"
    }
   ],
   "source": [
    "a=1-0.95\n",
    "pa=17/32\n",
    "pb=9/22\n",
    "p=(17+9)/(32+22)\n",
    "nn=1/32+1/22\n",
    "delta=pa-pb\n",
    "se=np.sqrt(p*(1-p)*nn)  #Z=(abs(pa-pb)-1/2*nn)/np.sqrt(p*(1-p)*nn)\n",
    "Zt=stats.norm.ppf(1-a/2)\n",
    "x1=delta+Zt*se\n",
    "x2=delta-Zt*se\n",
    "x1,x2,Zt\n"
   ]
  },
  {
   "cell_type": "markdown",
   "metadata": {},
   "source": [
    "Задача 2.\n",
    "\n",
    "Решить задачу 1 через тестирование гипотезы.\n",
    "На препарате А положительный результат лечения наблюдается у 17 из 32 пациентов, а\n",
    "на препарате В у 9 из 22. Являются ли различия статистически значимые между долями\n",
    "пациентов с положительным эффектом в этих двух группах.\n",
    "Уровень статистической значимости принять за 0.05"
   ]
  },
  {
   "cell_type": "code",
   "execution_count": 11,
   "metadata": {},
   "outputs": [
    {
     "name": "stdout",
     "output_type": "stream",
     "text": [
      "Z табличное равно 1.96, что больше Z выборки равное 0.6056153472305655 сответстенно верна нулевая гипотеза, статистических значимых различий нет\n"
     ]
    }
   ],
   "source": [
    "Z=(abs(pa-pb)-1/2*nn)/np.sqrt(p*(1-p)*nn)\n",
    "print(f'Z табличное равно 1.96, что больше Z выборки равное {Z} сответстенно верна нулевая гипотеза, статистических значимых различий нет')"
   ]
  },
  {
   "cell_type": "markdown",
   "metadata": {},
   "source": []
  }
 ],
 "metadata": {
  "kernelspec": {
   "display_name": ".venv",
   "language": "python",
   "name": "python3"
  },
  "language_info": {
   "codemirror_mode": {
    "name": "ipython",
    "version": 3
   },
   "file_extension": ".py",
   "mimetype": "text/x-python",
   "name": "python",
   "nbconvert_exporter": "python",
   "pygments_lexer": "ipython3",
   "version": "3.12.3"
  }
 },
 "nbformat": 4,
 "nbformat_minor": 2
}

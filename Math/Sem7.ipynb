{
 "cells": [
  {
   "cell_type": "code",
   "execution_count": 1,
   "metadata": {},
   "outputs": [],
   "source": [
    "import numpy as np\n",
    "import scipy.stats as stats"
   ]
  },
  {
   "cell_type": "markdown",
   "metadata": {},
   "source": [
    "Рассчитать критерий Манна-Уитни в ручную"
   ]
  },
  {
   "cell_type": "code",
   "execution_count": 7,
   "metadata": {},
   "outputs": [
    {
     "data": {
      "text/plain": [
       "3"
      ]
     },
     "execution_count": 7,
     "metadata": {},
     "output_type": "execute_result"
    }
   ],
   "source": [
    "#x1= np.array([1000, 1380, 1200])\n",
    "#x2= np.array([1400, 1600, 1180,1220])\n",
    "x1= [1000, 1380, 1200]\n",
    "x2= [1400, 1600, 1180,1220]\n",
    "st=0\n",
    "#x=x1+x2\n",
    "#x.sort()\n",
    "#SumR1=sum([i+1 for i in range(len(x)) if x[i] in x1])\n",
    "#SumR2=sum([i+1 for i in range(len(x)) if x[i] in x2])\n",
    "for i in x1:\n",
    "    x2.append(i)\n",
    "    x2.sort()\n",
    "    st=st+x2.index(i)\n",
    "    x2.remove(i)\n",
    "st"
   ]
  },
  {
   "cell_type": "markdown",
   "metadata": {},
   "source": [
    "Средние расходы на обследование одного больного до ознакомления с расходами коллег\n",
    "X= np.array([20,17, 14, 42, 50, 62, 8, 49, 81, 54, 48, 55, 56])\n",
    "Y= np.array ([20, 26, 1, 24, 1, 47, 15, 7, 65, 9, 21, 36, 30])\n",
    "Средние расходы на лечение одного больного до ознакомления с расходами коллег\n",
    "X= np.array([ 32, 41, 51, 29, 76, 47, 60, 58, 40, 64, 73, 66, 73])\n",
    "Y= np.array ([42, 90, 71, 47, 56, 43, 137, 63, 28, 60, 87, 69, 50])\n",
    "Произошли ли изменения на расходы и лечение?"
   ]
  },
  {
   "cell_type": "code",
   "execution_count": 11,
   "metadata": {},
   "outputs": [
    {
     "data": {
      "text/plain": [
       "WilcoxonResult(statistic=np.float64(3.0), pvalue=np.float64(0.004741768038406971))"
      ]
     },
     "execution_count": 11,
     "metadata": {},
     "output_type": "execute_result"
    }
   ],
   "source": [
    "X1= np.array([20,17, 14, 42, 50, 62, 8, 49, 81, 54, 48, 55, 56])\n",
    "Y1= np.array ([20, 26, 1, 24, 1, 47, 15, 7, 65, 9, 21, 36, 30])\n",
    "\n",
    "X2= np.array([ 32, 41, 51, 29, 76, 47, 60, 58, 40, 64, 73, 66, 73])\n",
    "Y2= np.array ([42, 90, 71, 47, 56, 43, 137, 63, 28, 60, 87, 69, 50])\n",
    "stats.wilcoxon(X1,Y1)\n"
   ]
  },
  {
   "cell_type": "code",
   "execution_count": 12,
   "metadata": {},
   "outputs": [
    {
     "data": {
      "text/plain": [
       "WilcoxonResult(statistic=np.float64(31.5), pvalue=np.float64(0.375732421875))"
      ]
     },
     "execution_count": 12,
     "metadata": {},
     "output_type": "execute_result"
    }
   ],
   "source": [
    "stats.wilcoxon(X2,Y2)"
   ]
  },
  {
   "cell_type": "markdown",
   "metadata": {},
   "source": [
    "При исследовании препарата для снижения\n",
    "кровяного давления у больных 3 раза измерялся\n",
    "сердечный выброс. Менялся ли сердечный выброс?\n",
    "Найти критерий вручную, проверьте значение\n",
    "функцией и интерпретируйте результат с\n",
    "использованием p-value\n",
    "A= np.array([3.5, 3.3, 4.9, 3.6])\n",
    "B= np.array([8.6, 5.4, 8.8, 5.6])\n",
    "C=np.array([5.1, 8.6, 7.7, 5.0])"
   ]
  },
  {
   "cell_type": "code",
   "execution_count": 14,
   "metadata": {},
   "outputs": [
    {
     "data": {
      "text/plain": [
       "FriedmanchisquareResult(statistic=np.float64(6.5), pvalue=np.float64(0.03877420783172202))"
      ]
     },
     "execution_count": 14,
     "metadata": {},
     "output_type": "execute_result"
    }
   ],
   "source": [
    "A= np.array([3.5, 3.3, 4.9, 3.6])\n",
    "B= np.array([8.6, 5.4, 8.8, 5.6])\n",
    "C=np.array([5.1, 8.6, 7.7, 5.0])\n",
    "stats.friedmanchisquare(A,B,C)"
   ]
  },
  {
   "cell_type": "markdown",
   "metadata": {},
   "source": [
    "P value меньше альфа критического 5% значит нулевая гипотеза не работает - препарат изменяет давление"
   ]
  },
  {
   "cell_type": "markdown",
   "metadata": {},
   "source": [
    "Даны значения проницаемости сосудов сетчатки gr1 (здоровые пациенты), gr 2 ( поражение в области центральной\n",
    "ямки), gr3 (в области центральной ямки и на периферии).\n",
    "Сравнить данные, относящиеся к разным видам поражения.\n"
   ]
  },
  {
   "cell_type": "code",
   "execution_count": 15,
   "metadata": {},
   "outputs": [
    {
     "data": {
      "text/plain": [
       "KruskalResult(statistic=np.float64(12.02000000000001), pvalue=np.float64(0.002454088180413905))"
      ]
     },
     "execution_count": 15,
     "metadata": {},
     "output_type": "execute_result"
    }
   ],
   "source": [
    "gr1 =([0.5, 0.7, 1, 1.2, 1.4])\n",
    "gr2 = ([1.3, 1.45, 1.6, 1.7, 1.8])\n",
    "gr3 = ([6.2, 12.6, 13.2, 14.1, 14.2])\n",
    "stats.kruskal(gr1,gr2,gr3)"
   ]
  }
 ],
 "metadata": {
  "kernelspec": {
   "display_name": ".venv",
   "language": "python",
   "name": "python3"
  },
  "language_info": {
   "codemirror_mode": {
    "name": "ipython",
    "version": 3
   },
   "file_extension": ".py",
   "mimetype": "text/x-python",
   "name": "python",
   "nbconvert_exporter": "python",
   "pygments_lexer": "ipython3",
   "version": "3.12.3"
  }
 },
 "nbformat": 4,
 "nbformat_minor": 2
}

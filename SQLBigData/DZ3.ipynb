{
  "cells": [
    {
      "cell_type": "markdown",
      "source": [
        "\n",
        "# ДЗ 3.\n",
        "С использованием оконных функций, рассчитайте среднее выручки от продаж для каждой категории продукта.\n",
        "Примените операцию pivot для того, чтобы преобразовать полученные данные таким образом,чтобы в качестве строк были категории продуктов, в качестве столбцов были дни,а значениями были средние значения выручки от продаж за соответствующий день"
      ],
      "metadata": {
        "id": "mZ8BOu2pc70u"
      }
    },
    {
      "cell_type": "code",
      "source": [
        "# Решение:\n",
        "\n",
        "from pyspark.sql import SparkSession\n",
        "from pyspark.sql.window import Window\n",
        "from pyspark.sql.functions import avg, col, window\n",
        "from pyspark.sql.types import DateType\n",
        "\n",
        "# Инициализация SparkSession\n",
        "spark = SparkSession.builder.appName(\"SalesAnalysis\").getOrCreate()\n",
        "\n",
        "# Создание DataFrame с предоставленными данными\n",
        "data = [\n",
        "   (\"2023-11-20\", \"Electronics\", 100, 12000),\n",
        "   (\"2023-11-21\", \"Electronics\", 110, 13000),\n",
        "   (\"2023-11-22\", \"Electronics\", 105, 12500),\n",
        "   (\"2023-11-20\", \"Clothing\", 300, 15000),\n",
        "   (\"2023-11-21\", \"Clothing\", 280, 14000),\n",
        "   (\"2023-11-22\", \"Clothing\", 320, 16000),\n",
        "   (\"2023-11-20\", \"Books\", 150, 9000),\n",
        "   (\"2023-11-21\", \"Books\", 200, 12000),\n",
        "   (\"2023-11-22\", \"Books\", 180, 10000)\n",
        "]\n",
        "columns = [\"date\", \"category\", \"quantity\", \"revenue\"]\n",
        "df = spark.createDataFrame(data, columns)\n",
        "\n",
        "# Преобразование столбца \"date\" в тип Date\n",
        "df = df.withColumn(\"date\", col(\"date\").cast(DateType()))\n",
        "\n",
        "# Расчет средней выручки от продаж для каждой категории продукта\n",
        "window = Window.partitionBy(\"category\")\n",
        "df_avg_revenue = df.withColumn(\"avg_revenue\", F.avg(\"revenue\").over(window))\n",
        "df_avg_revenue.show()\n",
        "# Применение операции pivot для преобразования данных\n",
        "pivot_df = df_avg_revenue.groupBy(\"category\").pivot(\"date\").agg(avg(\"revenue\"))\n",
        "\n",
        "# # Вывод результата\n",
        "pivot_df.show()\n",
        "\n",
        "# # Завершение работы SparkSession\n",
        "\n",
        "spark.stop()\n"
      ],
      "metadata": {
        "id": "jsvc478n5Ndn",
        "colab": {
          "base_uri": "https://localhost:8080/"
        },
        "outputId": "103f4021-27c0-4aa7-85da-94eeb1912078"
      },
      "execution_count": 30,
      "outputs": [
        {
          "output_type": "stream",
          "name": "stdout",
          "text": [
            "+----------+-----------+--------+-------+------------------+\n",
            "|      date|   category|quantity|revenue|       avg_revenue|\n",
            "+----------+-----------+--------+-------+------------------+\n",
            "|2023-11-20|      Books|     150|   9000|10333.333333333334|\n",
            "|2023-11-21|      Books|     200|  12000|10333.333333333334|\n",
            "|2023-11-22|      Books|     180|  10000|10333.333333333334|\n",
            "|2023-11-20|   Clothing|     300|  15000|           15000.0|\n",
            "|2023-11-21|   Clothing|     280|  14000|           15000.0|\n",
            "|2023-11-22|   Clothing|     320|  16000|           15000.0|\n",
            "|2023-11-20|Electronics|     100|  12000|           12500.0|\n",
            "|2023-11-21|Electronics|     110|  13000|           12500.0|\n",
            "|2023-11-22|Electronics|     105|  12500|           12500.0|\n",
            "+----------+-----------+--------+-------+------------------+\n",
            "\n",
            "+-----------+----------+----------+----------+\n",
            "|   category|2023-11-20|2023-11-21|2023-11-22|\n",
            "+-----------+----------+----------+----------+\n",
            "|Electronics|   12000.0|   13000.0|   12500.0|\n",
            "|   Clothing|   15000.0|   14000.0|   16000.0|\n",
            "|      Books|    9000.0|   12000.0|   10000.0|\n",
            "+-----------+----------+----------+----------+\n",
            "\n"
          ]
        }
      ]
    }
  ],
  "metadata": {
    "colab": {
      "provenance": []
    },
    "kernelspec": {
      "display_name": "Python 3 (ipykernel)",
      "language": "python",
      "name": "python3"
    },
    "language_info": {
      "codemirror_mode": {
        "name": "ipython",
        "version": 3
      },
      "file_extension": ".py",
      "mimetype": "text/x-python",
      "name": "python",
      "nbconvert_exporter": "python",
      "pygments_lexer": "ipython3",
      "version": "3.9.18"
    }
  },
  "nbformat": 4,
  "nbformat_minor": 0
}
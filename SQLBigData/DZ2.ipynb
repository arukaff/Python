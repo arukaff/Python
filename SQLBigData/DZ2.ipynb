{
  "nbformat": 4,
  "nbformat_minor": 0,
  "metadata": {
    "colab": {
      "provenance": []
    },
    "kernelspec": {
      "name": "python3",
      "display_name": "Python 3"
    },
    "language_info": {
      "name": "python"
    }
  },
  "cells": [
    {
      "cell_type": "code",
      "execution_count": 1,
      "metadata": {
        "colab": {
          "base_uri": "https://localhost:8080/"
        },
        "id": "xkNfaSgmwsFt",
        "outputId": "543a4e1d-17a8-4639-aac1-5c13c7f6f1f6"
      },
      "outputs": [
        {
          "output_type": "stream",
          "name": "stdout",
          "text": [
            "+---+-----+------+---------+\n",
            "| Id| name|Salary|managerId|\n",
            "+---+-----+------+---------+\n",
            "|  1|  Joe|    70|        3|\n",
            "|  2|Henry|    80|        4|\n",
            "|  3|  Sam|    60|     NULL|\n",
            "|  4|  Max|    90|     NULL|\n",
            "+---+-----+------+---------+\n",
            "\n"
          ]
        }
      ],
      "source": [
        "# Импортируем модуль Apache Spark - Spark SQL\n",
        "from pyspark.sql import SparkSession\n",
        "from pyspark.sql.functions import col\n",
        "\n",
        "# Создаем (инициализируем) SparkSession\n",
        "spark = SparkSession.builder.appName(\"EmployeeSalaryComparison\").getOrCreate()\n",
        "\n",
        "#  Составляем data - лист из кортежей элементов таблицы\n",
        "data = [(1, \"Joe\", 70, 3),\n",
        "        (2, \"Henry\", 80, 4),\n",
        "        (3, \"Sam\", 60, None),\n",
        "        (4, \"Max\", 90, None)]\n",
        "\n",
        "# Создаем DataFrame\n",
        "df = spark.createDataFrame(data, [\"Id\", \"name\", \"Salary\", \"managerId\"])\n",
        "\n",
        "# Выводим созданную таблицу\n",
        "df.show()"
      ]
    },
    {
      "cell_type": "code",
      "source": [
        "# Присоединение DataFrame к самому себе для сопоставления сотрудников с их менеджерами\n",
        "joined_df = df.alias(\"emp\").join(df.alias(\"mgr\"), col(\"emp.managerId\") == col(\"mgr.id\"))\n",
        "\n",
        "joined_df.show()"
      ],
      "metadata": {
        "colab": {
          "base_uri": "https://localhost:8080/"
        },
        "id": "iYGjs-xrxgYE",
        "outputId": "da91efdd-40ae-4fec-8468-605da044e60c"
      },
      "execution_count": 2,
      "outputs": [
        {
          "output_type": "stream",
          "name": "stdout",
          "text": [
            "+---+-----+------+---------+---+----+------+---------+\n",
            "| Id| name|Salary|managerId| Id|name|Salary|managerId|\n",
            "+---+-----+------+---------+---+----+------+---------+\n",
            "|  1|  Joe|    70|        3|  3| Sam|    60|     NULL|\n",
            "|  2|Henry|    80|        4|  4| Max|    90|     NULL|\n",
            "+---+-----+------+---------+---+----+------+---------+\n",
            "\n"
          ]
        }
      ]
    },
    {
      "cell_type": "code",
      "source": [
        "# Фильтрация данных, чтобы выбрать сотрудников, которые зарабатывают больше своих менеджеров\n",
        "result_df = joined_df.filter(col(\"emp.salary\") > col(\"mgr.salary\")).select(col(\"emp.name\"))\n",
        "\n",
        "result_df.show()"
      ],
      "metadata": {
        "colab": {
          "base_uri": "https://localhost:8080/"
        },
        "id": "m3ojhullxj08",
        "outputId": "6a40ca6d-317c-4e15-bafb-7709966d067d"
      },
      "execution_count": 3,
      "outputs": [
        {
          "output_type": "stream",
          "name": "stdout",
          "text": [
            "+----+\n",
            "|name|\n",
            "+----+\n",
            "| Joe|\n",
            "+----+\n",
            "\n"
          ]
        }
      ]
    }
  ]
}
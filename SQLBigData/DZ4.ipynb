{
  "nbformat": 4,
  "nbformat_minor": 0,
  "metadata": {
    "colab": {
      "provenance": []
    },
    "kernelspec": {
      "name": "python3",
      "display_name": "Python 3"
    },
    "language_info": {
      "name": "python"
    }
  },
  "cells": [
    {
      "cell_type": "markdown",
      "source": [
        "# Домашнее задание 4\n",
        "Условие: используйте источник rate, напишите код, который создаст дополнительный столбец,\n",
        "который будет выводить сумму только нечётных чисел."
      ],
      "metadata": {
        "id": "s5A9r_WYIuPG"
      }
    },
    {
      "cell_type": "code",
      "source": [
        "# Зависимости\n",
        "from pyspark.sql import SparkSession\n",
        "from pyspark.sql.functions import col, sum\n",
        "from pyspark.sql.functions import *\n",
        "\n",
        "\n",
        "# Создание сессии Spark\n",
        "spark = SparkSession.builder.appName(\"Homework_4\").getOrCreate()\n",
        "\n",
        "# Определение потока данных с использованием источника rate\n",
        "streaming_df = spark.readStream.format(\"rate\").option(\"rowsPerSecond\", 1).load()\n",
        "print('Выводим изначальный дата фрейм')\n",
        "query = streaming_df.writeStream.outputMode(\"update\").queryName(\"streaming_df\").format(\"memory\").start()\n",
        "query.awaitTermination(11)\n",
        "query.stop()\n",
        "spark.sql(\"select distinct * from streaming_df order by value\").show(truncate=False)\n",
        "# Создание пользовательской функции\n",
        "def chek_value(v):\n",
        "    if v % 2 != 0:\n",
        "        return v\n",
        "    else:\n",
        "        return 0\n",
        "chek_value_udf = udf(chek_value, IntegerType())\n",
        "# Добавление дополнительного столбца с нечетным числом или нулем\n",
        "odd_numbers_df = streaming_df.withColumn(\"isOdd\", chek_value_udf(streaming_df.value))\n",
        "print('Выводим дата фрейм с дополнительным столбцом')\n",
        "query = odd_numbers_df.writeStream.outputMode(\"update\").queryName(\"odd_values_df\").format(\"memory\").start()\n",
        "query.awaitTermination(11)\n",
        "query.stop()\n",
        "spark.sql(\"select distinct * from odd_values_df order by value\").show(truncate=False)\n",
        "# Сумма нечетных чисел\n",
        "sum_odd_values_df = odd_numbers_df.groupBy().agg(sum(\"isOdd\").alias('odd_sum'))\n",
        "print('Выводим суммы по дополнительному столбцу')\n",
        "query = sum_odd_values_df.writeStream.outputMode(\"update\").queryName(\"sum_odd_values_df\").format(\"memory\").start()\n",
        "query.awaitTermination(12)\n",
        "query.stop()\n",
        "spark.sql(\"select distinct * from sum_odd_values_df where odd_sum is not NULL order by odd_sum\").show(truncate=False)\n",
        "\n",
        "\n",
        "spark.stop()"
      ],
      "metadata": {
        "id": "-dN_s6SZZLOP",
        "colab": {
          "base_uri": "https://localhost:8080/"
        },
        "outputId": "ae802bbb-d07c-4289-8b61-81dc72bd29cf"
      },
      "execution_count": 75,
      "outputs": [
        {
          "output_type": "stream",
          "name": "stdout",
          "text": [
            "Выводим изначальный дата фрейм\n",
            "+-----------------------+-----+\n",
            "|timestamp              |value|\n",
            "+-----------------------+-----+\n",
            "|2024-12-17 14:58:10.266|0    |\n",
            "|2024-12-17 14:58:11.266|1    |\n",
            "|2024-12-17 14:58:12.266|2    |\n",
            "|2024-12-17 14:58:13.266|3    |\n",
            "|2024-12-17 14:58:14.266|4    |\n",
            "|2024-12-17 14:58:15.266|5    |\n",
            "|2024-12-17 14:58:16.266|6    |\n",
            "|2024-12-17 14:58:17.266|7    |\n",
            "|2024-12-17 14:58:18.266|8    |\n",
            "|2024-12-17 14:58:19.266|9    |\n",
            "+-----------------------+-----+\n",
            "\n",
            "Выводим дата фрейм с дополнительным столбцом\n",
            "+-----------------------+-----+-----+\n",
            "|timestamp              |value|isOdd|\n",
            "+-----------------------+-----+-----+\n",
            "|2024-12-17 14:58:21.592|0    |0    |\n",
            "|2024-12-17 14:58:22.592|1    |1    |\n",
            "|2024-12-17 14:58:23.592|2    |0    |\n",
            "|2024-12-17 14:58:24.592|3    |3    |\n",
            "|2024-12-17 14:58:25.592|4    |0    |\n",
            "|2024-12-17 14:58:26.592|5    |5    |\n",
            "|2024-12-17 14:58:27.592|6    |0    |\n",
            "|2024-12-17 14:58:28.592|7    |7    |\n",
            "|2024-12-17 14:58:29.592|8    |0    |\n",
            "|2024-12-17 14:58:30.592|9    |9    |\n",
            "+-----------------------+-----+-----+\n",
            "\n",
            "Выводим суммы по дополнительному столбцу\n",
            "+-------+\n",
            "|odd_sum|\n",
            "+-------+\n",
            "|0      |\n",
            "|1      |\n",
            "|4      |\n",
            "|9      |\n",
            "|16     |\n",
            "|25     |\n",
            "+-------+\n",
            "\n"
          ]
        }
      ]
    }
  ]
}
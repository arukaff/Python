{
  "cells": [
    {
      "cell_type": "markdown",
      "id": "ec77f4f5",
      "metadata": {
        "id": "ec77f4f5"
      },
      "source": [
        "# Упрощаем использование TL. Фреймворк Huggingface"
      ]
    },
    {
      "cell_type": "markdown",
      "id": "767c43a2",
      "metadata": {
        "id": "767c43a2"
      },
      "source": [
        "# Домашнее задание\n",
        "\n",
        "Реализуйте классификацию эмоциональной окрашенности текстов при помощи объекта pipeline.\n",
        "\n",
        "1. Найдите тип задач Sentiment Analysis на huggingface.co\n",
        "2. Найдите модель для русского языка (примеры: rubert-tiny2..., rubert-base...)"
      ]
    },
    {
      "cell_type": "code",
      "execution_count": 53,
      "id": "c884826d",
      "metadata": {
        "colab": {
          "base_uri": "https://localhost:8080/"
        },
        "id": "c884826d",
        "outputId": "fbf83f8c-4663-4afd-cfff-ef49ea014ff2"
      },
      "outputs": [
        {
          "output_type": "stream",
          "name": "stderr",
          "text": [
            "Hardware accelerator e.g. GPU is available in the environment, but no `device` argument is passed to the `Pipeline` object. Model will be on CPU.\n"
          ]
        }
      ],
      "source": [
        "import transformers\n",
        "from transformers import pipeline\n",
        "\n",
        "classifier = pipeline(task=\"sentiment-analysis\", model=\"seara/rubert-tiny2-russian-sentiment\")"
      ]
    },
    {
      "cell_type": "markdown",
      "id": "6b52bb00",
      "metadata": {
        "id": "6b52bb00"
      },
      "source": [
        "Выполните следующую ячейку. Если вы правильно инициализировали `pipeline`, вы получите относительно верные предсказания."
      ]
    },
    {
      "cell_type": "code",
      "execution_count": 54,
      "id": "ee15c5ea",
      "metadata": {
        "colab": {
          "base_uri": "https://localhost:8080/"
        },
        "id": "ee15c5ea",
        "outputId": "8c032f4a-dba2-4e56-835c-cd368546f295"
      },
      "outputs": [
        {
          "output_type": "stream",
          "name": "stdout",
          "text": [
            "[{'label': 'positive', 'score': 0.9941100478172302}, {'label': 'neutral', 'score': 0.5911950469017029}, {'label': 'positive', 'score': 0.9389206171035767}, {'label': 'negative', 'score': 0.5240058898925781}, {'label': 'positive', 'score': 0.6734201908111572}]\n"
          ]
        }
      ],
      "source": [
        "res= classifier( [\"Отличный товар\",\n",
        "            \"Мне не понравилось\",\n",
        "            \"Прекрасно выглядит, ничего не меняйте!\",\n",
        "            \"Ничего не понял\",\n",
        "            \"У меня не работала розетка, в остальном все отлично\"] )\n",
        "print(res)"
      ]
    },
    {
      "cell_type": "code",
      "source": [
        "# переводим предсказание в аудио (просто выводим звуковой массив)\n",
        "model_id = \"ylacombe/mms-spa-finetuned-chilean-monospeaker\"\n",
        "synthesiser = pipeline(\"text-to-speech\", model_id,device=0) # add device=0 if you want to use a GPU\n",
        "for i, re in enumerate(res):\n",
        "  print(i, '   ', re['label'])\n",
        "  speech = synthesiser(re['label'])\n",
        "  print(speech)\n",
        ""
      ],
      "metadata": {
        "colab": {
          "base_uri": "https://localhost:8080/"
        },
        "id": "25Lx25i866w_",
        "outputId": "52575eb0-e5b4-4030-b619-94cae50ef7d7"
      },
      "id": "25Lx25i866w_",
      "execution_count": 55,
      "outputs": [
        {
          "output_type": "stream",
          "name": "stdout",
          "text": [
            "0     positive\n",
            "{'audio': array([[ 0.00018316,  0.00016386,  0.00020961, ..., -0.0005094 ,\n",
            "        -0.00042831, -0.00051278]], dtype=float32), 'sampling_rate': 16000}\n",
            "1     neutral\n",
            "{'audio': array([[ 0.0001434 ,  0.00014596,  0.00017281, ..., -0.00036233,\n",
            "        -0.00036601, -0.00048302]], dtype=float32), 'sampling_rate': 16000}\n",
            "2     positive\n",
            "{'audio': array([[ 0.00016893,  0.00015665,  0.00019117, ..., -0.00121559,\n",
            "        -0.00107473, -0.00126124]], dtype=float32), 'sampling_rate': 16000}\n",
            "3     negative\n",
            "{'audio': array([[ 5.2522752e-05,  5.8751015e-05,  8.3753286e-05, ...,\n",
            "        -3.5009132e-04, -3.2667440e-04, -4.2280820e-04]], dtype=float32), 'sampling_rate': 16000}\n",
            "4     positive\n",
            "{'audio': array([[ 0.00012556,  0.00010974,  0.00012653, ..., -0.00029951,\n",
            "        -0.00021449, -0.00037099]], dtype=float32), 'sampling_rate': 16000}\n"
          ]
        }
      ]
    }
  ],
  "metadata": {
    "kernelspec": {
      "display_name": "Python 3",
      "name": "python3"
    },
    "language_info": {
      "codemirror_mode": {
        "name": "ipython",
        "version": 3
      },
      "file_extension": ".py",
      "mimetype": "text/x-python",
      "name": "python",
      "nbconvert_exporter": "python",
      "pygments_lexer": "ipython3",
      "version": "3.11.5"
    },
    "colab": {
      "provenance": [],
      "gpuType": "T4"
    },
    "accelerator": "GPU"
  },
  "nbformat": 4,
  "nbformat_minor": 5
}
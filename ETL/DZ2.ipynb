{
 "cells": [
  {
   "cell_type": "markdown",
   "metadata": {},
   "source": [
    "1. Скачайте датасет fifаs2.сsv. Проанализируйте его и определите, какие данные являются неполными. Удалите\n",
    "ненужные колонки и недостающие значения."
   ]
  },
  {
   "cell_type": "code",
   "execution_count": 14,
   "metadata": {},
   "outputs": [
    {
     "name": "stdout",
     "output_type": "stream",
     "text": [
      "<class 'pandas.core.frame.DataFrame'>\n",
      "RangeIndex: 2399 entries, 0 to 2398\n",
      "Data columns (total 18 columns):\n",
      " #   Column                    Non-Null Count  Dtype  \n",
      "---  ------                    --------------  -----  \n",
      " 0   ID                        2399 non-null   int64  \n",
      " 1   Name                      2399 non-null   object \n",
      " 2   Age                       2399 non-null   int64  \n",
      " 3   Nationality               2392 non-null   object \n",
      " 4   Overall                   2399 non-null   int64  \n",
      " 5   Potential                 2399 non-null   int64  \n",
      " 6   Club                      2158 non-null   object \n",
      " 7   Value                     2142 non-null   float64\n",
      " 8   Wage                      2399 non-null   int64  \n",
      " 9   Preferred Foot            2399 non-null   object \n",
      " 10  International Reputation  2389 non-null   float64\n",
      " 11  Skill Moves               2393 non-null   float64\n",
      " 12  Position                  2378 non-null   object \n",
      " 13  Joined                    2399 non-null   int64  \n",
      " 14  Contract Valid Until      2126 non-null   object \n",
      " 15  Height                    2399 non-null   float64\n",
      " 16  Weight                    2399 non-null   float64\n",
      " 17  Release Clause            2396 non-null   float64\n",
      "dtypes: float64(6), int64(6), object(6)\n",
      "memory usage: 337.5+ KB\n"
     ]
    }
   ],
   "source": [
    "import pandas as pd\n",
    "data=pd.read_csv('../fifa_s2.csv',header=0)\n",
    "data.info()"
   ]
  },
  {
   "cell_type": "markdown",
   "metadata": {},
   "source": [
    "2. Найдите в датафрейме полные дубликаты и удалите их. Значения могут быть одинаковыми, но написаны по-разному. Например, может отличаться размер регистра (заглавные и строчные буквы). Особое внимание уделить колонке с названиями команд."
   ]
  },
  {
   "cell_type": "code",
   "execution_count": null,
   "metadata": {},
   "outputs": [
    {
     "data": {
      "text/plain": [
       "ID                            0\n",
       "Name                          0\n",
       "Age                           0\n",
       "Nationality                   7\n",
       "Overall                       0\n",
       "Potential                     0\n",
       "Club                        241\n",
       "Value                       257\n",
       "Wage                          0\n",
       "Preferred Foot                0\n",
       "International Reputation     10\n",
       "Skill Moves                   6\n",
       "Position                     21\n",
       "Joined                        0\n",
       "Contract Valid Until        273\n",
       "Height                        0\n",
       "Weight                        0\n",
       "Release Clause                3\n",
       "dtype: int64"
      ]
     },
     "execution_count": 29,
     "metadata": {},
     "output_type": "execute_result"
    }
   ],
   "source": [
    "data.isna().sum()"
   ]
  },
  {
   "cell_type": "code",
   "execution_count": 43,
   "metadata": {},
   "outputs": [
    {
     "name": "stderr",
     "output_type": "stream",
     "text": [
      "C:\\Users\\rukavishnikovav\\AppData\\Local\\Temp\\ipykernel_2276\\970861106.py:2: SettingWithCopyWarning: \n",
      "A value is trying to be set on a copy of a slice from a DataFrame.\n",
      "Try using .loc[row_indexer,col_indexer] = value instead\n",
      "\n",
      "See the caveats in the documentation: https://pandas.pydata.org/pandas-docs/stable/user_guide/indexing.html#returning-a-view-versus-a-copy\n",
      "  df['Club']=df['Club'].str.lower()\n"
     ]
    },
    {
     "data": {
      "text/plain": [
       "ID                          0\n",
       "Name                        0\n",
       "Age                         0\n",
       "Nationality                 0\n",
       "Overall                     0\n",
       "Potential                   0\n",
       "Club                        0\n",
       "Value                       0\n",
       "Wage                        0\n",
       "Preferred Foot              0\n",
       "International Reputation    0\n",
       "Skill Moves                 0\n",
       "Position                    0\n",
       "Joined                      0\n",
       "Contract Valid Until        0\n",
       "Height                      0\n",
       "Weight                      0\n",
       "Release Clause              0\n",
       "dtype: int64"
      ]
     },
     "execution_count": 43,
     "metadata": {},
     "output_type": "execute_result"
    }
   ],
   "source": [
    "df=data.dropna()\n",
    "df['Club']=df['Club'].str.lower()\n",
    "df=df.drop_duplicates().reset_index(drop=True)\n",
    "df.isna().sum()"
   ]
  },
  {
   "cell_type": "markdown",
   "metadata": {},
   "source": [
    "3. Напишите функцию, которая добавит колонку с разбиением возраста по группам: до 20, от 20 до 30, от 30 до\n",
    "36 и старше 36. Посчитайте количество футболистов в каждой категории."
   ]
  },
  {
   "cell_type": "code",
   "execution_count": 37,
   "metadata": {},
   "outputs": [
    {
     "data": {
      "text/html": [
       "<div>\n",
       "<style scoped>\n",
       "    .dataframe tbody tr th:only-of-type {\n",
       "        vertical-align: middle;\n",
       "    }\n",
       "\n",
       "    .dataframe tbody tr th {\n",
       "        vertical-align: top;\n",
       "    }\n",
       "\n",
       "    .dataframe thead th {\n",
       "        text-align: right;\n",
       "    }\n",
       "</style>\n",
       "<table border=\"1\" class=\"dataframe\">\n",
       "  <thead>\n",
       "    <tr style=\"text-align: right;\">\n",
       "      <th></th>\n",
       "      <th>ID</th>\n",
       "      <th>Name</th>\n",
       "      <th>Age</th>\n",
       "      <th>Nationality</th>\n",
       "      <th>Overall</th>\n",
       "      <th>Potential</th>\n",
       "      <th>Club</th>\n",
       "      <th>Value</th>\n",
       "      <th>Wage</th>\n",
       "      <th>Preferred Foot</th>\n",
       "      <th>International Reputation</th>\n",
       "      <th>Skill Moves</th>\n",
       "      <th>Position</th>\n",
       "      <th>Joined</th>\n",
       "      <th>Contract Valid Until</th>\n",
       "      <th>Height</th>\n",
       "      <th>Weight</th>\n",
       "      <th>Release Clause</th>\n",
       "      <th>GroupAge</th>\n",
       "    </tr>\n",
       "  </thead>\n",
       "  <tbody>\n",
       "    <tr>\n",
       "      <th>0</th>\n",
       "      <td>1179</td>\n",
       "      <td>G. Buffon</td>\n",
       "      <td>40</td>\n",
       "      <td>Italy</td>\n",
       "      <td>88</td>\n",
       "      <td>88</td>\n",
       "      <td>paris saint-germain</td>\n",
       "      <td>4000.0</td>\n",
       "      <td>77</td>\n",
       "      <td>Right</td>\n",
       "      <td>4.0</td>\n",
       "      <td>1.0</td>\n",
       "      <td>GK</td>\n",
       "      <td>2018</td>\n",
       "      <td>01/01/2019</td>\n",
       "      <td>6.333333</td>\n",
       "      <td>203.0</td>\n",
       "      <td>7400.0</td>\n",
       "      <td>старше 36</td>\n",
       "    </tr>\n",
       "    <tr>\n",
       "      <th>1</th>\n",
       "      <td>8205</td>\n",
       "      <td>Braga</td>\n",
       "      <td>35</td>\n",
       "      <td>Portugal</td>\n",
       "      <td>70</td>\n",
       "      <td>70</td>\n",
       "      <td>cd aves</td>\n",
       "      <td>750.0</td>\n",
       "      <td>5</td>\n",
       "      <td>Right</td>\n",
       "      <td>1.0</td>\n",
       "      <td>3.0</td>\n",
       "      <td>LCM</td>\n",
       "      <td>2017</td>\n",
       "      <td>01/01/2019</td>\n",
       "      <td>5.916667</td>\n",
       "      <td>165.0</td>\n",
       "      <td>1600.0</td>\n",
       "      <td>до 36</td>\n",
       "    </tr>\n",
       "    <tr>\n",
       "      <th>2</th>\n",
       "      <td>9014</td>\n",
       "      <td>A. Robben</td>\n",
       "      <td>34</td>\n",
       "      <td>Netherlands</td>\n",
       "      <td>84</td>\n",
       "      <td>84</td>\n",
       "      <td>fc bayern münchen</td>\n",
       "      <td>15500.0</td>\n",
       "      <td>110</td>\n",
       "      <td>Left</td>\n",
       "      <td>4.0</td>\n",
       "      <td>4.0</td>\n",
       "      <td>RM</td>\n",
       "      <td>2009</td>\n",
       "      <td>01/01/2019</td>\n",
       "      <td>5.916667</td>\n",
       "      <td>176.0</td>\n",
       "      <td>25600.0</td>\n",
       "      <td>до 36</td>\n",
       "    </tr>\n",
       "    <tr>\n",
       "      <th>3</th>\n",
       "      <td>19521</td>\n",
       "      <td>J. Ibehre</td>\n",
       "      <td>35</td>\n",
       "      <td>England</td>\n",
       "      <td>61</td>\n",
       "      <td>61</td>\n",
       "      <td>cambridge united</td>\n",
       "      <td>120.0</td>\n",
       "      <td>2</td>\n",
       "      <td>Right</td>\n",
       "      <td>1.0</td>\n",
       "      <td>2.0</td>\n",
       "      <td>ST</td>\n",
       "      <td>2017</td>\n",
       "      <td>01/01/2019</td>\n",
       "      <td>6.333333</td>\n",
       "      <td>203.0</td>\n",
       "      <td>210.0</td>\n",
       "      <td>до 36</td>\n",
       "    </tr>\n",
       "    <tr>\n",
       "      <th>4</th>\n",
       "      <td>20209</td>\n",
       "      <td>Ricardo Costa</td>\n",
       "      <td>37</td>\n",
       "      <td>Portugal</td>\n",
       "      <td>74</td>\n",
       "      <td>74</td>\n",
       "      <td>cd tondela</td>\n",
       "      <td>750.0</td>\n",
       "      <td>4</td>\n",
       "      <td>Right</td>\n",
       "      <td>2.0</td>\n",
       "      <td>2.0</td>\n",
       "      <td>LCB</td>\n",
       "      <td>2017</td>\n",
       "      <td>01/01/2019</td>\n",
       "      <td>6.000000</td>\n",
       "      <td>181.0</td>\n",
       "      <td>1600.0</td>\n",
       "      <td>старше 36</td>\n",
       "    </tr>\n",
       "  </tbody>\n",
       "</table>\n",
       "</div>"
      ],
      "text/plain": [
       "      ID           Name  Age  Nationality  Overall  Potential  \\\n",
       "0   1179      G. Buffon   40        Italy       88         88   \n",
       "1   8205          Braga   35     Portugal       70         70   \n",
       "2   9014      A. Robben   34  Netherlands       84         84   \n",
       "3  19521      J. Ibehre   35      England       61         61   \n",
       "4  20209  Ricardo Costa   37     Portugal       74         74   \n",
       "\n",
       "                  Club    Value  Wage Preferred Foot  \\\n",
       "0  paris saint-germain   4000.0    77          Right   \n",
       "1              cd aves    750.0     5          Right   \n",
       "2    fc bayern münchen  15500.0   110           Left   \n",
       "3     cambridge united    120.0     2          Right   \n",
       "4           cd tondela    750.0     4          Right   \n",
       "\n",
       "   International Reputation  Skill Moves Position  Joined  \\\n",
       "0                       4.0          1.0       GK    2018   \n",
       "1                       1.0          3.0      LCM    2017   \n",
       "2                       4.0          4.0       RM    2009   \n",
       "3                       1.0          2.0       ST    2017   \n",
       "4                       2.0          2.0      LCB    2017   \n",
       "\n",
       "  Contract Valid Until    Height  Weight  Release Clause   GroupAge  \n",
       "0           01/01/2019  6.333333   203.0          7400.0  старше 36  \n",
       "1           01/01/2019  5.916667   165.0          1600.0      до 36  \n",
       "2           01/01/2019  5.916667   176.0         25600.0      до 36  \n",
       "3           01/01/2019  6.333333   203.0           210.0      до 36  \n",
       "4           01/01/2019  6.000000   181.0          1600.0  старше 36  "
      ]
     },
     "execution_count": 37,
     "metadata": {},
     "output_type": "execute_result"
    }
   ],
   "source": [
    "def group_age(x):\n",
    "    x=int(x)\n",
    "    if x<20:\n",
    "        return 'до 20'\n",
    "    elif x<30:\n",
    "        return 'до 30'\n",
    "    elif x<36:\n",
    "        return 'до 36'\n",
    "    return 'старше 36'\n",
    "df['GroupAge'] = df['Age'].apply(group_age)\n",
    "df.head()"
   ]
  },
  {
   "cell_type": "code",
   "execution_count": 40,
   "metadata": {},
   "outputs": [
    {
     "data": {
      "text/html": [
       "<div>\n",
       "<style scoped>\n",
       "    .dataframe tbody tr th:only-of-type {\n",
       "        vertical-align: middle;\n",
       "    }\n",
       "\n",
       "    .dataframe tbody tr th {\n",
       "        vertical-align: top;\n",
       "    }\n",
       "\n",
       "    .dataframe thead th {\n",
       "        text-align: right;\n",
       "    }\n",
       "</style>\n",
       "<table border=\"1\" class=\"dataframe\">\n",
       "  <thead>\n",
       "    <tr style=\"text-align: right;\">\n",
       "      <th>GroupAge</th>\n",
       "      <th>до 20</th>\n",
       "      <th>до 30</th>\n",
       "      <th>до 36</th>\n",
       "      <th>старше 36</th>\n",
       "    </tr>\n",
       "  </thead>\n",
       "  <tbody>\n",
       "    <tr>\n",
       "      <th>ID</th>\n",
       "      <td>262</td>\n",
       "      <td>1415</td>\n",
       "      <td>379</td>\n",
       "      <td>17</td>\n",
       "    </tr>\n",
       "  </tbody>\n",
       "</table>\n",
       "</div>"
      ],
      "text/plain": [
       "GroupAge  до 20  до 30  до 36  старше 36\n",
       "ID          262   1415    379         17"
      ]
     },
     "execution_count": 40,
     "metadata": {},
     "output_type": "execute_result"
    }
   ],
   "source": [
    "df.pivot_table(columns='GroupAge',values='ID',aggfunc='count',fill_value=0)\n"
   ]
  }
 ],
 "metadata": {
  "kernelspec": {
   "display_name": ".venv",
   "language": "python",
   "name": "python3"
  },
  "language_info": {
   "codemirror_mode": {
    "name": "ipython",
    "version": 3
   },
   "file_extension": ".py",
   "mimetype": "text/x-python",
   "name": "python",
   "nbconvert_exporter": "python",
   "pygments_lexer": "ipython3",
   "version": "3.12.3"
  }
 },
 "nbformat": 4,
 "nbformat_minor": 2
}
